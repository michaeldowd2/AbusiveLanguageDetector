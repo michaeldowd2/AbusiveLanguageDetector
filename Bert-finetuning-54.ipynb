{
 "cells": [
  {
   "cell_type": "markdown",
   "metadata": {
    "colab_type": "text",
    "id": "82LiJKDMGnkC"
   },
   "source": [
    "<h1>Transfer Learning with BERT</h1>"
   ]
  },
  {
   "cell_type": "code",
   "execution_count": 22,
   "metadata": {
    "colab": {
     "base_uri": "https://localhost:8080/",
     "height": 221
    },
    "colab_type": "code",
    "executionInfo": {
     "elapsed": 6033,
     "status": "ok",
     "timestamp": 1584533322590,
     "user": {
      "displayName": "michael dowd",
      "photoUrl": "",
      "userId": "09865951120913534207"
     },
     "user_tz": 0
    },
    "id": "rfRSdPDdGnkI",
    "outputId": "c161499e-0b58-4bbe-844b-090f0065b7e3"
   },
   "outputs": [
    {
     "name": "stdout",
     "output_type": "stream",
     "text": [
      "Requirement already satisfied: sentencepiece in /usr/local/lib/python3.6/dist-packages (0.1.85)\n",
      "Requirement already satisfied: bert-for-tf2 in /usr/local/lib/python3.6/dist-packages (0.13.5)\n",
      "Requirement already satisfied: py-params>=0.7.3 in /usr/local/lib/python3.6/dist-packages (from bert-for-tf2) (0.8.3)\n",
      "Requirement already satisfied: params-flow>=0.7.1 in /usr/local/lib/python3.6/dist-packages (from bert-for-tf2) (0.7.4)\n",
      "Requirement already satisfied: tqdm in /usr/local/lib/python3.6/dist-packages (from params-flow>=0.7.1->bert-for-tf2) (4.28.1)\n",
      "Requirement already satisfied: numpy in /usr/local/lib/python3.6/dist-packages (from params-flow>=0.7.1->bert-for-tf2) (1.18.1)\n",
      "`%tensorflow_version` only switches the major version: 1.x or 2.x.\n",
      "You set: `2.1`. This will be interpreted as: `2.x`.\n",
      "\n",
      "\n",
      "TensorFlow is already loaded. Please restart the runtime to change versions.\n",
      "Libraries loaded\n"
     ]
    }
   ],
   "source": [
    "# References\n",
    "# https://colab.research.google.com/drive/1IubZ3T7gqD09ZIVmJapiB5MXUnVGlzwH#scrollTo=7LbVjtktg3Ln\n",
    "# https://medium.com/analytics-vidhya/bert-in-keras-tensorflow-2-0-using-tfhub-huggingface-81c08c5f81d8\n",
    "# https://medium.com/@brn.pistone/bert-fine-tuning-for-tensorflow-2-0-with-keras-api-9913fc1348f6\n",
    "\n",
    "# Requirements\n",
    "!pip install sentencepiece\n",
    "# pip install tensorflow_hub\n",
    "# pip install tensorflow\n",
    "!pip install bert-for-tf2\n",
    "# pip install transformers\n",
    "\n",
    "%tensorflow_version 2.1\n",
    "from __future__ import absolute_import, division, print_function, unicode_literals\n",
    "from sklearn.preprocessing import OneHotEncoder\n",
    "from sklearn.preprocessing import LabelEncoder\n",
    "from sklearn.model_selection import train_test_split\n",
    "from sklearn import metrics\n",
    "import matplotlib.pyplot as plt\n",
    "import pandas as pd\n",
    "import tensorflow as tf\n",
    "import tensorflow_hub as hub\n",
    "import bert\n",
    "import os\n",
    "import math\n",
    "import numpy as np\n",
    "import random\n",
    "import re\n",
    "from datetime import datetime\n",
    "from tensorflow.keras.layers import Lambda, Conv1D, Dense, Flatten, Dropout,Embedding, LSTM, Bidirectional, Input, Dropout, GlobalAveragePooling1D, AveragePooling1D\n",
    "from tensorflow.keras import Sequential\n",
    "from tensorflow.keras.models import Model\n",
    "from tensorflow.keras.preprocessing import sequence\n",
    "from tensorflow.keras import callbacks\n",
    "from tensorflow.keras.optimizers import Adam\n",
    "import bert\n",
    "from bert import bert_tokenization \n",
    "\n",
    "print('Libraries loaded')\n"
   ]
  },
  {
   "cell_type": "code",
   "execution_count": 2,
   "metadata": {
    "colab": {
     "base_uri": "https://localhost:8080/",
     "height": 122
    },
    "colab_type": "code",
    "executionInfo": {
     "elapsed": 22788,
     "status": "ok",
     "timestamp": 1584530245313,
     "user": {
      "displayName": "michael dowd",
      "photoUrl": "",
      "userId": "09865951120913534207"
     },
     "user_tz": 0
    },
    "id": "83ucuGFmKkfk",
    "outputId": "0409d665-d2df-4605-8eca-94ba3aed7c08"
   },
   "outputs": [
    {
     "name": "stdout",
     "output_type": "stream",
     "text": [
      "Go to this URL in a browser: https://accounts.google.com/o/oauth2/auth?client_id=947318989803-6bn6qk8qdgf4n4g3pfee6491hc0brc4i.apps.googleusercontent.com&redirect_uri=urn%3aietf%3awg%3aoauth%3a2.0%3aoob&response_type=code&scope=email%20https%3a%2f%2fwww.googleapis.com%2fauth%2fdocs.test%20https%3a%2f%2fwww.googleapis.com%2fauth%2fdrive%20https%3a%2f%2fwww.googleapis.com%2fauth%2fdrive.photos.readonly%20https%3a%2f%2fwww.googleapis.com%2fauth%2fpeopleapi.readonly\n",
      "\n",
      "Enter your authorization code:\n",
      "··········\n",
      "Mounted at /content/drive/\n"
     ]
    }
   ],
   "source": [
    "from google.colab import drive\n",
    "drive.mount('/content/drive/')"
   ]
  },
  {
   "cell_type": "code",
   "execution_count": 3,
   "metadata": {
    "colab": {
     "base_uri": "https://localhost:8080/",
     "height": 34
    },
    "colab_type": "code",
    "executionInfo": {
     "elapsed": 2252,
     "status": "ok",
     "timestamp": 1584530251185,
     "user": {
      "displayName": "michael dowd",
      "photoUrl": "",
      "userId": "09865951120913534207"
     },
     "user_tz": 0
    },
    "id": "ynpgzmnXNaJF",
    "outputId": "7271de1a-005c-4d3f-9b21-bebf947fe76f"
   },
   "outputs": [
    {
     "name": "stdout",
     "output_type": "stream",
     "text": [
      "agr_en_train.csv  Bert-finetuning-54.ipynb  BERT.ipynb\tUntitled0.ipynb\n"
     ]
    }
   ],
   "source": [
    "!ls \"/content/drive/My Drive/Colab\""
   ]
  },
  {
   "cell_type": "markdown",
   "metadata": {
    "colab_type": "text",
    "id": "mpjynkWBGnkU"
   },
   "source": [
    "<h2>Settings</h2>"
   ]
  },
  {
   "cell_type": "code",
   "execution_count": 4,
   "metadata": {
    "colab": {
     "base_uri": "https://localhost:8080/",
     "height": 34
    },
    "colab_type": "code",
    "executionInfo": {
     "elapsed": 509,
     "status": "ok",
     "timestamp": 1584530253587,
     "user": {
      "displayName": "michael dowd",
      "photoUrl": "",
      "userId": "09865951120913534207"
     },
     "user_tz": 0
    },
    "id": "jdOzoQYAGnkW",
    "outputId": "2ff4f724-9b86-4a37-f5c3-eba8ceb63ca2"
   },
   "outputs": [
    {
     "name": "stdout",
     "output_type": "stream",
     "text": [
      "Settings set\n"
     ]
    }
   ],
   "source": [
    "CLASSES = ['CAG', 'NAG', 'OAG']\n",
    "MAX_LENGTH = 128\n",
    "TRAIN_MODEL = True\n",
    "RETRAIN_BERT = True\n",
    "TRAIN_SAMPLES = 0.8\n",
    "LOAD_MODEL_AND_PREDICT = True\n",
    "TEXT_TO_PREDICT = ['That is a well reasoned point',\n",
    "                   'This is happening in BJP ruled state. Shame on the adminstration']\n",
    "DATA_FILE = '/content/drive/My Drive/Colab/agr_en_train.csv'\n",
    "print('Settings set')"
   ]
  },
  {
   "cell_type": "markdown",
   "metadata": {
    "colab_type": "text",
    "id": "j012gePsGnke"
   },
   "source": [
    "<h2>Preliminary Data Exploration</h2>"
   ]
  },
  {
   "cell_type": "code",
   "execution_count": 0,
   "metadata": {
    "colab": {},
    "colab_type": "code",
    "id": "fsg1_YReGnkg"
   },
   "outputs": [],
   "source": []
  },
  {
   "cell_type": "markdown",
   "metadata": {
    "colab_type": "text",
    "id": "l6V-XeRyGnkn"
   },
   "source": [
    "<h2>Load BERT Model from Tensorflow HUB</h2>"
   ]
  },
  {
   "cell_type": "code",
   "execution_count": 36,
   "metadata": {
    "colab": {
     "base_uri": "https://localhost:8080/",
     "height": 102
    },
    "colab_type": "code",
    "executionInfo": {
     "elapsed": 5927,
     "status": "ok",
     "timestamp": 1584536627905,
     "user": {
      "displayName": "michael dowd",
      "photoUrl": "",
      "userId": "09865951120913534207"
     },
     "user_tz": 0
    },
    "id": "0gQKriwdGnkp",
    "outputId": "38ae332b-81f3-4ec6-aad5-c716d75fd5f2"
   },
   "outputs": [
    {
     "name": "stdout",
     "output_type": "stream",
     "text": [
      "Model Loaded\n",
      "Tokenizer Created\n",
      "Sample Tokenizer Operations\n",
      "['this', 'is', 'a', 'sample', 'token', '##ing', 'operation', '.', 'it', 'spans', 'multiple', 'sentences']\n",
      "[2023, 2003, 1037, 7099, 19204, 2075, 3169, 1012, 2009, 14798, 3674, 11746]\n"
     ]
    }
   ],
   "source": [
    "bert_path = \"https://tfhub.dev/tensorflow/bert_en_uncased_L-12_H-768_A-12/1\"\n",
    "bert_layer = hub.KerasLayer(bert_path,trainable=True)\n",
    "print('Model Loaded')\n",
    "\n",
    "vocab_file1 = bert_layer.resolved_object.vocab_file.asset_path.numpy()\n",
    "tokenizer = bert.bert_tokenization.FullTokenizer(vocab_file1, do_lower_case=True)\n",
    "print('Tokenizer Created')\n",
    "\n",
    "print('Sample Tokenizer Operations')\n",
    "sample_x = tokenizer.tokenize('this is a sample tokening operation. It spans multiple sentences')\n",
    "sample_ids = tokenizer.convert_tokens_to_ids(sample_x)\n",
    "print(sample_x)\n",
    "print(sample_ids)"
   ]
  },
  {
   "cell_type": "code",
   "execution_count": 6,
   "metadata": {
    "colab": {
     "base_uri": "https://localhost:8080/",
     "height": 1000
    },
    "colab_type": "code",
    "executionInfo": {
     "elapsed": 2133,
     "status": "ok",
     "timestamp": 1584530281699,
     "user": {
      "displayName": "michael dowd",
      "photoUrl": "",
      "userId": "09865951120913534207"
     },
     "user_tz": 0
    },
    "id": "xbu6_m6g9-Oj",
    "outputId": "1171404e-4aed-4813-a494-6ecdb5ca4b8d"
   },
   "outputs": [
    {
     "name": "stdout",
     "output_type": "stream",
     "text": [
      "Wordcount distribution\n"
     ]
    },
    {
     "data": {
      "image/png": "[encoded data removed]",
      "text/plain": [
       "<Figure size 432x288 with 1 Axes>"
      ]
     },
     "metadata": {
      "tags": []
     },
     "output_type": "display_data"
    },
    {
     "name": "stdout",
     "output_type": "stream",
     "text": [
      "Label distribution\n"
     ]
    },
    {
     "data": {
      "image/png": "[encoded data removed]",
      "text/plain": [
       "<Figure size 432x288 with 1 Axes>"
      ]
     },
     "metadata": {
      "tags": []
     },
     "output_type": "display_data"
    },
    {
     "name": "stdout",
     "output_type": "stream",
     "text": [
      "English distribution\n"
     ]
    },
    {
     "data": {
      "image/png": "[encoded data removed]",
      "text/plain": [
       "<Figure size 432x288 with 1 Axes>"
      ]
     },
     "metadata": {
      "tags": []
     },
     "output_type": "display_data"
    },
    {
     "name": "stdout",
     "output_type": "stream",
     "text": [
      "                                                   Text  ... isEnglish\n",
      "41                   modi ji all the pain  nö real gain  ...     False\n",
      "314   yàar my ears are bleeding stop this  get the b...  ...     False\n",
      "813            रजनथ सह फर कहग क हम ननद करत ह डब मर सरकर  ...     False\n",
      "830    bot powered by prince fadii  just now done  i...  ...     False\n",
      "1107   bot powered by ishaq zada  see my bot speed  ...  ...     False\n",
      "1441       live  nse स pehlakadam season 2 grand finale  ...     False\n",
      "1462  what you should know about turkeys president r...  ...     False\n",
      "1621   bot powered by prince fadii  see my bot speed...  ...     False\n",
      "1704  a question of order india turkey and the retur...  ...     False\n",
      "1719  अर कछ त कर खल हजड क तरह तल बजत रहन स कछ नह हग ...  ...     False\n",
      "\n",
      "[10 rows x 4 columns]\n"
     ]
    }
   ],
   "source": [
    "def remove_URL(s):\n",
    "    \"\"\"Remove URLs from a sample string\"\"\"\n",
    "    return re.sub(r\"http\\S+\", \"\", s)\n",
    "\n",
    "def remove_punctuation(s):\n",
    "    return re.sub(r'[^\\w\\s]', '', s)\n",
    "    \n",
    "def remove_Emoji(s):\n",
    "    emoji_pattern = re.compile(\"[\"\n",
    "        u\"\\U0001F600-\\U0001F64F\"  # emoticons\n",
    "        u\"\\U0001F300-\\U0001F5FF\"  # symbols & pictographs\n",
    "        u\"\\U0001F680-\\U0001F6FF\"  # transport & map symbols\n",
    "        u\"\\U0001F1E0-\\U0001F1FF\"  # flags (iOS)\n",
    "                           \"]+\", flags=re.UNICODE)\n",
    "    return emoji_pattern.sub(r'', s)\n",
    "\n",
    "def replace_chars(Data):\n",
    "    Data['Text'] = Data['Text'].str.replace('\\n',' ')\n",
    "    Data['Text'] = Data['Text'].str.replace('  ',' ')\n",
    "    Data['Text'] = Data['Text'].str.strip()\n",
    "    Data['Text'] = Data['Text'].str.lower()\n",
    "    Data['Text'] = Data['Text'].str.replace('pls','please')\n",
    "    Data['Text'] = Data['Text'].str.replace('plz','please')\n",
    "    Data['Text'] = Data['Text'].str.replace(' u ',' you ')\n",
    "    Data['Text'] = Data['Text'].str.replace(' ur ',' your ')\n",
    "    Data['Text'] = Data['Text'].str.replace(' vs ',' versus ')\n",
    "    Data['Text'] = Data['Text'].str.replace(' tks ',' thanks ')\n",
    "    Data['Text'] = Data['Text'].str.replace(' tkz ',' thanks ')\n",
    "    Data['Text'] = Data['Text'].str.replace(' cud ',' could ')\n",
    "    Data['Text'] = Data['Text'].str.replace(' b ',' be ')\n",
    "    Data['Text'] = Data['Text'].str.replace(' r ',' are ')\n",
    "    Data['Text'] = Data['Text'].str.replace(' gonna ',' going to ')\n",
    "    Data['Text'] = Data['Text'].str.replace(' y ',' why ')\n",
    "    Data['Text'] = Data['Text'].str.replace('bn ',' billion ')\n",
    "    Data['Text'] = Data['Text'].str.replace('tn ',' trillion ')\n",
    "    Data['Text'] = Data['Text'].str.replace('£',' pounds ')\n",
    "    Data['Text'] = Data['Text'].str.replace('$',' dollars ')\n",
    "    return Data\n",
    "\n",
    "def isEnglish(s):\n",
    "    try:\n",
    "        s.encode(encoding='utf-8').decode('ascii')\n",
    "    except UnicodeDecodeError:\n",
    "        return False\n",
    "    else:\n",
    "        return True\n",
    "\n",
    "def create_data_frame():\n",
    "    data = pd.read_csv(DATA_FILE)\n",
    "    data.columns = ['ID','Text','Indicator']\n",
    "    data.drop(['ID'], axis='columns', inplace = True)\n",
    "    \n",
    "    data = replace_chars(data)\n",
    "    data['Text'] = data['Text'].apply(remove_Emoji)\n",
    "    data['Text'] = data['Text'].apply(remove_URL)\n",
    "    data['Text'] = data['Text'].apply(remove_punctuation)\n",
    "    data['Length'] = data['Text'].str.split(' ').apply(len)\n",
    "    data['isEnglish'] = data['Text'].apply(isEnglish)\n",
    "    return data\n",
    "\n",
    "data = create_data_frame()\n",
    "print('Wordcount distribution')\n",
    "data['Length'].hist(bins=30)\n",
    "plt.show()\n",
    "print('Label distribution')\n",
    "data['Indicator'].value_counts().plot(kind='bar')\n",
    "plt.show()\n",
    "print('English distribution')\n",
    "data['isEnglish'].value_counts().plot(kind='bar')\n",
    "plt.show()\n",
    "print(data[data['isEnglish']==False][0:10])\n"
   ]
  },
  {
   "cell_type": "code",
   "execution_count": 7,
   "metadata": {
    "colab": {
     "base_uri": "https://localhost:8080/",
     "height": 542
    },
    "colab_type": "code",
    "executionInfo": {
     "elapsed": 814,
     "status": "ok",
     "timestamp": 1584530291708,
     "user": {
      "displayName": "michael dowd",
      "photoUrl": "",
      "userId": "09865951120913534207"
     },
     "user_tz": 0
    },
    "id": "WmPvnCHh-GNM",
    "outputId": "eace717c-9262-468d-9fbf-92432252e509"
   },
   "outputs": [
    {
     "data": {
      "image/png": "[encoded data removed]",
      "text/plain": [
       "<Figure size 432x288 with 1 Axes>"
      ]
     },
     "metadata": {
      "tags": []
     },
     "output_type": "display_data"
    },
    {
     "data": {
      "image/png": "[encoded data removed]",
      "text/plain": [
       "<Figure size 432x288 with 1 Axes>"
      ]
     },
     "metadata": {
      "tags": []
     },
     "output_type": "display_data"
    },
    {
     "name": "stdout",
     "output_type": "stream",
     "text": [
      "New dataset length 7926\n"
     ]
    }
   ],
   "source": [
    "def remove_too_long_samples(data):\n",
    "    return data[data['Length']<=MAX_LENGTH]\n",
    "\n",
    "def balance_samples_for_labels(data):\n",
    "    oags = data[data['Indicator']=='OAG']\n",
    "    length = len(oags.index)\n",
    "    cags = data[data['Indicator']=='CAG'].sample(n=length,random_state=42)\n",
    "    nags = data[data['Indicator']=='NAG'].sample(n=length,random_state=42)\n",
    "    all_stuff = pd.concat([oags,cags,nags])\n",
    "    \n",
    "    #shuffle dataset\n",
    "    return all_stuff.sample(n=len(all_stuff.index), random_state=42)\n",
    "    \n",
    "data = remove_too_long_samples(data)\n",
    "data = data[data['isEnglish'] == True]\n",
    "data['Length'].hist(bins=30)\n",
    "plt.show()\n",
    "data = balance_samples_for_labels(data)\n",
    "data['Indicator'].value_counts().plot(kind='bar')\n",
    "plt.show()\n",
    "print('New dataset length %s' % len(data.index))\n"
   ]
  },
  {
   "cell_type": "markdown",
   "metadata": {
    "colab_type": "text",
    "id": "2-7HtpjwGnkw"
   },
   "source": [
    "<h2>Data Processing</h2>\n",
    "<p>The Bert model loaded from TF Hub expects input data in a particular format. For every text sample, three arrays are created: most importantly the sample is tokenised and then converted to Ids using BERTs tokenizer dictionary. An input mask array and sentence location (not used for classification) array are also created."
   ]
  },
  {
   "cell_type": "code",
   "execution_count": 8,
   "metadata": {
    "colab": {
     "base_uri": "https://localhost:8080/",
     "height": 578
    },
    "colab_type": "code",
    "executionInfo": {
     "elapsed": 3683,
     "status": "ok",
     "timestamp": 1584530299175,
     "user": {
      "displayName": "michael dowd",
      "photoUrl": "",
      "userId": "09865951120913534207"
     },
     "user_tz": 0
    },
    "id": "GXt6COvdGnky",
    "outputId": "d0bc366b-a2fd-4ed3-e99e-7edfe7042a7a"
   },
   "outputs": [
    {
     "name": "stdout",
     "output_type": "stream",
     "text": [
      "Training data loaded\n",
      "[<tf.Tensor: shape=(6340, 128), dtype=int32, numpy=\n",
      "array([[  101,  2073,  2015, ...,     0,     0,     0],\n",
      "       [  101,  2796,  4671, ...,     0,     0,     0],\n",
      "       [  101,  2017,  4539, ...,     0,     0,     0],\n",
      "       ...,\n",
      "       [  101,  3282, 25329, ...,     0,     0,     0],\n",
      "       [  101,  2293,  2017, ...,     0,     0,     0],\n",
      "       [  101,  1043,  1051, ...,     0,     0,     0]], dtype=int32)>, <tf.Tensor: shape=(6340, 128), dtype=int32, numpy=\n",
      "array([[0, 0, 0, ..., 0, 0, 0],\n",
      "       [0, 0, 0, ..., 0, 0, 0],\n",
      "       [0, 0, 0, ..., 0, 0, 0],\n",
      "       ...,\n",
      "       [0, 0, 0, ..., 0, 0, 0],\n",
      "       [0, 0, 0, ..., 0, 0, 0],\n",
      "       [0, 0, 0, ..., 0, 0, 0]], dtype=int32)>, <tf.Tensor: shape=(6340, 128), dtype=int32, numpy=\n",
      "array([[1, 1, 1, ..., 0, 0, 0],\n",
      "       [1, 1, 1, ..., 0, 0, 0],\n",
      "       [1, 1, 1, ..., 0, 0, 0],\n",
      "       ...,\n",
      "       [1, 1, 1, ..., 0, 0, 0],\n",
      "       [1, 1, 1, ..., 0, 0, 0],\n",
      "       [1, 1, 1, ..., 0, 0, 0]], dtype=int32)>]\n",
      "[[1. 0. 0.]\n",
      " [0. 0. 1.]\n",
      " [1. 0. 0.]\n",
      " [0. 0. 1.]\n",
      " [0. 0. 1.]\n",
      " [0. 1. 0.]\n",
      " [0. 0. 1.]\n",
      " [0. 0. 1.]\n",
      " [0. 1. 0.]\n",
      " [1. 0. 0.]]\n"
     ]
    }
   ],
   "source": [
    "def Bertify(Set):\n",
    "    \n",
    "    tokens = map(tokenizer.tokenize, Set)\n",
    "    tokens = map(lambda tok: tok[:MAX_LENGTH-2], tokens)\n",
    "    tokens = map(lambda tok: [\"[CLS]\"] + tok + [\"[SEP]\"], tokens)\n",
    "    \n",
    "    token_ids = map(tokenizer.convert_tokens_to_ids, tokens)\n",
    "    token_ids = map(lambda tids: tids + [0] * (MAX_LENGTH - len(tids)), token_ids)\n",
    "    # token_ids = map(lambda tids: np.array(tids), token_ids)\n",
    "    token_ids = list(token_ids)\n",
    "    token_masks =[]\n",
    "    sent_segs = []\n",
    "    for token_list in token_ids:\n",
    "        token_masks.append([1 if x > 0 else 0 for x in token_list])\n",
    "        sent_segs.append([0 for x in token_list])    \n",
    "    return  [tf.cast(token_ids,tf.int32), tf.cast(sent_segs,tf.int32), tf.cast(token_masks,tf.int32)]\n",
    "\n",
    "def preprocess_data(data): \n",
    "    #One hot encoding\n",
    "    label_encoder = LabelEncoder()\n",
    "    label_encoder = label_encoder.fit(CLASSES)\n",
    "    label_ints = label_encoder.transform(data.values[:,1])\n",
    "    label_ints = label_ints.reshape(len(label_ints), 1)\n",
    "    onehot_encoder = OneHotEncoder(sparse=False, categories='auto')\n",
    "    label_onehot = onehot_encoder.fit_transform(label_ints)\n",
    "    \n",
    "    #Split to training and test\n",
    "    train_len = int(len(data.index) * TRAIN_SAMPLES)\n",
    "    \n",
    "    train_set = data.values[:train_len,0]\n",
    "    train_features = Bertify(train_set)\n",
    "    train_labels = np.array(label_onehot[:train_len,:])\n",
    "    \n",
    "    test_set = data.values[train_len:,0]\n",
    "    test_features = Bertify(test_set)\n",
    "    test_labels = np.array(label_onehot[train_len:,:])\n",
    "    \n",
    "    return train_features, train_labels, test_features, test_labels\n",
    "\n",
    "if TRAIN_MODEL:\n",
    "    train_tokens, train_labels, test_tokens, test_labels = preprocess_data(data)\n",
    "    print('Training data loaded')\n",
    "    print(train_tokens[0:10])\n",
    "    print(train_labels[0:10])\n",
    "else:\n",
    "    print('Training data not loaded')"
   ]
  },
  {
   "cell_type": "markdown",
   "metadata": {
    "colab_type": "text",
    "id": "gbYqQ90TGnk6"
   },
   "source": [
    "<h2>Model Definition</h2>\n",
    "<p>The recommended way to use BERT is via fine-tuning with minimal additional layers appended on to focus results to the task at hand (reference).\n",
    "The example on tensorlow site uses the following layers: a lambda to flatten output, dropout, dense layer, dropout and a softmax dense layer to compute categorical output. https://github.com/kpe/bert-for-tf2/blob/master/examples/gpu_movie_reviews.ipynb</p>\n",
    "<p>BERT Paper recommends learning rates of 5e-5, 3e-5 or 2e-5 with an Adam optimizer. I chose the smallest of these 2e-5</p>\n"
   ]
  },
  {
   "cell_type": "code",
   "execution_count": 46,
   "metadata": {
    "colab": {
     "base_uri": "https://localhost:8080/",
     "height": 527
    },
    "colab_type": "code",
    "executionInfo": {
     "elapsed": 1198,
     "status": "ok",
     "timestamp": 1584538142705,
     "user": {
      "displayName": "michael dowd",
      "photoUrl": "",
      "userId": "09865951120913534207"
     },
     "user_tz": 0
    },
    "id": "Sq6qYT61Gnk9",
    "outputId": "8abaae24-f576-49e6-bc4d-716af7914fc5"
   },
   "outputs": [
    {
     "name": "stdout",
     "output_type": "stream",
     "text": [
      "Model: \"model_9\"\n",
      "__________________________________________________________________________________________________\n",
      "Layer (type)                    Output Shape         Param #     Connected to                     \n",
      "==================================================================================================\n",
      "input_token_ids (InputLayer)    [(None, 128)]        0                                            \n",
      "__________________________________________________________________________________________________\n",
      "input_token_masks (InputLayer)  [(None, 128)]        0                                            \n",
      "__________________________________________________________________________________________________\n",
      "input_sent_segms (InputLayer)   [(None, 128)]        0                                            \n",
      "__________________________________________________________________________________________________\n",
      "keras_layer_4 (KerasLayer)      [(None, 768), (None, 109482241   input_token_ids[0][0]            \n",
      "                                                                 input_token_masks[0][0]          \n",
      "                                                                 input_sent_segms[0][0]           \n",
      "__________________________________________________________________________________________________\n",
      "lambda_8 (Lambda)               (None, 768)          0           keras_layer_4[3][1]              \n",
      "__________________________________________________________________________________________________\n",
      "dropout_15 (Dropout)            (None, 768)          0           lambda_8[0][0]                   \n",
      "__________________________________________________________________________________________________\n",
      "dense_18 (Dense)                (None, 256)          196864      dropout_15[0][0]                 \n",
      "__________________________________________________________________________________________________\n",
      "dropout_16 (Dropout)            (None, 256)          0           dense_18[0][0]                   \n",
      "__________________________________________________________________________________________________\n",
      "dense_19 (Dense)                (None, 3)            771         dropout_16[0][0]                 \n",
      "==================================================================================================\n",
      "Total params: 109,679,876\n",
      "Trainable params: 109,679,875\n",
      "Non-trainable params: 1\n",
      "__________________________________________________________________________________________________\n",
      "None\n",
      "done\n"
     ]
    }
   ],
   "source": [
    "METRICS = [\n",
    "      tf.keras.metrics.CategoricalCrossentropy(name='categoricalcrossentropy'),\n",
    "      tf.keras.metrics.CategoricalAccuracy(name='categoricalaccuracy'),\n",
    "      tf.keras.metrics.Precision(name='precision'),\n",
    "      tf.keras.metrics.Recall(name='recall'),\n",
    "      tf.keras.metrics.AUC(name='auc'),\n",
    "]\n",
    "\n",
    "def build_model_fullyconnected():\n",
    "    \"\"\"add pretrained bert model as a keras layer\"\"\"\n",
    "    input_word_ids = Input((MAX_LENGTH,), dtype=tf.int32, name='input_token_ids')\n",
    "    input_masks = Input((MAX_LENGTH,), dtype=tf.int32, name='input_token_masks')\n",
    "    input_segments = Input((MAX_LENGTH,), dtype=tf.int32, name='input_sent_segms')\n",
    "    \n",
    "    if not RETRAIN_BERT:\n",
    "        bert_layer.trainable = False\n",
    "    \n",
    "    _, sout = bert_layer([input_word_ids, input_masks, input_segments])\n",
    "    X = Lambda(lambda seq: seq[:, 0, :])(sout)\n",
    "    X = Dropout(0.1)(X)\n",
    "    X = Dense(256, activation=\"relu\")(X)\n",
    "    X = Dropout(0.1)(X)\n",
    "    output_ = Dense(3, activation=tf.nn.softmax)(X)\n",
    "    #output_= Dense(3, activation=tf.nn.softmax, name='output')(X)\n",
    "\n",
    "    #model = Model(input_,output_)\n",
    "    model = Model([input_word_ids, input_masks, input_segments],output_)\n",
    "    adam = Adam(learning_rate=0.2e-5, beta_1=0.9, beta_2=0.999, amsgrad=False) \n",
    "    model.compile(optimizer = adam, loss = \"categorical_crossentropy\", metrics = METRICS)\n",
    "    return model\n",
    "\n",
    "model = build_model_fullyconnected()\n",
    "print(model.summary())\n",
    "print('done')"
   ]
  },
  {
   "cell_type": "markdown",
   "metadata": {
    "colab_type": "text",
    "id": "j7dxeOnSGnlD"
   },
   "source": [
    "<h2>Model Training</h2>"
   ]
  },
  {
   "cell_type": "markdown",
   "metadata": {
    "colab_type": "text",
    "id": "ycybfxUolXsG"
   },
   "source": [
    "<p>BERT Paper recommends batch sizes of 16 or 32, with number of epochs of 2, 3 or 4. I use a batch size of 32 and was achieving better f1 scores with significantly more epochs. In the end I achieved the best validation score with between 10 to 15 epochs</p>"
   ]
  },
  {
   "cell_type": "code",
   "execution_count": 48,
   "metadata": {
    "colab": {
     "base_uri": "https://localhost:8080/",
     "height": 870
    },
    "colab_type": "code",
    "executionInfo": {
     "elapsed": 1591775,
     "status": "ok",
     "timestamp": 1584539771424,
     "user": {
      "displayName": "michael dowd",
      "photoUrl": "",
      "userId": "09865951120913534207"
     },
     "user_tz": 0
    },
    "id": "NBRA-GzIGnlF",
    "outputId": "3ec12433-5328-4e9a-e141-96996c43299d"
   },
   "outputs": [
    {
     "name": "stdout",
     "output_type": "stream",
     "text": [
      "Train on 4755 samples, validate on 1585 samples\n",
      "Epoch 1/50\n",
      "4755/4755 [==============================] - 77s 16ms/sample - loss: 0.5351 - categoricalcrossentropy: 0.5351 - categoricalaccuracy: 0.7912 - precision: 0.8579 - recall: 0.7150 - auc: 0.9348 - val_loss: 1.2981 - val_categoricalcrossentropy: 1.2981 - val_categoricalaccuracy: 0.5079 - val_precision: 0.5151 - val_recall: 0.4858 - val_auc: 0.6985\n",
      "Epoch 2/50\n",
      "4755/4755 [==============================] - 75s 16ms/sample - loss: 0.1700 - categoricalcrossentropy: 0.1700 - categoricalaccuracy: 0.9628 - precision: 0.9713 - recall: 0.9537 - auc: 0.9963 - val_loss: 1.6261 - val_categoricalcrossentropy: 1.6261 - val_categoricalaccuracy: 0.5142 - val_precision: 0.5191 - val_recall: 0.5066 - val_auc: 0.6973\n",
      "Epoch 3/50\n",
      "4755/4755 [==============================] - 75s 16ms/sample - loss: 0.0790 - categoricalcrossentropy: 0.0790 - categoricalaccuracy: 0.9897 - precision: 0.9909 - recall: 0.9865 - auc: 0.9989 - val_loss: 1.8823 - val_categoricalcrossentropy: 1.8823 - val_categoricalaccuracy: 0.4997 - val_precision: 0.5032 - val_recall: 0.4940 - val_auc: 0.6899\n",
      "Epoch 4/50\n",
      "4755/4755 [==============================] - 75s 16ms/sample - loss: 0.0466 - categoricalcrossentropy: 0.0466 - categoricalaccuracy: 0.9931 - precision: 0.9937 - recall: 0.9918 - auc: 0.9995 - val_loss: 2.0660 - val_categoricalcrossentropy: 2.0660 - val_categoricalaccuracy: 0.5073 - val_precision: 0.5096 - val_recall: 0.5016 - val_auc: 0.6892\n",
      "Epoch 5/50\n",
      "4755/4755 [==============================] - 75s 16ms/sample - loss: 0.0326 - categoricalcrossentropy: 0.0326 - categoricalaccuracy: 0.9947 - precision: 0.9956 - recall: 0.9939 - auc: 0.9995 - val_loss: 2.1908 - val_categoricalcrossentropy: 2.1908 - val_categoricalaccuracy: 0.5123 - val_precision: 0.5163 - val_recall: 0.5104 - val_auc: 0.6920\n",
      "Epoch 6/50\n",
      "1216/4755 [======>.......................] - ETA: 49s - loss: 0.0220 - categoricalcrossentropy: 0.0220 - categoricalaccuracy: 0.9959 - precision: 0.9967 - recall: 0.9959 - auc: 1.0000\n",
      "Epoch 00006: saving model to Model/bert_faq.ckpt\n",
      "4755/4755 [==============================] - 81s 17ms/sample - loss: 0.0254 - categoricalcrossentropy: 0.0254 - categoricalaccuracy: 0.9943 - precision: 0.9952 - recall: 0.9941 - auc: 0.9998 - val_loss: 2.3048 - val_categoricalcrossentropy: 2.3048 - val_categoricalaccuracy: 0.5186 - val_precision: 0.5194 - val_recall: 0.5142 - val_auc: 0.6875\n",
      "Epoch 7/50\n",
      "4755/4755 [==============================] - 75s 16ms/sample - loss: 0.0213 - categoricalcrossentropy: 0.0213 - categoricalaccuracy: 0.9954 - precision: 0.9958 - recall: 0.9950 - auc: 0.9998 - val_loss: 2.4515 - val_categoricalcrossentropy: 2.4515 - val_categoricalaccuracy: 0.5199 - val_precision: 0.5187 - val_recall: 0.5161 - val_auc: 0.6810\n",
      "Epoch 8/50\n",
      "4755/4755 [==============================] - 75s 16ms/sample - loss: 0.0204 - categoricalcrossentropy: 0.0204 - categoricalaccuracy: 0.9943 - precision: 0.9952 - recall: 0.9943 - auc: 0.9999 - val_loss: 2.4856 - val_categoricalcrossentropy: 2.4856 - val_categoricalaccuracy: 0.5091 - val_precision: 0.5111 - val_recall: 0.5073 - val_auc: 0.6802\n",
      "Epoch 9/50\n",
      "4755/4755 [==============================] - 75s 16ms/sample - loss: 0.0195 - categoricalcrossentropy: 0.0195 - categoricalaccuracy: 0.9947 - precision: 0.9947 - recall: 0.9945 - auc: 0.9999 - val_loss: 2.5100 - val_categoricalcrossentropy: 2.5100 - val_categoricalaccuracy: 0.5167 - val_precision: 0.5176 - val_recall: 0.5110 - val_auc: 0.6891\n",
      "Epoch 10/50\n",
      "4755/4755 [==============================] - 75s 16ms/sample - loss: 0.0152 - categoricalcrossentropy: 0.0152 - categoricalaccuracy: 0.9958 - precision: 0.9960 - recall: 0.9956 - auc: 1.0000 - val_loss: 2.6336 - val_categoricalcrossentropy: 2.6336 - val_categoricalaccuracy: 0.5129 - val_precision: 0.5130 - val_recall: 0.5085 - val_auc: 0.6786\n",
      "Epoch 11/50\n",
      "2464/4755 [==============>...............] - ETA: 32s - loss: 0.0165 - categoricalcrossentropy: 0.0165 - categoricalaccuracy: 0.9951 - precision: 0.9955 - recall: 0.9947 - auc: 0.9999\n",
      "Epoch 00011: saving model to Model/bert_faq.ckpt\n",
      "4755/4755 [==============================] - 81s 17ms/sample - loss: 0.0156 - categoricalcrossentropy: 0.0156 - categoricalaccuracy: 0.9956 - precision: 0.9958 - recall: 0.9952 - auc: 0.9999 - val_loss: 2.6147 - val_categoricalcrossentropy: 2.6147 - val_categoricalaccuracy: 0.5224 - val_precision: 0.5245 - val_recall: 0.5199 - val_auc: 0.6844\n",
      "Epoch 12/50\n",
      "4755/4755 [==============================] - 75s 16ms/sample - loss: 0.0125 - categoricalcrossentropy: 0.0125 - categoricalaccuracy: 0.9958 - precision: 0.9960 - recall: 0.9956 - auc: 1.0000 - val_loss: 2.6696 - val_categoricalcrossentropy: 2.6696 - val_categoricalaccuracy: 0.5218 - val_precision: 0.5220 - val_recall: 0.5174 - val_auc: 0.6838\n",
      "Epoch 13/50\n",
      "4755/4755 [==============================] - 75s 16ms/sample - loss: 0.0115 - categoricalcrossentropy: 0.0115 - categoricalaccuracy: 0.9954 - precision: 0.9956 - recall: 0.9954 - auc: 1.0000 - val_loss: 2.7631 - val_categoricalcrossentropy: 2.7631 - val_categoricalaccuracy: 0.5224 - val_precision: 0.5242 - val_recall: 0.5199 - val_auc: 0.6844\n",
      "Epoch 14/50\n",
      "4755/4755 [==============================] - 75s 16ms/sample - loss: 0.0099 - categoricalcrossentropy: 0.0099 - categoricalaccuracy: 0.9964 - precision: 0.9966 - recall: 0.9962 - auc: 1.0000 - val_loss: 2.8138 - val_categoricalcrossentropy: 2.8138 - val_categoricalaccuracy: 0.5186 - val_precision: 0.5191 - val_recall: 0.5136 - val_auc: 0.6806\n",
      "Epoch 15/50\n",
      "4755/4755 [==============================] - 75s 16ms/sample - loss: 0.0099 - categoricalcrossentropy: 0.0099 - categoricalaccuracy: 0.9964 - precision: 0.9968 - recall: 0.9964 - auc: 1.0000 - val_loss: 2.8391 - val_categoricalcrossentropy: 2.8391 - val_categoricalaccuracy: 0.5211 - val_precision: 0.5232 - val_recall: 0.5192 - val_auc: 0.6802\n",
      "Epoch 16/50\n",
      "3712/4755 [======================>.......] - ETA: 14s - loss: 0.0105 - categoricalcrossentropy: 0.0105 - categoricalaccuracy: 0.9962 - precision: 0.9965 - recall: 0.9957 - auc: 1.0000\n",
      "Epoch 00016: saving model to Model/bert_faq.ckpt\n",
      "4755/4755 [==============================] - 81s 17ms/sample - loss: 0.0107 - categoricalcrossentropy: 0.0107 - categoricalaccuracy: 0.9964 - precision: 0.9968 - recall: 0.9958 - auc: 1.0000 - val_loss: 2.8461 - val_categoricalcrossentropy: 2.8461 - val_categoricalaccuracy: 0.5256 - val_precision: 0.5255 - val_recall: 0.5205 - val_auc: 0.6829\n",
      "Epoch 17/50\n",
      "4755/4755 [==============================] - 75s 16ms/sample - loss: 0.0092 - categoricalcrossentropy: 0.0092 - categoricalaccuracy: 0.9966 - precision: 0.9968 - recall: 0.9962 - auc: 1.0000 - val_loss: 2.9627 - val_categoricalcrossentropy: 2.9627 - val_categoricalaccuracy: 0.5249 - val_precision: 0.5270 - val_recall: 0.5230 - val_auc: 0.6763\n",
      "Epoch 18/50\n",
      "4755/4755 [==============================] - 75s 16ms/sample - loss: 0.0085 - categoricalcrossentropy: 0.0085 - categoricalaccuracy: 0.9966 - precision: 0.9971 - recall: 0.9964 - auc: 1.0000 - val_loss: 2.9681 - val_categoricalcrossentropy: 2.9681 - val_categoricalaccuracy: 0.5293 - val_precision: 0.5316 - val_recall: 0.5249 - val_auc: 0.6788\n",
      "Epoch 19/50\n",
      "4755/4755 [==============================] - 75s 16ms/sample - loss: 0.0100 - categoricalcrossentropy: 0.0100 - categoricalaccuracy: 0.9960 - precision: 0.9966 - recall: 0.9960 - auc: 1.0000 - val_loss: 3.0311 - val_categoricalcrossentropy: 3.0311 - val_categoricalaccuracy: 0.5293 - val_precision: 0.5301 - val_recall: 0.5274 - val_auc: 0.6806\n",
      "Epoch 20/50\n",
      "4755/4755 [==============================] - 75s 16ms/sample - loss: 0.0097 - categoricalcrossentropy: 0.0097 - categoricalaccuracy: 0.9962 - precision: 0.9966 - recall: 0.9958 - auc: 1.0000 - val_loss: 3.2449 - val_categoricalcrossentropy: 3.2449 - val_categoricalaccuracy: 0.5085 - val_precision: 0.5105 - val_recall: 0.5079 - val_auc: 0.6688\n",
      "Epoch 21/50\n",
      "4755/4755 [==============================] - 75s 16ms/sample - loss: 0.0115 - categoricalcrossentropy: 0.0115 - categoricalaccuracy: 0.9956 - precision: 0.9956 - recall: 0.9954 - auc: 1.0000 - val_loss: 3.0656 - val_categoricalcrossentropy: 3.0656 - val_categoricalaccuracy: 0.5110 - val_precision: 0.5121 - val_recall: 0.5079 - val_auc: 0.6736\n"
     ]
    }
   ],
   "source": [
    "def fitModel(Model, training_set, training_label, testing_set, testing_label):\n",
    "    checkpointName = os.path.join('Model', \"bert_faq.ckpt\")\n",
    "\n",
    "    # Create a callback that saves the model's weights\n",
    "    cp_callback = tf.keras.callbacks.ModelCheckpoint(filepath=checkpointName,\n",
    "                                                     save_weights_only=True,\n",
    "                                                     save_freq = 25000,\n",
    "                                                     mode='auto',\n",
    "                                                     verbose=1)\n",
    "    # callback = StopTrainingClassComplete()\n",
    "    history = Model.fit(\n",
    "        training_set,\n",
    "        training_label,\n",
    "        epochs=50,\n",
    "        batch_size=32,\n",
    "        validation_split=0.25,\n",
    "        verbose=1,\n",
    "        callbacks=[cp_callback,\n",
    "                   callbacks.EarlyStopping(patience=20, restore_best_weights=True)]\n",
    "    )\n",
    "    return history\n",
    "\n",
    "if TRAIN_MODEL:\n",
    "    history = fitModel(model, train_tokens, train_labels, test_tokens, test_labels)\n",
    "else:\n",
    "    print('Model training skipped')"
   ]
  },
  {
   "cell_type": "code",
   "execution_count": 0,
   "metadata": {
    "colab": {},
    "colab_type": "code",
    "id": "P5L1Q6Y9Yosy"
   },
   "outputs": [],
   "source": []
  },
  {
   "cell_type": "markdown",
   "metadata": {
    "colab_type": "text",
    "id": "zI1TPhAgGnlM"
   },
   "source": [
    "<h2>Training Metrics</h2>"
   ]
  },
  {
   "cell_type": "markdown",
   "metadata": {
    "colab_type": "text",
    "id": "4nlccxZFGnlY"
   },
   "source": [
    "<h3>Categorical Accuracy</h3>\n",
    "<p></p>"
   ]
  },
  {
   "cell_type": "code",
   "execution_count": 39,
   "metadata": {
    "colab": {
     "base_uri": "https://localhost:8080/",
     "height": 265
    },
    "colab_type": "code",
    "executionInfo": {
     "elapsed": 567,
     "status": "ok",
     "timestamp": 1584537983405,
     "user": {
      "displayName": "michael dowd",
      "photoUrl": "",
      "userId": "09865951120913534207"
     },
     "user_tz": 0
    },
    "id": "7UeHpmaHGnlh",
    "outputId": "421044b2-a32d-4ed1-fd22-4b8730957142"
   },
   "outputs": [
    {
     "data": {
      "image/png": "[encoded data removed]",
      "text/plain": [
       "<Figure size 432x288 with 1 Axes>"
      ]
     },
     "metadata": {
      "tags": []
     },
     "output_type": "display_data"
    }
   ],
   "source": [
    "if TRAIN_MODEL:   \n",
    "    fig = plt.figure()\n",
    "    ax = plt.subplot(111)\n",
    "    ax.plot(history.history['categoricalaccuracy'], label = 'training categegorical accuracy')\n",
    "    ax.plot(history.history['val_categoricalaccuracy'], label = 'testing categegorical accuracy')\n",
    "    ax.legend()\n",
    "    plt.show()\n",
    "else:\n",
    "    print('No data: model training skipped')"
   ]
  },
  {
   "cell_type": "markdown",
   "metadata": {
    "colab_type": "text",
    "id": "iSpHcmV4Gnlo"
   },
   "source": [
    "<h3>Precision</h3>\n",
    "<p></p>"
   ]
  },
  {
   "cell_type": "code",
   "execution_count": 40,
   "metadata": {
    "colab": {
     "base_uri": "https://localhost:8080/",
     "height": 265
    },
    "colab_type": "code",
    "executionInfo": {
     "elapsed": 637,
     "status": "ok",
     "timestamp": 1584537986184,
     "user": {
      "displayName": "michael dowd",
      "photoUrl": "",
      "userId": "09865951120913534207"
     },
     "user_tz": 0
    },
    "id": "G3XZ-1hbGnlq",
    "outputId": "ab61e40b-2f82-45f7-c8cd-485d943e3305"
   },
   "outputs": [
    {
     "data": {
      "image/png": "[encoded data removed]",
      "text/plain": [
       "<Figure size 432x288 with 1 Axes>"
      ]
     },
     "metadata": {
      "tags": []
     },
     "output_type": "display_data"
    }
   ],
   "source": [
    "if TRAIN_MODEL:\n",
    "    fig = plt.figure()\n",
    "    ax = plt.subplot(111)\n",
    "    ax.plot(history.history['precision'], label = 'training precision')\n",
    "    ax.plot(history.history['val_precision'], label = 'testing precision')\n",
    "    ax.legend()\n",
    "    plt.show()\n",
    "else:\n",
    "    print('No data: model training skipped')"
   ]
  },
  {
   "cell_type": "markdown",
   "metadata": {
    "colab_type": "text",
    "id": "Dn0HDcL6Gnly"
   },
   "source": [
    "<h3>Recall</h3>\n",
    "<p></p>"
   ]
  },
  {
   "cell_type": "code",
   "execution_count": 41,
   "metadata": {
    "colab": {
     "base_uri": "https://localhost:8080/",
     "height": 265
    },
    "colab_type": "code",
    "executionInfo": {
     "elapsed": 592,
     "status": "ok",
     "timestamp": 1584537993104,
     "user": {
      "displayName": "michael dowd",
      "photoUrl": "",
      "userId": "09865951120913534207"
     },
     "user_tz": 0
    },
    "id": "VGqjOUN8Gnl0",
    "outputId": "521fc75b-d17d-41b3-dd4d-22d878c000ff"
   },
   "outputs": [
    {
     "data": {
      "image/png": "[encoded data removed]",
      "text/plain": [
       "<Figure size 432x288 with 1 Axes>"
      ]
     },
     "metadata": {
      "tags": []
     },
     "output_type": "display_data"
    }
   ],
   "source": [
    "if TRAIN_MODEL:\n",
    "    fig = plt.figure()\n",
    "    ax = plt.subplot(111)\n",
    "    ax.plot(history.history['recall'], label = 'training recall')\n",
    "    ax.plot(history.history['val_recall'], label = 'testing recall')\n",
    "    ax.legend()\n",
    "    plt.show()\n",
    "else:\n",
    "    print('No data: model training skipped')"
   ]
  },
  {
   "cell_type": "markdown",
   "metadata": {
    "colab_type": "text",
    "id": "JUXysy3wQM1Z"
   },
   "source": [
    "<h2>Evaluation</h2>"
   ]
  },
  {
   "cell_type": "code",
   "execution_count": 42,
   "metadata": {
    "colab": {
     "base_uri": "https://localhost:8080/",
     "height": 510
    },
    "colab_type": "code",
    "executionInfo": {
     "elapsed": 9258,
     "status": "ok",
     "timestamp": 1584538008798,
     "user": {
      "displayName": "michael dowd",
      "photoUrl": "",
      "userId": "09865951120913534207"
     },
     "user_tz": 0
    },
    "id": "ash5fAHCQIIM",
    "outputId": "0af8d556-5672-4ca1-9702-e5367be069c2"
   },
   "outputs": [
    {
     "name": "stdout",
     "output_type": "stream",
     "text": [
      "done generating random predictions\n",
      "done generating test predictions\n",
      "Classification Report - Baseline\n",
      "              precision    recall  f1-score   support\n",
      "\n",
      "         CAG       0.34      0.32      0.33       561\n",
      "         NAG       0.35      0.35      0.35       531\n",
      "         OAG       0.31      0.32      0.31       494\n",
      "\n",
      "    accuracy                           0.33      1586\n",
      "   macro avg       0.33      0.33      0.33      1586\n",
      "weighted avg       0.33      0.33      0.33      1586\n",
      "\n",
      "Classification Report - Model\n",
      "              precision    recall  f1-score   support\n",
      "\n",
      "         CAG       0.45      0.46      0.46       561\n",
      "         NAG       0.61      0.56      0.58       531\n",
      "         OAG       0.52      0.55      0.54       494\n",
      "\n",
      "    accuracy                           0.52      1586\n",
      "   macro avg       0.53      0.52      0.52      1586\n",
      "weighted avg       0.52      0.52      0.52      1586\n",
      "\n",
      "Confusion Matrix\n",
      "['CAG', 'NAG', 'OAG']\n",
      "[[258 133 170]\n",
      " [154 297  80]\n",
      " [161  60 273]]\n"
     ]
    }
   ],
   "source": [
    "# Baseline - Random predictions\n",
    "identity = np.eye(len(CLASSES))\n",
    "baseline_labels=identity[np.random.choice(len(CLASSES), len(test_labels))]\n",
    "print('done generating random predictions')\n",
    "\n",
    "# Model Predictions\n",
    "y_pred = model.predict(test_tokens)\n",
    "print('done generating test predictions')\n",
    "\n",
    "print('Classification Report - Baseline')\n",
    "report_baseline = metrics.classification_report(test_labels.argmax(axis=1),\n",
    "                                       baseline_labels.argmax(axis=1),\n",
    "                                      target_names = CLASSES)\n",
    "print(report_baseline)\n",
    "print('Classification Report - Model')\n",
    "report_model = metrics.classification_report(test_labels.argmax(axis=1),\n",
    "                                       y_pred.argmax(axis=1),\n",
    "                                      target_names = CLASSES)\n",
    "print(report_model)\n",
    "\n",
    "print('Confusion Matrix')\n",
    "matrix = metrics.confusion_matrix(test_labels.argmax(axis=1), y_pred.argmax(axis=1))\n",
    "print(CLASSES)\n",
    "print(matrix)"
   ]
  },
  {
   "cell_type": "markdown",
   "metadata": {
    "colab_type": "text",
    "id": "0l-324CaGnl-"
   },
   "source": [
    "<h2>Running Predictions Using The Saved Model</h2>"
   ]
  },
  {
   "cell_type": "code",
   "execution_count": 0,
   "metadata": {
    "colab": {},
    "colab_type": "code",
    "id": "4fWl0dT9GnmA",
    "outputId": "19c220fa-526c-4c7f-e6f3-745389dfa963"
   },
   "outputs": [
    {
     "name": "stdout",
     "output_type": "stream",
     "text": [
      "Model build with random weights\n",
      "Weights loaded\n",
      "The pigs in office are abusing their power\n",
      "CAG\n",
      "That is a well reasoned point\n",
      "NAG\n",
      "You dont know what ur talking about and are speaking like a terrorist....\n",
      "CAG\n",
      "This is happening in BJP ruled state. Shame on the adminstration\n",
      "CAG\n"
     ]
    }
   ],
   "source": [
    "def Load_Checkpoint(Model):\n",
    "    \n",
    "    latest_checkpoint = tf.train.latest_checkpoint('Model')\n",
    "    #loaded_model = build_model_fullyconnected()\n",
    "    \n",
    "    print('Model build with random weights')\n",
    "    #Model.evaluate(test_tokens, test_labels, verbose=2)\n",
    "       \n",
    "    Model.load_weights(latest_checkpoint)\n",
    "    print('Weights loaded')\n",
    "    #Model.evaluate(test_tokens, test_labels, verbose=2)\n",
    "    \n",
    "    return Model\n",
    "    \n",
    "def Model_Predictions(Model, Text_Array):\n",
    "    inputs = Bertify(Text_Array)\n",
    "    predicted_labels = Model.predict(inputs)\n",
    "    label_indices = np.argmax(predicted_labels, axis=1)\n",
    "    labels = [CLASSES[x] for x in label_indices]\n",
    "    return labels\n",
    "\n",
    "if LOAD_MODEL_AND_PREDICT:\n",
    "    model = Load_Checkpoint(model)\n",
    "    predictions = Model_Predictions(loaded_model, TEXT_TO_PREDICT)\n",
    "    for text, prediction in zip(TEXT_TO_PREDICT, predictions):\n",
    "        print(text)\n",
    "        print(prediction)\n"
   ]
  }
 ],
 "metadata": {
  "accelerator": "GPU",
  "colab": {
   "collapsed_sections": [],
   "name": "Bert-finetuning-54.ipynb",
   "provenance": []
  },
  "kernelspec": {
   "display_name": "Python 3",
   "language": "python",
   "name": "python3"
  },
  "language_info": {
   "codemirror_mode": {
    "name": "ipython",
    "version": 3
   },
   "file_extension": ".py",
   "mimetype": "text/x-python",
   "name": "python",
   "nbconvert_exporter": "python",
   "pygments_lexer": "ipython3",
   "version": "3.6.6"
  }
 },
 "nbformat": 4,
 "nbformat_minor": 1
}
