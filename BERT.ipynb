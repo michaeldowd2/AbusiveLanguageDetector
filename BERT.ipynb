{
 "cells": [
  {
   "cell_type": "code",
   "execution_count": 198,
   "metadata": {},
   "outputs": [
    {
     "name": "stdout",
     "output_type": "stream",
     "text": [
      "done\n"
     ]
    }
   ],
   "source": [
    "# References\n",
    "# https://colab.research.google.com/drive/1IubZ3T7gqD09ZIVmJapiB5MXUnVGlzwH#scrollTo=7LbVjtktg3Ln\n",
    "# https://medium.com/analytics-vidhya/bert-in-keras-tensorflow-2-0-using-tfhub-huggingface-81c08c5f81d8\n",
    "# https://medium.com/@brn.pistone/bert-fine-tuning-for-tensorflow-2-0-with-keras-api-9913fc1348f6\n",
    "\n",
    "# Requirements\n",
    "# pip install sentencepiece\n",
    "# pip install tensorflow_hub\n",
    "# pip install tensorflow\n",
    "# pip install bert-for-tf2\n",
    "# pip install transformers\n",
    "\n",
    "MAX_LENGTH = 128\n",
    "TRAIN = 10000\n",
    "TEST = 1000\n",
    "RETRAIN_BERT = False\n",
    "print('done')"
   ]
  },
  {
   "cell_type": "code",
   "execution_count": 240,
   "metadata": {},
   "outputs": [
    {
     "name": "stdout",
     "output_type": "stream",
     "text": [
      "done\n"
     ]
    }
   ],
   "source": [
    "from sklearn.preprocessing import OneHotEncoder\n",
    "from sklearn.preprocessing import LabelEncoder\n",
    "from sklearn.model_selection import train_test_split\n",
    "import matplotlib.pyplot as plt\n",
    "import pandas as pd\n",
    "import tensorflow as tf\n",
    "import tensorflow_hub as hub\n",
    "import bert\n",
    "import os\n",
    "import numpy as np\n",
    "import random\n",
    "from datetime import datetime\n",
    "from tensorflow.keras.layers import Dense, Flatten, Dropout,Embedding, LSTM, Bidirectional, Input, Dropout, GlobalAveragePooling1D\n",
    "from tensorflow.keras import Sequential\n",
    "from tensorflow.keras.models import Model\n",
    "from tensorflow.keras.preprocessing import sequence\n",
    "import bert\n",
    "from bert import bert_tokenization \n",
    "\n",
    "print('done')"
   ]
  },
  {
   "cell_type": "code",
   "execution_count": 192,
   "metadata": {},
   "outputs": [
    {
     "name": "stdout",
     "output_type": "stream",
     "text": [
      "done\n"
     ]
    }
   ],
   "source": [
    "\n",
    "bert_path = \"https://tfhub.dev/tensorflow/bert_en_uncased_L-12_H-768_A-12/1\"\n",
    "bert_layer = hub.KerasLayer(bert_path,trainable=True)\n",
    "print('done')"
   ]
  },
  {
   "cell_type": "code",
   "execution_count": 193,
   "metadata": {},
   "outputs": [
    {
     "name": "stdout",
     "output_type": "stream",
     "text": [
      "done\n"
     ]
    }
   ],
   "source": [
    "vocab_file1 = bert_layer.resolved_object.vocab_file.asset_path.numpy()\n",
    "tokenizer = bert.bert_tokenization.FullTokenizer(vocab_file1, do_lower_case=True)\n",
    "print('done')"
   ]
  },
  {
   "cell_type": "code",
   "execution_count": 194,
   "metadata": {},
   "outputs": [
    {
     "name": "stdout",
     "output_type": "stream",
     "text": [
      "Sample Tokenizer Operations\n",
      "['this', 'is', 'a', 'sample', 'token', '##ing', 'operation', '.', 'it', 'spans', 'multiple', 'sentences']\n",
      "[2023, 2003, 1037, 7099, 19204, 2075, 3169, 1012, 2009, 14798, 3674, 11746]\n"
     ]
    }
   ],
   "source": [
    "print('Sample Tokenizer Operations')\n",
    "sample_x = tokenizer.tokenize('this is a sample tokening operation. It spans multiple sentences')\n",
    "sample_ids = tokenizer.convert_tokens_to_ids(sample_x)\n",
    "print(sample_x)\n",
    "print(sample_ids)"
   ]
  },
  {
   "cell_type": "code",
   "execution_count": 195,
   "metadata": {},
   "outputs": [
    {
     "name": "stdout",
     "output_type": "stream",
     "text": [
      "<class 'list'>\n",
      "1000\n",
      "128\n",
      "[[101, 2087, 1997, 2797, 5085, 27218, 1005, 1055, 2066, 10751, 11329, 1010, 24582, 28775, 4385, 2024, 2041, 1997, 5356, 1012, 2069, 2270, 4753, 2924, 1005, 1055, 27218, 2551, 102, 0, 0, 0, 0, 0, 0, 0, 0, 0, 0, 0, 0, 0, 0, 0, 0, 0, 0, 0, 0, 0, 0, 0, 0, 0, 0, 0, 0, 0, 0, 0, 0, 0, 0, 0, 0, 0, 0, 0, 0, 0, 0, 0, 0, 0, 0, 0, 0, 0, 0, 0, 0, 0, 0, 0, 0, 0, 0, 0, 0, 0, 0, 0, 0, 0, 0, 0, 0, 0, 0, 0, 0, 0, 0, 0, 0, 0, 0, 0, 0, 0, 0, 0, 0, 0, 0, 0, 0, 0, 0, 0, 0, 0, 0, 0, 0, 0, 0, 0], [101, 2085, 3160, 2003, 1010, 4501, 2097, 25276, 2000, 2023, 1029, 102, 0, 0, 0, 0, 0, 0, 0, 0, 0, 0, 0, 0, 0, 0, 0, 0, 0, 0, 0, 0, 0, 0, 0, 0, 0, 0, 0, 0, 0, 0, 0, 0, 0, 0, 0, 0, 0, 0, 0, 0, 0, 0, 0, 0, 0, 0, 0, 0, 0, 0, 0, 0, 0, 0, 0, 0, 0, 0, 0, 0, 0, 0, 0, 0, 0, 0, 0, 0, 0, 0, 0, 0, 0, 0, 0, 0, 0, 0, 0, 0, 0, 0, 0, 0, 0, 0, 0, 0, 0, 0, 0, 0, 0, 0, 0, 0, 0, 0, 0, 0, 0, 0, 0, 0, 0, 0, 0, 0, 0, 0, 0, 0, 0, 0, 0, 0]]\n",
      "<class 'list'>\n",
      "1000\n",
      "128\n",
      "[[1, 1, 1, 1, 1, 1, 1, 1, 1, 1, 1, 1, 1, 1, 1, 1, 1, 1, 1, 1, 1, 1, 1, 1, 1, 1, 1, 1, 1, 0, 0, 0, 0, 0, 0, 0, 0, 0, 0, 0, 0, 0, 0, 0, 0, 0, 0, 0, 0, 0, 0, 0, 0, 0, 0, 0, 0, 0, 0, 0, 0, 0, 0, 0, 0, 0, 0, 0, 0, 0, 0, 0, 0, 0, 0, 0, 0, 0, 0, 0, 0, 0, 0, 0, 0, 0, 0, 0, 0, 0, 0, 0, 0, 0, 0, 0, 0, 0, 0, 0, 0, 0, 0, 0, 0, 0, 0, 0, 0, 0, 0, 0, 0, 0, 0, 0, 0, 0, 0, 0, 0, 0, 0, 0, 0, 0, 0, 0], [1, 1, 1, 1, 1, 1, 1, 1, 1, 1, 1, 1, 0, 0, 0, 0, 0, 0, 0, 0, 0, 0, 0, 0, 0, 0, 0, 0, 0, 0, 0, 0, 0, 0, 0, 0, 0, 0, 0, 0, 0, 0, 0, 0, 0, 0, 0, 0, 0, 0, 0, 0, 0, 0, 0, 0, 0, 0, 0, 0, 0, 0, 0, 0, 0, 0, 0, 0, 0, 0, 0, 0, 0, 0, 0, 0, 0, 0, 0, 0, 0, 0, 0, 0, 0, 0, 0, 0, 0, 0, 0, 0, 0, 0, 0, 0, 0, 0, 0, 0, 0, 0, 0, 0, 0, 0, 0, 0, 0, 0, 0, 0, 0, 0, 0, 0, 0, 0, 0, 0, 0, 0, 0, 0, 0, 0, 0, 0]]\n",
      "<class 'list'>\n",
      "1000\n",
      "128\n",
      "[[0, 0, 0, 0, 0, 0, 0, 0, 0, 0, 0, 0, 0, 0, 0, 0, 0, 0, 0, 0, 0, 0, 0, 0, 0, 0, 0, 0, 0, 0, 0, 0, 0, 0, 0, 0, 0, 0, 0, 0, 0, 0, 0, 0, 0, 0, 0, 0, 0, 0, 0, 0, 0, 0, 0, 0, 0, 0, 0, 0, 0, 0, 0, 0, 0, 0, 0, 0, 0, 0, 0, 0, 0, 0, 0, 0, 0, 0, 0, 0, 0, 0, 0, 0, 0, 0, 0, 0, 0, 0, 0, 0, 0, 0, 0, 0, 0, 0, 0, 0, 0, 0, 0, 0, 0, 0, 0, 0, 0, 0, 0, 0, 0, 0, 0, 0, 0, 0, 0, 0, 0, 0, 0, 0, 0, 0, 0, 0], [0, 0, 0, 0, 0, 0, 0, 0, 0, 0, 0, 0, 0, 0, 0, 0, 0, 0, 0, 0, 0, 0, 0, 0, 0, 0, 0, 0, 0, 0, 0, 0, 0, 0, 0, 0, 0, 0, 0, 0, 0, 0, 0, 0, 0, 0, 0, 0, 0, 0, 0, 0, 0, 0, 0, 0, 0, 0, 0, 0, 0, 0, 0, 0, 0, 0, 0, 0, 0, 0, 0, 0, 0, 0, 0, 0, 0, 0, 0, 0, 0, 0, 0, 0, 0, 0, 0, 0, 0, 0, 0, 0, 0, 0, 0, 0, 0, 0, 0, 0, 0, 0, 0, 0, 0, 0, 0, 0, 0, 0, 0, 0, 0, 0, 0, 0, 0, 0, 0, 0, 0, 0, 0, 0, 0, 0, 0, 0]]\n",
      "<class 'list'>\n",
      "1000\n",
      "128\n",
      "[[101, 2053, 5152, 4539, 1012, 1012, 5635, 1998, 1999, 27843, 2458, 2097, 2022, 4539, 1012, 5152, 2003, 2256, 2567, 2025, 1037, 22190, 2072, 1012, 102, 0, 0, 0, 0, 0, 0, 0, 0, 0, 0, 0, 0, 0, 0, 0, 0, 0, 0, 0, 0, 0, 0, 0, 0, 0, 0, 0, 0, 0, 0, 0, 0, 0, 0, 0, 0, 0, 0, 0, 0, 0, 0, 0, 0, 0, 0, 0, 0, 0, 0, 0, 0, 0, 0, 0, 0, 0, 0, 0, 0, 0, 0, 0, 0, 0, 0, 0, 0, 0, 0, 0, 0, 0, 0, 0, 0, 0, 0, 0, 0, 0, 0, 0, 0, 0, 0, 0, 0, 0, 0, 0, 0, 0, 0, 0, 0, 0, 0, 0, 0, 0, 0, 0], [101, 2021, 25192, 2791, 1997, 2273, 3310, 2043, 2027, 2064, 2025, 2202, 2151, 5368, 2012, 2188, 1998, 13732, 2025, 2614, 999, 999, 999, 999, 1999, 19039, 2036, 2027, 2024, 4760, 2023, 1012, 2027, 2024, 2036, 4760, 2054, 2515, 1037, 3928, 2158, 2515, 999, 999, 999, 999, 2021, 2009, 2003, 2995, 19039, 9587, 29068, 3686, 2116, 2477, 1010, 2204, 2030, 2919, 999, 999, 999, 102, 0, 0, 0, 0, 0, 0, 0, 0, 0, 0, 0, 0, 0, 0, 0, 0, 0, 0, 0, 0, 0, 0, 0, 0, 0, 0, 0, 0, 0, 0, 0, 0, 0, 0, 0, 0, 0, 0, 0, 0, 0, 0, 0, 0, 0, 0, 0, 0, 0, 0, 0, 0, 0, 0, 0, 0, 0, 0, 0, 0, 0, 0, 0, 0]]\n",
      "<class 'list'>\n",
      "1000\n",
      "128\n",
      "[[1, 1, 1, 1, 1, 1, 1, 1, 1, 1, 1, 1, 1, 1, 1, 1, 1, 1, 1, 1, 1, 1, 1, 1, 1, 0, 0, 0, 0, 0, 0, 0, 0, 0, 0, 0, 0, 0, 0, 0, 0, 0, 0, 0, 0, 0, 0, 0, 0, 0, 0, 0, 0, 0, 0, 0, 0, 0, 0, 0, 0, 0, 0, 0, 0, 0, 0, 0, 0, 0, 0, 0, 0, 0, 0, 0, 0, 0, 0, 0, 0, 0, 0, 0, 0, 0, 0, 0, 0, 0, 0, 0, 0, 0, 0, 0, 0, 0, 0, 0, 0, 0, 0, 0, 0, 0, 0, 0, 0, 0, 0, 0, 0, 0, 0, 0, 0, 0, 0, 0, 0, 0, 0, 0, 0, 0, 0, 0], [1, 1, 1, 1, 1, 1, 1, 1, 1, 1, 1, 1, 1, 1, 1, 1, 1, 1, 1, 1, 1, 1, 1, 1, 1, 1, 1, 1, 1, 1, 1, 1, 1, 1, 1, 1, 1, 1, 1, 1, 1, 1, 1, 1, 1, 1, 1, 1, 1, 1, 1, 1, 1, 1, 1, 1, 1, 1, 1, 1, 1, 1, 1, 1, 0, 0, 0, 0, 0, 0, 0, 0, 0, 0, 0, 0, 0, 0, 0, 0, 0, 0, 0, 0, 0, 0, 0, 0, 0, 0, 0, 0, 0, 0, 0, 0, 0, 0, 0, 0, 0, 0, 0, 0, 0, 0, 0, 0, 0, 0, 0, 0, 0, 0, 0, 0, 0, 0, 0, 0, 0, 0, 0, 0, 0, 0, 0, 0]]\n",
      "<class 'list'>\n",
      "1000\n",
      "128\n",
      "[[0, 0, 0, 0, 0, 0, 0, 0, 0, 0, 0, 0, 0, 0, 0, 0, 0, 0, 0, 0, 0, 0, 0, 0, 0, 0, 0, 0, 0, 0, 0, 0, 0, 0, 0, 0, 0, 0, 0, 0, 0, 0, 0, 0, 0, 0, 0, 0, 0, 0, 0, 0, 0, 0, 0, 0, 0, 0, 0, 0, 0, 0, 0, 0, 0, 0, 0, 0, 0, 0, 0, 0, 0, 0, 0, 0, 0, 0, 0, 0, 0, 0, 0, 0, 0, 0, 0, 0, 0, 0, 0, 0, 0, 0, 0, 0, 0, 0, 0, 0, 0, 0, 0, 0, 0, 0, 0, 0, 0, 0, 0, 0, 0, 0, 0, 0, 0, 0, 0, 0, 0, 0, 0, 0, 0, 0, 0, 0], [0, 0, 0, 0, 0, 0, 0, 0, 0, 0, 0, 0, 0, 0, 0, 0, 0, 0, 0, 0, 0, 0, 0, 0, 0, 0, 0, 0, 0, 0, 0, 0, 0, 0, 0, 0, 0, 0, 0, 0, 0, 0, 0, 0, 0, 0, 0, 0, 0, 0, 0, 0, 0, 0, 0, 0, 0, 0, 0, 0, 0, 0, 0, 0, 0, 0, 0, 0, 0, 0, 0, 0, 0, 0, 0, 0, 0, 0, 0, 0, 0, 0, 0, 0, 0, 0, 0, 0, 0, 0, 0, 0, 0, 0, 0, 0, 0, 0, 0, 0, 0, 0, 0, 0, 0, 0, 0, 0, 0, 0, 0, 0, 0, 0, 0, 0, 0, 0, 0, 0, 0, 0, 0, 0, 0, 0, 0, 0]]\n",
      "[<tf.Tensor: shape=(1000, 128), dtype=int32, numpy=\n",
      "array([[  101,  2087,  1997, ...,     0,     0,     0],\n",
      "       [  101,  2085,  3160, ...,     0,     0,     0],\n",
      "       [  101,  4501,  2003, ...,     0,     0,     0],\n",
      "       ...,\n",
      "       [  101, 22410,  2442, ...,     0,     0,     0],\n",
      "       [  101,  2115,  5328, ...,     0,     0,     0],\n",
      "       [  101,  2002,  2003, ...,     0,     0,     0]])>, <tf.Tensor: shape=(1000, 128), dtype=int32, numpy=\n",
      "array([[0, 0, 0, ..., 0, 0, 0],\n",
      "       [0, 0, 0, ..., 0, 0, 0],\n",
      "       [0, 0, 0, ..., 0, 0, 0],\n",
      "       ...,\n",
      "       [0, 0, 0, ..., 0, 0, 0],\n",
      "       [0, 0, 0, ..., 0, 0, 0],\n",
      "       [0, 0, 0, ..., 0, 0, 0]])>, <tf.Tensor: shape=(1000, 128), dtype=int32, numpy=\n",
      "array([[1, 1, 1, ..., 0, 0, 0],\n",
      "       [1, 1, 1, ..., 0, 0, 0],\n",
      "       [1, 1, 1, ..., 0, 0, 0],\n",
      "       ...,\n",
      "       [1, 1, 1, ..., 0, 0, 0],\n",
      "       [1, 1, 1, ..., 0, 0, 0],\n",
      "       [1, 1, 1, ..., 0, 0, 0]])>]\n",
      "[[0. 1. 0.]\n",
      " [0. 0. 1.]\n",
      " [0. 0. 1.]\n",
      " [0. 1. 0.]\n",
      " [1. 0. 0.]\n",
      " [0. 1. 0.]\n",
      " [1. 0. 0.]\n",
      " [0. 1. 0.]\n",
      " [0. 1. 0.]\n",
      " [0. 1. 0.]]\n"
     ]
    }
   ],
   "source": [
    "def cleanup_text(data):\n",
    "    #observed weird formatting\n",
    "    data['Text'] = data['Text'].str.replace('\\n',' ')\n",
    "    data['Text'] = data['Text'].str.replace('  ',' ')\n",
    "    data['Text'] = data['Text'].str.strip()\n",
    "    data['Text'] = data['Text'].str.lower()\n",
    "    \n",
    "    #observed slang\n",
    "    data['Text'] = data['Text'].str.replace('pls', 'please')\n",
    "    data['Text'] = data['Text'].str.replace('plz', 'please')\n",
    "    data['Text'] = data['Text'].str.replace(' u ', ' you ')\n",
    "    data['Text'] = data['Text'].str.replace(' ur ', ' your ')\n",
    "    data['Text'] = data['Text'].str.replace(' vs ', ' versus ')\n",
    "    data['Text'] = data['Text'].str.replace(' tks ', ' thanks ')\n",
    "    data['Text'] = data['Text'].str.replace(' cud ', ' could ')\n",
    "    data['Text'] = data['Text'].str.replace(' b ', ' be ')\n",
    "    data['Text'] = data['Text'].str.replace(' r ', ' are ')\n",
    "    return data\n",
    "\n",
    "def Bertify(Set):\n",
    "    tokens = map(tokenizer.tokenize, Set)\n",
    "    tokens = map(lambda tok: tok[:MAX_LENGTH-2], tokens)\n",
    "    tokens = map(lambda tok: [\"[CLS]\"] + tok + [\"[SEP]\"], tokens)\n",
    "    token_ids = map(tokenizer.convert_tokens_to_ids, tokens)\n",
    "    token_ids = map(lambda tids: tids + [0] * (MAX_LENGTH - len(tids)), token_ids)\n",
    "    # token_ids = map(lambda tids: np.array(tids), token_ids)\n",
    "    token_ids = list(token_ids)\n",
    "    token_masks =[]\n",
    "    sent_segs = []\n",
    "    for token_list in token_ids:\n",
    "        token_masks.append([1 if x > 0 else 0 for x in token_list])\n",
    "        sent_segs.append([0 for x in token_list])\n",
    "    \n",
    "    print(type(token_ids))\n",
    "    print(len(token_ids))\n",
    "    print(len(token_ids[0]))\n",
    "    print(token_ids[0:2])\n",
    "    \n",
    "    print(type(token_masks))\n",
    "    print(len(token_masks))\n",
    "    print(len(token_masks[0]))\n",
    "    print(token_masks[0:2])\n",
    "    \n",
    "    print(type(sent_segs))\n",
    "    print(len(sent_segs))\n",
    "    print(len(sent_segs[0]))\n",
    "    print(sent_segs[0:2])\n",
    "    \n",
    "    return  [tf.cast(token_ids,tf.int32), tf.cast(sent_segs,tf.int32), tf.cast(token_masks,tf.int32)]\n",
    "\n",
    "def load_data():\n",
    "    data = pd.read_csv('Data/agr_en_train.csv')\n",
    "    data.columns = ['ID','Text','Indicator']\n",
    "    \n",
    "    data = cleanup_text(data)\n",
    "    data.drop(['ID'], axis='columns', inplace = True)\n",
    "    \n",
    "    #One hot encoding\n",
    "    label_encoder = LabelEncoder()\n",
    "    label_ints = label_encoder.fit_transform(data.values[:,1])\n",
    "    label_ints = label_ints.reshape(len(label_ints), 1)\n",
    "    onehot_encoder = OneHotEncoder(sparse=False, categories='auto')\n",
    "    label_onehot = onehot_encoder.fit_transform(label_ints)\n",
    "    \n",
    "    #Split to training and test\n",
    "    train_set = data.values[:TRAIN,0]\n",
    "    train_features = Bertify(train_set)\n",
    "    train_labels = np.array(label_onehot[:TRAIN,:])\n",
    "    \n",
    "    test_set = data.values[len(data)-TEST:,0]\n",
    "    test_features = Bertify(test_set)\n",
    "    test_labels = np.array(label_onehot[len(data)-TEST:,:])\n",
    "    \n",
    "    return train_features, train_labels, test_features, test_labels\n",
    "\n",
    "train_tokens, train_labels, test_tokens, test_labels = load_data()\n",
    "print(train_tokens[0:10])\n",
    "print(train_labels[0:10])\n"
   ]
  },
  {
   "cell_type": "code",
   "execution_count": 208,
   "metadata": {},
   "outputs": [
    {
     "name": "stdout",
     "output_type": "stream",
     "text": [
      "Model: \"model_23\"\n",
      "__________________________________________________________________________________________________\n",
      "Layer (type)                    Output Shape         Param #     Connected to                     \n",
      "==================================================================================================\n",
      "input_token_ids (InputLayer)    [(None, 128)]        0                                            \n",
      "__________________________________________________________________________________________________\n",
      "input_token_masks (InputLayer)  [(None, 128)]        0                                            \n",
      "__________________________________________________________________________________________________\n",
      "input_sent_segms (InputLayer)   [(None, 128)]        0                                            \n",
      "__________________________________________________________________________________________________\n",
      "keras_layer_6 (KerasLayer)      [(None, 768), (None, 109482241   input_token_ids[0][0]            \n",
      "                                                                 input_token_masks[0][0]          \n",
      "                                                                 input_sent_segms[0][0]           \n",
      "__________________________________________________________________________________________________\n",
      "global_average_pooling1d_17 (Gl (None, 768)          0           keras_layer_6[9][1]              \n",
      "__________________________________________________________________________________________________\n",
      "dense_75 (Dense)                (None, 100)          76900       global_average_pooling1d_17[0][0]\n",
      "__________________________________________________________________________________________________\n",
      "dropout_61 (Dropout)            (None, 100)          0           dense_75[0][0]                   \n",
      "__________________________________________________________________________________________________\n",
      "dense_76 (Dense)                (None, 33)           3333        dropout_61[0][0]                 \n",
      "__________________________________________________________________________________________________\n",
      "dropout_62 (Dropout)            (None, 33)           0           dense_76[0][0]                   \n",
      "__________________________________________________________________________________________________\n",
      "output (Dense)                  (None, 3)            102         dropout_62[0][0]                 \n",
      "==================================================================================================\n",
      "Total params: 109,562,576\n",
      "Trainable params: 80,335\n",
      "Non-trainable params: 109,482,241\n",
      "__________________________________________________________________________________________________\n",
      "None\n"
     ]
    }
   ],
   "source": [
    "METRICS = [\n",
    "      tf.keras.metrics.CategoricalCrossentropy(name='categoricalcrossentropy'),\n",
    "      tf.keras.metrics.CategoricalAccuracy(name='categoricalaccuracy'),\n",
    "      tf.keras.metrics.Precision(name='precision'),\n",
    "      tf.keras.metrics.Recall(name='recall'),\n",
    "      tf.keras.metrics.AUC(name='auc'),\n",
    "]\n",
    "\n",
    "def build_model_fullyconnected():\n",
    "    \"\"\"add pretrained bert model as a keras layer\"\"\"\n",
    "    input_word_ids = Input((MAX_LENGTH,), dtype=tf.int32, name='input_token_ids')\n",
    "    input_masks = Input((MAX_LENGTH,), dtype=tf.int32, name='input_token_masks')\n",
    "    input_segments = Input((MAX_LENGTH,), dtype=tf.int32, name='input_sent_segms')\n",
    "    \n",
    "    if not RETRAIN_BERT:\n",
    "        bert_layer.trainable = False\n",
    "    \n",
    "    _, sout = bert_layer([input_word_ids, input_masks, input_segments])\n",
    "    X = GlobalAveragePooling1D()(sout)\n",
    "    X = Dense(100, activation='relu')(X) \n",
    "    X = Dropout(0.3)(X)\n",
    "    X = Dense(33, activation='relu')(X) \n",
    "    X = Dropout(0.3)(X)\n",
    "    output_= Dense(3, activation=tf.nn.softmax, name='output')(X)\n",
    "\n",
    "    #model = Model(input_,output_)\n",
    "    model = Model([input_word_ids, input_masks, input_segments],output_)\n",
    "    model.compile(optimizer = \"adam\",loss = \"categorical_crossentropy\",\n",
    "                    metrics = METRICS)\n",
    "    print(model.summary())\n",
    "\n",
    "    return model\n",
    "\n",
    "model = build_model_fullyconnected()"
   ]
  },
  {
   "cell_type": "code",
   "execution_count": 226,
   "metadata": {},
   "outputs": [
    {
     "name": "stdout",
     "output_type": "stream",
     "text": [
      "Train on 1000 samples, validate on 1000 samples\n",
      "Epoch 1/2\n",
      " 992/1000 [============================>.] - ETA: 0s - loss: 1.0645 - categoricalcrossentropy: 1.0645 - categoricalaccuracy: 0.4224 - precision: 0.5116 - recall: 0.1109 - auc: 0.6129\n",
      "Epoch 00001: saving model to Model\\bert_faq.ckpt\n",
      "1000/1000 [==============================] - 32s 32ms/sample - loss: 1.0646 - categoricalcrossentropy: 1.0646 - categoricalaccuracy: 0.4230 - precision: 0.5093 - recall: 0.1100 - auc: 0.6133 - val_loss: 1.0516 - val_categoricalcrossentropy: 1.0516 - val_categoricalaccuracy: 0.4530 - val_precision: 0.7273 - val_recall: 0.0080 - val_auc: 0.6466\n",
      "Epoch 2/2\n",
      " 992/1000 [============================>.] - ETA: 0s - loss: 1.0605 - categoricalcrossentropy: 1.0605 - categoricalaccuracy: 0.4335 - precision: 0.5211 - recall: 0.0373 - auc: 0.6198\n",
      "Epoch 00002: saving model to Model\\bert_faq.ckpt\n",
      "1000/1000 [==============================] - 30s 30ms/sample - loss: 1.0585 - categoricalcrossentropy: 1.0585 - categoricalaccuracy: 0.4360 - precision: 0.5405 - recall: 0.0400 - auc: 0.6227 - val_loss: 1.0409 - val_categoricalcrossentropy: 1.0409 - val_categoricalaccuracy: 0.4510 - val_precision: 0.7333 - val_recall: 0.0110 - val_auc: 0.6424\n"
     ]
    }
   ],
   "source": [
    "def fitModel(Model, training_set, training_label, testing_set, testing_label):\n",
    "    checkpointName = os.path.join('Model', \"bert_faq.ckpt\")\n",
    "\n",
    "    # Create a callback that saves the model's weights\n",
    "    cp_callback = tf.keras.callbacks.ModelCheckpoint(filepath=checkpointName,\n",
    "                                                     save_weights_only=True,\n",
    "                                                     save_freq = 10000,\n",
    "                                                     mode='auto',\n",
    "                                                     verbose=1)\n",
    "    # callback = StopTrainingClassComplete()\n",
    "\n",
    "    history = Model.fit(\n",
    "        training_set,\n",
    "        training_label,\n",
    "        epochs=50,\n",
    "        validation_data=(testing_set, testing_label),\n",
    "        verbose=1,\n",
    "        callbacks=[cp_callback]\n",
    "    )\n",
    "    return history\n",
    "    \n",
    "history = fitModel(model, train_tokens, train_labels, test_tokens, test_labels)"
   ]
  },
  {
   "cell_type": "code",
   "execution_count": 227,
   "metadata": {},
   "outputs": [
    {
     "name": "stdout",
     "output_type": "stream",
     "text": [
      "<tensorflow.python.keras.callbacks.History object at 0x00000212CAC1A7B8>\n"
     ]
    }
   ],
   "source": [
    "print(history)"
   ]
  },
  {
   "cell_type": "code",
   "execution_count": 246,
   "metadata": {},
   "outputs": [
    {
     "data": {
      "image/png": "[encoded data removed]",
      "text/plain": [
       "<Figure size 432x432 with 4 Axes>"
      ]
     },
     "metadata": {
      "needs_background": "light"
     },
     "output_type": "display_data"
    }
   ],
   "source": [
    "fig, [ax1,ax2] = plt.subplots(nrows=2, ncols=2, figsize=(6,6),sharey=False)\n",
    "ax1[0].plot(history.history['categoricalcrossentropy'])\n",
    "ax1[1].plot(history.history['categoricalaccuracy'])\n",
    "ax2[0].plot(history.history['precision'])\n",
    "ax2[1].plot(history.history['recall'])\n",
    "plt.show()"
   ]
  },
  {
   "cell_type": "code",
   "execution_count": null,
   "metadata": {},
   "outputs": [],
   "source": []
  },
  {
   "cell_type": "code",
   "execution_count": null,
   "metadata": {},
   "outputs": [],
   "source": []
  }
 ],
 "metadata": {
  "kernelspec": {
   "display_name": "Python 3",
   "language": "python",
   "name": "python3"
  },
  "language_info": {
   "codemirror_mode": {
    "name": "ipython",
    "version": 3
   },
   "file_extension": ".py",
   "mimetype": "text/x-python",
   "name": "python",
   "nbconvert_exporter": "python",
   "pygments_lexer": "ipython3",
   "version": "3.6.6"
  }
 },
 "nbformat": 4,
 "nbformat_minor": 4
}
