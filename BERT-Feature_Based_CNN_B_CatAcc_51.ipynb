{
 "cells": [
  {
   "cell_type": "markdown",
   "metadata": {},
   "source": [
    "<h1>Transfer Learning with BERT</h1>"
   ]
  },
  {
   "cell_type": "code",
   "execution_count": 51,
   "metadata": {},
   "outputs": [
    {
     "name": "stdout",
     "output_type": "stream",
     "text": [
      "Libraries loaded\n"
     ]
    }
   ],
   "source": [
    "# References\n",
    "# https://colab.research.google.com/drive/1IubZ3T7gqD09ZIVmJapiB5MXUnVGlzwH#scrollTo=7LbVjtktg3Ln\n",
    "# https://medium.com/analytics-vidhya/bert-in-keras-tensorflow-2-0-using-tfhub-huggingface-81c08c5f81d8\n",
    "# https://medium.com/@brn.pistone/bert-fine-tuning-for-tensorflow-2-0-with-keras-api-9913fc1348f6\n",
    "\n",
    "# https://www.aclweb.org/anthology/W18-4407.pdf\n",
    "# https://www.aclweb.org/anthology/W18-4408.pdf\n",
    "\n",
    "# Requirements\n",
    "# pip install sentencepiece\n",
    "# pip install tensorflow_hub\n",
    "# pip install tensorflow\n",
    "# pip install bert-for-tf2\n",
    "# pip install transformers\n",
    "\n",
    "from sklearn.preprocessing import OneHotEncoder\n",
    "from sklearn.preprocessing import LabelEncoder\n",
    "from sklearn.model_selection import train_test_split\n",
    "import matplotlib.pyplot as plt\n",
    "import pandas as pd\n",
    "import tensorflow as tf\n",
    "import tensorflow_hub as hub\n",
    "import bert\n",
    "import os\n",
    "import numpy as np\n",
    "import random\n",
    "import re\n",
    "from datetime import datetime\n",
    "from tensorflow.keras.layers import Conv1D, Dense, Flatten, Dropout,Embedding, LSTM, Bidirectional, Input, Dropout, GlobalAveragePooling1D, AveragePooling1D\n",
    "from tensorflow.keras import Sequential\n",
    "from tensorflow.keras.models import Model\n",
    "from tensorflow.keras.preprocessing import sequence\n",
    "import bert\n",
    "from bert import bert_tokenization \n",
    "\n",
    "print('Libraries loaded')\n"
   ]
  },
  {
   "cell_type": "markdown",
   "metadata": {},
   "source": [
    "<h2>Settings</h2>"
   ]
  },
  {
   "cell_type": "code",
   "execution_count": 2,
   "metadata": {},
   "outputs": [
    {
     "name": "stdout",
     "output_type": "stream",
     "text": [
      "Settings set\n"
     ]
    }
   ],
   "source": [
    "CLASSES = ['CAG', 'NAG', 'OAG']\n",
    "MAX_LENGTH = 128\n",
    "TRAIN_MODEL = True\n",
    "RETRAIN_BERT = False\n",
    "TRAIN_SAMPLES = 0.8\n",
    "LOAD_MODEL_AND_PREDICT = True\n",
    "TEXT_TO_PREDICT = ['That is a well reasoned point',\n",
    "                   'This is happening in BJP ruled state. Shame on the adminstration']\n",
    "DATA_FILE = 'Data/agr_en_train.csv'\n",
    "print('Settings set')"
   ]
  },
  {
   "cell_type": "markdown",
   "metadata": {},
   "source": [
    "<h2>Load BERT Model from Tensorflow HUB</h2>"
   ]
  },
  {
   "cell_type": "code",
   "execution_count": 3,
   "metadata": {},
   "outputs": [
    {
     "name": "stdout",
     "output_type": "stream",
     "text": [
      "Model Loaded\n",
      "Tokenizer Created\n",
      "Sample Tokenizer Operations\n",
      "['this', 'is', 'a', 'sample', 'token', '##ing', 'operation', '.', 'it', 'spans', 'multiple', 'sentences']\n",
      "[2023, 2003, 1037, 7099, 19204, 2075, 3169, 1012, 2009, 14798, 3674, 11746]\n"
     ]
    }
   ],
   "source": [
    "bert_path = \"https://tfhub.dev/tensorflow/bert_en_uncased_L-12_H-768_A-12/1\"\n",
    "bert_layer = hub.KerasLayer(bert_path,trainable=True)\n",
    "print('Model Loaded')\n",
    "\n",
    "vocab_file1 = bert_layer.resolved_object.vocab_file.asset_path.numpy()\n",
    "tokenizer = bert.bert_tokenization.FullTokenizer(vocab_file1, do_lower_case=True)\n",
    "print('Tokenizer Created')\n",
    "\n",
    "print('Sample Tokenizer Operations')\n",
    "sample_x = tokenizer.tokenize('this is a sample tokening operation. It spans multiple sentences')\n",
    "sample_ids = tokenizer.convert_tokens_to_ids(sample_x)\n",
    "print(sample_x)\n",
    "print(sample_ids)"
   ]
  },
  {
   "cell_type": "markdown",
   "metadata": {},
   "source": [
    "<h2>Load Data and Explore</h2>\n",
    "<p>Want to make sure the target labels are well balanced. Also need to find the average length of the posts as the BERT model requires inputs up to a certain length</p>"
   ]
  },
  {
   "cell_type": "code",
   "execution_count": 47,
   "metadata": {},
   "outputs": [
    {
     "name": "stdout",
     "output_type": "stream",
     "text": [
      "Wordcount distribution\n"
     ]
    },
    {
     "data": {
      "image/png": "[encoded data removed]",
      "text/plain": [
       "<Figure size 432x288 with 1 Axes>"
      ]
     },
     "metadata": {
      "needs_background": "light"
     },
     "output_type": "display_data"
    },
    {
     "name": "stdout",
     "output_type": "stream",
     "text": [
      "Label distribution\n"
     ]
    },
    {
     "data": {
      "image/png": "[encoded data removed]",
      "text/plain": [
       "<Figure size 432x288 with 1 Axes>"
      ]
     },
     "metadata": {
      "needs_background": "light"
     },
     "output_type": "display_data"
    },
    {
     "name": "stdout",
     "output_type": "stream",
     "text": [
      "English distribution\n"
     ]
    },
    {
     "data": {
      "image/png": "[encoded data removed]",
      "text/plain": [
       "<Figure size 432x288 with 1 Axes>"
      ]
     },
     "metadata": {
      "needs_background": "light"
     },
     "output_type": "display_data"
    },
    {
     "name": "stdout",
     "output_type": "stream",
     "text": [
      "                                                   Text Indicator  Length  \\\n",
      "41                   modi ji all the pain  nö real gain       CAG       9   \n",
      "314   yàar my ears are bleeding stop this  get the b...       CAG      13   \n",
      "813            रजनथ सह फर कहग क हम ननद करत ह डब मर सरकर       CAG      12   \n",
      "830    bot powered by prince fadii  just now done  i...       NAG      61   \n",
      "1107   bot powered by ishaq zada  see my bot speed  ...       NAG      66   \n",
      "1441       live  nse स pehlakadam season 2 grand finale       NAG       9   \n",
      "1462  what you should know about turkeys president r...       NAG     297   \n",
      "1621   bot powered by prince fadii  see my bot speed...       NAG      62   \n",
      "1704  a question of order india turkey and the retur...       CAG     106   \n",
      "1719  अर कछ त कर खल हजड क तरह तल बजत रहन स कछ नह हग ...       OAG      25   \n",
      "\n",
      "      isEnglish  \n",
      "41        False  \n",
      "314       False  \n",
      "813       False  \n",
      "830       False  \n",
      "1107      False  \n",
      "1441      False  \n",
      "1462      False  \n",
      "1621      False  \n",
      "1704      False  \n",
      "1719      False  \n"
     ]
    }
   ],
   "source": [
    "def remove_URL(s):\n",
    "    \"\"\"Remove URLs from a sample string\"\"\"\n",
    "    return re.sub(r\"http\\S+\", \"\", s)\n",
    "\n",
    "def remove_punctuation(s):\n",
    "    return re.sub(r'[^\\w\\s]', '', s)\n",
    "    \n",
    "def remove_Emoji(s):\n",
    "    emoji_pattern = re.compile(\"[\"\n",
    "        u\"\\U0001F600-\\U0001F64F\"  # emoticons\n",
    "        u\"\\U0001F300-\\U0001F5FF\"  # symbols & pictographs\n",
    "        u\"\\U0001F680-\\U0001F6FF\"  # transport & map symbols\n",
    "        u\"\\U0001F1E0-\\U0001F1FF\"  # flags (iOS)\n",
    "                           \"]+\", flags=re.UNICODE)\n",
    "    return emoji_pattern.sub(r'', s)\n",
    "\n",
    "def replace_chars(Data):\n",
    "    Data['Text'] = Data['Text'].str.replace('\\n',' ')\n",
    "    Data['Text'] = Data['Text'].str.replace('  ',' ')\n",
    "    Data['Text'] = Data['Text'].str.strip()\n",
    "    Data['Text'] = Data['Text'].str.lower()\n",
    "    Data['Text'] = Data['Text'].str.replace('pls','please')\n",
    "    Data['Text'] = Data['Text'].str.replace('plz','please')\n",
    "    Data['Text'] = Data['Text'].str.replace(' u ',' you ')\n",
    "    Data['Text'] = Data['Text'].str.replace(' ur ',' your ')\n",
    "    Data['Text'] = Data['Text'].str.replace(' vs ',' versus ')\n",
    "    Data['Text'] = Data['Text'].str.replace(' tks ',' thanks ')\n",
    "    Data['Text'] = Data['Text'].str.replace(' tkz ',' thanks ')\n",
    "    Data['Text'] = Data['Text'].str.replace(' cud ',' could ')\n",
    "    Data['Text'] = Data['Text'].str.replace(' b ',' be ')\n",
    "    Data['Text'] = Data['Text'].str.replace(' r ',' are ')\n",
    "    Data['Text'] = Data['Text'].str.replace(' gonna ',' going to ')\n",
    "    Data['Text'] = Data['Text'].str.replace(' y ',' why ')\n",
    "    Data['Text'] = Data['Text'].str.replace('bn ',' billion ')\n",
    "    Data['Text'] = Data['Text'].str.replace('tn ',' trillion ')\n",
    "    Data['Text'] = Data['Text'].str.replace('£',' pounds ')\n",
    "    Data['Text'] = Data['Text'].str.replace('$',' dollars ')\n",
    "    return Data\n",
    "\n",
    "def isEnglish(s):\n",
    "    try:\n",
    "        s.encode(encoding='utf-8').decode('ascii')\n",
    "    except UnicodeDecodeError:\n",
    "        return False\n",
    "    else:\n",
    "        return True\n",
    "\n",
    "def create_data_frame():\n",
    "    data = pd.read_csv(DATA_FILE)\n",
    "    data.columns = ['ID','Text','Indicator']\n",
    "    data.drop(['ID'], axis='columns', inplace = True)\n",
    "    \n",
    "    data = replace_chars(data)\n",
    "    data['Text'] = data['Text'].apply(remove_Emoji)\n",
    "    data['Text'] = data['Text'].apply(remove_URL)\n",
    "    data['Text'] = data['Text'].apply(remove_punctuation)\n",
    "    data['Length'] = data['Text'].str.split(' ').apply(len)\n",
    "    data['isEnglish'] = data['Text'].apply(isEnglish)\n",
    "    return data\n",
    "\n",
    "data = create_data_frame()\n",
    "print('Wordcount distribution')\n",
    "data['Length'].hist(bins=30)\n",
    "plt.show()\n",
    "print('Label distribution')\n",
    "data['Indicator'].value_counts().plot(kind='bar')\n",
    "plt.show()\n",
    "print('English distribution')\n",
    "data['isEnglish'].value_counts().plot(kind='bar')\n",
    "plt.show()\n",
    "print(data[data['isEnglish']==False][0:10])\n"
   ]
  },
  {
   "cell_type": "markdown",
   "metadata": {},
   "source": [
    "<p>The target labels aren't balanced and the length of the text in the samples is quite skewed. Both properties could affect the training of a classifier, also feature-based transfer learning using BERT can cope with far fewer samples, so at this point some samples will be filtered out to improve the quality of the set."
   ]
  },
  {
   "cell_type": "code",
   "execution_count": 48,
   "metadata": {},
   "outputs": [
    {
     "data": {
      "image/png": "[encoded data removed]",
      "text/plain": [
       "<Figure size 432x288 with 1 Axes>"
      ]
     },
     "metadata": {
      "needs_background": "light"
     },
     "output_type": "display_data"
    },
    {
     "data": {
      "image/png": "[encoded data removed]",
      "text/plain": [
       "<Figure size 432x288 with 1 Axes>"
      ]
     },
     "metadata": {
      "needs_background": "light"
     },
     "output_type": "display_data"
    },
    {
     "name": "stdout",
     "output_type": "stream",
     "text": [
      "New dataset length 7944\n"
     ]
    }
   ],
   "source": [
    "def remove_too_long_samples(data):\n",
    "    return data[data['Length']<=MAX_LENGTH]\n",
    "\n",
    "def balance_samples_for_labels(data):\n",
    "    oags = data[data['Indicator']=='OAG']\n",
    "    length = len(oags.index)\n",
    "    cags = data[data['Indicator']=='CAG'].sample(n=length,random_state=42)\n",
    "    nags = data[data['Indicator']=='NAG'].sample(n=length,random_state=42)\n",
    "    all_stuff = pd.concat([oags,cags,nags])\n",
    "    \n",
    "    #shuffle dataset\n",
    "    return all_stuff.sample(n=len(all_stuff.index), random_state=42)\n",
    "    \n",
    "data = remove_too_long_samples(data)\n",
    "data['Length'].hist(bins=30)\n",
    "plt.show()\n",
    "data = balance_samples_for_labels(data)\n",
    "data['Indicator'].value_counts().plot(kind='bar')\n",
    "plt.show()\n",
    "print('New dataset length %s' % len(data.index))\n"
   ]
  },
  {
   "cell_type": "markdown",
   "metadata": {},
   "source": [
    "<h2>Data Processing</h2>\n",
    "<p>The Bert model loaded from TF Hub expects input data in a particular format. For every text sample, three arrays are created: most importantly the sample is tokenised and then converted to Ids using BERTs tokenizer dictionary. An input mask array and sentence location (not used for classification) array are also created."
   ]
  },
  {
   "cell_type": "code",
   "execution_count": 49,
   "metadata": {},
   "outputs": [
    {
     "name": "stdout",
     "output_type": "stream",
     "text": [
      "Training data loaded\n",
      "[<tf.Tensor: shape=(6355, 128), dtype=int32, numpy=\n",
      "array([[  101,  2821,  2061, ...,     0,     0,     0],\n",
      "       [  101, 12264,   102, ...,     0,     0,     0],\n",
      "       [  101,  6522,  2860, ...,     0,     0,     0],\n",
      "       ...,\n",
      "       [  101,  2079,  1996, ...,     0,     0,     0],\n",
      "       [  101,  2023,  7221, ...,     0,     0,     0],\n",
      "       [  101,  1037,  5160, ...,     0,     0,     0]])>, <tf.Tensor: shape=(6355, 128), dtype=int32, numpy=\n",
      "array([[0, 0, 0, ..., 0, 0, 0],\n",
      "       [0, 0, 0, ..., 0, 0, 0],\n",
      "       [0, 0, 0, ..., 0, 0, 0],\n",
      "       ...,\n",
      "       [0, 0, 0, ..., 0, 0, 0],\n",
      "       [0, 0, 0, ..., 0, 0, 0],\n",
      "       [0, 0, 0, ..., 0, 0, 0]])>, <tf.Tensor: shape=(6355, 128), dtype=int32, numpy=\n",
      "array([[1, 1, 1, ..., 0, 0, 0],\n",
      "       [1, 1, 1, ..., 0, 0, 0],\n",
      "       [1, 1, 1, ..., 0, 0, 0],\n",
      "       ...,\n",
      "       [1, 1, 1, ..., 0, 0, 0],\n",
      "       [1, 1, 1, ..., 0, 0, 0],\n",
      "       [1, 1, 1, ..., 0, 0, 0]])>]\n",
      "[[0. 0. 1.]\n",
      " [0. 0. 1.]\n",
      " [0. 1. 0.]\n",
      " [0. 0. 1.]\n",
      " [1. 0. 0.]\n",
      " [0. 0. 1.]\n",
      " [0. 0. 1.]\n",
      " [1. 0. 0.]\n",
      " [0. 1. 0.]\n",
      " [0. 1. 0.]]\n"
     ]
    }
   ],
   "source": [
    "def Bertify(Set):\n",
    "    \n",
    "    tokens = map(tokenizer.tokenize, Set)\n",
    "    tokens = map(lambda tok: tok[:MAX_LENGTH-2], tokens)\n",
    "    tokens = map(lambda tok: [\"[CLS]\"] + tok + [\"[SEP]\"], tokens)\n",
    "    \n",
    "    token_ids = map(tokenizer.convert_tokens_to_ids, tokens)\n",
    "    token_ids = map(lambda tids: tids + [0] * (MAX_LENGTH - len(tids)), token_ids)\n",
    "    # token_ids = map(lambda tids: np.array(tids), token_ids)\n",
    "    token_ids = list(token_ids)\n",
    "    token_masks =[]\n",
    "    sent_segs = []\n",
    "    for token_list in token_ids:\n",
    "        token_masks.append([1 if x > 0 else 0 for x in token_list])\n",
    "        sent_segs.append([0 for x in token_list])    \n",
    "    return  [tf.cast(token_ids,tf.int32), tf.cast(sent_segs,tf.int32), tf.cast(token_masks,tf.int32)]\n",
    "\n",
    "def preprocess_data(data): \n",
    "    #One hot encoding\n",
    "    label_encoder = LabelEncoder()\n",
    "    label_encoder = label_encoder.fit(CLASSES)\n",
    "    label_ints = label_encoder.transform(data.values[:,1])\n",
    "    label_ints = label_ints.reshape(len(label_ints), 1)\n",
    "    onehot_encoder = OneHotEncoder(sparse=False, categories='auto')\n",
    "    label_onehot = onehot_encoder.fit_transform(label_ints)\n",
    "    \n",
    "    #Split to training and test\n",
    "    train_len = int(len(data.index) * TRAIN_SAMPLES)\n",
    "    \n",
    "    train_set = data.values[:train_len,0]\n",
    "    train_features = Bertify(train_set)\n",
    "    train_labels = np.array(label_onehot[:train_len,:])\n",
    "    \n",
    "    test_set = data.values[train_len:,0]\n",
    "    test_features = Bertify(test_set)\n",
    "    test_labels = np.array(label_onehot[train_len:,:])\n",
    "    \n",
    "    return train_features, train_labels, test_features, test_labels\n",
    "\n",
    "if TRAIN_MODEL:\n",
    "    train_tokens, train_labels, test_tokens, test_labels = preprocess_data(data)\n",
    "    print('Training data loaded')\n",
    "    print(train_tokens[0:10])\n",
    "    print(train_labels[0:10])\n",
    "else:\n",
    "    print('Training data not loaded')"
   ]
  },
  {
   "cell_type": "markdown",
   "metadata": {},
   "source": [
    "<h2>Model Definition</h2>"
   ]
  },
  {
   "cell_type": "code",
   "execution_count": 76,
   "metadata": {},
   "outputs": [
    {
     "name": "stdout",
     "output_type": "stream",
     "text": [
      "Model: \"model_9\"\n",
      "__________________________________________________________________________________________________\n",
      "Layer (type)                    Output Shape         Param #     Connected to                     \n",
      "==================================================================================================\n",
      "input_token_ids (InputLayer)    [(None, 128)]        0                                            \n",
      "__________________________________________________________________________________________________\n",
      "input_token_masks (InputLayer)  [(None, 128)]        0                                            \n",
      "__________________________________________________________________________________________________\n",
      "input_sent_segms (InputLayer)   [(None, 128)]        0                                            \n",
      "__________________________________________________________________________________________________\n",
      "keras_layer (KerasLayer)        [(None, 768), (None, 109482241   input_token_ids[0][0]            \n",
      "                                                                 input_token_masks[0][0]          \n",
      "                                                                 input_sent_segms[0][0]           \n",
      "__________________________________________________________________________________________________\n",
      "conv1d_26 (Conv1D)              (None, None, 128)    491648      keras_layer[18][1]               \n",
      "__________________________________________________________________________________________________\n",
      "average_pooling1d_18 (AveragePo (None, None, 128)    0           conv1d_26[0][0]                  \n",
      "__________________________________________________________________________________________________\n",
      "conv1d_27 (Conv1D)              (None, None, 64)     41024       average_pooling1d_18[0][0]       \n",
      "__________________________________________________________________________________________________\n",
      "global_average_pooling1d_6 (Glo (None, 64)           0           conv1d_27[0][0]                  \n",
      "__________________________________________________________________________________________________\n",
      "dense_15 (Dense)                (None, 32)           2080        global_average_pooling1d_6[0][0] \n",
      "__________________________________________________________________________________________________\n",
      "dropout_14 (Dropout)            (None, 32)           0           dense_15[0][0]                   \n",
      "__________________________________________________________________________________________________\n",
      "dense_16 (Dense)                (None, 16)           528         dropout_14[0][0]                 \n",
      "__________________________________________________________________________________________________\n",
      "dropout_15 (Dropout)            (None, 16)           0           dense_16[0][0]                   \n",
      "__________________________________________________________________________________________________\n",
      "output (Dense)                  (None, 3)            51          dropout_15[0][0]                 \n",
      "==================================================================================================\n",
      "Total params: 110,017,572\n",
      "Trainable params: 535,331\n",
      "Non-trainable params: 109,482,241\n",
      "__________________________________________________________________________________________________\n",
      "None\n",
      "done\n"
     ]
    }
   ],
   "source": [
    "METRICS = [\n",
    "      tf.keras.metrics.CategoricalCrossentropy(name='categoricalcrossentropy'),\n",
    "      tf.keras.metrics.CategoricalAccuracy(name='categoricalaccuracy'),\n",
    "      tf.keras.metrics.Precision(name='precision'),\n",
    "      tf.keras.metrics.Recall(name='recall'),\n",
    "      tf.keras.metrics.AUC(name='auc'),\n",
    "]\n",
    "\n",
    "def build_model_fullyconnected():\n",
    "    \"\"\"add pretrained bert model as a keras layer\"\"\"\n",
    "    input_word_ids = Input((MAX_LENGTH,), dtype=tf.int32, name='input_token_ids')\n",
    "    input_masks = Input((MAX_LENGTH,), dtype=tf.int32, name='input_token_masks')\n",
    "    input_segments = Input((MAX_LENGTH,), dtype=tf.int32, name='input_sent_segms')\n",
    "    \n",
    "    if not RETRAIN_BERT:\n",
    "        bert_layer.trainable = False\n",
    "    \n",
    "    _, sout = bert_layer([input_word_ids, input_masks, input_segments])\n",
    "    # X = GlobalAveragePooling1D()(sout)\n",
    "    X = Conv1D(128, 5, activation='relu')(sout)\n",
    "    X = AveragePooling1D()(X)\n",
    "    X = Conv1D(64, 5, activation='relu')(X)\n",
    "    X = GlobalAveragePooling1D()(X)\n",
    "    X = Dense(32, activation='relu')(X) \n",
    "    X = Dropout(0.35)(X)\n",
    "    X = Dense(16, activation='relu')(X) \n",
    "    X = Dropout(0.35)(X)\n",
    "    output_= Dense(3, activation=tf.nn.softmax, name='output')(X)\n",
    "\n",
    "    #model = Model(input_,output_)\n",
    "    model = Model([input_word_ids, input_masks, input_segments],output_)\n",
    "    model.compile(optimizer = \"adam\",loss = \"categorical_crossentropy\",\n",
    "                    metrics = METRICS)\n",
    "    return model\n",
    "\n",
    "model = build_model_fullyconnected()\n",
    "print(model.summary())\n",
    "print('done')"
   ]
  },
  {
   "cell_type": "markdown",
   "metadata": {},
   "source": [
    "<h2>Model Training</h2>"
   ]
  },
  {
   "cell_type": "code",
   "execution_count": 77,
   "metadata": {},
   "outputs": [
    {
     "name": "stdout",
     "output_type": "stream",
     "text": [
      "Train on 6355 samples, validate on 1589 samples\n",
      "Epoch 1/100\n",
      "6355/6355 [==============================] - 105s 17ms/sample - loss: 1.1104 - categoricalcrossentropy: 1.1104 - categoricalaccuracy: 0.3382 - precision: 0.3054 - recall: 0.0098 - auc: 0.5053 - val_loss: 1.0984 - val_categoricalcrossentropy: 1.0984 - val_categoricalaccuracy: 0.3392 - val_precision: 0.0000e+00 - val_recall: 0.0000e+00 - val_auc: 0.5156\n",
      "Epoch 2/100\n",
      "3616/6355 [================>.............] - ETA: 34s - loss: 1.0980 - categoricalcrossentropy: 1.0980 - categoricalaccuracy: 0.3280 - precision: 0.5000 - recall: 0.0033 - auc: 0.4906\n",
      "Epoch 00002: saving model to Model\\bert_faq.ckpt\n",
      "6355/6355 [==============================] - 108s 17ms/sample - loss: 1.0988 - categoricalcrossentropy: 1.0988 - categoricalaccuracy: 0.3364 - precision: 0.4634 - recall: 0.0030 - auc: 0.4973 - val_loss: 1.0986 - val_categoricalcrossentropy: 1.0986 - val_categoricalaccuracy: 0.3379 - val_precision: 0.0000e+00 - val_recall: 0.0000e+00 - val_auc: 0.4939\n",
      "Epoch 3/100\n",
      "6355/6355 [==============================] - 100s 16ms/sample - loss: 1.0965 - categoricalcrossentropy: 1.0965 - categoricalaccuracy: 0.3531 - precision: 0.5106 - recall: 0.0076 - auc: 0.5174 - val_loss: 1.0954 - val_categoricalcrossentropy: 1.0954 - val_categoricalaccuracy: 0.3587 - val_precision: 1.0000 - val_recall: 6.2933e-04 - val_auc: 0.5282\n",
      "Epoch 4/100\n",
      " 928/6355 [===>..........................] - ETA: 1:08 - loss: 1.0925 - categoricalcrossentropy: 1.0925 - categoricalaccuracy: 0.3728 - precision: 0.6667 - recall: 0.0129 - auc: 0.5371\n",
      "Epoch 00004: saving model to Model\\bert_faq.ckpt\n",
      "6355/6355 [==============================] - 108s 17ms/sample - loss: 1.0855 - categoricalcrossentropy: 1.0855 - categoricalaccuracy: 0.3860 - precision: 0.5657 - recall: 0.0264 - auc: 0.5587 - val_loss: 1.0638 - val_categoricalcrossentropy: 1.0638 - val_categoricalaccuracy: 0.4336 - val_precision: 0.7231 - val_recall: 0.0296 - val_auc: 0.6285\n",
      "Epoch 5/100\n",
      "4576/6355 [====================>.........] - ETA: 22s - loss: 1.0585 - categoricalcrossentropy: 1.0585 - categoricalaccuracy: 0.4368 - precision: 0.6051 - recall: 0.0730 - auc: 0.6255\n",
      "Epoch 00005: saving model to Model\\bert_faq.ckpt\n",
      "6355/6355 [==============================] - 108s 17ms/sample - loss: 1.0525 - categoricalcrossentropy: 1.0525 - categoricalaccuracy: 0.4419 - precision: 0.6253 - recall: 0.0801 - auc: 0.6287 - val_loss: 1.0007 - val_categoricalcrossentropy: 1.0007 - val_categoricalaccuracy: 0.4745 - val_precision: 0.6556 - val_recall: 0.1869 - val_auc: 0.6871\n",
      "Epoch 6/100\n",
      "6355/6355 [==============================] - 100s 16ms/sample - loss: 0.9987 - categoricalcrossentropy: 0.9987 - categoricalaccuracy: 0.4891 - precision: 0.6637 - recall: 0.1863 - auc: 0.6855 - val_loss: 0.9858 - val_categoricalcrossentropy: 0.9858 - val_categoricalaccuracy: 0.5072 - val_precision: 0.7318 - val_recall: 0.1768 - val_auc: 0.7015\n",
      "Epoch 7/100\n",
      "1888/6355 [=======>......................] - ETA: 56s - loss: 0.9752 - categoricalcrossentropy: 0.9752 - categoricalaccuracy: 0.5122 - precision: 0.6957 - recall: 0.2203 - auc: 0.7088\n",
      "Epoch 00007: saving model to Model\\bert_faq.ckpt\n",
      "6355/6355 [==============================] - 108s 17ms/sample - loss: 0.9576 - categoricalcrossentropy: 0.9576 - categoricalaccuracy: 0.5201 - precision: 0.6918 - recall: 0.2395 - auc: 0.7191 - val_loss: 0.9953 - val_categoricalcrossentropy: 0.9953 - val_categoricalaccuracy: 0.4921 - val_precision: 0.6273 - val_recall: 0.2775 - val_auc: 0.6991\n",
      "Epoch 8/100\n",
      "5536/6355 [=========================>....] - ETA: 10s - loss: 0.9438 - categoricalcrossentropy: 0.9438 - categoricalaccuracy: 0.5332 - precision: 0.7025 - recall: 0.2513 - auc: 0.7323\n",
      "Epoch 00008: saving model to Model\\bert_faq.ckpt\n",
      "6355/6355 [==============================] - 108s 17ms/sample - loss: 0.9437 - categoricalcrossentropy: 0.9437 - categoricalaccuracy: 0.5349 - precision: 0.7001 - recall: 0.2527 - auc: 0.7324 - val_loss: 0.9571 - val_categoricalcrossentropy: 0.9571 - val_categoricalaccuracy: 0.5223 - val_precision: 0.6936 - val_recall: 0.2322 - val_auc: 0.7213\n",
      "Epoch 9/100\n",
      "6355/6355 [==============================] - 100s 16ms/sample - loss: 0.9222 - categoricalcrossentropy: 0.9222 - categoricalaccuracy: 0.5418 - precision: 0.7073 - recall: 0.2814 - auc: 0.7451 - val_loss: 0.9575 - val_categoricalcrossentropy: 0.9575 - val_categoricalaccuracy: 0.5261 - val_precision: 0.6896 - val_recall: 0.2335 - val_auc: 0.7214\n",
      "Epoch 10/100\n",
      "2848/6355 [============>.................] - ETA: 44s - loss: 0.8974 - categoricalcrossentropy: 0.8974 - categoricalaccuracy: 0.5657 - precision: 0.7282 - recall: 0.2907 - auc: 0.7619\n",
      "Epoch 00010: saving model to Model\\bert_faq.ckpt\n",
      "6355/6355 [==============================] - 108s 17ms/sample - loss: 0.9027 - categoricalcrossentropy: 0.9027 - categoricalaccuracy: 0.5624 - precision: 0.7231 - recall: 0.2902 - auc: 0.7587 - val_loss: 0.9569 - val_categoricalcrossentropy: 0.9569 - val_categoricalaccuracy: 0.5324 - val_precision: 0.6807 - val_recall: 0.2442 - val_auc: 0.7230\n",
      "Epoch 11/100\n",
      "6355/6355 [==============================] - 100s 16ms/sample - loss: 0.8783 - categoricalcrossentropy: 0.8783 - categoricalaccuracy: 0.5709 - precision: 0.7228 - recall: 0.3152 - auc: 0.7715 - val_loss: 0.9683 - val_categoricalcrossentropy: 0.9683 - val_categoricalaccuracy: 0.5267 - val_precision: 0.6582 - val_recall: 0.2775 - val_auc: 0.7220\n",
      "Epoch 12/100\n",
      " 160/6355 [..............................] - ETA: 1:18 - loss: 0.8420 - categoricalcrossentropy: 0.8420 - categoricalaccuracy: 0.5875 - precision: 0.7125 - recall: 0.3562 - auc: 0.7913\n",
      "Epoch 00012: saving model to Model\\bert_faq.ckpt\n",
      "6355/6355 [==============================] - 107s 17ms/sample - loss: 0.8553 - categoricalcrossentropy: 0.8553 - categoricalaccuracy: 0.5839 - precision: 0.7324 - recall: 0.3325 - auc: 0.7823 - val_loss: 0.9538 - val_categoricalcrossentropy: 0.9538 - val_categoricalaccuracy: 0.5154 - val_precision: 0.6905 - val_recall: 0.2555 - val_auc: 0.7210\n",
      "Epoch 13/100\n",
      "3808/6355 [================>.............] - ETA: 32s - loss: 0.8527 - categoricalcrossentropy: 0.8527 - categoricalaccuracy: 0.6011 - precision: 0.7501 - recall: 0.3414 - auc: 0.7937\n",
      "Epoch 00013: saving model to Model\\bert_faq.ckpt\n",
      "6355/6355 [==============================] - 108s 17ms/sample - loss: 0.8386 - categoricalcrossentropy: 0.8386 - categoricalaccuracy: 0.6068 - precision: 0.7536 - recall: 0.3596 - auc: 0.8003 - val_loss: 0.9963 - val_categoricalcrossentropy: 0.9963 - val_categoricalaccuracy: 0.5249 - val_precision: 0.6183 - val_recall: 0.2977 - val_auc: 0.7179\n",
      "Epoch 14/100\n",
      "6355/6355 [==============================] - 100s 16ms/sample - loss: 0.7853 - categoricalcrossentropy: 0.7853 - categoricalaccuracy: 0.6349 - precision: 0.7674 - recall: 0.3972 - auc: 0.8238 - val_loss: 1.0595 - val_categoricalcrossentropy: 1.0595 - val_categoricalaccuracy: 0.5293 - val_precision: 0.6012 - val_recall: 0.3065 - val_auc: 0.7160\n",
      "Epoch 15/100\n",
      "1120/6355 [====>.........................] - ETA: 1:06 - loss: 0.7635 - categoricalcrossentropy: 0.7635 - categoricalaccuracy: 0.6295 - precision: 0.7884 - recall: 0.3991 - auc: 0.8311\n",
      "Epoch 00015: saving model to Model\\bert_faq.ckpt\n",
      "6355/6355 [==============================] - 107s 17ms/sample - loss: 0.7508 - categoricalcrossentropy: 0.7508 - categoricalaccuracy: 0.6537 - precision: 0.7692 - recall: 0.4404 - auc: 0.8404 - val_loss: 1.1687 - val_categoricalcrossentropy: 1.1687 - val_categoricalaccuracy: 0.5072 - val_precision: 0.5748 - val_recall: 0.3480 - val_auc: 0.7052\n",
      "Epoch 16/100\n",
      "4768/6355 [=====================>........] - ETA: 20s - loss: 0.7008 - categoricalcrossentropy: 0.7008 - categoricalaccuracy: 0.6854 - precision: 0.7631 - recall: 0.5134 - auc: 0.8627\n",
      "Epoch 00016: saving model to Model\\bert_faq.ckpt\n",
      "6355/6355 [==============================] - 108s 17ms/sample - loss: 0.7078 - categoricalcrossentropy: 0.7078 - categoricalaccuracy: 0.6831 - precision: 0.7574 - recall: 0.5179 - auc: 0.8603 - val_loss: 1.1292 - val_categoricalcrossentropy: 1.1292 - val_categoricalaccuracy: 0.5110 - val_precision: 0.5368 - val_recall: 0.4317 - val_auc: 0.7060\n",
      "Epoch 17/100\n"
     ]
    },
    {
     "name": "stdout",
     "output_type": "stream",
     "text": [
      "6355/6355 [==============================] - 100s 16ms/sample - loss: 0.6755 - categoricalcrossentropy: 0.6755 - categoricalaccuracy: 0.7018 - precision: 0.7534 - recall: 0.5862 - auc: 0.8743 - val_loss: 1.2852 - val_categoricalcrossentropy: 1.2852 - val_categoricalaccuracy: 0.4947 - val_precision: 0.5101 - val_recall: 0.4449 - val_auc: 0.6912\n",
      "Epoch 18/100\n",
      "2080/6355 [========>.....................] - ETA: 53s - loss: 0.6099 - categoricalcrossentropy: 0.6099 - categoricalaccuracy: 0.7341 - precision: 0.7788 - recall: 0.6346 - auc: 0.8978\n",
      "Epoch 00018: saving model to Model\\bert_faq.ckpt\n",
      "6355/6355 [==============================] - 107s 17ms/sample - loss: 0.6138 - categoricalcrossentropy: 0.6138 - categoricalaccuracy: 0.7304 - precision: 0.7676 - recall: 0.6480 - auc: 0.8954 - val_loss: 1.3037 - val_categoricalcrossentropy: 1.3037 - val_categoricalaccuracy: 0.4896 - val_precision: 0.4990 - val_recall: 0.4613 - val_auc: 0.6824\n",
      "Epoch 19/100\n",
      "5728/6355 [==========================>...] - ETA: 7s - loss: 0.5675 - categoricalcrossentropy: 0.5675 - categoricalaccuracy: 0.7587 - precision: 0.7793 - recall: 0.7015 - auc: 0.9099\n",
      "Epoch 00019: saving model to Model\\bert_faq.ckpt\n",
      "6355/6355 [==============================] - 108s 17ms/sample - loss: 0.5668 - categoricalcrossentropy: 0.5668 - categoricalaccuracy: 0.7605 - precision: 0.7804 - recall: 0.7053 - auc: 0.9105 - val_loss: 1.4311 - val_categoricalcrossentropy: 1.4311 - val_categoricalaccuracy: 0.5009 - val_precision: 0.5076 - val_recall: 0.4827 - val_auc: 0.6928\n",
      "Epoch 20/100\n",
      "6355/6355 [==============================] - 100s 16ms/sample - loss: 0.5237 - categoricalcrossentropy: 0.5237 - categoricalaccuracy: 0.7884 - precision: 0.8014 - recall: 0.7556 - auc: 0.9261 - val_loss: 1.7290 - val_categoricalcrossentropy: 1.7290 - val_categoricalaccuracy: 0.5053 - val_precision: 0.5097 - val_recall: 0.4972 - val_auc: 0.6917\n",
      "Epoch 21/100\n",
      "3040/6355 [=============>................] - ETA: 41s - loss: 0.4668 - categoricalcrossentropy: 0.4668 - categoricalaccuracy: 0.8128 - precision: 0.8264 - recall: 0.7908 - auc: 0.9403\n",
      "Epoch 00021: saving model to Model\\bert_faq.ckpt\n",
      "6355/6355 [==============================] - 107s 17ms/sample - loss: 0.4728 - categoricalcrossentropy: 0.4728 - categoricalaccuracy: 0.8065 - precision: 0.8187 - recall: 0.7865 - auc: 0.9384 - val_loss: 1.6779 - val_categoricalcrossentropy: 1.6779 - val_categoricalaccuracy: 0.5192 - val_precision: 0.5208 - val_recall: 0.5116 - val_auc: 0.7003\n",
      "Epoch 22/100\n",
      "6355/6355 [==============================] - 100s 16ms/sample - loss: 0.4183 - categoricalcrossentropy: 0.4183 - categoricalaccuracy: 0.8455 - precision: 0.8529 - recall: 0.8330 - auc: 0.9531 - val_loss: 1.9344 - val_categoricalcrossentropy: 1.9344 - val_categoricalaccuracy: 0.5154 - val_precision: 0.5171 - val_recall: 0.5129 - val_auc: 0.6944\n",
      "Epoch 23/100\n",
      " 352/6355 [>.............................] - ETA: 1:15 - loss: 0.3117 - categoricalcrossentropy: 0.3117 - categoricalaccuracy: 0.8977 - precision: 0.8966 - recall: 0.8864 - auc: 0.9754\n",
      "Epoch 00023: saving model to Model\\bert_faq.ckpt\n",
      "6355/6355 [==============================] - 108s 17ms/sample - loss: 0.3663 - categoricalcrossentropy: 0.3663 - categoricalaccuracy: 0.8692 - precision: 0.8737 - recall: 0.8642 - auc: 0.9635 - val_loss: 2.2503 - val_categoricalcrossentropy: 2.2503 - val_categoricalaccuracy: 0.5016 - val_precision: 0.5016 - val_recall: 0.5003 - val_auc: 0.6827\n",
      "Epoch 24/100\n",
      "4000/6355 [=================>............] - ETA: 29s - loss: 0.3636 - categoricalcrossentropy: 0.3636 - categoricalaccuracy: 0.8717 - precision: 0.8754 - recall: 0.8677 - auc: 0.9631\n",
      "Epoch 00024: saving model to Model\\bert_faq.ckpt\n",
      "6355/6355 [==============================] - 107s 17ms/sample - loss: 0.3559 - categoricalcrossentropy: 0.3559 - categoricalaccuracy: 0.8743 - precision: 0.8774 - recall: 0.8691 - auc: 0.9645 - val_loss: 2.2518 - val_categoricalcrossentropy: 2.2518 - val_categoricalaccuracy: 0.4928 - val_precision: 0.4949 - val_recall: 0.4921 - val_auc: 0.6785\n",
      "Epoch 25/100\n",
      "6355/6355 [==============================] - 100s 16ms/sample - loss: 0.3179 - categoricalcrossentropy: 0.3179 - categoricalaccuracy: 0.8919 - precision: 0.8944 - recall: 0.8887 - auc: 0.9718 - val_loss: 2.2142 - val_categoricalcrossentropy: 2.2142 - val_categoricalaccuracy: 0.5009 - val_precision: 0.5003 - val_recall: 0.4984 - val_auc: 0.6865\n",
      "Epoch 26/100\n",
      "1312/6355 [=====>........................] - ETA: 1:03 - loss: 0.2602 - categoricalcrossentropy: 0.2602 - categoricalaccuracy: 0.9215 - precision: 0.9248 - recall: 0.9192 - auc: 0.9804\n",
      "Epoch 00026: saving model to Model\\bert_faq.ckpt\n",
      "6355/6355 [==============================] - 108s 17ms/sample - loss: 0.2953 - categoricalcrossentropy: 0.2953 - categoricalaccuracy: 0.9034 - precision: 0.9065 - recall: 0.9013 - auc: 0.9757 - val_loss: 2.2597 - val_categoricalcrossentropy: 2.2597 - val_categoricalaccuracy: 0.5053 - val_precision: 0.5054 - val_recall: 0.5028 - val_auc: 0.6897\n",
      "Epoch 27/100\n",
      "4960/6355 [======================>.......] - ETA: 17s - loss: 0.2625 - categoricalcrossentropy: 0.2625 - categoricalaccuracy: 0.9167 - precision: 0.9180 - recall: 0.9139 - auc: 0.9798\n",
      "Epoch 00027: saving model to Model\\bert_faq.ckpt\n",
      "6355/6355 [==============================] - 107s 17ms/sample - loss: 0.2668 - categoricalcrossentropy: 0.2668 - categoricalaccuracy: 0.9158 - precision: 0.9171 - recall: 0.9135 - auc: 0.9793 - val_loss: 2.7299 - val_categoricalcrossentropy: 2.7299 - val_categoricalaccuracy: 0.5022 - val_precision: 0.5028 - val_recall: 0.5016 - val_auc: 0.6826\n",
      "Epoch 28/100\n",
      "6355/6355 [==============================] - 100s 16ms/sample - loss: 0.2626 - categoricalcrossentropy: 0.2626 - categoricalaccuracy: 0.9175 - precision: 0.9188 - recall: 0.9153 - auc: 0.9799 - val_loss: 2.8193 - val_categoricalcrossentropy: 2.8193 - val_categoricalaccuracy: 0.5041 - val_precision: 0.5060 - val_recall: 0.5041 - val_auc: 0.6830\n",
      "Epoch 29/100\n",
      "2272/6355 [=========>....................] - ETA: 51s - loss: 0.2293 - categoricalcrossentropy: 0.2293 - categoricalaccuracy: 0.9313 - precision: 0.9320 - recall: 0.9291 - auc: 0.9838\n",
      "Epoch 00029: saving model to Model\\bert_faq.ckpt\n",
      "6355/6355 [==============================] - 108s 17ms/sample - loss: 0.2371 - categoricalcrossentropy: 0.2371 - categoricalaccuracy: 0.9273 - precision: 0.9283 - recall: 0.9256 - auc: 0.9829 - val_loss: 2.5790 - val_categoricalcrossentropy: 2.5790 - val_categoricalaccuracy: 0.4997 - val_precision: 0.5000 - val_recall: 0.4991 - val_auc: 0.6844\n",
      "Epoch 30/100\n",
      "5920/6355 [==========================>...] - ETA: 5s - loss: 0.1884 - categoricalcrossentropy: 0.1884 - categoricalaccuracy: 0.9461 - precision: 0.9464 - recall: 0.9459 - auc: 0.9889\n",
      "Epoch 00030: saving model to Model\\bert_faq.ckpt\n",
      "6355/6355 [==============================] - 107s 17ms/sample - loss: 0.1891 - categoricalcrossentropy: 0.1891 - categoricalaccuracy: 0.9452 - precision: 0.9455 - recall: 0.9451 - auc: 0.9889 - val_loss: 2.6993 - val_categoricalcrossentropy: 2.6993 - val_categoricalaccuracy: 0.5028 - val_precision: 0.5028 - val_recall: 0.5022 - val_auc: 0.6840\n",
      "Epoch 31/100\n",
      "6355/6355 [==============================] - 100s 16ms/sample - loss: 0.2040 - categoricalcrossentropy: 0.2040 - categoricalaccuracy: 0.9374 - precision: 0.9376 - recall: 0.9367 - auc: 0.9875 - val_loss: 3.2111 - val_categoricalcrossentropy: 3.2111 - val_categoricalaccuracy: 0.5135 - val_precision: 0.5139 - val_recall: 0.5135 - val_auc: 0.6824\n",
      "Epoch 32/100\n",
      "3232/6355 [==============>...............] - ETA: 39s - loss: 0.1598 - categoricalcrossentropy: 0.1598 - categoricalaccuracy: 0.9533 - precision: 0.9539 - recall: 0.9533 - auc: 0.9922\n",
      "Epoch 00032: saving model to Model\\bert_faq.ckpt\n",
      "6355/6355 [==============================] - 108s 17ms/sample - loss: 0.1640 - categoricalcrossentropy: 0.1640 - categoricalaccuracy: 0.9520 - precision: 0.9523 - recall: 0.9520 - auc: 0.9915 - val_loss: 3.2882 - val_categoricalcrossentropy: 3.2882 - val_categoricalaccuracy: 0.5028 - val_precision: 0.5028 - val_recall: 0.5028 - val_auc: 0.6733\n",
      "Epoch 33/100\n"
     ]
    },
    {
     "name": "stdout",
     "output_type": "stream",
     "text": [
      "6355/6355 [==============================] - 100s 16ms/sample - loss: 0.1623 - categoricalcrossentropy: 0.1623 - categoricalaccuracy: 0.9533 - precision: 0.9539 - recall: 0.9530 - auc: 0.9913 - val_loss: 3.1739 - val_categoricalcrossentropy: 3.1739 - val_categoricalaccuracy: 0.5035 - val_precision: 0.5038 - val_recall: 0.5035 - val_auc: 0.6800\n",
      "Epoch 34/100\n",
      " 544/6355 [=>............................] - ETA: 1:13 - loss: 0.1298 - categoricalcrossentropy: 0.1298 - categoricalaccuracy: 0.9614 - precision: 0.9614 - recall: 0.9614 - auc: 0.9953\n",
      "Epoch 00034: saving model to Model\\bert_faq.ckpt\n",
      "6355/6355 [==============================] - 107s 17ms/sample - loss: 0.1583 - categoricalcrossentropy: 0.1583 - categoricalaccuracy: 0.9539 - precision: 0.9543 - recall: 0.9534 - auc: 0.9922 - val_loss: 3.6143 - val_categoricalcrossentropy: 3.6143 - val_categoricalaccuracy: 0.5053 - val_precision: 0.5057 - val_recall: 0.5053 - val_auc: 0.6793\n",
      "Epoch 35/100\n",
      "4192/6355 [==================>...........] - ETA: 27s - loss: 0.2118 - categoricalcrossentropy: 0.2118 - categoricalaccuracy: 0.9392 - precision: 0.9396 - recall: 0.9385 - auc: 0.9863\n",
      "Epoch 00035: saving model to Model\\bert_faq.ckpt\n",
      "6355/6355 [==============================] - 108s 17ms/sample - loss: 0.2073 - categoricalcrossentropy: 0.2073 - categoricalaccuracy: 0.9389 - precision: 0.9395 - recall: 0.9385 - auc: 0.9866 - val_loss: 3.2236 - val_categoricalcrossentropy: 3.2236 - val_categoricalaccuracy: 0.5079 - val_precision: 0.5079 - val_recall: 0.5079 - val_auc: 0.6840\n",
      "Epoch 36/100\n",
      "6355/6355 [==============================] - 100s 16ms/sample - loss: 0.1427 - categoricalcrossentropy: 0.1427 - categoricalaccuracy: 0.9583 - precision: 0.9588 - recall: 0.9583 - auc: 0.9937 - val_loss: 3.7401 - val_categoricalcrossentropy: 3.7401 - val_categoricalaccuracy: 0.4997 - val_precision: 0.5000 - val_recall: 0.4997 - val_auc: 0.6768\n",
      "Epoch 37/100\n",
      "1504/6355 [======>.......................] - ETA: 1:01 - loss: 0.1212 - categoricalcrossentropy: 0.1212 - categoricalaccuracy: 0.9654 - precision: 0.9660 - recall: 0.9641 - auc: 0.9951\n",
      "Epoch 00037: saving model to Model\\bert_faq.ckpt\n",
      "6355/6355 [==============================] - 107s 17ms/sample - loss: 0.1359 - categoricalcrossentropy: 0.1359 - categoricalaccuracy: 0.9619 - precision: 0.9627 - recall: 0.9616 - auc: 0.9933 - val_loss: 3.7450 - val_categoricalcrossentropy: 3.7450 - val_categoricalaccuracy: 0.5091 - val_precision: 0.5091 - val_recall: 0.5091 - val_auc: 0.6850\n",
      "Epoch 38/100\n",
      "5152/6355 [=======================>......] - ETA: 15s - loss: 0.1758 - categoricalcrossentropy: 0.1758 - categoricalaccuracy: 0.9501 - precision: 0.9503 - recall: 0.9495 - auc: 0.9899\n",
      "Epoch 00038: saving model to Model\\bert_faq.ckpt\n",
      "6355/6355 [==============================] - 108s 17ms/sample - loss: 0.1777 - categoricalcrossentropy: 0.1777 - categoricalaccuracy: 0.9495 - precision: 0.9496 - recall: 0.9490 - auc: 0.9897 - val_loss: 3.6408 - val_categoricalcrossentropy: 3.6408 - val_categoricalaccuracy: 0.5003 - val_precision: 0.5009 - val_recall: 0.5003 - val_auc: 0.6782\n",
      "Epoch 39/100\n",
      "6355/6355 [==============================] - 100s 16ms/sample - loss: 0.1417 - categoricalcrossentropy: 0.1417 - categoricalaccuracy: 0.9588 - precision: 0.9589 - recall: 0.9586 - auc: 0.9929 - val_loss: 3.5770 - val_categoricalcrossentropy: 3.5770 - val_categoricalaccuracy: 0.4940 - val_precision: 0.4940 - val_recall: 0.4940 - val_auc: 0.6696\n",
      "Epoch 40/100\n",
      "2464/6355 [==========>...................] - ETA: 49s - loss: 0.1228 - categoricalcrossentropy: 0.1228 - categoricalaccuracy: 0.9647 - precision: 0.9651 - recall: 0.9647 - auc: 0.9946\n",
      "Epoch 00040: saving model to Model\\bert_faq.ckpt\n",
      "6355/6355 [==============================] - 107s 17ms/sample - loss: 0.1395 - categoricalcrossentropy: 0.1395 - categoricalaccuracy: 0.9583 - precision: 0.9586 - recall: 0.9583 - auc: 0.9935 - val_loss: 3.5669 - val_categoricalcrossentropy: 3.5669 - val_categoricalaccuracy: 0.4947 - val_precision: 0.4947 - val_recall: 0.4947 - val_auc: 0.6728\n",
      "Epoch 41/100\n",
      "6112/6355 [===========================>..] - ETA: 3s - loss: 0.1140 - categoricalcrossentropy: 0.1140 - categoricalaccuracy: 0.9704 - precision: 0.9707 - recall: 0.9702 - auc: 0.9947\n",
      "Epoch 00041: saving model to Model\\bert_faq.ckpt\n",
      "6355/6355 [==============================] - 107s 17ms/sample - loss: 0.1172 - categoricalcrossentropy: 0.1172 - categoricalaccuracy: 0.9688 - precision: 0.9691 - recall: 0.9687 - auc: 0.9945 - val_loss: 3.8158 - val_categoricalcrossentropy: 3.8158 - val_categoricalaccuracy: 0.5035 - val_precision: 0.5031 - val_recall: 0.5028 - val_auc: 0.6787\n",
      "Epoch 42/100\n",
      "6355/6355 [==============================] - 100s 16ms/sample - loss: 0.1141 - categoricalcrossentropy: 0.1141 - categoricalaccuracy: 0.9704 - precision: 0.9704 - recall: 0.9696 - auc: 0.9952 - val_loss: 4.3401 - val_categoricalcrossentropy: 4.3401 - val_categoricalaccuracy: 0.5009 - val_precision: 0.5009 - val_recall: 0.5009 - val_auc: 0.6747\n",
      "Epoch 43/100\n",
      "3424/6355 [===============>..............] - ETA: 36s - loss: 0.0869 - categoricalcrossentropy: 0.0869 - categoricalaccuracy: 0.9796 - precision: 0.9798 - recall: 0.9793 - auc: 0.9968\n",
      "Epoch 00043: saving model to Model\\bert_faq.ckpt\n",
      "6355/6355 [==============================] - 107s 17ms/sample - loss: 0.1091 - categoricalcrossentropy: 0.1091 - categoricalaccuracy: 0.9701 - precision: 0.9706 - recall: 0.9698 - auc: 0.9950 - val_loss: 4.7439 - val_categoricalcrossentropy: 4.7439 - val_categoricalaccuracy: 0.5110 - val_precision: 0.5110 - val_recall: 0.5110 - val_auc: 0.6804\n",
      "Epoch 44/100\n",
      "6355/6355 [==============================] - 100s 16ms/sample - loss: 0.1832 - categoricalcrossentropy: 0.1832 - categoricalaccuracy: 0.9463 - precision: 0.9463 - recall: 0.9462 - auc: 0.9896 - val_loss: 4.2991 - val_categoricalcrossentropy: 4.2991 - val_categoricalaccuracy: 0.5003 - val_precision: 0.5003 - val_recall: 0.5003 - val_auc: 0.6716\n",
      "Epoch 45/100\n",
      " 736/6355 [==>...........................] - ETA: 1:10 - loss: 0.1038 - categoricalcrossentropy: 0.1038 - categoricalaccuracy: 0.9688 - precision: 0.9688 - recall: 0.9688 - auc: 0.9968\n",
      "Epoch 00045: saving model to Model\\bert_faq.ckpt\n",
      "6355/6355 [==============================] - 108s 17ms/sample - loss: 0.1268 - categoricalcrossentropy: 0.1268 - categoricalaccuracy: 0.9670 - precision: 0.9669 - recall: 0.9665 - auc: 0.9944 - val_loss: 4.3588 - val_categoricalcrossentropy: 4.3588 - val_categoricalaccuracy: 0.5205 - val_precision: 0.5205 - val_recall: 0.5205 - val_auc: 0.6838\n",
      "Epoch 46/100\n",
      "4384/6355 [===================>..........] - ETA: 24s - loss: 0.0881 - categoricalcrossentropy: 0.0881 - categoricalaccuracy: 0.9765 - precision: 0.9767 - recall: 0.9756 - auc: 0.9971\n",
      "Epoch 00046: saving model to Model\\bert_faq.ckpt\n",
      "6355/6355 [==============================] - 107s 17ms/sample - loss: 0.1053 - categoricalcrossentropy: 0.1053 - categoricalaccuracy: 0.9706 - precision: 0.9709 - recall: 0.9699 - auc: 0.9957 - val_loss: 5.0928 - val_categoricalcrossentropy: 5.0928 - val_categoricalaccuracy: 0.5179 - val_precision: 0.5179 - val_recall: 0.5179 - val_auc: 0.6745\n",
      "Epoch 47/100\n",
      "6355/6355 [==============================] - 100s 16ms/sample - loss: 0.1156 - categoricalcrossentropy: 0.1156 - categoricalaccuracy: 0.9698 - precision: 0.9698 - recall: 0.9695 - auc: 0.9948 - val_loss: 4.4171 - val_categoricalcrossentropy: 4.4171 - val_categoricalaccuracy: 0.4846 - val_precision: 0.4855 - val_recall: 0.4846 - val_auc: 0.6582\n",
      "Epoch 48/100\n",
      "1696/6355 [=======>......................] - ETA: 58s - loss: 0.2295 - categoricalcrossentropy: 0.2295 - categoricalaccuracy: 0.9263 - precision: 0.9263 - recall: 0.9263 - auc: 0.9834\n",
      "Epoch 00048: saving model to Model\\bert_faq.ckpt\n",
      "6355/6355 [==============================] - 108s 17ms/sample - loss: 0.1445 - categoricalcrossentropy: 0.1445 - categoricalaccuracy: 0.9553 - precision: 0.9555 - recall: 0.9552 - auc: 0.9923 - val_loss: 4.3450 - val_categoricalcrossentropy: 4.3450 - val_categoricalaccuracy: 0.4884 - val_precision: 0.4887 - val_recall: 0.4884 - val_auc: 0.6685\n",
      "Epoch 49/100\n"
     ]
    },
    {
     "name": "stdout",
     "output_type": "stream",
     "text": [
      "5344/6355 [========================>.....] - ETA: 12s - loss: 0.0995 - categoricalcrossentropy: 0.0995 - categoricalaccuracy: 0.9740 - precision: 0.9743 - recall: 0.9736 - auc: 0.9959\n",
      "Epoch 00049: saving model to Model\\bert_faq.ckpt\n",
      "6355/6355 [==============================] - 107s 17ms/sample - loss: 0.0998 - categoricalcrossentropy: 0.0998 - categoricalaccuracy: 0.9740 - precision: 0.9743 - recall: 0.9737 - auc: 0.9958 - val_loss: 3.9910 - val_categoricalcrossentropy: 3.9910 - val_categoricalaccuracy: 0.5047 - val_precision: 0.5047 - val_recall: 0.5047 - val_auc: 0.6784\n",
      "Epoch 50/100\n",
      "6355/6355 [==============================] - 100s 16ms/sample - loss: 0.0766 - categoricalcrossentropy: 0.0766 - categoricalaccuracy: 0.9813 - precision: 0.9819 - recall: 0.9813 - auc: 0.9972 - val_loss: 5.3402 - val_categoricalcrossentropy: 5.3402 - val_categoricalaccuracy: 0.5060 - val_precision: 0.5060 - val_recall: 0.5060 - val_auc: 0.6742\n",
      "Epoch 51/100\n",
      "2656/6355 [===========>..................] - ETA: 46s - loss: 0.1211 - categoricalcrossentropy: 0.1211 - categoricalaccuracy: 0.9680 - precision: 0.9687 - recall: 0.9676 - auc: 0.9937\n",
      "Epoch 00051: saving model to Model\\bert_faq.ckpt\n",
      "6355/6355 [==============================] - 108s 17ms/sample - loss: 0.1126 - categoricalcrossentropy: 0.1126 - categoricalaccuracy: 0.9693 - precision: 0.9699 - recall: 0.9688 - auc: 0.9945 - val_loss: 4.4843 - val_categoricalcrossentropy: 4.4843 - val_categoricalaccuracy: 0.4896 - val_precision: 0.4896 - val_recall: 0.4890 - val_auc: 0.6707\n",
      "Epoch 52/100\n",
      "6304/6355 [============================>.] - ETA: 0s - loss: 0.0980 - categoricalcrossentropy: 0.0980 - categoricalaccuracy: 0.9734 - precision: 0.9738 - recall: 0.9732 - auc: 0.9961\n",
      "Epoch 00052: saving model to Model\\bert_faq.ckpt\n",
      "6355/6355 [==============================] - 107s 17ms/sample - loss: 0.0979 - categoricalcrossentropy: 0.0979 - categoricalaccuracy: 0.9732 - precision: 0.9737 - recall: 0.9731 - auc: 0.9961 - val_loss: 4.8056 - val_categoricalcrossentropy: 4.8056 - val_categoricalaccuracy: 0.4984 - val_precision: 0.4987 - val_recall: 0.4984 - val_auc: 0.6747\n",
      "Epoch 53/100\n",
      "6355/6355 [==============================] - 100s 16ms/sample - loss: 0.1042 - categoricalcrossentropy: 0.1042 - categoricalaccuracy: 0.9732 - precision: 0.9734 - recall: 0.9729 - auc: 0.9953 - val_loss: 4.4336 - val_categoricalcrossentropy: 4.4336 - val_categoricalaccuracy: 0.5110 - val_precision: 0.5110 - val_recall: 0.5110 - val_auc: 0.6745\n",
      "Epoch 54/100\n",
      "3616/6355 [================>.............] - ETA: 34s - loss: 0.0663 - categoricalcrossentropy: 0.0663 - categoricalaccuracy: 0.9856 - precision: 0.9856 - recall: 0.9853 - auc: 0.9981\n",
      "Epoch 00054: saving model to Model\\bert_faq.ckpt\n",
      "6355/6355 [==============================] - 108s 17ms/sample - loss: 0.0690 - categoricalcrossentropy: 0.0690 - categoricalaccuracy: 0.9832 - precision: 0.9833 - recall: 0.9830 - auc: 0.9979 - val_loss: 5.1153 - val_categoricalcrossentropy: 5.1153 - val_categoricalaccuracy: 0.5154 - val_precision: 0.5154 - val_recall: 0.5154 - val_auc: 0.6817\n",
      "Epoch 55/100\n",
      "6355/6355 [==============================] - 100s 16ms/sample - loss: 0.0822 - categoricalcrossentropy: 0.0822 - categoricalaccuracy: 0.9783 - precision: 0.9792 - recall: 0.9780 - auc: 0.9968 - val_loss: 4.8288 - val_categoricalcrossentropy: 4.8288 - val_categoricalaccuracy: 0.5028 - val_precision: 0.5028 - val_recall: 0.5028 - val_auc: 0.6669\n",
      "Epoch 56/100\n",
      " 928/6355 [===>..........................] - ETA: 1:08 - loss: 0.0733 - categoricalcrossentropy: 0.0733 - categoricalaccuracy: 0.9817 - precision: 0.9817 - recall: 0.9817 - auc: 0.9977\n",
      "Epoch 00056: saving model to Model\\bert_faq.ckpt\n",
      "6355/6355 [==============================] - 107s 17ms/sample - loss: 0.1190 - categoricalcrossentropy: 0.1190 - categoricalaccuracy: 0.9663 - precision: 0.9666 - recall: 0.9662 - auc: 0.9945 - val_loss: 3.9039 - val_categoricalcrossentropy: 3.9039 - val_categoricalaccuracy: 0.4991 - val_precision: 0.4997 - val_recall: 0.4991 - val_auc: 0.6672\n",
      "Epoch 57/100\n",
      "4576/6355 [====================>.........] - ETA: 22s - loss: 0.1555 - categoricalcrossentropy: 0.1555 - categoricalaccuracy: 0.9537 - precision: 0.9541 - recall: 0.9532 - auc: 0.9916\n",
      "Epoch 00057: saving model to Model\\bert_faq.ckpt\n",
      "6355/6355 [==============================] - 108s 17ms/sample - loss: 0.1403 - categoricalcrossentropy: 0.1403 - categoricalaccuracy: 0.9578 - precision: 0.9583 - recall: 0.9575 - auc: 0.9930 - val_loss: 4.6581 - val_categoricalcrossentropy: 4.6581 - val_categoricalaccuracy: 0.5116 - val_precision: 0.5120 - val_recall: 0.5116 - val_auc: 0.6720\n",
      "Epoch 58/100\n",
      "6355/6355 [==============================] - 100s 16ms/sample - loss: 0.0754 - categoricalcrossentropy: 0.0754 - categoricalaccuracy: 0.9797 - precision: 0.9802 - recall: 0.9791 - auc: 0.9976 - val_loss: 4.8929 - val_categoricalcrossentropy: 4.8929 - val_categoricalaccuracy: 0.5091 - val_precision: 0.5104 - val_recall: 0.5091 - val_auc: 0.6741\n",
      "Epoch 59/100\n",
      "1888/6355 [=======>......................] - ETA: 56s - loss: 0.0533 - categoricalcrossentropy: 0.0533 - categoricalaccuracy: 0.9852 - precision: 0.9857 - recall: 0.9852 - auc: 0.9987\n",
      "Epoch 00059: saving model to Model\\bert_faq.ckpt\n",
      "6355/6355 [==============================] - 107s 17ms/sample - loss: 0.0697 - categoricalcrossentropy: 0.0697 - categoricalaccuracy: 0.9827 - precision: 0.9832 - recall: 0.9825 - auc: 0.9971 - val_loss: 4.1799 - val_categoricalcrossentropy: 4.1799 - val_categoricalaccuracy: 0.5035 - val_precision: 0.5041 - val_recall: 0.5035 - val_auc: 0.6783\n",
      "Epoch 60/100\n",
      "5536/6355 [=========================>....] - ETA: 10s - loss: 0.0862 - categoricalcrossentropy: 0.0862 - categoricalaccuracy: 0.9780 - precision: 0.9781 - recall: 0.9772 - auc: 0.9965\n",
      "Epoch 00060: saving model to Model\\bert_faq.ckpt\n",
      "6355/6355 [==============================] - 107s 17ms/sample - loss: 0.0880 - categoricalcrossentropy: 0.0880 - categoricalaccuracy: 0.9781 - precision: 0.9784 - recall: 0.9775 - auc: 0.9964 - val_loss: 4.8201 - val_categoricalcrossentropy: 4.8201 - val_categoricalaccuracy: 0.5116 - val_precision: 0.5116 - val_recall: 0.5116 - val_auc: 0.6661\n",
      "Epoch 61/100\n",
      "6355/6355 [==============================] - 100s 16ms/sample - loss: 0.0733 - categoricalcrossentropy: 0.0733 - categoricalaccuracy: 0.9822 - precision: 0.9825 - recall: 0.9819 - auc: 0.9972 - val_loss: 4.6150 - val_categoricalcrossentropy: 4.6150 - val_categoricalaccuracy: 0.5104 - val_precision: 0.5107 - val_recall: 0.5104 - val_auc: 0.6717\n",
      "Epoch 62/100\n",
      "2848/6355 [============>.................] - ETA: 44s - loss: 0.0827 - categoricalcrossentropy: 0.0827 - categoricalaccuracy: 0.9761 - precision: 0.9761 - recall: 0.9758 - auc: 0.9972\n",
      "Epoch 00062: saving model to Model\\bert_faq.ckpt\n",
      "6355/6355 [==============================] - 107s 17ms/sample - loss: 0.0786 - categoricalcrossentropy: 0.0786 - categoricalaccuracy: 0.9770 - precision: 0.9776 - recall: 0.9766 - auc: 0.9975 - val_loss: 4.4274 - val_categoricalcrossentropy: 4.4274 - val_categoricalaccuracy: 0.4991 - val_precision: 0.4991 - val_recall: 0.4991 - val_auc: 0.6649\n",
      "Epoch 63/100\n",
      "6355/6355 [==============================] - 100s 16ms/sample - loss: 0.0721 - categoricalcrossentropy: 0.0721 - categoricalaccuracy: 0.9808 - precision: 0.9813 - recall: 0.9803 - auc: 0.9976 - val_loss: 4.8293 - val_categoricalcrossentropy: 4.8293 - val_categoricalaccuracy: 0.4953 - val_precision: 0.4953 - val_recall: 0.4953 - val_auc: 0.6617\n",
      "Epoch 64/100\n",
      " 160/6355 [..............................] - ETA: 1:18 - loss: 0.0331 - categoricalcrossentropy: 0.0331 - categoricalaccuracy: 0.9875 - precision: 0.9875 - recall: 0.9875 - auc: 0.9998\n",
      "Epoch 00064: saving model to Model\\bert_faq.ckpt\n",
      "6355/6355 [==============================] - 108s 17ms/sample - loss: 0.0950 - categoricalcrossentropy: 0.0950 - categoricalaccuracy: 0.9744 - precision: 0.9747 - recall: 0.9742 - auc: 0.9959 - val_loss: 5.2627 - val_categoricalcrossentropy: 5.2627 - val_categoricalaccuracy: 0.5047 - val_precision: 0.5044 - val_recall: 0.5035 - val_auc: 0.6641\n",
      "Epoch 65/100\n"
     ]
    },
    {
     "name": "stdout",
     "output_type": "stream",
     "text": [
      "3808/6355 [================>.............] - ETA: 32s - loss: 0.0658 - categoricalcrossentropy: 0.0658 - categoricalaccuracy: 0.9832 - precision: 0.9837 - recall: 0.9827 - auc: 0.9980\n",
      "Epoch 00065: saving model to Model\\bert_faq.ckpt\n",
      "6355/6355 [==============================] - 107s 17ms/sample - loss: 0.0659 - categoricalcrossentropy: 0.0659 - categoricalaccuracy: 0.9843 - precision: 0.9846 - recall: 0.9839 - auc: 0.9978 - val_loss: 5.5067 - val_categoricalcrossentropy: 5.5067 - val_categoricalaccuracy: 0.5028 - val_precision: 0.5028 - val_recall: 0.5028 - val_auc: 0.6581\n",
      "Epoch 66/100\n",
      "6355/6355 [==============================] - 100s 16ms/sample - loss: 0.0754 - categoricalcrossentropy: 0.0754 - categoricalaccuracy: 0.9770 - precision: 0.9773 - recall: 0.9770 - auc: 0.9976 - val_loss: 5.1411 - val_categoricalcrossentropy: 5.1411 - val_categoricalaccuracy: 0.4833 - val_precision: 0.4833 - val_recall: 0.4833 - val_auc: 0.6537\n",
      "Epoch 67/100\n",
      "1120/6355 [====>.........................] - ETA: 1:06 - loss: 0.0882 - categoricalcrossentropy: 0.0882 - categoricalaccuracy: 0.9723 - precision: 0.9723 - recall: 0.9714 - auc: 0.9969\n",
      "Epoch 00067: saving model to Model\\bert_faq.ckpt\n",
      "6355/6355 [==============================] - 108s 17ms/sample - loss: 0.0963 - categoricalcrossentropy: 0.0963 - categoricalaccuracy: 0.9712 - precision: 0.9716 - recall: 0.9704 - auc: 0.9962 - val_loss: 5.9963 - val_categoricalcrossentropy: 5.9963 - val_categoricalaccuracy: 0.4965 - val_precision: 0.4968 - val_recall: 0.4953 - val_auc: 0.6616\n",
      "Epoch 68/100\n",
      "4768/6355 [=====================>........] - ETA: 20s - loss: 0.0933 - categoricalcrossentropy: 0.0933 - categoricalaccuracy: 0.9748 - precision: 0.9750 - recall: 0.9746 - auc: 0.9958\n",
      "Epoch 00068: saving model to Model\\bert_faq.ckpt\n",
      "6355/6355 [==============================] - 107s 17ms/sample - loss: 0.0853 - categoricalcrossentropy: 0.0853 - categoricalaccuracy: 0.9766 - precision: 0.9769 - recall: 0.9764 - auc: 0.9965 - val_loss: 6.3503 - val_categoricalcrossentropy: 6.3503 - val_categoricalaccuracy: 0.5022 - val_precision: 0.5025 - val_recall: 0.5022 - val_auc: 0.6602\n",
      "Epoch 69/100\n",
      "6355/6355 [==============================] - 100s 16ms/sample - loss: 0.0925 - categoricalcrossentropy: 0.0925 - categoricalaccuracy: 0.9748 - precision: 0.9753 - recall: 0.9740 - auc: 0.9962 - val_loss: 4.5607 - val_categoricalcrossentropy: 4.5607 - val_categoricalaccuracy: 0.4884 - val_precision: 0.4890 - val_recall: 0.4884 - val_auc: 0.6646\n",
      "Epoch 70/100\n",
      "2080/6355 [========>.....................] - ETA: 53s - loss: 0.0498 - categoricalcrossentropy: 0.0498 - categoricalaccuracy: 0.9870 - precision: 0.9870 - recall: 0.9865 - auc: 0.9992\n",
      "Epoch 00070: saving model to Model\\bert_faq.ckpt\n",
      "6355/6355 [==============================] - 108s 17ms/sample - loss: 0.0726 - categoricalcrossentropy: 0.0726 - categoricalaccuracy: 0.9806 - precision: 0.9809 - recall: 0.9800 - auc: 0.9973 - val_loss: 5.0283 - val_categoricalcrossentropy: 5.0283 - val_categoricalaccuracy: 0.4884 - val_precision: 0.4880 - val_recall: 0.4877 - val_auc: 0.6670\n",
      "Epoch 71/100\n",
      "5728/6355 [==========================>...] - ETA: 7s - loss: 0.0770 - categoricalcrossentropy: 0.0770 - categoricalaccuracy: 0.9815 - precision: 0.9817 - recall: 0.9810 - auc: 0.9974\n",
      "Epoch 00071: saving model to Model\\bert_faq.ckpt\n",
      "6355/6355 [==============================] - 107s 17ms/sample - loss: 0.0796 - categoricalcrossentropy: 0.0796 - categoricalaccuracy: 0.9802 - precision: 0.9803 - recall: 0.9797 - auc: 0.9973 - val_loss: 5.7325 - val_categoricalcrossentropy: 5.7325 - val_categoricalaccuracy: 0.4984 - val_precision: 0.4994 - val_recall: 0.4984 - val_auc: 0.6563\n",
      "Epoch 72/100\n",
      "6355/6355 [==============================] - 100s 16ms/sample - loss: 0.0537 - categoricalcrossentropy: 0.0537 - categoricalaccuracy: 0.9855 - precision: 0.9860 - recall: 0.9855 - auc: 0.9983 - val_loss: 6.5197 - val_categoricalcrossentropy: 6.5197 - val_categoricalaccuracy: 0.4984 - val_precision: 0.4987 - val_recall: 0.4972 - val_auc: 0.6528\n",
      "Epoch 73/100\n",
      "3040/6355 [=============>................] - ETA: 41s - loss: 0.0505 - categoricalcrossentropy: 0.0505 - categoricalaccuracy: 0.9872 - precision: 0.9872 - recall: 0.9865 - auc: 0.9987\n",
      "Epoch 00073: saving model to Model\\bert_faq.ckpt\n",
      "6355/6355 [==============================] - 108s 17ms/sample - loss: 0.0561 - categoricalcrossentropy: 0.0561 - categoricalaccuracy: 0.9852 - precision: 0.9858 - recall: 0.9846 - auc: 0.9982 - val_loss: 6.0734 - val_categoricalcrossentropy: 6.0734 - val_categoricalaccuracy: 0.5022 - val_precision: 0.5019 - val_recall: 0.5016 - val_auc: 0.6610\n",
      "Epoch 74/100\n",
      "6355/6355 [==============================] - 100s 16ms/sample - loss: 0.0770 - categoricalcrossentropy: 0.0770 - categoricalaccuracy: 0.9800 - precision: 0.9811 - recall: 0.9795 - auc: 0.9974 - val_loss: 5.0034 - val_categoricalcrossentropy: 5.0034 - val_categoricalaccuracy: 0.4846 - val_precision: 0.4852 - val_recall: 0.4846 - val_auc: 0.6450\n",
      "Epoch 75/100\n",
      " 352/6355 [>.............................] - ETA: 1:15 - loss: 0.0700 - categoricalcrossentropy: 0.0700 - categoricalaccuracy: 0.9773 - precision: 0.9773 - recall: 0.9773 - auc: 0.9988\n",
      "Epoch 00075: saving model to Model\\bert_faq.ckpt\n",
      "6355/6355 [==============================] - 107s 17ms/sample - loss: 0.0570 - categoricalcrossentropy: 0.0570 - categoricalaccuracy: 0.9863 - precision: 0.9865 - recall: 0.9854 - auc: 0.9982 - val_loss: 5.8172 - val_categoricalcrossentropy: 5.8172 - val_categoricalaccuracy: 0.4884 - val_precision: 0.4883 - val_recall: 0.4877 - val_auc: 0.6445\n",
      "Epoch 76/100\n",
      "4000/6355 [=================>............] - ETA: 29s - loss: 0.0516 - categoricalcrossentropy: 0.0516 - categoricalaccuracy: 0.9845 - precision: 0.9850 - recall: 0.9843 - auc: 0.9984\n",
      "Epoch 00076: saving model to Model\\bert_faq.ckpt\n",
      "6355/6355 [==============================] - 108s 17ms/sample - loss: 0.0692 - categoricalcrossentropy: 0.0692 - categoricalaccuracy: 0.9789 - precision: 0.9792 - recall: 0.9786 - auc: 0.9976 - val_loss: 5.4325 - val_categoricalcrossentropy: 5.4325 - val_categoricalaccuracy: 0.4814 - val_precision: 0.4826 - val_recall: 0.4808 - val_auc: 0.6580\n",
      "Epoch 77/100\n",
      "6355/6355 [==============================] - 100s 16ms/sample - loss: 0.0924 - categoricalcrossentropy: 0.0924 - categoricalaccuracy: 0.9762 - precision: 0.9767 - recall: 0.9756 - auc: 0.9963 - val_loss: 5.2610 - val_categoricalcrossentropy: 5.2610 - val_categoricalaccuracy: 0.4915 - val_precision: 0.4921 - val_recall: 0.4902 - val_auc: 0.6659\n",
      "Epoch 78/100\n",
      "1312/6355 [=====>........................] - ETA: 1:03 - loss: 0.0473 - categoricalcrossentropy: 0.0473 - categoricalaccuracy: 0.9886 - precision: 0.9886 - recall: 0.9886 - auc: 0.9991\n",
      "Epoch 00078: saving model to Model\\bert_faq.ckpt\n",
      "6355/6355 [==============================] - 107s 17ms/sample - loss: 0.0601 - categoricalcrossentropy: 0.0601 - categoricalaccuracy: 0.9825 - precision: 0.9833 - recall: 0.9821 - auc: 0.9982 - val_loss: 5.2841 - val_categoricalcrossentropy: 5.2841 - val_categoricalaccuracy: 0.4827 - val_precision: 0.4827 - val_recall: 0.4821 - val_auc: 0.6520\n",
      "Epoch 79/100\n",
      "4960/6355 [======================>.......] - ETA: 17s - loss: 0.0633 - categoricalcrossentropy: 0.0633 - categoricalaccuracy: 0.9815 - precision: 0.9818 - recall: 0.9806 - auc: 0.9981\n",
      "Epoch 00079: saving model to Model\\bert_faq.ckpt\n",
      "6355/6355 [==============================] - 108s 17ms/sample - loss: 0.0601 - categoricalcrossentropy: 0.0601 - categoricalaccuracy: 0.9821 - precision: 0.9827 - recall: 0.9814 - auc: 0.9983 - val_loss: 6.1242 - val_categoricalcrossentropy: 6.1242 - val_categoricalaccuracy: 0.4953 - val_precision: 0.4959 - val_recall: 0.4953 - val_auc: 0.6510\n",
      "Epoch 80/100\n",
      "6355/6355 [==============================] - 100s 16ms/sample - loss: 0.0850 - categoricalcrossentropy: 0.0850 - categoricalaccuracy: 0.9732 - precision: 0.9740 - recall: 0.9725 - auc: 0.9971 - val_loss: 6.0541 - val_categoricalcrossentropy: 6.0541 - val_categoricalaccuracy: 0.5104 - val_precision: 0.5107 - val_recall: 0.5091 - val_auc: 0.6629\n",
      "Epoch 81/100\n"
     ]
    },
    {
     "name": "stdout",
     "output_type": "stream",
     "text": [
      "2272/6355 [=========>....................] - ETA: 51s - loss: 0.0635 - categoricalcrossentropy: 0.0635 - categoricalaccuracy: 0.9824 - precision: 0.9824 - recall: 0.9811 - auc: 0.9979\n",
      "Epoch 00081: saving model to Model\\bert_faq.ckpt\n",
      "6355/6355 [==============================] - 107s 17ms/sample - loss: 0.0648 - categoricalcrossentropy: 0.0648 - categoricalaccuracy: 0.9830 - precision: 0.9833 - recall: 0.9825 - auc: 0.9979 - val_loss: 5.1527 - val_categoricalcrossentropy: 5.1527 - val_categoricalaccuracy: 0.4877 - val_precision: 0.4874 - val_recall: 0.4871 - val_auc: 0.6565\n",
      "Epoch 82/100\n",
      "5920/6355 [==========================>...] - ETA: 5s - loss: 0.0564 - categoricalcrossentropy: 0.0564 - categoricalaccuracy: 0.9848 - precision: 0.9853 - recall: 0.9843 - auc: 0.9983\n",
      "Epoch 00082: saving model to Model\\bert_faq.ckpt\n",
      "6355/6355 [==============================] - 108s 17ms/sample - loss: 0.0578 - categoricalcrossentropy: 0.0578 - categoricalaccuracy: 0.9843 - precision: 0.9847 - recall: 0.9838 - auc: 0.9982 - val_loss: 6.0085 - val_categoricalcrossentropy: 6.0085 - val_categoricalaccuracy: 0.5016 - val_precision: 0.5009 - val_recall: 0.4991 - val_auc: 0.6635\n",
      "Epoch 83/100\n",
      "6355/6355 [==============================] - 100s 16ms/sample - loss: 0.0466 - categoricalcrossentropy: 0.0466 - categoricalaccuracy: 0.9868 - precision: 0.9869 - recall: 0.9865 - auc: 0.9989 - val_loss: 6.6164 - val_categoricalcrossentropy: 6.6164 - val_categoricalaccuracy: 0.4959 - val_precision: 0.4956 - val_recall: 0.4940 - val_auc: 0.6504\n",
      "Epoch 84/100\n",
      "3232/6355 [==============>...............] - ETA: 39s - loss: 0.0388 - categoricalcrossentropy: 0.0388 - categoricalaccuracy: 0.9886 - precision: 0.9892 - recall: 0.9873 - auc: 0.9995\n",
      "Epoch 00084: saving model to Model\\bert_faq.ckpt\n",
      "6355/6355 [==============================] - 107s 17ms/sample - loss: 0.0523 - categoricalcrossentropy: 0.0523 - categoricalaccuracy: 0.9852 - precision: 0.9855 - recall: 0.9844 - auc: 0.9986 - val_loss: 6.1291 - val_categoricalcrossentropy: 6.1291 - val_categoricalaccuracy: 0.4890 - val_precision: 0.4893 - val_recall: 0.4890 - val_auc: 0.6516\n",
      "Epoch 85/100\n",
      "6355/6355 [==============================] - 100s 16ms/sample - loss: 0.0428 - categoricalcrossentropy: 0.0428 - categoricalaccuracy: 0.9877 - precision: 0.9883 - recall: 0.9871 - auc: 0.9991 - val_loss: 7.5100 - val_categoricalcrossentropy: 7.5100 - val_categoricalaccuracy: 0.5009 - val_precision: 0.5022 - val_recall: 0.5003 - val_auc: 0.6529\n",
      "Epoch 86/100\n",
      " 544/6355 [=>............................] - ETA: 1:13 - loss: 0.0301 - categoricalcrossentropy: 0.0301 - categoricalaccuracy: 0.9926 - precision: 0.9945 - recall: 0.9926 - auc: 0.9989\n",
      "Epoch 00086: saving model to Model\\bert_faq.ckpt\n",
      "6355/6355 [==============================] - 108s 17ms/sample - loss: 0.0990 - categoricalcrossentropy: 0.0990 - categoricalaccuracy: 0.9734 - precision: 0.9745 - recall: 0.9726 - auc: 0.9959 - val_loss: 4.9634 - val_categoricalcrossentropy: 4.9634 - val_categoricalaccuracy: 0.4789 - val_precision: 0.4824 - val_recall: 0.4745 - val_auc: 0.6563\n",
      "Epoch 87/100\n",
      "4192/6355 [==================>...........] - ETA: 27s - loss: 0.0890 - categoricalcrossentropy: 0.0890 - categoricalaccuracy: 0.9721 - precision: 0.9742 - recall: 0.9709 - auc: 0.9970\n",
      "Epoch 00087: saving model to Model\\bert_faq.ckpt\n",
      "6355/6355 [==============================] - 107s 17ms/sample - loss: 0.0758 - categoricalcrossentropy: 0.0758 - categoricalaccuracy: 0.9761 - precision: 0.9779 - recall: 0.9747 - auc: 0.9978 - val_loss: 6.5531 - val_categoricalcrossentropy: 6.5531 - val_categoricalaccuracy: 0.4984 - val_precision: 0.4994 - val_recall: 0.4984 - val_auc: 0.6589\n",
      "Epoch 88/100\n",
      "6355/6355 [==============================] - 100s 16ms/sample - loss: 0.0665 - categoricalcrossentropy: 0.0665 - categoricalaccuracy: 0.9814 - precision: 0.9817 - recall: 0.9805 - auc: 0.9975 - val_loss: 5.9968 - val_categoricalcrossentropy: 5.9968 - val_categoricalaccuracy: 0.4984 - val_precision: 0.4981 - val_recall: 0.4978 - val_auc: 0.6559\n",
      "Epoch 89/100\n",
      "1504/6355 [======>.......................] - ETA: 1:01 - loss: 0.0447 - categoricalcrossentropy: 0.0447 - categoricalaccuracy: 0.9880 - precision: 0.9893 - recall: 0.9880 - auc: 0.9990\n",
      "Epoch 00089: saving model to Model\\bert_faq.ckpt\n",
      "6355/6355 [==============================] - 108s 17ms/sample - loss: 0.0838 - categoricalcrossentropy: 0.0838 - categoricalaccuracy: 0.9772 - precision: 0.9781 - recall: 0.9764 - auc: 0.9966 - val_loss: 4.8808 - val_categoricalcrossentropy: 4.8808 - val_categoricalaccuracy: 0.4928 - val_precision: 0.4937 - val_recall: 0.4909 - val_auc: 0.6636\n",
      "Epoch 90/100\n",
      "5152/6355 [=======================>......] - ETA: 15s - loss: 0.0900 - categoricalcrossentropy: 0.0900 - categoricalaccuracy: 0.9713 - precision: 0.9720 - recall: 0.9707 - auc: 0.9967\n",
      "Epoch 00090: saving model to Model\\bert_faq.ckpt\n",
      "6355/6355 [==============================] - 107s 17ms/sample - loss: 0.0862 - categoricalcrossentropy: 0.0862 - categoricalaccuracy: 0.9728 - precision: 0.9734 - recall: 0.9720 - auc: 0.9969 - val_loss: 6.0046 - val_categoricalcrossentropy: 6.0046 - val_categoricalaccuracy: 0.4896 - val_precision: 0.4918 - val_recall: 0.4884 - val_auc: 0.6646\n",
      "Epoch 91/100\n",
      "6355/6355 [==============================] - 100s 16ms/sample - loss: 0.0697 - categoricalcrossentropy: 0.0697 - categoricalaccuracy: 0.9813 - precision: 0.9823 - recall: 0.9806 - auc: 0.9982 - val_loss: 6.0710 - val_categoricalcrossentropy: 6.0710 - val_categoricalaccuracy: 0.4991 - val_precision: 0.5010 - val_recall: 0.4965 - val_auc: 0.6608\n",
      "Epoch 92/100\n",
      "2464/6355 [==========>...................] - ETA: 49s - loss: 0.1006 - categoricalcrossentropy: 0.1006 - categoricalaccuracy: 0.9732 - precision: 0.9740 - recall: 0.9720 - auc: 0.9968\n",
      "Epoch 00092: saving model to Model\\bert_faq.ckpt\n",
      "6355/6355 [==============================] - 108s 17ms/sample - loss: 0.0665 - categoricalcrossentropy: 0.0665 - categoricalaccuracy: 0.9794 - precision: 0.9803 - recall: 0.9783 - auc: 0.9983 - val_loss: 6.2791 - val_categoricalcrossentropy: 6.2791 - val_categoricalaccuracy: 0.5035 - val_precision: 0.5041 - val_recall: 0.5022 - val_auc: 0.6597\n",
      "Epoch 93/100\n",
      "6112/6355 [===========================>..] - ETA: 3s - loss: 0.0337 - categoricalcrossentropy: 0.0337 - categoricalaccuracy: 0.9912 - precision: 0.9918 - recall: 0.9908 - auc: 0.9994\n",
      "Epoch 00093: saving model to Model\\bert_faq.ckpt\n",
      "6355/6355 [==============================] - 107s 17ms/sample - loss: 0.0360 - categoricalcrossentropy: 0.0360 - categoricalaccuracy: 0.9907 - precision: 0.9913 - recall: 0.9904 - auc: 0.9992 - val_loss: 7.1874 - val_categoricalcrossentropy: 7.1874 - val_categoricalaccuracy: 0.4934 - val_precision: 0.4940 - val_recall: 0.4928 - val_auc: 0.6501\n",
      "Epoch 94/100\n",
      "6355/6355 [==============================] - 100s 16ms/sample - loss: 0.0467 - categoricalcrossentropy: 0.0467 - categoricalaccuracy: 0.9847 - precision: 0.9855 - recall: 0.9844 - auc: 0.9987 - val_loss: 6.5454 - val_categoricalcrossentropy: 6.5454 - val_categoricalaccuracy: 0.4884 - val_precision: 0.4874 - val_recall: 0.4858 - val_auc: 0.6493\n",
      "Epoch 95/100\n",
      "3424/6355 [===============>..............] - ETA: 36s - loss: 0.0611 - categoricalcrossentropy: 0.0611 - categoricalaccuracy: 0.9781 - precision: 0.9792 - recall: 0.9781 - auc: 0.9981\n",
      "Epoch 00095: saving model to Model\\bert_faq.ckpt\n",
      "6355/6355 [==============================] - 108s 17ms/sample - loss: 0.0645 - categoricalcrossentropy: 0.0645 - categoricalaccuracy: 0.9789 - precision: 0.9801 - recall: 0.9788 - auc: 0.9978 - val_loss: 6.1827 - val_categoricalcrossentropy: 6.1827 - val_categoricalaccuracy: 0.4909 - val_precision: 0.4909 - val_recall: 0.4896 - val_auc: 0.6601\n",
      "Epoch 96/100\n",
      "6355/6355 [==============================] - 100s 16ms/sample - loss: 0.0773 - categoricalcrossentropy: 0.0773 - categoricalaccuracy: 0.9777 - precision: 0.9787 - recall: 0.9764 - auc: 0.9971 - val_loss: 6.6216 - val_categoricalcrossentropy: 6.6216 - val_categoricalaccuracy: 0.5035 - val_precision: 0.5063 - val_recall: 0.5035 - val_auc: 0.6672\n",
      "Epoch 97/100\n"
     ]
    },
    {
     "name": "stdout",
     "output_type": "stream",
     "text": [
      " 736/6355 [==>...........................] - ETA: 1:10 - loss: 0.0372 - categoricalcrossentropy: 0.0372 - categoricalaccuracy: 0.9891 - precision: 0.9891 - recall: 0.9878 - auc: 0.9995\n",
      "Epoch 00097: saving model to Model\\bert_faq.ckpt\n",
      "6355/6355 [==============================] - 107s 17ms/sample - loss: 0.0735 - categoricalcrossentropy: 0.0735 - categoricalaccuracy: 0.9789 - precision: 0.9801 - recall: 0.9780 - auc: 0.9974 - val_loss: 6.7227 - val_categoricalcrossentropy: 6.7227 - val_categoricalaccuracy: 0.5041 - val_precision: 0.5051 - val_recall: 0.5016 - val_auc: 0.6668\n",
      "Epoch 98/100\n",
      "4384/6355 [===================>..........] - ETA: 24s - loss: 0.0561 - categoricalcrossentropy: 0.0561 - categoricalaccuracy: 0.9836 - precision: 0.9842 - recall: 0.9822 - auc: 0.9983\n",
      "Epoch 00098: saving model to Model\\bert_faq.ckpt\n",
      "6355/6355 [==============================] - 108s 17ms/sample - loss: 0.0556 - categoricalcrossentropy: 0.0556 - categoricalaccuracy: 0.9825 - precision: 0.9834 - recall: 0.9814 - auc: 0.9984 - val_loss: 6.5597 - val_categoricalcrossentropy: 6.5597 - val_categoricalaccuracy: 0.5167 - val_precision: 0.5184 - val_recall: 0.5154 - val_auc: 0.6677\n",
      "Epoch 99/100\n",
      "6355/6355 [==============================] - 100s 16ms/sample - loss: 0.0419 - categoricalcrossentropy: 0.0419 - categoricalaccuracy: 0.9874 - precision: 0.9882 - recall: 0.9869 - auc: 0.9991 - val_loss: 8.3896 - val_categoricalcrossentropy: 8.3896 - val_categoricalaccuracy: 0.5079 - val_precision: 0.5088 - val_recall: 0.5066 - val_auc: 0.6543\n",
      "Epoch 100/100\n",
      "1696/6355 [=======>......................] - ETA: 58s - loss: 0.0309 - categoricalcrossentropy: 0.0309 - categoricalaccuracy: 0.9906 - precision: 0.9911 - recall: 0.9894 - auc: 0.9998\n",
      "Epoch 00100: saving model to Model\\bert_faq.ckpt\n",
      "6355/6355 [==============================] - 107s 17ms/sample - loss: 0.0416 - categoricalcrossentropy: 0.0416 - categoricalaccuracy: 0.9880 - precision: 0.9885 - recall: 0.9877 - auc: 0.9992 - val_loss: 6.3953 - val_categoricalcrossentropy: 6.3953 - val_categoricalaccuracy: 0.5041 - val_precision: 0.5041 - val_recall: 0.5016 - val_auc: 0.6673\n"
     ]
    }
   ],
   "source": [
    "def fitModel(Model, training_set, training_label, testing_set, testing_label):\n",
    "    checkpointName = os.path.join('Model', \"bert_faq.ckpt\")\n",
    "\n",
    "    # Create a callback that saves the model's weights\n",
    "    cp_callback = tf.keras.callbacks.ModelCheckpoint(filepath=checkpointName,\n",
    "                                                     save_weights_only=True,\n",
    "                                                     save_freq = 10000,\n",
    "                                                     mode='auto',\n",
    "                                                     verbose=1)\n",
    "    # callback = StopTrainingClassComplete()\n",
    "\n",
    "    history = Model.fit(\n",
    "        training_set,\n",
    "        training_label,\n",
    "        epochs=100,\n",
    "        validation_data=(testing_set, testing_label),\n",
    "        verbose=1,\n",
    "        callbacks=[cp_callback]\n",
    "    )\n",
    "    return history\n",
    "\n",
    "if TRAIN_MODEL:\n",
    "    history = fitModel(model, train_tokens, train_labels, test_tokens, test_labels)\n",
    "else:\n",
    "    print('Model training skipped')"
   ]
  },
  {
   "cell_type": "markdown",
   "metadata": {},
   "source": [
    "<h2>Training and Testing Metrics</h2>"
   ]
  },
  {
   "cell_type": "markdown",
   "metadata": {},
   "source": [
    "<h3>Categorical Crossentropy</h3>\n",
    "<p></p>"
   ]
  },
  {
   "cell_type": "code",
   "execution_count": 78,
   "metadata": {},
   "outputs": [
    {
     "data": {
      "image/png": "[encoded data removed]",
      "text/plain": [
       "<Figure size 432x288 with 1 Axes>"
      ]
     },
     "metadata": {
      "needs_background": "light"
     },
     "output_type": "display_data"
    }
   ],
   "source": [
    "if TRAIN_MODEL:\n",
    "    fig = plt.figure()\n",
    "    ax = plt.subplot(111)\n",
    "    ax.plot(history.history['categoricalcrossentropy'], label = 'training categegorical crossentropy')\n",
    "    ax.plot(history.history['val_categoricalcrossentropy'], label = 'testing categegorical crossentropy')\n",
    "    ax.legend()\n",
    "    plt.show()\n",
    "else:\n",
    "    print('No data: model training skipped')"
   ]
  },
  {
   "cell_type": "markdown",
   "metadata": {},
   "source": [
    "<h3>Categorical Accuracy</h3>\n",
    "<p></p>"
   ]
  },
  {
   "cell_type": "code",
   "execution_count": 79,
   "metadata": {},
   "outputs": [
    {
     "data": {
      "image/png": "[encoded data removed]",
      "text/plain": [
       "<Figure size 432x288 with 1 Axes>"
      ]
     },
     "metadata": {
      "needs_background": "light"
     },
     "output_type": "display_data"
    }
   ],
   "source": [
    "if TRAIN_MODEL:   \n",
    "    fig = plt.figure()\n",
    "    ax = plt.subplot(111)\n",
    "    ax.plot(history.history['categoricalaccuracy'], label = 'training categegorical accuracy')\n",
    "    ax.plot(history.history['val_categoricalaccuracy'], label = 'testing categegorical accuracy')\n",
    "    ax.legend()\n",
    "    plt.show()\n",
    "else:\n",
    "    print('No data: model training skipped')"
   ]
  },
  {
   "cell_type": "markdown",
   "metadata": {},
   "source": [
    "<h3>Precision</h3>\n",
    "<p></p>"
   ]
  },
  {
   "cell_type": "code",
   "execution_count": 80,
   "metadata": {},
   "outputs": [
    {
     "data": {
      "image/png": "[encoded data removed]",
      "text/plain": [
       "<Figure size 432x288 with 1 Axes>"
      ]
     },
     "metadata": {
      "needs_background": "light"
     },
     "output_type": "display_data"
    }
   ],
   "source": [
    "if TRAIN_MODEL:\n",
    "    fig = plt.figure()\n",
    "    ax = plt.subplot(111)\n",
    "    ax.plot(history.history['precision'], label = 'training precision')\n",
    "    ax.plot(history.history['val_precision'], label = 'testing precision')\n",
    "    ax.legend()\n",
    "    plt.show()\n",
    "else:\n",
    "    print('No data: model training skipped')"
   ]
  },
  {
   "cell_type": "markdown",
   "metadata": {},
   "source": [
    "<h3>Recall</h3>\n",
    "<p></p>"
   ]
  },
  {
   "cell_type": "code",
   "execution_count": 81,
   "metadata": {},
   "outputs": [
    {
     "data": {
      "image/png": "[encoded data removed]",
      "text/plain": [
       "<Figure size 432x288 with 1 Axes>"
      ]
     },
     "metadata": {
      "needs_background": "light"
     },
     "output_type": "display_data"
    }
   ],
   "source": [
    "if TRAIN_MODEL:\n",
    "    fig = plt.figure()\n",
    "    ax = plt.subplot(111)\n",
    "    ax.plot(history.history['recall'], label = 'training recall')\n",
    "    ax.plot(history.history['val_recall'], label = 'testing recall')\n",
    "    ax.legend()\n",
    "    plt.show()\n",
    "else:\n",
    "    print('No data: model training skipped')"
   ]
  },
  {
   "cell_type": "markdown",
   "metadata": {},
   "source": [
    "<h2>Running Predictions Using The Saved Model</h2>"
   ]
  },
  {
   "cell_type": "code",
   "execution_count": 72,
   "metadata": {},
   "outputs": [
    {
     "name": "stdout",
     "output_type": "stream",
     "text": [
      "Model build with random weights\n",
      "Weights loaded\n",
      "That is a well reasoned point\n",
      "NAG\n",
      "This is happening in BJP ruled state. Shame on the adminstration\n",
      "OAG\n"
     ]
    }
   ],
   "source": [
    "def Load_Checkpoint(Model):\n",
    "    \n",
    "    latest_checkpoint = tf.train.latest_checkpoint('Model')\n",
    "    #loaded_model = build_model_fullyconnected()\n",
    "    \n",
    "    print('Model build with random weights')\n",
    "    #Model.evaluate(test_tokens, test_labels, verbose=2)\n",
    "       \n",
    "    Model.load_weights(latest_checkpoint)\n",
    "    print('Weights loaded')\n",
    "    #Model.evaluate(test_tokens, test_labels, verbose=2)\n",
    "    \n",
    "    return Model\n",
    "    \n",
    "def Model_Predictions(Model, Text_Array):\n",
    "    inputs = Bertify(Text_Array)\n",
    "    predicted_labels = Model.predict(inputs)\n",
    "    label_indices = np.argmax(predicted_labels, axis=1)\n",
    "    labels = [CLASSES[x] for x in label_indices]\n",
    "    return labels\n",
    "\n",
    "if LOAD_MODEL_AND_PREDICT:\n",
    "    model = Load_Checkpoint(model)\n",
    "    predictions = Model_Predictions(model, TEXT_TO_PREDICT)\n",
    "    for text, prediction in zip(TEXT_TO_PREDICT, predictions):\n",
    "        print(text)\n",
    "        print(prediction)\n"
   ]
  }
 ],
 "metadata": {
  "kernelspec": {
   "display_name": "Python 3",
   "language": "python",
   "name": "python3"
  },
  "language_info": {
   "codemirror_mode": {
    "name": "ipython",
    "version": 3
   },
   "file_extension": ".py",
   "mimetype": "text/x-python",
   "name": "python",
   "nbconvert_exporter": "python",
   "pygments_lexer": "ipython3",
   "version": "3.6.6"
  }
 },
 "nbformat": 4,
 "nbformat_minor": 4
}
