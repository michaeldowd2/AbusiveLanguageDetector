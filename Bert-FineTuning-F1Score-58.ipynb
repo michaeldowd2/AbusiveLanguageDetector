{
 "cells": [
  {
   "cell_type": "markdown",
   "metadata": {
    "colab_type": "text",
    "id": "82LiJKDMGnkC"
   },
   "source": [
    "<h1>Transfer Learning with BERT</h1>"
   ]
  },
  {
   "cell_type": "code",
   "execution_count": 1,
   "metadata": {
    "colab": {
     "base_uri": "https://localhost:8080/",
     "height": 306
    },
    "colab_type": "code",
    "executionInfo": {
     "elapsed": 3792,
     "status": "ok",
     "timestamp": 1585676013752,
     "user": {
      "displayName": "michael dowd",
      "photoUrl": "",
      "userId": "09865951120913534207"
     },
     "user_tz": -60
    },
    "id": "gNk3C93LP3zd",
    "outputId": "8bfad59d-b0ff-4bd9-a258-a6e9ac57f337"
   },
   "outputs": [
    {
     "name": "stdout",
     "output_type": "stream",
     "text": [
      "Tue Mar 31 17:33:32 2020       \n",
      "+-----------------------------------------------------------------------------+\n",
      "| NVIDIA-SMI 440.64.00    Driver Version: 418.67       CUDA Version: 10.1     |\n",
      "|-------------------------------+----------------------+----------------------+\n",
      "| GPU  Name        Persistence-M| Bus-Id        Disp.A | Volatile Uncorr. ECC |\n",
      "| Fan  Temp  Perf  Pwr:Usage/Cap|         Memory-Usage | GPU-Util  Compute M. |\n",
      "|===============================+======================+======================|\n",
      "|   0  Tesla P100-PCIE...  Off  | 00000000:00:04.0 Off |                    0 |\n",
      "| N/A   33C    P0    25W / 250W |      0MiB / 16280MiB |      0%      Default |\n",
      "+-------------------------------+----------------------+----------------------+\n",
      "                                                                               \n",
      "+-----------------------------------------------------------------------------+\n",
      "| Processes:                                                       GPU Memory |\n",
      "|  GPU       PID   Type   Process name                             Usage      |\n",
      "|=============================================================================|\n",
      "|  No running processes found                                                 |\n",
      "+-----------------------------------------------------------------------------+\n"
     ]
    }
   ],
   "source": [
    "!nvidia-smi # check colab allocated GPU"
   ]
  },
  {
   "cell_type": "code",
   "execution_count": 2,
   "metadata": {
    "colab": {
     "base_uri": "https://localhost:8080/",
     "height": 578
    },
    "colab_type": "code",
    "executionInfo": {
     "elapsed": 13551,
     "status": "ok",
     "timestamp": 1585676029388,
     "user": {
      "displayName": "michael dowd",
      "photoUrl": "",
      "userId": "09865951120913534207"
     },
     "user_tz": -60
    },
    "id": "rfRSdPDdGnkI",
    "outputId": "a0d0b170-5b8d-4352-a4d4-22a0ebf4f889"
   },
   "outputs": [
    {
     "name": "stdout",
     "output_type": "stream",
     "text": [
      "Collecting sentencepiece\n",
      "\u001b[?25l  Downloading https://files.pythonhosted.org/packages/74/f4/2d5214cbf13d06e7cb2c20d84115ca25b53ea76fa1f0ade0e3c9749de214/sentencepiece-0.1.85-cp36-cp36m-manylinux1_x86_64.whl (1.0MB)\n",
      "\u001b[K     |████████████████████████████████| 1.0MB 3.4MB/s \n",
      "\u001b[?25hInstalling collected packages: sentencepiece\n",
      "Successfully installed sentencepiece-0.1.85\n",
      "Collecting bert-for-tf2\n",
      "\u001b[?25l  Downloading https://files.pythonhosted.org/packages/4c/2a/79f44178ac6f5b6995bc7804898fce2654da70e0c5c7f76332748420d6fd/bert-for-tf2-0.13.5.tar.gz (40kB)\n",
      "\u001b[K     |████████████████████████████████| 40kB 2.8MB/s \n",
      "\u001b[?25hCollecting py-params>=0.7.3\n",
      "  Downloading https://files.pythonhosted.org/packages/e1/aa/a143f0193a4fb5c7f8aa816b30366e441ff6ffe6cda4887e4c01300c4b01/py-params-0.8.3.tar.gz\n",
      "Collecting params-flow>=0.7.1\n",
      "  Downloading https://files.pythonhosted.org/packages/0d/12/2604f88932f285a473015a5adabf08496d88dad0f9c1228fab1547ccc9b5/params-flow-0.7.4.tar.gz\n",
      "Requirement already satisfied: numpy in /usr/local/lib/python3.6/dist-packages (from params-flow>=0.7.1->bert-for-tf2) (1.18.2)\n",
      "Requirement already satisfied: tqdm in /usr/local/lib/python3.6/dist-packages (from params-flow>=0.7.1->bert-for-tf2) (4.38.0)\n",
      "Building wheels for collected packages: bert-for-tf2, py-params, params-flow\n",
      "  Building wheel for bert-for-tf2 (setup.py) ... \u001b[?25l\u001b[?25hdone\n",
      "  Created wheel for bert-for-tf2: filename=bert_for_tf2-0.13.5-cp36-none-any.whl size=29948 sha256=8e2bde00850603f343483dc21f9a8c36d96512834cc542cd64b458a13574c84d\n",
      "  Stored in directory: /root/.cache/pip/wheels/ed/11/48/86aff8a0442aa4728c921027a4100ac28878e9d977e76e2d52\n",
      "  Building wheel for py-params (setup.py) ... \u001b[?25l\u001b[?25hdone\n",
      "  Created wheel for py-params: filename=py_params-0.8.3-cp36-none-any.whl size=4690 sha256=cd88c0e3f7f1125d401fcdc4a85c691cd3444987425a79ef694b47a98c45b82e\n",
      "  Stored in directory: /root/.cache/pip/wheels/1a/98/f8/502fc6b5a7c969276f611efeef0d074c871092d38672203b27\n",
      "  Building wheel for params-flow (setup.py) ... \u001b[?25l\u001b[?25hdone\n",
      "  Created wheel for params-flow: filename=params_flow-0.7.4-cp36-none-any.whl size=16195 sha256=f81ad25bd03108bcdbe7e2a5b596c7d757d646b0fda3bab6130d133d55dabd2e\n",
      "  Stored in directory: /root/.cache/pip/wheels/86/30/40/507b60d68b67ac87f35e95c98f5b296a32f146d5ae1d1d5aa7\n",
      "Successfully built bert-for-tf2 py-params params-flow\n",
      "Installing collected packages: py-params, params-flow, bert-for-tf2\n",
      "Successfully installed bert-for-tf2-0.13.5 params-flow-0.7.4 py-params-0.8.3\n",
      "`%tensorflow_version` only switches the major version: 1.x or 2.x.\n",
      "You set: `2.1`. This will be interpreted as: `2.x`.\n",
      "\n",
      "\n",
      "TensorFlow 2.x selected.\n",
      "Libraries loaded\n"
     ]
    }
   ],
   "source": [
    "# References\n",
    "# https://colab.research.google.com/drive/1IubZ3T7gqD09ZIVmJapiB5MXUnVGlzwH#scrollTo=7LbVjtktg3Ln\n",
    "# https://medium.com/analytics-vidhya/bert-in-keras-tensorflow-2-0-using-tfhub-huggingface-81c08c5f81d8\n",
    "# https://medium.com/@brn.pistone/bert-fine-tuning-for-tensorflow-2-0-with-keras-api-9913fc1348f6\n",
    "\n",
    "# Requirements\n",
    "!pip install sentencepiece\n",
    "!pip install bert-for-tf2\n",
    "\n",
    "%tensorflow_version 2.1\n",
    "from __future__ import absolute_import, division, print_function, unicode_literals\n",
    "from sklearn.preprocessing import OneHotEncoder\n",
    "from sklearn.preprocessing import LabelEncoder\n",
    "from sklearn.model_selection import train_test_split\n",
    "from sklearn import metrics\n",
    "import matplotlib.pyplot as plt\n",
    "import pandas as pd\n",
    "import tensorflow as tf\n",
    "import tensorflow_hub as hub\n",
    "import bert\n",
    "import os\n",
    "import math\n",
    "import numpy as np\n",
    "import random\n",
    "import re\n",
    "from datetime import datetime\n",
    "from tensorflow.keras.layers import Lambda, Conv1D, Dense, Flatten, Dropout,Embedding, LSTM, Bidirectional, Input, Dropout, GlobalAveragePooling1D, AveragePooling1D\n",
    "from tensorflow.keras import Sequential\n",
    "from tensorflow.keras.models import Model\n",
    "from tensorflow.keras.preprocessing import sequence\n",
    "from tensorflow.keras import callbacks\n",
    "from tensorflow.keras.optimizers import Adam\n",
    "import bert\n",
    "from bert import bert_tokenization \n",
    "\n",
    "print('Libraries loaded')\n"
   ]
  },
  {
   "cell_type": "code",
   "execution_count": 3,
   "metadata": {
    "colab": {
     "base_uri": "https://localhost:8080/",
     "height": 122
    },
    "colab_type": "code",
    "executionInfo": {
     "elapsed": 18281,
     "status": "ok",
     "timestamp": 1585676046516,
     "user": {
      "displayName": "michael dowd",
      "photoUrl": "",
      "userId": "09865951120913534207"
     },
     "user_tz": -60
    },
    "id": "83ucuGFmKkfk",
    "outputId": "461f0aee-d42a-446d-f3ee-37e32fafef5c"
   },
   "outputs": [
    {
     "name": "stdout",
     "output_type": "stream",
     "text": [
      "Go to this URL in a browser: https://accounts.google.com/o/oauth2/auth?client_id=947318989803-6bn6qk8qdgf4n4g3pfee6491hc0brc4i.apps.googleusercontent.com&redirect_uri=urn%3aietf%3awg%3aoauth%3a2.0%3aoob&response_type=code&scope=email%20https%3a%2f%2fwww.googleapis.com%2fauth%2fdocs.test%20https%3a%2f%2fwww.googleapis.com%2fauth%2fdrive%20https%3a%2f%2fwww.googleapis.com%2fauth%2fdrive.photos.readonly%20https%3a%2f%2fwww.googleapis.com%2fauth%2fpeopleapi.readonly\n",
      "\n",
      "Enter your authorization code:\n",
      "··········\n",
      "Mounted at /content/drive/\n"
     ]
    }
   ],
   "source": [
    "from google.colab import drive\n",
    "drive.mount('/content/drive/')"
   ]
  },
  {
   "cell_type": "code",
   "execution_count": 4,
   "metadata": {
    "colab": {
     "base_uri": "https://localhost:8080/",
     "height": 68
    },
    "colab_type": "code",
    "executionInfo": {
     "elapsed": 1285,
     "status": "ok",
     "timestamp": 1585676050596,
     "user": {
      "displayName": "michael dowd",
      "photoUrl": "",
      "userId": "09865951120913534207"
     },
     "user_tz": -60
    },
    "id": "ynpgzmnXNaJF",
    "outputId": "c64f9455-3ca4-4c8b-db94-f666a9c753f6"
   },
   "outputs": [
    {
     "name": "stdout",
     "output_type": "stream",
     "text": [
      "agr_en_train.csv\t\t  BERT.ipynb   datagen.py   Results\n",
      "Bert-finetuning-54.ipynb\t  conv_mod.py  Models\t    StyleGAN2.ipynb\n",
      "Bert-FineTuning-F1Score-58.ipynb  data\t       __pycache__  Untitled0.ipynb\n"
     ]
    }
   ],
   "source": [
    "!ls \"/content/drive/My Drive/Colab\""
   ]
  },
  {
   "cell_type": "markdown",
   "metadata": {
    "colab_type": "text",
    "id": "mpjynkWBGnkU"
   },
   "source": [
    "<h2>Settings</h2>"
   ]
  },
  {
   "cell_type": "code",
   "execution_count": 5,
   "metadata": {
    "colab": {
     "base_uri": "https://localhost:8080/",
     "height": 34
    },
    "colab_type": "code",
    "executionInfo": {
     "elapsed": 439,
     "status": "ok",
     "timestamp": 1585676059253,
     "user": {
      "displayName": "michael dowd",
      "photoUrl": "",
      "userId": "09865951120913534207"
     },
     "user_tz": -60
    },
    "id": "jdOzoQYAGnkW",
    "outputId": "a79d86bf-9463-4c54-ef2a-98a20a0285da"
   },
   "outputs": [
    {
     "name": "stdout",
     "output_type": "stream",
     "text": [
      "Settings set\n"
     ]
    }
   ],
   "source": [
    "CLASSES = ['CAG', 'NAG', 'OAG']\n",
    "MAX_LENGTH = 128\n",
    "RETRAIN_BERT = True\n",
    "TRAIN_SAMPLES = 0.8\n",
    "DATA_FILE = '/content/drive/My Drive/Colab/agr_en_train.csv'\n",
    "print('Settings set')"
   ]
  },
  {
   "cell_type": "markdown",
   "metadata": {
    "colab_type": "text",
    "id": "l6V-XeRyGnkn"
   },
   "source": [
    "<h2>Load BERT Model from Tensorflow HUB</h2>"
   ]
  },
  {
   "cell_type": "code",
   "execution_count": 6,
   "metadata": {
    "colab": {
     "base_uri": "https://localhost:8080/",
     "height": 102
    },
    "colab_type": "code",
    "executionInfo": {
     "elapsed": 20702,
     "status": "ok",
     "timestamp": 1585676082835,
     "user": {
      "displayName": "michael dowd",
      "photoUrl": "",
      "userId": "09865951120913534207"
     },
     "user_tz": -60
    },
    "id": "0gQKriwdGnkp",
    "outputId": "d8224127-7f23-42db-b80d-83815c5d9fae"
   },
   "outputs": [
    {
     "name": "stdout",
     "output_type": "stream",
     "text": [
      "Model Loaded\n",
      "Tokenizer Created\n",
      "Sample Tokenizer Operations\n",
      "['this', 'is', 'a', 'sample', 'token', '##ing', 'operation', '.', 'it', 'spans', 'multiple', 'sentences']\n",
      "[2023, 2003, 1037, 7099, 19204, 2075, 3169, 1012, 2009, 14798, 3674, 11746]\n"
     ]
    }
   ],
   "source": [
    "bert_path = \"https://tfhub.dev/tensorflow/bert_en_uncased_L-12_H-768_A-12/1\"\n",
    "bert_layer = hub.KerasLayer(bert_path,trainable=True)\n",
    "print('Model Loaded')\n",
    "\n",
    "vocab_file1 = bert_layer.resolved_object.vocab_file.asset_path.numpy()\n",
    "tokenizer = bert.bert_tokenization.FullTokenizer(vocab_file1, do_lower_case=True)\n",
    "print('Tokenizer Created')\n",
    "\n",
    "print('Sample Tokenizer Operations')\n",
    "sample_x = tokenizer.tokenize('this is a sample tokening operation. It spans multiple sentences')\n",
    "sample_ids = tokenizer.convert_tokens_to_ids(sample_x)\n",
    "print(sample_x)\n",
    "print(sample_ids)"
   ]
  },
  {
   "cell_type": "markdown",
   "metadata": {
    "colab_type": "text",
    "id": "5CS1ipuIA4W2"
   },
   "source": [
    "<h1>Data Loading and Cleaning</h1>\n",
    "<p>Some preprocessing steps are applied to the data after it is loaded</p>\n",
    "<ul>\n",
    "<li>punctuation is removed</li>\n",
    "<li>line breaks and double spaces are replaces with single space</li>\n",
    "<li>text is all lower-cased</li>\n",
    "<li>Emojis, symbols, flags and pictographs are removed from samples</li>\n",
    "<li>some slang is replaced with the correct english words</li>\n",
    "<li>URLs are removed from the samples</li>\n",
    "</ul>"
   ]
  },
  {
   "cell_type": "code",
   "execution_count": 7,
   "metadata": {
    "colab": {
     "base_uri": "https://localhost:8080/",
     "height": 1000
    },
    "colab_type": "code",
    "executionInfo": {
     "elapsed": 1881,
     "status": "ok",
     "timestamp": 1585676087799,
     "user": {
      "displayName": "michael dowd",
      "photoUrl": "",
      "userId": "09865951120913534207"
     },
     "user_tz": -60
    },
    "id": "xbu6_m6g9-Oj",
    "outputId": "646006e7-3581-4834-d073-06727910c6b1"
   },
   "outputs": [
    {
     "name": "stdout",
     "output_type": "stream",
     "text": [
      "Wordcount distribution\n"
     ]
    },
    {
     "data": {
      "image/png": "[encoded data removed]",
      "text/plain": [
       "<Figure size 432x288 with 1 Axes>"
      ]
     },
     "metadata": {
      "tags": []
     },
     "output_type": "display_data"
    },
    {
     "name": "stdout",
     "output_type": "stream",
     "text": [
      "Label distribution\n"
     ]
    },
    {
     "data": {
      "image/png": "[encoded data removed]",
      "text/plain": [
       "<Figure size 432x288 with 1 Axes>"
      ]
     },
     "metadata": {
      "tags": []
     },
     "output_type": "display_data"
    },
    {
     "name": "stdout",
     "output_type": "stream",
     "text": [
      "English distribution\n"
     ]
    },
    {
     "data": {
      "image/png": "[encoded data removed]",
      "text/plain": [
       "<Figure size 432x288 with 1 Axes>"
      ]
     },
     "metadata": {
      "tags": []
     },
     "output_type": "display_data"
    },
    {
     "name": "stdout",
     "output_type": "stream",
     "text": [
      "                                                   Text  ... isEnglish\n",
      "41                   modi ji all the pain  nö real gain  ...     False\n",
      "314   yàar my ears are bleeding stop this  get the b...  ...     False\n",
      "813            रजनथ सह फर कहग क हम ननद करत ह डब मर सरकर  ...     False\n",
      "830    bot powered by prince fadii  just now done  i...  ...     False\n",
      "1107   bot powered by ishaq zada  see my bot speed  ...  ...     False\n",
      "1441       live  nse स pehlakadam season 2 grand finale  ...     False\n",
      "1462  what you should know about turkeys president r...  ...     False\n",
      "1621   bot powered by prince fadii  see my bot speed...  ...     False\n",
      "1704  a question of order india turkey and the retur...  ...     False\n",
      "1719  अर कछ त कर खल हजड क तरह तल बजत रहन स कछ नह हग ...  ...     False\n",
      "\n",
      "[10 rows x 4 columns]\n"
     ]
    }
   ],
   "source": [
    "def remove_URL(s):\n",
    "    \"\"\"Remove URLs from a sample string\"\"\"\n",
    "    return re.sub(r\"http\\S+\", \"\", s)\n",
    "\n",
    "def remove_punctuation(s):\n",
    "    return re.sub(r'[^\\w\\s]', '', s)\n",
    "    \n",
    "def remove_Emoji(s):\n",
    "    emoji_pattern = re.compile(\"[\"\n",
    "        u\"\\U0001F600-\\U0001F64F\"  # emoticons\n",
    "        u\"\\U0001F300-\\U0001F5FF\"  # symbols & pictographs\n",
    "        u\"\\U0001F680-\\U0001F6FF\"  # transport & map symbols\n",
    "        u\"\\U0001F1E0-\\U0001F1FF\"  # flags (iOS)\n",
    "                           \"]+\", flags=re.UNICODE)\n",
    "    return emoji_pattern.sub(r'', s)\n",
    "\n",
    "def replace_chars(Data):\n",
    "    Data['Text'] = Data['Text'].str.replace('\\n',' ')\n",
    "    Data['Text'] = Data['Text'].str.replace('  ',' ')\n",
    "    Data['Text'] = Data['Text'].str.strip()\n",
    "    Data['Text'] = Data['Text'].str.lower()\n",
    "    Data['Text'] = Data['Text'].str.replace('pls','please')\n",
    "    Data['Text'] = Data['Text'].str.replace('plz','please')\n",
    "    Data['Text'] = Data['Text'].str.replace(' u ',' you ')\n",
    "    Data['Text'] = Data['Text'].str.replace(' ur ',' your ')\n",
    "    Data['Text'] = Data['Text'].str.replace(' vs ',' versus ')\n",
    "    Data['Text'] = Data['Text'].str.replace(' tks ',' thanks ')\n",
    "    Data['Text'] = Data['Text'].str.replace(' tkz ',' thanks ')\n",
    "    Data['Text'] = Data['Text'].str.replace(' cud ',' could ')\n",
    "    Data['Text'] = Data['Text'].str.replace(' b ',' be ')\n",
    "    Data['Text'] = Data['Text'].str.replace(' r ',' are ')\n",
    "    Data['Text'] = Data['Text'].str.replace(' gonna ',' going to ')\n",
    "    Data['Text'] = Data['Text'].str.replace(' y ',' why ')\n",
    "    Data['Text'] = Data['Text'].str.replace('bn ',' billion ')\n",
    "    Data['Text'] = Data['Text'].str.replace('tn ',' trillion ')\n",
    "    Data['Text'] = Data['Text'].str.replace('£',' pounds ')\n",
    "    Data['Text'] = Data['Text'].str.replace('$',' dollars ')\n",
    "    return Data\n",
    "\n",
    "def isEnglish(s):\n",
    "    try:\n",
    "        s.encode(encoding='utf-8').decode('ascii')\n",
    "    except UnicodeDecodeError:\n",
    "        return False\n",
    "    else:\n",
    "        return True\n",
    "\n",
    "def create_data_frame():\n",
    "    data = pd.read_csv(DATA_FILE)\n",
    "    data.columns = ['ID','Text','Indicator']\n",
    "    data.drop(['ID'], axis='columns', inplace = True)\n",
    "    \n",
    "    data = replace_chars(data)\n",
    "    data['Text'] = data['Text'].apply(remove_Emoji)\n",
    "    data['Text'] = data['Text'].apply(remove_URL)\n",
    "    data['Text'] = data['Text'].apply(remove_punctuation)\n",
    "    data['Length'] = data['Text'].str.split(' ').apply(len)\n",
    "    data['isEnglish'] = data['Text'].apply(isEnglish)\n",
    "    return data\n",
    "\n",
    "data = create_data_frame()\n",
    "print('Wordcount distribution')\n",
    "data['Length'].hist(bins=30)\n",
    "plt.show()\n",
    "print('Label distribution')\n",
    "data['Indicator'].value_counts().plot(kind='bar')\n",
    "plt.show()\n",
    "print('English distribution')\n",
    "data['isEnglish'].value_counts().plot(kind='bar')\n",
    "plt.show()\n",
    "print(data[data['isEnglish']==False][0:10])\n"
   ]
  },
  {
   "cell_type": "markdown",
   "metadata": {
    "colab_type": "text",
    "id": "5z7Z945aC98m"
   },
   "source": [
    "<p>Samples were identified with non-english characters in the dataset, however these weren't removed as most of them included English words and so could contribute to the training. </p>"
   ]
  },
  {
   "cell_type": "markdown",
   "metadata": {
    "colab_type": "text",
    "id": "2-7HtpjwGnkw"
   },
   "source": [
    "<h2>Data Processing</h2>\n",
    "<p>The Bert model loaded from TF Hub expects input data in a particular format. For every text sample, three arrays are created: most importantly the sample is tokenised and then converted to Ids using BERTs tokenizer dictionary. An input mask array and sentence location (not used for classification) array are also created."
   ]
  },
  {
   "cell_type": "code",
   "execution_count": 8,
   "metadata": {
    "colab": {
     "base_uri": "https://localhost:8080/",
     "height": 578
    },
    "colab_type": "code",
    "executionInfo": {
     "elapsed": 6242,
     "status": "ok",
     "timestamp": 1585676102854,
     "user": {
      "displayName": "michael dowd",
      "photoUrl": "",
      "userId": "09865951120913534207"
     },
     "user_tz": -60
    },
    "id": "GXt6COvdGnky",
    "outputId": "ca2dde4a-a917-4b9d-9b9d-3f6dfc81d39e"
   },
   "outputs": [
    {
     "name": "stdout",
     "output_type": "stream",
     "text": [
      "Training data loaded\n",
      "[<tf.Tensor: shape=(9598, 128), dtype=int32, numpy=\n",
      "array([[ 101, 2087, 1997, ...,    0,    0,    0],\n",
      "       [ 101, 2085, 3160, ...,    0,    0,    0],\n",
      "       [ 101, 4501, 2003, ...,    0,    0,    0],\n",
      "       ...,\n",
      "       [ 101, 3531, 2425, ...,    0,    0,    0],\n",
      "       [ 101, 2054, 2052, ...,    0,    0,    0],\n",
      "       [ 101, 2307,  102, ...,    0,    0,    0]], dtype=int32)>, <tf.Tensor: shape=(9598, 128), dtype=int32, numpy=\n",
      "array([[0, 0, 0, ..., 0, 0, 0],\n",
      "       [0, 0, 0, ..., 0, 0, 0],\n",
      "       [0, 0, 0, ..., 0, 0, 0],\n",
      "       ...,\n",
      "       [0, 0, 0, ..., 0, 0, 0],\n",
      "       [0, 0, 0, ..., 0, 0, 0],\n",
      "       [0, 0, 0, ..., 0, 0, 0]], dtype=int32)>, <tf.Tensor: shape=(9598, 128), dtype=int32, numpy=\n",
      "array([[1, 1, 1, ..., 0, 0, 0],\n",
      "       [1, 1, 1, ..., 0, 0, 0],\n",
      "       [1, 1, 1, ..., 0, 0, 0],\n",
      "       ...,\n",
      "       [1, 1, 1, ..., 0, 0, 0],\n",
      "       [1, 1, 1, ..., 0, 0, 0],\n",
      "       [1, 1, 1, ..., 0, 0, 0]], dtype=int32)>]\n",
      "[[0. 1. 0.]\n",
      " [0. 0. 1.]\n",
      " [0. 0. 1.]\n",
      " [0. 1. 0.]\n",
      " [1. 0. 0.]\n",
      " [0. 1. 0.]\n",
      " [1. 0. 0.]\n",
      " [0. 1. 0.]\n",
      " [0. 1. 0.]\n",
      " [0. 1. 0.]]\n"
     ]
    }
   ],
   "source": [
    "def Bertify(Set):\n",
    "    \n",
    "    tokens = map(tokenizer.tokenize, Set)\n",
    "    tokens = map(lambda tok: tok[:MAX_LENGTH-2], tokens)\n",
    "    tokens = map(lambda tok: [\"[CLS]\"] + tok + [\"[SEP]\"], tokens)\n",
    "    \n",
    "    token_ids = map(tokenizer.convert_tokens_to_ids, tokens)\n",
    "    token_ids = map(lambda tids: tids + [0] * (MAX_LENGTH - len(tids)), token_ids)\n",
    "    # token_ids = map(lambda tids: np.array(tids), token_ids)\n",
    "    token_ids = list(token_ids)\n",
    "    token_masks =[]\n",
    "    sent_segs = []\n",
    "    for token_list in token_ids:\n",
    "        token_masks.append([1 if x > 0 else 0 for x in token_list])\n",
    "        sent_segs.append([0 for x in token_list])    \n",
    "    return  [tf.cast(token_ids,tf.int32), tf.cast(sent_segs,tf.int32), tf.cast(token_masks,tf.int32)]\n",
    "\n",
    "def preprocess_data(data): \n",
    "    #One hot encoding\n",
    "    label_encoder = LabelEncoder()\n",
    "    label_encoder = label_encoder.fit(CLASSES)\n",
    "    label_ints = label_encoder.transform(data.values[:,1])\n",
    "    label_ints = label_ints.reshape(len(label_ints), 1)\n",
    "    onehot_encoder = OneHotEncoder(sparse=False, categories='auto')\n",
    "    label_onehot = onehot_encoder.fit_transform(label_ints)\n",
    "    \n",
    "    #Split to training and test\n",
    "    train_len = int(len(data.index) * TRAIN_SAMPLES)\n",
    "    \n",
    "    train_set = data.values[:train_len,0]\n",
    "    train_features = Bertify(train_set)\n",
    "    train_labels = np.array(label_onehot[:train_len,:])\n",
    "    \n",
    "    test_set = data.values[train_len:,0]\n",
    "    test_features = Bertify(test_set)\n",
    "    test_labels = np.array(label_onehot[train_len:,:])\n",
    "    \n",
    "    return train_features, train_labels, test_features, test_labels\n",
    "\n",
    "\n",
    "train_tokens, train_labels, test_tokens, test_labels = preprocess_data(data)\n",
    "print('Training data loaded')\n",
    "print(train_tokens[0:10])\n",
    "print(train_labels[0:10])"
   ]
  },
  {
   "cell_type": "markdown",
   "metadata": {
    "colab_type": "text",
    "id": "gbYqQ90TGnk6"
   },
   "source": [
    "<h2>Model Definition</h2>\n",
    "<p>The recommended way to use BERT is via fine-tuning with minimal additional layers appended on to focus results to the task at hand.\n",
    "The example on tensorlow site uses the following layers: a lambda to flatten output, dropout, dense layer, dropout and a softmax dense layer to compute categorical output. https://github.com/kpe/bert-for-tf2/blob/master/examples/gpu_movie_reviews.ipynb</p>\n",
    "<p>BERT Paper recommends learning rates of 5e-5, 3e-5 or 2e-5 with an Adam optimizer. I chose the smallest of these 2e-5</p>\n"
   ]
  },
  {
   "cell_type": "code",
   "execution_count": 9,
   "metadata": {
    "colab": {
     "base_uri": "https://localhost:8080/",
     "height": 527
    },
    "colab_type": "code",
    "executionInfo": {
     "elapsed": 1890,
     "status": "ok",
     "timestamp": 1585676127177,
     "user": {
      "displayName": "michael dowd",
      "photoUrl": "",
      "userId": "09865951120913534207"
     },
     "user_tz": -60
    },
    "id": "Sq6qYT61Gnk9",
    "outputId": "52f5382a-3cec-44ca-9e4d-cafabb033986"
   },
   "outputs": [
    {
     "name": "stdout",
     "output_type": "stream",
     "text": [
      "Model: \"model\"\n",
      "__________________________________________________________________________________________________\n",
      "Layer (type)                    Output Shape         Param #     Connected to                     \n",
      "==================================================================================================\n",
      "input_token_ids (InputLayer)    [(None, 128)]        0                                            \n",
      "__________________________________________________________________________________________________\n",
      "input_token_masks (InputLayer)  [(None, 128)]        0                                            \n",
      "__________________________________________________________________________________________________\n",
      "input_sent_segms (InputLayer)   [(None, 128)]        0                                            \n",
      "__________________________________________________________________________________________________\n",
      "keras_layer (KerasLayer)        [(None, 768), (None, 109482241   input_token_ids[0][0]            \n",
      "                                                                 input_token_masks[0][0]          \n",
      "                                                                 input_sent_segms[0][0]           \n",
      "__________________________________________________________________________________________________\n",
      "lambda (Lambda)                 (None, 768)          0           keras_layer[0][1]                \n",
      "__________________________________________________________________________________________________\n",
      "dropout (Dropout)               (None, 768)          0           lambda[0][0]                     \n",
      "__________________________________________________________________________________________________\n",
      "dense (Dense)                   (None, 768)          590592      dropout[0][0]                    \n",
      "__________________________________________________________________________________________________\n",
      "dropout_1 (Dropout)             (None, 768)          0           dense[0][0]                      \n",
      "__________________________________________________________________________________________________\n",
      "dense_1 (Dense)                 (None, 3)            2307        dropout_1[0][0]                  \n",
      "==================================================================================================\n",
      "Total params: 110,075,140\n",
      "Trainable params: 110,075,139\n",
      "Non-trainable params: 1\n",
      "__________________________________________________________________________________________________\n",
      "None\n",
      "done\n"
     ]
    }
   ],
   "source": [
    "METRICS = [\n",
    "      tf.keras.metrics.CategoricalCrossentropy(name='categoricalcrossentropy'),\n",
    "      tf.keras.metrics.CategoricalAccuracy(name='categoricalaccuracy'),\n",
    "      tf.keras.metrics.Precision(name='precision'),\n",
    "      tf.keras.metrics.Recall(name='recall'),\n",
    "      tf.keras.metrics.AUC(name='auc'),\n",
    "]\n",
    "\n",
    "def build_model_fullyconnected():\n",
    "    \"\"\"add pretrained bert model as a keras layer\"\"\"\n",
    "    input_word_ids = Input((MAX_LENGTH,), dtype=tf.int32, name='input_token_ids')\n",
    "    input_masks = Input((MAX_LENGTH,), dtype=tf.int32, name='input_token_masks')\n",
    "    input_segments = Input((MAX_LENGTH,), dtype=tf.int32, name='input_sent_segms')\n",
    "    \n",
    "    if not RETRAIN_BERT:\n",
    "        bert_layer.trainable = False\n",
    "    \n",
    "    _, sout = bert_layer([input_word_ids, input_masks, input_segments])\n",
    "    X = Lambda(lambda seq: seq[:, 0, :])(sout)\n",
    "    X = Dropout(0.35)(X)\n",
    "    X = Dense(768, activation=\"relu\")(X)\n",
    "    X = Dropout(0.35)(X)\n",
    "    output_ = Dense(3, activation=tf.nn.softmax)(X)\n",
    "\n",
    "    #model = Model(input_,output_)\n",
    "    model = Model([input_word_ids, input_masks, input_segments],output_)\n",
    "    adam = Adam(learning_rate=0.2e-5, beta_1=0.9, beta_2=0.999, amsgrad=False) \n",
    "    model.compile(optimizer = adam, loss = \"categorical_crossentropy\", metrics = METRICS)\n",
    "    return model\n",
    "\n",
    "model = build_model_fullyconnected()\n",
    "print(model.summary())\n",
    "print('done')"
   ]
  },
  {
   "cell_type": "markdown",
   "metadata": {
    "colab_type": "text",
    "id": "j7dxeOnSGnlD"
   },
   "source": [
    "<h2>Model Training</h2>"
   ]
  },
  {
   "cell_type": "markdown",
   "metadata": {
    "colab_type": "text",
    "id": "ycybfxUolXsG"
   },
   "source": [
    "<p>BERT Paper recommends batch sizes of 16 or 32, with number of epochs of 2, 3 or 4. I use a batch size of 32 and was achieving better f1 scores with significantly more epochs. In the end I achieved the best validation score with around 10</p>"
   ]
  },
  {
   "cell_type": "code",
   "execution_count": 10,
   "metadata": {
    "colab": {
     "base_uri": "https://localhost:8080/",
     "height": 717
    },
    "colab_type": "code",
    "executionInfo": {
     "elapsed": 2265911,
     "status": "ok",
     "timestamp": 1585678613423,
     "user": {
      "displayName": "michael dowd",
      "photoUrl": "",
      "userId": "09865951120913534207"
     },
     "user_tz": -60
    },
    "id": "NBRA-GzIGnlF",
    "outputId": "4d45eed0-bbf5-491d-ffdc-5f280a799146"
   },
   "outputs": [
    {
     "name": "stdout",
     "output_type": "stream",
     "text": [
      "Epoch 1/30\n",
      "225/225 [==============================] - 114s 508ms/step - loss: 1.1036 - categoricalcrossentropy: 1.1036 - categoricalaccuracy: 0.4041 - precision: 0.4291 - recall: 0.1568 - auc: 0.5859 - val_loss: 1.0389 - val_categoricalcrossentropy: 1.0389 - val_categoricalaccuracy: 0.4533 - val_precision: 0.5919 - val_recall: 0.1758 - val_auc: 0.6474\n",
      "Epoch 2/30\n",
      "225/225 [==============================] - 112s 499ms/step - loss: 1.0360 - categoricalcrossentropy: 1.0361 - categoricalaccuracy: 0.4553 - precision: 0.5255 - recall: 0.2176 - auc: 0.6485 - val_loss: 0.9555 - val_categoricalcrossentropy: 0.9555 - val_categoricalaccuracy: 0.5108 - val_precision: 0.6839 - val_recall: 0.2317 - val_auc: 0.7182\n",
      "Epoch 3/30\n",
      "225/225 [==============================] - 112s 499ms/step - loss: 0.9690 - categoricalcrossentropy: 0.9690 - categoricalaccuracy: 0.5118 - precision: 0.5824 - recall: 0.3212 - auc: 0.7101 - val_loss: 0.9209 - val_categoricalcrossentropy: 0.9209 - val_categoricalaccuracy: 0.5337 - val_precision: 0.6441 - val_recall: 0.3017 - val_auc: 0.7426\n",
      "Epoch 4/30\n",
      "225/225 [==============================] - 112s 498ms/step - loss: 0.9121 - categoricalcrossentropy: 0.9121 - categoricalaccuracy: 0.5496 - precision: 0.6222 - recall: 0.3812 - auc: 0.7494 - val_loss: 0.9034 - val_categoricalcrossentropy: 0.9034 - val_categoricalaccuracy: 0.5638 - val_precision: 0.6463 - val_recall: 0.3708 - val_auc: 0.7608\n",
      "Epoch 5/30\n",
      "225/225 [==============================] - 112s 498ms/step - loss: 0.8674 - categoricalcrossentropy: 0.8674 - categoricalaccuracy: 0.5703 - precision: 0.6405 - recall: 0.4351 - auc: 0.7769 - val_loss: 0.8861 - val_categoricalcrossentropy: 0.8861 - val_categoricalaccuracy: 0.5758 - val_precision: 0.6464 - val_recall: 0.4258 - val_auc: 0.7709\n",
      "Epoch 6/30\n",
      "225/225 [==============================] - 112s 497ms/step - loss: 0.8164 - categoricalcrossentropy: 0.8164 - categoricalaccuracy: 0.6064 - precision: 0.6641 - recall: 0.4936 - auc: 0.8060 - val_loss: 0.9022 - val_categoricalcrossentropy: 0.9022 - val_categoricalaccuracy: 0.5675 - val_precision: 0.6258 - val_recall: 0.4571 - val_auc: 0.7692\n",
      "Epoch 7/30\n",
      "225/225 [==============================] - 112s 497ms/step - loss: 0.7576 - categoricalcrossentropy: 0.7576 - categoricalaccuracy: 0.6402 - precision: 0.6885 - recall: 0.5567 - auc: 0.8357 - val_loss: 0.9151 - val_categoricalcrossentropy: 0.9151 - val_categoricalaccuracy: 0.5779 - val_precision: 0.6151 - val_recall: 0.4808 - val_auc: 0.7712\n",
      "Epoch 8/30\n",
      "225/225 [==============================] - 112s 498ms/step - loss: 0.6774 - categoricalcrossentropy: 0.6774 - categoricalaccuracy: 0.7003 - precision: 0.7375 - recall: 0.6356 - auc: 0.8724 - val_loss: 0.9745 - val_categoricalcrossentropy: 0.9745 - val_categoricalaccuracy: 0.5679 - val_precision: 0.5968 - val_recall: 0.5229 - val_auc: 0.7683\n",
      "Epoch 9/30\n",
      "225/225 [==============================] - 112s 497ms/step - loss: 0.5893 - categoricalcrossentropy: 0.5893 - categoricalaccuracy: 0.7502 - precision: 0.7781 - recall: 0.7087 - auc: 0.9050 - val_loss: 1.0551 - val_categoricalcrossentropy: 1.0551 - val_categoricalaccuracy: 0.5713 - val_precision: 0.5819 - val_recall: 0.5346 - val_auc: 0.7627\n",
      "Epoch 10/30\n",
      "225/225 [==============================] - 112s 497ms/step - loss: 0.4844 - categoricalcrossentropy: 0.4843 - categoricalaccuracy: 0.8029 - precision: 0.8200 - recall: 0.7822 - auc: 0.9363 - val_loss: 1.2290 - val_categoricalcrossentropy: 1.2290 - val_categoricalaccuracy: 0.5654 - val_precision: 0.5706 - val_recall: 0.5542 - val_auc: 0.7554\n",
      "Epoch 11/30\n",
      "225/225 [==============================] - 112s 497ms/step - loss: 0.3882 - categoricalcrossentropy: 0.3881 - categoricalaccuracy: 0.8547 - precision: 0.8658 - recall: 0.8407 - auc: 0.9587 - val_loss: 1.4078 - val_categoricalcrossentropy: 1.4078 - val_categoricalaccuracy: 0.5525 - val_precision: 0.5591 - val_recall: 0.5462 - val_auc: 0.7508\n",
      "Epoch 12/30\n",
      "225/225 [==============================] - 112s 497ms/step - loss: 0.3017 - categoricalcrossentropy: 0.3017 - categoricalaccuracy: 0.8911 - precision: 0.8992 - recall: 0.8836 - auc: 0.9744 - val_loss: 1.6148 - val_categoricalcrossentropy: 1.6148 - val_categoricalaccuracy: 0.5492 - val_precision: 0.5512 - val_recall: 0.5425 - val_auc: 0.7429\n",
      "Epoch 13/30\n",
      "225/225 [==============================] - 112s 497ms/step - loss: 0.2389 - categoricalcrossentropy: 0.2390 - categoricalaccuracy: 0.9197 - precision: 0.9249 - recall: 0.9122 - auc: 0.9834 - val_loss: 1.7650 - val_categoricalcrossentropy: 1.7650 - val_categoricalaccuracy: 0.5396 - val_precision: 0.5417 - val_recall: 0.5354 - val_auc: 0.7337\n",
      "Epoch 14/30\n",
      "225/225 [==============================] - 112s 497ms/step - loss: 0.1789 - categoricalcrossentropy: 0.1789 - categoricalaccuracy: 0.9426 - precision: 0.9474 - recall: 0.9379 - auc: 0.9904 - val_loss: 1.9245 - val_categoricalcrossentropy: 1.9245 - val_categoricalaccuracy: 0.5383 - val_precision: 0.5414 - val_recall: 0.5362 - val_auc: 0.7298\n",
      "Epoch 15/30\n",
      "225/225 [==============================] - 112s 497ms/step - loss: 0.1402 - categoricalcrossentropy: 0.1402 - categoricalaccuracy: 0.9548 - precision: 0.9575 - recall: 0.9519 - auc: 0.9935 - val_loss: 1.9848 - val_categoricalcrossentropy: 1.9848 - val_categoricalaccuracy: 0.5317 - val_precision: 0.5338 - val_recall: 0.5292 - val_auc: 0.7201\n",
      "Epoch 16/30\n",
      "225/225 [==============================] - 112s 497ms/step - loss: 0.1101 - categoricalcrossentropy: 0.1101 - categoricalaccuracy: 0.9683 - precision: 0.9707 - recall: 0.9654 - auc: 0.9953 - val_loss: 2.1642 - val_categoricalcrossentropy: 2.1642 - val_categoricalaccuracy: 0.5458 - val_precision: 0.5470 - val_recall: 0.5429 - val_auc: 0.7251\n",
      "Epoch 17/30\n",
      "225/225 [==============================] - 112s 497ms/step - loss: 0.0960 - categoricalcrossentropy: 0.0960 - categoricalaccuracy: 0.9722 - precision: 0.9751 - recall: 0.9693 - auc: 0.9965 - val_loss: 2.2551 - val_categoricalcrossentropy: 2.2551 - val_categoricalaccuracy: 0.5417 - val_precision: 0.5426 - val_recall: 0.5387 - val_auc: 0.7164\n",
      "Epoch 18/30\n",
      "225/225 [==============================] - 112s 497ms/step - loss: 0.0778 - categoricalcrossentropy: 0.0778 - categoricalaccuracy: 0.9767 - precision: 0.9795 - recall: 0.9740 - auc: 0.9971 - val_loss: 2.3221 - val_categoricalcrossentropy: 2.3221 - val_categoricalaccuracy: 0.5367 - val_precision: 0.5384 - val_recall: 0.5346 - val_auc: 0.7165\n",
      "Epoch 19/30\n",
      "225/225 [==============================] - 112s 497ms/step - loss: 0.0643 - categoricalcrossentropy: 0.0643 - categoricalaccuracy: 0.9803 - precision: 0.9820 - recall: 0.9782 - auc: 0.9981 - val_loss: 2.4409 - val_categoricalcrossentropy: 2.4409 - val_categoricalaccuracy: 0.5433 - val_precision: 0.5444 - val_recall: 0.5417 - val_auc: 0.7134\n",
      "Epoch 20/30\n",
      "225/225 [==============================] - 112s 497ms/step - loss: 0.0602 - categoricalcrossentropy: 0.0602 - categoricalaccuracy: 0.9828 - precision: 0.9848 - recall: 0.9804 - auc: 0.9980 - val_loss: 2.5188 - val_categoricalcrossentropy: 2.5188 - val_categoricalaccuracy: 0.5408 - val_precision: 0.5425 - val_recall: 0.5396 - val_auc: 0.7080\n"
     ]
    }
   ],
   "source": [
    "def fitModel(Model, training_set, training_label, testing_set, testing_label):\n",
    "    checkpointName = os.path.join('Model', \"bert_faq.ckpt\")\n",
    "\n",
    "    # Create a callback that saves the model's weights\n",
    "    cp_callback = tf.keras.callbacks.ModelCheckpoint(filepath=checkpointName,\n",
    "                                                     save_weights_only=True,\n",
    "                                                     save_freq = 25000,\n",
    "                                                     mode='auto',\n",
    "                                                     verbose=1)\n",
    "    # callback = StopTrainingClassComplete()\n",
    "    history = Model.fit(\n",
    "        training_set,\n",
    "        training_label,\n",
    "        epochs=30,\n",
    "        batch_size=32,\n",
    "        validation_split=0.25,\n",
    "        verbose=1,\n",
    "        callbacks=[cp_callback,\n",
    "                   callbacks.EarlyStopping(monitor='val_loss', min_delta=0,patience=15, restore_best_weights=True)]\n",
    "    )\n",
    "    return history\n",
    "\n",
    "history = fitModel(model, train_tokens, train_labels, test_tokens, test_labels)"
   ]
  },
  {
   "cell_type": "markdown",
   "metadata": {
    "colab_type": "text",
    "id": "zI1TPhAgGnlM"
   },
   "source": [
    "<h2>Training Metrics</h2>"
   ]
  },
  {
   "cell_type": "markdown",
   "metadata": {
    "colab_type": "text",
    "id": "4nlccxZFGnlY"
   },
   "source": [
    "<h3>Categorical Cross Entropy</h3>\n",
    "<p></p>"
   ]
  },
  {
   "cell_type": "code",
   "execution_count": 15,
   "metadata": {
    "colab": {
     "base_uri": "https://localhost:8080/",
     "height": 265
    },
    "colab_type": "code",
    "executionInfo": {
     "elapsed": 1443,
     "status": "ok",
     "timestamp": 1585679691648,
     "user": {
      "displayName": "michael dowd",
      "photoUrl": "",
      "userId": "09865951120913534207"
     },
     "user_tz": -60
    },
    "id": "7UeHpmaHGnlh",
    "outputId": "a697fedb-390c-442b-a621-40ccd61ca1ff"
   },
   "outputs": [
    {
     "data": {
      "image/png": "[encoded data removed]",
      "text/plain": [
       "<Figure size 432x288 with 1 Axes>"
      ]
     },
     "metadata": {
      "tags": []
     },
     "output_type": "display_data"
    }
   ],
   "source": [
    "fig = plt.figure()\n",
    "ax = plt.subplot(111)\n",
    "ax.plot(history.history['categoricalcrossentropy'], label = 'training categegorical cross-entropy')\n",
    "ax.plot(history.history['val_categoricalcrossentropy'], label = 'validation categegorical cross-entropy')\n",
    "ax.legend()\n",
    "plt.show()"
   ]
  },
  {
   "cell_type": "markdown",
   "metadata": {
    "colab_type": "text",
    "id": "iSpHcmV4Gnlo"
   },
   "source": [
    "<h3>Precision</h3>\n",
    "<p></p>"
   ]
  },
  {
   "cell_type": "code",
   "execution_count": 12,
   "metadata": {
    "colab": {
     "base_uri": "https://localhost:8080/",
     "height": 265
    },
    "colab_type": "code",
    "executionInfo": {
     "elapsed": 523,
     "status": "ok",
     "timestamp": 1585678999664,
     "user": {
      "displayName": "michael dowd",
      "photoUrl": "",
      "userId": "09865951120913534207"
     },
     "user_tz": -60
    },
    "id": "G3XZ-1hbGnlq",
    "outputId": "aa07f699-2dc3-41e8-96e7-22a161742bec"
   },
   "outputs": [
    {
     "data": {
      "image/png": "[encoded data removed]",
      "text/plain": [
       "<Figure size 432x288 with 1 Axes>"
      ]
     },
     "metadata": {
      "tags": []
     },
     "output_type": "display_data"
    }
   ],
   "source": [
    "fig = plt.figure()\n",
    "ax = plt.subplot(111)\n",
    "ax.plot(history.history['precision'], label = 'training precision')\n",
    "ax.plot(history.history['val_precision'], label = 'validation precision')\n",
    "ax.legend()\n",
    "plt.show()"
   ]
  },
  {
   "cell_type": "markdown",
   "metadata": {
    "colab_type": "text",
    "id": "Dn0HDcL6Gnly"
   },
   "source": [
    "<h3>Recall</h3>\n",
    "<p></p>"
   ]
  },
  {
   "cell_type": "code",
   "execution_count": 13,
   "metadata": {
    "colab": {
     "base_uri": "https://localhost:8080/",
     "height": 265
    },
    "colab_type": "code",
    "executionInfo": {
     "elapsed": 560,
     "status": "ok",
     "timestamp": 1585679002735,
     "user": {
      "displayName": "michael dowd",
      "photoUrl": "",
      "userId": "09865951120913534207"
     },
     "user_tz": -60
    },
    "id": "VGqjOUN8Gnl0",
    "outputId": "57c206ef-7328-47b3-9a8a-0a0db6e1e814"
   },
   "outputs": [
    {
     "data": {
      "image/png": "[encoded data removed]",
      "text/plain": [
       "<Figure size 432x288 with 1 Axes>"
      ]
     },
     "metadata": {
      "tags": []
     },
     "output_type": "display_data"
    }
   ],
   "source": [
    "fig = plt.figure()\n",
    "ax = plt.subplot(111)\n",
    "ax.plot(history.history['recall'], label = 'training recall')\n",
    "ax.plot(history.history['val_recall'], label = 'validation recall')\n",
    "ax.legend()\n",
    "plt.show()"
   ]
  },
  {
   "cell_type": "markdown",
   "metadata": {
    "colab_type": "text",
    "id": "JUXysy3wQM1Z"
   },
   "source": [
    "<h2>Evaluation</h2>"
   ]
  },
  {
   "cell_type": "code",
   "execution_count": 14,
   "metadata": {
    "colab": {
     "base_uri": "https://localhost:8080/",
     "height": 510
    },
    "colab_type": "code",
    "executionInfo": {
     "elapsed": 13115,
     "status": "ok",
     "timestamp": 1585679020772,
     "user": {
      "displayName": "michael dowd",
      "photoUrl": "",
      "userId": "09865951120913534207"
     },
     "user_tz": -60
    },
    "id": "ash5fAHCQIIM",
    "outputId": "4ffbf6ad-2d81-43aa-b61b-e3c4ab271912"
   },
   "outputs": [
    {
     "name": "stdout",
     "output_type": "stream",
     "text": [
      "done generating random predictions\n",
      "done generating test predictions\n",
      "Classification Report - Baseline\n",
      "              precision    recall  f1-score   support\n",
      "\n",
      "         CAG       0.33      0.32      0.33       817\n",
      "         NAG       0.41      0.33      0.37      1041\n",
      "         OAG       0.22      0.32      0.26       542\n",
      "\n",
      "    accuracy                           0.32      2400\n",
      "   macro avg       0.32      0.32      0.32      2400\n",
      "weighted avg       0.34      0.32      0.33      2400\n",
      "\n",
      "Classification Report - Model\n",
      "              precision    recall  f1-score   support\n",
      "\n",
      "         CAG       0.47      0.58      0.52       817\n",
      "         NAG       0.70      0.69      0.70      1041\n",
      "         OAG       0.57      0.37      0.45       542\n",
      "\n",
      "    accuracy                           0.58      2400\n",
      "   macro avg       0.58      0.55      0.55      2400\n",
      "weighted avg       0.59      0.58      0.58      2400\n",
      "\n",
      "Confusion Matrix\n",
      "['CAG', 'NAG', 'OAG']\n",
      "[[475 228 114]\n",
      " [281 721  39]\n",
      " [265  78 199]]\n"
     ]
    }
   ],
   "source": [
    "# Baseline - Random predictions\n",
    "identity = np.eye(len(CLASSES))\n",
    "baseline_labels=identity[np.random.choice(len(CLASSES), len(test_labels))]\n",
    "print('done generating random predictions')\n",
    "\n",
    "# Model Predictions\n",
    "y_pred = model.predict(test_tokens)\n",
    "print('done generating test predictions')\n",
    "\n",
    "print('Classification Report - Baseline')\n",
    "report_baseline = metrics.classification_report(test_labels.argmax(axis=1),\n",
    "                                       baseline_labels.argmax(axis=1),\n",
    "                                      target_names = CLASSES)\n",
    "print(report_baseline)\n",
    "print('Classification Report - Model')\n",
    "report_model = metrics.classification_report(test_labels.argmax(axis=1),\n",
    "                                       y_pred.argmax(axis=1),\n",
    "                                      target_names = CLASSES)\n",
    "print(report_model)\n",
    "\n",
    "print('Confusion Matrix')\n",
    "matrix = metrics.confusion_matrix(test_labels.argmax(axis=1), y_pred.argmax(axis=1))\n",
    "print(CLASSES)\n",
    "print(matrix)"
   ]
  }
 ],
 "metadata": {
  "accelerator": "GPU",
  "colab": {
   "collapsed_sections": [],
   "name": "Bert-FineTuning-F1Score-58.ipynb",
   "provenance": [
    {
     "file_id": "1sWhWgQwVuyhiAZRUWCFtU2uMVisD7sQ2",
     "timestamp": 1585498850897
    }
   ]
  },
  "kernelspec": {
   "display_name": "Python 3",
   "language": "python",
   "name": "python3"
  },
  "language_info": {
   "codemirror_mode": {
    "name": "ipython",
    "version": 3
   },
   "file_extension": ".py",
   "mimetype": "text/x-python",
   "name": "python",
   "nbconvert_exporter": "python",
   "pygments_lexer": "ipython3",
   "version": "3.6.6"
  }
 },
 "nbformat": 4,
 "nbformat_minor": 1
}
