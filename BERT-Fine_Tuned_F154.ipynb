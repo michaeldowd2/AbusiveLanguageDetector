{
 "cells": [
  {
   "cell_type": "markdown",
   "metadata": {
    "colab_type": "text",
    "id": "82LiJKDMGnkC"
   },
   "source": [
    "<h1>Transfer Learning with BERT</h1>"
   ]
  },
  {
   "cell_type": "code",
   "execution_count": 11,
   "metadata": {
    "colab": {
     "base_uri": "https://localhost:8080/",
     "height": 241
    },
    "colab_type": "code",
    "executionInfo": {
     "elapsed": 7664,
     "status": "ok",
     "timestamp": 1584293198401,
     "user": {
      "displayName": "michael dowd",
      "photoUrl": "",
      "userId": "09865951120913534207"
     },
     "user_tz": 0
    },
    "id": "rfRSdPDdGnkI",
    "outputId": "fc1c47f6-12f3-4db1-f016-945d318bfdb4"
   },
   "outputs": [
    {
     "name": "stdout",
     "output_type": "stream",
     "text": [
      "Requirement already satisfied: sentencepiece in /usr/local/lib/python3.6/dist-packages (0.1.85)\n",
      "Requirement already satisfied: bert-for-tf2 in /usr/local/lib/python3.6/dist-packages (0.13.5)\n",
      "Requirement already satisfied: py-params>=0.7.3 in /usr/local/lib/python3.6/dist-packages (from bert-for-tf2) (0.8.3)\n",
      "Requirement already satisfied: params-flow>=0.7.1 in /usr/local/lib/python3.6/dist-packages (from bert-for-tf2) (0.7.4)\n",
      "Requirement already satisfied: tqdm in /usr/local/lib/python3.6/dist-packages (from params-flow>=0.7.1->bert-for-tf2) (4.28.1)\n",
      "Requirement already satisfied: numpy in /tensorflow-2.1.0/python3.6 (from params-flow>=0.7.1->bert-for-tf2) (1.18.1)\n",
      "`%tensorflow_version` only switches the major version: 1.x or 2.x.\n",
      "You set: `2.1`. This will be interpreted as: `2.x`.\n",
      "\n",
      "\n",
      "TensorFlow is already loaded. Please restart the runtime to change versions.\n",
      "Libraries loaded\n"
     ]
    }
   ],
   "source": [
    "# References\n",
    "# https://colab.research.google.com/drive/1IubZ3T7gqD09ZIVmJapiB5MXUnVGlzwH#scrollTo=7LbVjtktg3Ln\n",
    "# https://medium.com/analytics-vidhya/bert-in-keras-tensorflow-2-0-using-tfhub-huggingface-81c08c5f81d8\n",
    "# https://medium.com/@brn.pistone/bert-fine-tuning-for-tensorflow-2-0-with-keras-api-9913fc1348f6\n",
    "\n",
    "# Requirements\n",
    "!pip install sentencepiece\n",
    "# pip install tensorflow_hub\n",
    "# pip install tensorflow\n",
    "!pip install bert-for-tf2\n",
    "# pip install transformers\n",
    "\n",
    "%tensorflow_version 2.1\n",
    "from __future__ import absolute_import, division, print_function, unicode_literals\n",
    "from sklearn.preprocessing import OneHotEncoder\n",
    "from sklearn.preprocessing import LabelEncoder\n",
    "from sklearn.model_selection import train_test_split\n",
    "from sklearn import metrics\n",
    "import matplotlib.pyplot as plt\n",
    "import pandas as pd\n",
    "import tensorflow as tf\n",
    "import tensorflow_hub as hub\n",
    "import bert\n",
    "import os\n",
    "import math\n",
    "import numpy as np\n",
    "import random\n",
    "import re\n",
    "from datetime import datetime\n",
    "from tensorflow.keras.layers import Lambda, Conv1D, Dense, Flatten, Dropout,Embedding, LSTM, Bidirectional, Input, Dropout, GlobalAveragePooling1D, AveragePooling1D\n",
    "from tensorflow.keras import Sequential\n",
    "from tensorflow.keras.models import Model\n",
    "from tensorflow.keras.preprocessing import sequence\n",
    "from tensorflow.keras import callbacks\n",
    "import bert\n",
    "from bert import bert_tokenization \n",
    "\n",
    "print('Libraries loaded')\n"
   ]
  },
  {
   "cell_type": "code",
   "execution_count": 2,
   "metadata": {
    "colab": {
     "base_uri": "https://localhost:8080/",
     "height": 122
    },
    "colab_type": "code",
    "executionInfo": {
     "elapsed": 19639,
     "status": "ok",
     "timestamp": 1584287515408,
     "user": {
      "displayName": "michael dowd",
      "photoUrl": "",
      "userId": "09865951120913534207"
     },
     "user_tz": 0
    },
    "id": "83ucuGFmKkfk",
    "outputId": "75effaef-ef1e-483b-f0f8-237f4c82954c"
   },
   "outputs": [
    {
     "name": "stdout",
     "output_type": "stream",
     "text": [
      "Go to this URL in a browser: https://accounts.google.com/o/oauth2/auth?client_id=947318989803-6bn6qk8qdgf4n4g3pfee6491hc0brc4i.apps.googleusercontent.com&redirect_uri=urn%3aietf%3awg%3aoauth%3a2.0%3aoob&response_type=code&scope=email%20https%3a%2f%2fwww.googleapis.com%2fauth%2fdocs.test%20https%3a%2f%2fwww.googleapis.com%2fauth%2fdrive%20https%3a%2f%2fwww.googleapis.com%2fauth%2fdrive.photos.readonly%20https%3a%2f%2fwww.googleapis.com%2fauth%2fpeopleapi.readonly\n",
      "\n",
      "Enter your authorization code:\n",
      "··········\n",
      "Mounted at /content/drive/\n"
     ]
    }
   ],
   "source": [
    "from google.colab import drive\n",
    "drive.mount('/content/drive/')"
   ]
  },
  {
   "cell_type": "code",
   "execution_count": 3,
   "metadata": {
    "colab": {
     "base_uri": "https://localhost:8080/",
     "height": 34
    },
    "colab_type": "code",
    "executionInfo": {
     "elapsed": 2568,
     "status": "ok",
     "timestamp": 1584287518578,
     "user": {
      "displayName": "michael dowd",
      "photoUrl": "",
      "userId": "09865951120913534207"
     },
     "user_tz": 0
    },
    "id": "ynpgzmnXNaJF",
    "outputId": "bb2f17f2-dba3-4c5d-81e1-e5c4d11e45ef"
   },
   "outputs": [
    {
     "name": "stdout",
     "output_type": "stream",
     "text": [
      "agr_en_train.csv  BERT.ipynb  Untitled0.ipynb\n"
     ]
    }
   ],
   "source": [
    "!ls \"/content/drive/My Drive/Colab\""
   ]
  },
  {
   "cell_type": "markdown",
   "metadata": {
    "colab_type": "text",
    "id": "mpjynkWBGnkU"
   },
   "source": [
    "<h2>Settings</h2>"
   ]
  },
  {
   "cell_type": "code",
   "execution_count": 4,
   "metadata": {
    "colab": {
     "base_uri": "https://localhost:8080/",
     "height": 34
    },
    "colab_type": "code",
    "executionInfo": {
     "elapsed": 986,
     "status": "ok",
     "timestamp": 1584287521018,
     "user": {
      "displayName": "michael dowd",
      "photoUrl": "",
      "userId": "09865951120913534207"
     },
     "user_tz": 0
    },
    "id": "jdOzoQYAGnkW",
    "outputId": "4552ba55-5fe8-4510-e0b9-7094862ded81"
   },
   "outputs": [
    {
     "name": "stdout",
     "output_type": "stream",
     "text": [
      "Settings set\n"
     ]
    }
   ],
   "source": [
    "CLASSES = ['CAG', 'NAG', 'OAG']\n",
    "MAX_LENGTH = 128\n",
    "RETRAIN_BERT = True\n",
    "TRAIN_SAMPLES = 0.8\n",
    "DATA_FILE = '/content/drive/My Drive/Colab/agr_en_train.csv'\n",
    "print('Settings set')"
   ]
  },
  {
   "cell_type": "markdown",
   "metadata": {
    "colab_type": "text",
    "id": "l6V-XeRyGnkn"
   },
   "source": [
    "<h2>Load BERT Model from Tensorflow HUB</h2>"
   ]
  },
  {
   "cell_type": "code",
   "execution_count": 12,
   "metadata": {
    "colab": {
     "base_uri": "https://localhost:8080/",
     "height": 102
    },
    "colab_type": "code",
    "executionInfo": {
     "elapsed": 7689,
     "status": "ok",
     "timestamp": 1584293211885,
     "user": {
      "displayName": "michael dowd",
      "photoUrl": "",
      "userId": "09865951120913534207"
     },
     "user_tz": 0
    },
    "id": "0gQKriwdGnkp",
    "outputId": "ba177f61-f760-4994-bf2f-f7601d65dbb4"
   },
   "outputs": [
    {
     "name": "stdout",
     "output_type": "stream",
     "text": [
      "Model Loaded\n",
      "Tokenizer Created\n",
      "Sample Tokenizer Operations\n",
      "['this', 'is', 'a', 'sample', 'token', '##ing', 'operation', '.', 'it', 'spans', 'multiple', 'sentences']\n",
      "[2023, 2003, 1037, 7099, 19204, 2075, 3169, 1012, 2009, 14798, 3674, 11746]\n"
     ]
    }
   ],
   "source": [
    "bert_path = \"https://tfhub.dev/tensorflow/bert_en_uncased_L-12_H-768_A-12/1\"\n",
    "bert_layer = hub.KerasLayer(bert_path,trainable=True)\n",
    "print('Model Loaded')\n",
    "\n",
    "vocab_file1 = bert_layer.resolved_object.vocab_file.asset_path.numpy()\n",
    "tokenizer = bert.bert_tokenization.FullTokenizer(vocab_file1, do_lower_case=True)\n",
    "print('Tokenizer Created')\n",
    "\n",
    "print('Sample Tokenizer Operations')\n",
    "sample_x = tokenizer.tokenize('this is a sample tokening operation. It spans multiple sentences')\n",
    "sample_ids = tokenizer.convert_tokens_to_ids(sample_x)\n",
    "print(sample_x)\n",
    "print(sample_ids)"
   ]
  },
  {
   "cell_type": "code",
   "execution_count": 13,
   "metadata": {
    "colab": {
     "base_uri": "https://localhost:8080/",
     "height": 1000
    },
    "colab_type": "code",
    "executionInfo": {
     "elapsed": 1925,
     "status": "ok",
     "timestamp": 1584293217879,
     "user": {
      "displayName": "michael dowd",
      "photoUrl": "",
      "userId": "09865951120913534207"
     },
     "user_tz": 0
    },
    "id": "xbu6_m6g9-Oj",
    "outputId": "833aa472-6501-4f05-cc7a-0a3472030b23"
   },
   "outputs": [
    {
     "name": "stdout",
     "output_type": "stream",
     "text": [
      "Wordcount distribution\n"
     ]
    },
    {
     "data": {
      "image/png": "[encoded data removed]",
      "text/plain": [
       "<Figure size 432x288 with 1 Axes>"
      ]
     },
     "metadata": {
      "tags": []
     },
     "output_type": "display_data"
    },
    {
     "name": "stdout",
     "output_type": "stream",
     "text": [
      "Label distribution\n"
     ]
    },
    {
     "data": {
      "image/png": "[encoded data removed]",
      "text/plain": [
       "<Figure size 432x288 with 1 Axes>"
      ]
     },
     "metadata": {
      "tags": []
     },
     "output_type": "display_data"
    },
    {
     "name": "stdout",
     "output_type": "stream",
     "text": [
      "English distribution\n"
     ]
    },
    {
     "data": {
      "image/png": "[encoded data removed]",
      "text/plain": [
       "<Figure size 432x288 with 1 Axes>"
      ]
     },
     "metadata": {
      "tags": []
     },
     "output_type": "display_data"
    },
    {
     "name": "stdout",
     "output_type": "stream",
     "text": [
      "                                                   Text  ... isEnglish\n",
      "41                   modi ji all the pain  nö real gain  ...     False\n",
      "314   yàar my ears are bleeding stop this  get the b...  ...     False\n",
      "813            रजनथ सह फर कहग क हम ननद करत ह डब मर सरकर  ...     False\n",
      "830    bot powered by prince fadii  just now done  i...  ...     False\n",
      "1107   bot powered by ishaq zada  see my bot speed  ...  ...     False\n",
      "1441       live  nse स pehlakadam season 2 grand finale  ...     False\n",
      "1462  what you should know about turkeys president r...  ...     False\n",
      "1621   bot powered by prince fadii  see my bot speed...  ...     False\n",
      "1704  a question of order india turkey and the retur...  ...     False\n",
      "1719  अर कछ त कर खल हजड क तरह तल बजत रहन स कछ नह हग ...  ...     False\n",
      "\n",
      "[10 rows x 4 columns]\n"
     ]
    }
   ],
   "source": [
    "def remove_URL(s):\n",
    "    \"\"\"Remove URLs from a sample string\"\"\"\n",
    "    return re.sub(r\"http\\S+\", \"\", s)\n",
    "\n",
    "def remove_punctuation(s):\n",
    "    return re.sub(r'[^\\w\\s]', '', s)\n",
    "    \n",
    "def remove_Emoji(s):\n",
    "    emoji_pattern = re.compile(\"[\"\n",
    "        u\"\\U0001F600-\\U0001F64F\"  # emoticons\n",
    "        u\"\\U0001F300-\\U0001F5FF\"  # symbols & pictographs\n",
    "        u\"\\U0001F680-\\U0001F6FF\"  # transport & map symbols\n",
    "        u\"\\U0001F1E0-\\U0001F1FF\"  # flags (iOS)\n",
    "                           \"]+\", flags=re.UNICODE)\n",
    "    return emoji_pattern.sub(r'', s)\n",
    "\n",
    "def replace_chars(Data):\n",
    "    Data['Text'] = Data['Text'].str.replace('\\n',' ')\n",
    "    Data['Text'] = Data['Text'].str.replace('  ',' ')\n",
    "    Data['Text'] = Data['Text'].str.strip()\n",
    "    Data['Text'] = Data['Text'].str.lower()\n",
    "    Data['Text'] = Data['Text'].str.replace('pls','please')\n",
    "    Data['Text'] = Data['Text'].str.replace('plz','please')\n",
    "    Data['Text'] = Data['Text'].str.replace(' u ',' you ')\n",
    "    Data['Text'] = Data['Text'].str.replace(' ur ',' your ')\n",
    "    Data['Text'] = Data['Text'].str.replace(' vs ',' versus ')\n",
    "    Data['Text'] = Data['Text'].str.replace(' tks ',' thanks ')\n",
    "    Data['Text'] = Data['Text'].str.replace(' tkz ',' thanks ')\n",
    "    Data['Text'] = Data['Text'].str.replace(' cud ',' could ')\n",
    "    Data['Text'] = Data['Text'].str.replace(' b ',' be ')\n",
    "    Data['Text'] = Data['Text'].str.replace(' r ',' are ')\n",
    "    Data['Text'] = Data['Text'].str.replace(' gonna ',' going to ')\n",
    "    Data['Text'] = Data['Text'].str.replace(' y ',' why ')\n",
    "    Data['Text'] = Data['Text'].str.replace('bn ',' billion ')\n",
    "    Data['Text'] = Data['Text'].str.replace('tn ',' trillion ')\n",
    "    Data['Text'] = Data['Text'].str.replace('£',' pounds ')\n",
    "    Data['Text'] = Data['Text'].str.replace('$',' dollars ')\n",
    "    return Data\n",
    "\n",
    "def isEnglish(s):\n",
    "    try:\n",
    "        s.encode(encoding='utf-8').decode('ascii')\n",
    "    except UnicodeDecodeError:\n",
    "        return False\n",
    "    else:\n",
    "        return True\n",
    "\n",
    "def create_data_frame():\n",
    "    data = pd.read_csv(DATA_FILE)\n",
    "    data.columns = ['ID','Text','Indicator']\n",
    "    data.drop(['ID'], axis='columns', inplace = True)\n",
    "    \n",
    "    data = replace_chars(data)\n",
    "    data['Text'] = data['Text'].apply(remove_Emoji)\n",
    "    data['Text'] = data['Text'].apply(remove_URL)\n",
    "    data['Text'] = data['Text'].apply(remove_punctuation)\n",
    "    data['Length'] = data['Text'].str.split(' ').apply(len)\n",
    "    data['isEnglish'] = data['Text'].apply(isEnglish)\n",
    "    return data\n",
    "\n",
    "data = create_data_frame()\n",
    "print('Wordcount distribution')\n",
    "data['Length'].hist(bins=30)\n",
    "plt.show()\n",
    "print('Label distribution')\n",
    "data['Indicator'].value_counts().plot(kind='bar')\n",
    "plt.show()\n",
    "print('English distribution')\n",
    "data['isEnglish'].value_counts().plot(kind='bar')\n",
    "plt.show()\n",
    "print(data[data['isEnglish']==False][0:10])\n"
   ]
  },
  {
   "cell_type": "code",
   "execution_count": 14,
   "metadata": {
    "colab": {
     "base_uri": "https://localhost:8080/",
     "height": 543
    },
    "colab_type": "code",
    "executionInfo": {
     "elapsed": 1359,
     "status": "ok",
     "timestamp": 1584293222697,
     "user": {
      "displayName": "michael dowd",
      "photoUrl": "",
      "userId": "09865951120913534207"
     },
     "user_tz": 0
    },
    "id": "WmPvnCHh-GNM",
    "outputId": "11eb5789-3836-4751-db89-afaa3596cb56"
   },
   "outputs": [
    {
     "data": {
      "image/png": "[encoded data removed]",
      "text/plain": [
       "<Figure size 432x288 with 1 Axes>"
      ]
     },
     "metadata": {
      "tags": []
     },
     "output_type": "display_data"
    },
    {
     "data": {
      "image/png": "[encoded data removed]",
      "text/plain": [
       "<Figure size 432x288 with 1 Axes>"
      ]
     },
     "metadata": {
      "tags": []
     },
     "output_type": "display_data"
    },
    {
     "name": "stdout",
     "output_type": "stream",
     "text": [
      "New dataset length 7926\n"
     ]
    }
   ],
   "source": [
    "def remove_too_long_samples(data):\n",
    "    return data[data['Length']<=MAX_LENGTH]\n",
    "\n",
    "def balance_samples_for_labels(data):\n",
    "    oags = data[data['Indicator']=='OAG']\n",
    "    length = len(oags.index)\n",
    "    cags = data[data['Indicator']=='CAG'].sample(n=length,random_state=42)\n",
    "    nags = data[data['Indicator']=='NAG'].sample(n=length,random_state=42)\n",
    "    all_stuff = pd.concat([oags,cags,nags])\n",
    "    \n",
    "    #shuffle dataset\n",
    "    return all_stuff.sample(n=len(all_stuff.index), random_state=42)\n",
    "    \n",
    "data = remove_too_long_samples(data)\n",
    "data = data[data['isEnglish'] == True]\n",
    "data['Length'].hist(bins=30)\n",
    "plt.show()\n",
    "data = balance_samples_for_labels(data)\n",
    "data['Indicator'].value_counts().plot(kind='bar')\n",
    "plt.show()\n",
    "print('New dataset length %s' % len(data.index))\n"
   ]
  },
  {
   "cell_type": "markdown",
   "metadata": {
    "colab_type": "text",
    "id": "2-7HtpjwGnkw"
   },
   "source": [
    "<h2>Data Processing</h2>\n",
    "<p>The Bert model loaded from TF Hub expects input data in a particular format. For every text sample, three arrays are created: most importantly the sample is tokenised and then converted to Ids using BERTs tokenizer dictionary. An input mask array and sentence location (not used for classification) array are also created."
   ]
  },
  {
   "cell_type": "code",
   "execution_count": 15,
   "metadata": {
    "colab": {
     "base_uri": "https://localhost:8080/",
     "height": 598
    },
    "colab_type": "code",
    "executionInfo": {
     "elapsed": 4806,
     "status": "ok",
     "timestamp": 1584293235474,
     "user": {
      "displayName": "michael dowd",
      "photoUrl": "",
      "userId": "09865951120913534207"
     },
     "user_tz": 0
    },
    "id": "GXt6COvdGnky",
    "outputId": "3ac42d41-05e0-4c62-afc1-1f9e0cd5fb50"
   },
   "outputs": [
    {
     "name": "stdout",
     "output_type": "stream",
     "text": [
      "Training data loaded\n",
      "[<tf.Tensor: shape=(6340, 128), dtype=int32, numpy=\n",
      "array([[  101,  2073,  2015, ...,     0,     0,     0],\n",
      "       [  101,  2796,  4671, ...,     0,     0,     0],\n",
      "       [  101,  2017,  4539, ...,     0,     0,     0],\n",
      "       ...,\n",
      "       [  101,  3282, 25329, ...,     0,     0,     0],\n",
      "       [  101,  2293,  2017, ...,     0,     0,     0],\n",
      "       [  101,  1043,  1051, ...,     0,     0,     0]], dtype=int32)>, <tf.Tensor: shape=(6340, 128), dtype=int32, numpy=\n",
      "array([[0, 0, 0, ..., 0, 0, 0],\n",
      "       [0, 0, 0, ..., 0, 0, 0],\n",
      "       [0, 0, 0, ..., 0, 0, 0],\n",
      "       ...,\n",
      "       [0, 0, 0, ..., 0, 0, 0],\n",
      "       [0, 0, 0, ..., 0, 0, 0],\n",
      "       [0, 0, 0, ..., 0, 0, 0]], dtype=int32)>, <tf.Tensor: shape=(6340, 128), dtype=int32, numpy=\n",
      "array([[1, 1, 1, ..., 0, 0, 0],\n",
      "       [1, 1, 1, ..., 0, 0, 0],\n",
      "       [1, 1, 1, ..., 0, 0, 0],\n",
      "       ...,\n",
      "       [1, 1, 1, ..., 0, 0, 0],\n",
      "       [1, 1, 1, ..., 0, 0, 0],\n",
      "       [1, 1, 1, ..., 0, 0, 0]], dtype=int32)>]\n",
      "[[1. 0. 0.]\n",
      " [0. 0. 1.]\n",
      " [1. 0. 0.]\n",
      " [0. 0. 1.]\n",
      " [0. 0. 1.]\n",
      " [0. 1. 0.]\n",
      " [0. 0. 1.]\n",
      " [0. 0. 1.]\n",
      " [0. 1. 0.]\n",
      " [1. 0. 0.]]\n"
     ]
    }
   ],
   "source": [
    "def Bertify(Set):\n",
    "    \n",
    "    tokens = map(tokenizer.tokenize, Set)\n",
    "    tokens = map(lambda tok: tok[:MAX_LENGTH-2], tokens)\n",
    "    tokens = map(lambda tok: [\"[CLS]\"] + tok + [\"[SEP]\"], tokens)\n",
    "    \n",
    "    token_ids = map(tokenizer.convert_tokens_to_ids, tokens)\n",
    "    token_ids = map(lambda tids: tids + [0] * (MAX_LENGTH - len(tids)), token_ids)\n",
    "    # token_ids = map(lambda tids: np.array(tids), token_ids)\n",
    "    token_ids = list(token_ids)\n",
    "    token_masks =[]\n",
    "    sent_segs = []\n",
    "    for token_list in token_ids:\n",
    "        token_masks.append([1 if x > 0 else 0 for x in token_list])\n",
    "        sent_segs.append([0 for x in token_list])    \n",
    "    return  [tf.cast(token_ids,tf.int32), tf.cast(sent_segs,tf.int32), tf.cast(token_masks,tf.int32)]\n",
    "\n",
    "def preprocess_data(data): \n",
    "    #One hot encoding\n",
    "    label_encoder = LabelEncoder()\n",
    "    label_encoder = label_encoder.fit(CLASSES)\n",
    "    label_ints = label_encoder.transform(data.values[:,1])\n",
    "    label_ints = label_ints.reshape(len(label_ints), 1)\n",
    "    onehot_encoder = OneHotEncoder(sparse=False, categories='auto')\n",
    "    label_onehot = onehot_encoder.fit_transform(label_ints)\n",
    "    \n",
    "    #Split to training and test\n",
    "    train_len = int(len(data.index) * TRAIN_SAMPLES)\n",
    "    \n",
    "    train_set = data.values[:train_len,0]\n",
    "    train_features = Bertify(train_set)\n",
    "    train_labels = np.array(label_onehot[:train_len,:])\n",
    "    \n",
    "    test_set = data.values[train_len:,0]\n",
    "    test_features = Bertify(test_set)\n",
    "    test_labels = np.array(label_onehot[train_len:,:])\n",
    "    \n",
    "    return train_features, train_labels, test_features, test_labels\n",
    "\n",
    "train_tokens, train_labels, test_tokens, test_labels = preprocess_data(data)\n",
    "print('Training data loaded')\n",
    "print(train_tokens[0:10])\n",
    "print(train_labels[0:10])"
   ]
  },
  {
   "cell_type": "markdown",
   "metadata": {
    "colab_type": "text",
    "id": "gbYqQ90TGnk6"
   },
   "source": [
    "<h2>Model Definition</h2>\n",
    "<p>The recommended way to use BERT is via fine-tuning with minimal additional layers appended on to focus results to the task at hand (reference).\n",
    "The example on tensorlow site uses the following layers: a lambda to flatten output, dropout, dense layer, dropout and a softmax dense layer to compute categorical output. https://github.com/kpe/bert-for-tf2/blob/master/examples/gpu_movie_reviews.ipynb</p>\n"
   ]
  },
  {
   "cell_type": "code",
   "execution_count": 16,
   "metadata": {
    "colab": {
     "base_uri": "https://localhost:8080/",
     "height": 527
    },
    "colab_type": "code",
    "executionInfo": {
     "elapsed": 2268,
     "status": "ok",
     "timestamp": 1584293244037,
     "user": {
      "displayName": "michael dowd",
      "photoUrl": "",
      "userId": "09865951120913534207"
     },
     "user_tz": 0
    },
    "id": "Sq6qYT61Gnk9",
    "outputId": "eb3779d8-17b6-458a-8161-c56d11fd8546"
   },
   "outputs": [
    {
     "name": "stdout",
     "output_type": "stream",
     "text": [
      "Model: \"model_1\"\n",
      "__________________________________________________________________________________________________\n",
      "Layer (type)                    Output Shape         Param #     Connected to                     \n",
      "==================================================================================================\n",
      "input_token_ids (InputLayer)    [(None, 128)]        0                                            \n",
      "__________________________________________________________________________________________________\n",
      "input_token_masks (InputLayer)  [(None, 128)]        0                                            \n",
      "__________________________________________________________________________________________________\n",
      "input_sent_segms (InputLayer)   [(None, 128)]        0                                            \n",
      "__________________________________________________________________________________________________\n",
      "keras_layer_1 (KerasLayer)      [(None, 768), (None, 109482241   input_token_ids[0][0]            \n",
      "                                                                 input_token_masks[0][0]          \n",
      "                                                                 input_sent_segms[0][0]           \n",
      "__________________________________________________________________________________________________\n",
      "lambda_1 (Lambda)               (None, 768)          0           keras_layer_1[0][1]              \n",
      "__________________________________________________________________________________________________\n",
      "dropout_2 (Dropout)             (None, 768)          0           lambda_1[0][0]                   \n",
      "__________________________________________________________________________________________________\n",
      "dense_2 (Dense)                 (None, 768)          590592      dropout_2[0][0]                  \n",
      "__________________________________________________________________________________________________\n",
      "dropout_3 (Dropout)             (None, 768)          0           dense_2[0][0]                    \n",
      "__________________________________________________________________________________________________\n",
      "dense_3 (Dense)                 (None, 3)            2307        dropout_3[0][0]                  \n",
      "==================================================================================================\n",
      "Total params: 110,075,140\n",
      "Trainable params: 110,075,139\n",
      "Non-trainable params: 1\n",
      "__________________________________________________________________________________________________\n",
      "None\n",
      "done\n"
     ]
    }
   ],
   "source": [
    "METRICS = [\n",
    "      tf.keras.metrics.CategoricalCrossentropy(name='categoricalcrossentropy'),\n",
    "      tf.keras.metrics.CategoricalAccuracy(name='categoricalaccuracy'),\n",
    "      tf.keras.metrics.Precision(name='precision'),\n",
    "      tf.keras.metrics.Recall(name='recall'),\n",
    "      tf.keras.metrics.AUC(name='auc'),\n",
    "]\n",
    "\n",
    "def build_model_fullyconnected():\n",
    "    \"\"\"add pretrained bert model as a keras layer\"\"\"\n",
    "    input_word_ids = Input((MAX_LENGTH,), dtype=tf.int32, name='input_token_ids')\n",
    "    input_masks = Input((MAX_LENGTH,), dtype=tf.int32, name='input_token_masks')\n",
    "    input_segments = Input((MAX_LENGTH,), dtype=tf.int32, name='input_sent_segms')\n",
    "    \n",
    "    if not RETRAIN_BERT:\n",
    "        bert_layer.trainable = False\n",
    "    \n",
    "    _, sout = bert_layer([input_word_ids, input_masks, input_segments])\n",
    "    X = Lambda(lambda seq: seq[:, 0, :])(sout)\n",
    "    X = Dropout(0.5)(X)\n",
    "    X = Dense(768, activation=\"tanh\")(X)\n",
    "    X = Dropout(0.5)(X)\n",
    "    output_ = Dense(3, activation=tf.nn.softmax)(X)\n",
    "    #output_= Dense(3, activation=tf.nn.softmax, name='output')(X)\n",
    "\n",
    "    #model = Model(input_,output_)\n",
    "    model = Model([input_word_ids, input_masks, input_segments],output_)\n",
    "    model.compile(optimizer = \"adam\",loss = \"categorical_crossentropy\",\n",
    "                    metrics = METRICS)\n",
    "    return model\n",
    "\n",
    "model = build_model_fullyconnected()\n",
    "print(model.summary())\n",
    "print('done')"
   ]
  },
  {
   "cell_type": "markdown",
   "metadata": {
    "colab_type": "text",
    "id": "j7dxeOnSGnlD"
   },
   "source": [
    "<h2>Model Training</h2>"
   ]
  },
  {
   "cell_type": "code",
   "execution_count": 17,
   "metadata": {
    "colab": {
     "base_uri": "https://localhost:8080/",
     "height": 1000
    },
    "colab_type": "code",
    "executionInfo": {
     "elapsed": 6928392,
     "status": "ok",
     "timestamp": 1584300320270,
     "user": {
      "displayName": "michael dowd",
      "photoUrl": "",
      "userId": "09865951120913534207"
     },
     "user_tz": 0
    },
    "id": "NBRA-GzIGnlF",
    "outputId": "1233da84-20b3-4839-d630-5323f505c276"
   },
   "outputs": [
    {
     "name": "stdout",
     "output_type": "stream",
     "text": [
      "Train on 4755 samples, validate on 1585 samples\n",
      "\n",
      "Epoch 00001: LearningRateScheduler reducing learning rate to 5.000000000000001e-07.\n",
      "Epoch 1/50\n",
      "3968/4755 [========================>.....] - ETA: 39s - loss: 1.3091 - categoricalcrossentropy: 1.3091 - categoricalaccuracy: 0.3533 - precision: 0.3514 - recall: 0.2319 - auc: 0.5191\n",
      "Epoch 00001: saving model to Model/bert_faq.ckpt\n",
      "4755/4755 [==============================] - 272s 57ms/sample - loss: 1.3107 - categoricalcrossentropy: 1.3107 - categoricalaccuracy: 0.3491 - precision: 0.3429 - recall: 0.2259 - auc: 0.5146 - val_loss: 1.0872 - val_categoricalcrossentropy: 1.0872 - val_categoricalaccuracy: 0.3779 - val_precision: 0.4815 - val_recall: 0.0164 - val_auc: 0.5591\n",
      "\n",
      "Epoch 00002: LearningRateScheduler reducing learning rate to 1.0000000000000002e-06.\n",
      "Epoch 2/50\n",
      "3232/4755 [===================>..........] - ETA: 1:11 - loss: 1.2672 - categoricalcrossentropy: 1.2672 - categoricalaccuracy: 0.3438 - precision: 0.3451 - recall: 0.2027 - auc: 0.5145\n",
      "Epoch 00002: saving model to Model/bert_faq.ckpt\n",
      "4755/4755 [==============================] - 255s 54ms/sample - loss: 1.2480 - categoricalcrossentropy: 1.2480 - categoricalaccuracy: 0.3514 - precision: 0.3503 - recall: 0.2011 - auc: 0.5218 - val_loss: 1.0775 - val_categoricalcrossentropy: 1.0775 - val_categoricalaccuracy: 0.3836 - val_precision: 0.6154 - val_recall: 0.0101 - val_auc: 0.5818\n",
      "\n",
      "Epoch 00003: LearningRateScheduler reducing learning rate to 1.5000000000000002e-06.\n",
      "Epoch 3/50\n",
      "2496/4755 [==============>...............] - ETA: 1:44 - loss: 1.2316 - categoricalcrossentropy: 1.2316 - categoricalaccuracy: 0.3526 - precision: 0.3662 - recall: 0.1935 - auc: 0.5242\n",
      "Epoch 00003: saving model to Model/bert_faq.ckpt\n",
      "4755/4755 [==============================] - 254s 54ms/sample - loss: 1.2225 - categoricalcrossentropy: 1.2225 - categoricalaccuracy: 0.3474 - precision: 0.3572 - recall: 0.1880 - auc: 0.5251 - val_loss: 1.0637 - val_categoricalcrossentropy: 1.0637 - val_categoricalaccuracy: 0.4322 - val_precision: 0.5625 - val_recall: 0.0227 - val_auc: 0.6187\n",
      "\n",
      "Epoch 00004: LearningRateScheduler reducing learning rate to 2.0000000000000003e-06.\n",
      "Epoch 4/50\n",
      "1760/4755 [==========>...................] - ETA: 2:18 - loss: 1.1982 - categoricalcrossentropy: 1.1982 - categoricalaccuracy: 0.3528 - precision: 0.3662 - recall: 0.1920 - auc: 0.5343\n",
      "Epoch 00004: saving model to Model/bert_faq.ckpt\n",
      "4755/4755 [==============================] - 254s 53ms/sample - loss: 1.1739 - categoricalcrossentropy: 1.1739 - categoricalaccuracy: 0.3706 - precision: 0.4032 - recall: 0.2076 - auc: 0.5542 - val_loss: 1.0277 - val_categoricalcrossentropy: 1.0277 - val_categoricalaccuracy: 0.4631 - val_precision: 0.6208 - val_recall: 0.1281 - val_auc: 0.6551\n",
      "\n",
      "Epoch 00005: LearningRateScheduler reducing learning rate to 2.5000000000000006e-06.\n",
      "Epoch 5/50\n",
      "1024/4755 [=====>........................] - ETA: 2:53 - loss: 1.1301 - categoricalcrossentropy: 1.1301 - categoricalaccuracy: 0.4141 - precision: 0.4420 - recall: 0.2529 - auc: 0.6020\n",
      "Epoch 00005: saving model to Model/bert_faq.ckpt\n",
      "4755/4755 [==============================] - 253s 53ms/sample - loss: 1.1209 - categoricalcrossentropy: 1.1209 - categoricalaccuracy: 0.4233 - precision: 0.4558 - recall: 0.2528 - auc: 0.6064 - val_loss: 0.9960 - val_categoricalcrossentropy: 0.9960 - val_categoricalaccuracy: 0.4921 - val_precision: 0.6236 - val_recall: 0.2498 - val_auc: 0.6857\n",
      "\n",
      "Epoch 00006: LearningRateScheduler reducing learning rate to 3.0000000000000005e-06.\n",
      "Epoch 6/50\n",
      " 288/4755 [>.............................] - ETA: 3:26 - loss: 1.0788 - categoricalcrossentropy: 1.0788 - categoricalaccuracy: 0.4722 - precision: 0.5000 - recall: 0.3090 - auc: 0.6508\n",
      "Epoch 00006: saving model to Model/bert_faq.ckpt\n",
      "4288/4755 [==========================>...] - ETA: 22s - loss: 1.0375 - categoricalcrossentropy: 1.0375 - categoricalaccuracy: 0.4869 - precision: 0.5295 - recall: 0.3449 - auc: 0.6789\n",
      "Epoch 00006: saving model to Model/bert_faq.ckpt\n",
      "4755/4755 [==============================] - 259s 55ms/sample - loss: 1.0337 - categoricalcrossentropy: 1.0337 - categoricalaccuracy: 0.4900 - precision: 0.5338 - recall: 0.3504 - auc: 0.6821 - val_loss: 0.9617 - val_categoricalcrossentropy: 0.9617 - val_categoricalaccuracy: 0.5338 - val_precision: 0.6196 - val_recall: 0.3464 - val_auc: 0.7227\n",
      "\n",
      "Epoch 00007: LearningRateScheduler reducing learning rate to 3.5000000000000004e-06.\n",
      "Epoch 7/50\n",
      "3552/4755 [=====================>........] - ETA: 56s - loss: 0.9761 - categoricalcrossentropy: 0.9761 - categoricalaccuracy: 0.5431 - precision: 0.5884 - recall: 0.4274 - auc: 0.7277\n",
      "Epoch 00007: saving model to Model/bert_faq.ckpt\n",
      "4755/4755 [==============================] - 255s 54ms/sample - loss: 0.9666 - categoricalcrossentropy: 0.9666 - categoricalaccuracy: 0.5430 - precision: 0.5893 - recall: 0.4294 - auc: 0.7321 - val_loss: 0.9566 - val_categoricalcrossentropy: 0.9566 - val_categoricalaccuracy: 0.5369 - val_precision: 0.5930 - val_recall: 0.3981 - val_auc: 0.7291\n",
      "\n",
      "Epoch 00008: LearningRateScheduler reducing learning rate to 4.000000000000001e-06.\n",
      "Epoch 8/50\n",
      "2816/4755 [================>.............] - ETA: 1:30 - loss: 0.8687 - categoricalcrossentropy: 0.8687 - categoricalaccuracy: 0.6012 - precision: 0.6404 - recall: 0.5128 - auc: 0.7893\n",
      "Epoch 00008: saving model to Model/bert_faq.ckpt\n",
      "4755/4755 [==============================] - 255s 54ms/sample - loss: 0.8749 - categoricalcrossentropy: 0.8749 - categoricalaccuracy: 0.6008 - precision: 0.6452 - recall: 0.5117 - auc: 0.7872 - val_loss: 1.0359 - val_categoricalcrossentropy: 1.0359 - val_categoricalaccuracy: 0.5155 - val_precision: 0.5750 - val_recall: 0.4158 - val_auc: 0.7171\n",
      "\n",
      "Epoch 00009: LearningRateScheduler reducing learning rate to 4.500000000000001e-06.\n",
      "Epoch 9/50\n",
      "2080/4755 [============>.................] - ETA: 2:05 - loss: 0.7708 - categoricalcrossentropy: 0.7708 - categoricalaccuracy: 0.6534 - precision: 0.6877 - recall: 0.5962 - auc: 0.8358\n",
      "Epoch 00009: saving model to Model/bert_faq.ckpt\n",
      "4755/4755 [==============================] - 255s 54ms/sample - loss: 0.7704 - categoricalcrossentropy: 0.7704 - categoricalaccuracy: 0.6589 - precision: 0.6921 - recall: 0.6036 - auc: 0.8383 - val_loss: 1.0844 - val_categoricalcrossentropy: 1.0844 - val_categoricalaccuracy: 0.5521 - val_precision: 0.5783 - val_recall: 0.4845 - val_auc: 0.7337\n",
      "\n",
      "Epoch 00010: LearningRateScheduler reducing learning rate to 5.000000000000001e-06.\n",
      "Epoch 10/50\n",
      "1344/4755 [=======>......................] - ETA: 2:39 - loss: 0.6593 - categoricalcrossentropy: 0.6593 - categoricalaccuracy: 0.7217 - precision: 0.7500 - recall: 0.6897 - auc: 0.8843\n",
      "Epoch 00010: saving model to Model/bert_faq.ckpt\n",
      "4755/4755 [==============================] - 256s 54ms/sample - loss: 0.6440 - categoricalcrossentropy: 0.6440 - categoricalaccuracy: 0.7281 - precision: 0.7565 - recall: 0.6900 - auc: 0.8894 - val_loss: 1.2154 - val_categoricalcrossentropy: 1.2154 - val_categoricalaccuracy: 0.5394 - val_precision: 0.5534 - val_recall: 0.5104 - val_auc: 0.7241\n",
      "\n",
      "Epoch 00011: LearningRateScheduler reducing learning rate to 5.500000000000001e-06.\n",
      "Epoch 11/50\n",
      " 608/4755 [==>...........................] - ETA: 3:13 - loss: 0.4708 - categoricalcrossentropy: 0.4708 - categoricalaccuracy: 0.8092 - precision: 0.8276 - recall: 0.7895 - auc: 0.9395\n",
      "Epoch 00011: saving model to Model/bert_faq.ckpt\n",
      "4608/4755 [============================>.] - ETA: 7s - loss: 0.4671 - categoricalcrossentropy: 0.4671 - categoricalaccuracy: 0.8194 - precision: 0.8328 - recall: 0.7997 - auc: 0.9411\n",
      "Epoch 00011: saving model to Model/bert_faq.ckpt\n",
      "4755/4755 [==============================] - 261s 55ms/sample - loss: 0.4722 - categoricalcrossentropy: 0.4722 - categoricalaccuracy: 0.8170 - precision: 0.8312 - recall: 0.7975 - auc: 0.9399 - val_loss: 1.4731 - val_categoricalcrossentropy: 1.4731 - val_categoricalaccuracy: 0.5394 - val_precision: 0.5493 - val_recall: 0.5274 - val_auc: 0.7301\n",
      "\n",
      "Epoch 00012: LearningRateScheduler reducing learning rate to 6.000000000000001e-06.\n",
      "Epoch 12/50\n",
      "3872/4755 [=======================>......] - ETA: 41s - loss: 0.2925 - categoricalcrossentropy: 0.2925 - categoricalaccuracy: 0.8936 - precision: 0.9016 - recall: 0.8848 - auc: 0.9756\n",
      "Epoch 00012: saving model to Model/bert_faq.ckpt\n",
      "4755/4755 [==============================] - 257s 54ms/sample - loss: 0.2855 - categoricalcrossentropy: 0.2855 - categoricalaccuracy: 0.8980 - precision: 0.9054 - recall: 0.8896 - auc: 0.9767 - val_loss: 1.7589 - val_categoricalcrossentropy: 1.7589 - val_categoricalaccuracy: 0.5457 - val_precision: 0.5503 - val_recall: 0.5420 - val_auc: 0.7282\n",
      "\n",
      "Epoch 00013: LearningRateScheduler reducing learning rate to 6.500000000000001e-06.\n",
      "Epoch 13/50\n",
      "3136/4755 [==================>...........] - ETA: 1:15 - loss: 0.1674 - categoricalcrossentropy: 0.1674 - categoricalaccuracy: 0.9436 - precision: 0.9463 - recall: 0.9391 - auc: 0.9909\n",
      "Epoch 00013: saving model to Model/bert_faq.ckpt\n",
      "4755/4755 [==============================] - 255s 54ms/sample - loss: 0.1793 - categoricalcrossentropy: 0.1793 - categoricalaccuracy: 0.9392 - precision: 0.9423 - recall: 0.9350 - auc: 0.9898 - val_loss: 1.9845 - val_categoricalcrossentropy: 1.9845 - val_categoricalaccuracy: 0.5325 - val_precision: 0.5351 - val_recall: 0.5287 - val_auc: 0.7163\n",
      "\n",
      "Epoch 00014: LearningRateScheduler reducing learning rate to 7.000000000000001e-06.\n",
      "Epoch 14/50\n",
      "2400/4755 [==============>...............] - ETA: 1:50 - loss: 0.1339 - categoricalcrossentropy: 0.1339 - categoricalaccuracy: 0.9579 - precision: 0.9598 - recall: 0.9558 - auc: 0.9936\n",
      "Epoch 00014: saving model to Model/bert_faq.ckpt\n",
      "4755/4755 [==============================] - 255s 54ms/sample - loss: 0.1239 - categoricalcrossentropy: 0.1239 - categoricalaccuracy: 0.9611 - precision: 0.9624 - recall: 0.9594 - auc: 0.9943 - val_loss: 2.4794 - val_categoricalcrossentropy: 2.4794 - val_categoricalaccuracy: 0.5256 - val_precision: 0.5277 - val_recall: 0.5224 - val_auc: 0.6932\n",
      "\n",
      "Epoch 00015: LearningRateScheduler reducing learning rate to 7.500000000000001e-06.\n",
      "Epoch 15/50\n",
      "1664/4755 [=========>....................] - ETA: 2:24 - loss: 0.0902 - categoricalcrossentropy: 0.0902 - categoricalaccuracy: 0.9688 - precision: 0.9698 - recall: 0.9663 - auc: 0.9977\n",
      "Epoch 00015: saving model to Model/bert_faq.ckpt\n",
      "4755/4755 [==============================] - 255s 54ms/sample - loss: 0.0915 - categoricalcrossentropy: 0.0915 - categoricalaccuracy: 0.9685 - precision: 0.9700 - recall: 0.9670 - auc: 0.9972 - val_loss: 2.7513 - val_categoricalcrossentropy: 2.7513 - val_categoricalaccuracy: 0.5167 - val_precision: 0.5177 - val_recall: 0.5155 - val_auc: 0.6843\n",
      "\n",
      "Epoch 00016: LearningRateScheduler reducing learning rate to 8.000000000000001e-06.\n",
      "Epoch 16/50\n",
      " 928/4755 [====>.........................] - ETA: 2:59 - loss: 0.0562 - categoricalcrossentropy: 0.0562 - categoricalaccuracy: 0.9774 - precision: 0.9784 - recall: 0.9774 - auc: 0.9991\n",
      "Epoch 00016: saving model to Model/bert_faq.ckpt\n",
      "4755/4755 [==============================] - 255s 54ms/sample - loss: 0.0599 - categoricalcrossentropy: 0.0599 - categoricalaccuracy: 0.9823 - precision: 0.9836 - recall: 0.9813 - auc: 0.9980 - val_loss: 2.8320 - val_categoricalcrossentropy: 2.8320 - val_categoricalaccuracy: 0.5293 - val_precision: 0.5307 - val_recall: 0.5287 - val_auc: 0.6907\n",
      "\n",
      "Epoch 00017: LearningRateScheduler reducing learning rate to 8.500000000000002e-06.\n",
      "Epoch 17/50\n",
      " 192/4755 [>.............................] - ETA: 3:33 - loss: 0.0217 - categoricalcrossentropy: 0.0217 - categoricalaccuracy: 0.9948 - precision: 0.9948 - recall: 0.9948 - auc: 0.9999\n",
      "Epoch 00017: saving model to Model/bert_faq.ckpt\n",
      "4192/4755 [=========================>....] - ETA: 27s - loss: 0.0422 - categoricalcrossentropy: 0.0422 - categoricalaccuracy: 0.9862 - precision: 0.9873 - recall: 0.9852 - auc: 0.9988\n",
      "Epoch 00017: saving model to Model/bert_faq.ckpt\n",
      "4755/4755 [==============================] - 261s 55ms/sample - loss: 0.0447 - categoricalcrossentropy: 0.0447 - categoricalaccuracy: 0.9857 - precision: 0.9867 - recall: 0.9849 - auc: 0.9985 - val_loss: 2.9035 - val_categoricalcrossentropy: 2.9035 - val_categoricalaccuracy: 0.5274 - val_precision: 0.5289 - val_recall: 0.5256 - val_auc: 0.6885\n",
      "\n",
      "Epoch 00018: LearningRateScheduler reducing learning rate to 9.000000000000002e-06.\n",
      "Epoch 18/50\n",
      "3456/4755 [====================>.........] - ETA: 1:00 - loss: 0.0399 - categoricalcrossentropy: 0.0399 - categoricalaccuracy: 0.9890 - precision: 0.9893 - recall: 0.9887 - auc: 0.9987\n",
      "Epoch 00018: saving model to Model/bert_faq.ckpt\n",
      "4755/4755 [==============================] - 255s 54ms/sample - loss: 0.0533 - categoricalcrossentropy: 0.0533 - categoricalaccuracy: 0.9853 - precision: 0.9857 - recall: 0.9844 - auc: 0.9982 - val_loss: 2.6239 - val_categoricalcrossentropy: 2.6239 - val_categoricalaccuracy: 0.5129 - val_precision: 0.5134 - val_recall: 0.5091 - val_auc: 0.6842\n",
      "\n",
      "Epoch 00019: LearningRateScheduler reducing learning rate to 9.500000000000002e-06.\n",
      "Epoch 19/50\n",
      "2720/4755 [================>.............] - ETA: 1:35 - loss: 0.0334 - categoricalcrossentropy: 0.0334 - categoricalaccuracy: 0.9923 - precision: 0.9926 - recall: 0.9915 - auc: 0.9989\n",
      "Epoch 00019: saving model to Model/bert_faq.ckpt\n",
      "4755/4755 [==============================] - 255s 54ms/sample - loss: 0.0341 - categoricalcrossentropy: 0.0341 - categoricalaccuracy: 0.9916 - precision: 0.9918 - recall: 0.9907 - auc: 0.9989 - val_loss: 2.7987 - val_categoricalcrossentropy: 2.7987 - val_categoricalaccuracy: 0.5325 - val_precision: 0.5333 - val_recall: 0.5306 - val_auc: 0.6981\n",
      "\n",
      "Epoch 00020: LearningRateScheduler reducing learning rate to 1.0000000000000003e-05.\n",
      "Epoch 20/50\n",
      "1984/4755 [===========>..................] - ETA: 2:09 - loss: 0.0398 - categoricalcrossentropy: 0.0398 - categoricalaccuracy: 0.9869 - precision: 0.9879 - recall: 0.9864 - auc: 0.9985\n",
      "Epoch 00020: saving model to Model/bert_faq.ckpt\n",
      "4755/4755 [==============================] - 256s 54ms/sample - loss: 0.0464 - categoricalcrossentropy: 0.0464 - categoricalaccuracy: 0.9846 - precision: 0.9857 - recall: 0.9842 - auc: 0.9984 - val_loss: 2.8874 - val_categoricalcrossentropy: 2.8874 - val_categoricalaccuracy: 0.5325 - val_precision: 0.5315 - val_recall: 0.5268 - val_auc: 0.6919\n",
      "\n",
      "Epoch 00021: LearningRateScheduler reducing learning rate to 8.619535664753031e-06.\n",
      "Epoch 21/50\n",
      "1248/4755 [======>.......................] - ETA: 2:44 - loss: 0.0567 - categoricalcrossentropy: 0.0567 - categoricalaccuracy: 0.9792 - precision: 0.9807 - recall: 0.9784 - auc: 0.9986\n",
      "Epoch 00021: saving model to Model/bert_faq.ckpt\n",
      "4755/4755 [==============================] - 256s 54ms/sample - loss: 0.0734 - categoricalcrossentropy: 0.0734 - categoricalaccuracy: 0.9752 - precision: 0.9758 - recall: 0.9743 - auc: 0.9974 - val_loss: 3.0177 - val_categoricalcrossentropy: 3.0177 - val_categoricalaccuracy: 0.5300 - val_precision: 0.5337 - val_recall: 0.5293 - val_auc: 0.6891\n",
      "\n",
      "Epoch 00022: LearningRateScheduler reducing learning rate to 7.429639507594948e-06.\n",
      "Epoch 22/50\n",
      " 512/4755 [==>...........................] - ETA: 3:19 - loss: 0.0244 - categoricalcrossentropy: 0.0244 - categoricalaccuracy: 0.9961 - precision: 0.9961 - recall: 0.9961 - auc: 0.9984\n",
      "Epoch 00022: saving model to Model/bert_faq.ckpt\n",
      "4512/4755 [===========================>..] - ETA: 11s - loss: 0.0350 - categoricalcrossentropy: 0.0350 - categoricalaccuracy: 0.9894 - precision: 0.9898 - recall: 0.9885 - auc: 0.9989\n",
      "Epoch 00022: saving model to Model/bert_faq.ckpt\n",
      "4755/4755 [==============================] - 262s 55ms/sample - loss: 0.0348 - categoricalcrossentropy: 0.0348 - categoricalaccuracy: 0.9895 - precision: 0.9899 - recall: 0.9886 - auc: 0.9989 - val_loss: 3.3526 - val_categoricalcrossentropy: 3.3526 - val_categoricalaccuracy: 0.5022 - val_precision: 0.5038 - val_recall: 0.5022 - val_auc: 0.6682\n",
      "\n",
      "Epoch 00023: LearningRateScheduler reducing learning rate to 6.404004271197281e-06.\n",
      "Epoch 23/50\n",
      "3776/4755 [======================>.......] - ETA: 45s - loss: 0.0192 - categoricalcrossentropy: 0.0192 - categoricalaccuracy: 0.9928 - precision: 0.9931 - recall: 0.9926 - auc: 0.9999\n",
      "Epoch 00023: saving model to Model/bert_faq.ckpt\n",
      "4755/4755 [==============================] - 256s 54ms/sample - loss: 0.0190 - categoricalcrossentropy: 0.0190 - categoricalaccuracy: 0.9928 - precision: 0.9931 - recall: 0.9926 - auc: 0.9999 - val_loss: 3.5005 - val_categoricalcrossentropy: 3.5005 - val_categoricalaccuracy: 0.5003 - val_precision: 0.5013 - val_recall: 0.4991 - val_auc: 0.6677\n",
      "\n",
      "Epoch 00024: LearningRateScheduler reducing learning rate to 5.51995432128157e-06.\n",
      "Epoch 24/50\n",
      "3040/4755 [==================>...........] - ETA: 1:19 - loss: 0.0155 - categoricalcrossentropy: 0.0155 - categoricalaccuracy: 0.9944 - precision: 0.9947 - recall: 0.9944 - auc: 0.9997\n",
      "Epoch 00024: saving model to Model/bert_faq.ckpt\n",
      "4755/4755 [==============================] - 254s 53ms/sample - loss: 0.0150 - categoricalcrossentropy: 0.0150 - categoricalaccuracy: 0.9945 - precision: 0.9947 - recall: 0.9945 - auc: 0.9998 - val_loss: 3.5009 - val_categoricalcrossentropy: 3.5009 - val_categoricalaccuracy: 0.5218 - val_precision: 0.5225 - val_recall: 0.5211 - val_auc: 0.6827\n",
      "\n",
      "Epoch 00025: LearningRateScheduler reducing learning rate to 4.757944314009411e-06.\n",
      "Epoch 25/50\n",
      "2304/4755 [=============>................] - ETA: 1:54 - loss: 0.0107 - categoricalcrossentropy: 0.0107 - categoricalaccuracy: 0.9957 - precision: 0.9957 - recall: 0.9957 - auc: 0.9996\n",
      "Epoch 00025: saving model to Model/bert_faq.ckpt\n",
      "4755/4755 [==============================] - 255s 54ms/sample - loss: 0.0100 - categoricalcrossentropy: 0.0100 - categoricalaccuracy: 0.9960 - precision: 0.9960 - recall: 0.9958 - auc: 0.9998 - val_loss: 3.4833 - val_categoricalcrossentropy: 3.4833 - val_categoricalaccuracy: 0.5243 - val_precision: 0.5247 - val_recall: 0.5224 - val_auc: 0.6843\n",
      "\n",
      "Epoch 00026: LearningRateScheduler reducing learning rate to 4.101127070551301e-06.\n",
      "Epoch 26/50\n",
      "1568/4755 [========>.....................] - ETA: 2:28 - loss: 0.0106 - categoricalcrossentropy: 0.0106 - categoricalaccuracy: 0.9962 - precision: 0.9962 - recall: 0.9955 - auc: 1.0000\n",
      "Epoch 00026: saving model to Model/bert_faq.ckpt\n",
      "4755/4755 [==============================] - 254s 53ms/sample - loss: 0.0099 - categoricalcrossentropy: 0.0099 - categoricalaccuracy: 0.9968 - precision: 0.9968 - recall: 0.9966 - auc: 1.0000 - val_loss: 3.5679 - val_categoricalcrossentropy: 3.5679 - val_categoricalaccuracy: 0.5281 - val_precision: 0.5282 - val_recall: 0.5262 - val_auc: 0.6807\n",
      "\n",
      "Epoch 00027: LearningRateScheduler reducing learning rate to 3.5349811050301065e-06.\n",
      "Epoch 27/50\n",
      " 832/4755 [====>.........................] - ETA: 3:02 - loss: 0.0082 - categoricalcrossentropy: 0.0082 - categoricalaccuracy: 0.9976 - precision: 0.9976 - recall: 0.9976 - auc: 1.0000\n",
      "Epoch 00027: saving model to Model/bert_faq.ckpt\n",
      "4755/4755 [==============================] - 254s 54ms/sample - loss: 0.0084 - categoricalcrossentropy: 0.0084 - categoricalaccuracy: 0.9966 - precision: 0.9977 - recall: 0.9962 - auc: 1.0000 - val_loss: 3.6584 - val_categoricalcrossentropy: 3.6584 - val_categoricalaccuracy: 0.5211 - val_precision: 0.5212 - val_recall: 0.5205 - val_auc: 0.6803\n"
     ]
    }
   ],
   "source": [
    "def create_learning_rate_scheduler(max_learn_rate=5e-5, end_learn_rate=1e-7, warmup_epoch_count=10, total_epoch_count=90):\n",
    "\n",
    "    def lr_scheduler(epoch):\n",
    "        if epoch < warmup_epoch_count:\n",
    "            res = (max_learn_rate/warmup_epoch_count) * (epoch + 1)\n",
    "        else:\n",
    "            res = max_learn_rate*math.exp(math.log(end_learn_rate/max_learn_rate)*(epoch-warmup_epoch_count+1)/(total_epoch_count-warmup_epoch_count+1))\n",
    "        return float(res)\n",
    "    learning_rate_scheduler = tf.keras.callbacks.LearningRateScheduler(lr_scheduler, verbose=1)\n",
    "    return learning_rate_scheduler\n",
    "\n",
    "def fitModel(Model, training_set, training_label, testing_set, testing_label):\n",
    "    checkpointName = os.path.join('Model', \"bert_faq.ckpt\")\n",
    "\n",
    "    # Create a callback that saves the model's weights\n",
    "    cp_callback = tf.keras.callbacks.ModelCheckpoint(filepath=checkpointName,\n",
    "                                                     save_weights_only=True,\n",
    "                                                     save_freq = 4000,\n",
    "                                                     mode='auto',\n",
    "                                                     verbose=1)\n",
    "    # callback = StopTrainingClassComplete()\n",
    "    total_epoch_count = 50\n",
    "    history = Model.fit(\n",
    "        training_set,\n",
    "        training_label,\n",
    "        epochs=50,\n",
    "        validation_split=0.25,\n",
    "        verbose=1,\n",
    "        callbacks=[cp_callback,\n",
    "                   create_learning_rate_scheduler(max_learn_rate=1e-5, end_learn_rate=1e-7, warmup_epoch_count=20, total_epoch_count=total_epoch_count),\n",
    "                   callbacks.EarlyStopping(patience=20, restore_best_weights=True)]\n",
    "    )\n",
    "    return history\n",
    "\n",
    "history = fitModel(model, train_tokens, train_labels, test_tokens, test_labels)"
   ]
  },
  {
   "cell_type": "markdown",
   "metadata": {
    "colab_type": "text",
    "id": "zI1TPhAgGnlM"
   },
   "source": [
    "<h2>Training Metrics</h2>"
   ]
  },
  {
   "cell_type": "markdown",
   "metadata": {
    "colab_type": "text",
    "id": "4nlccxZFGnlY"
   },
   "source": [
    "<h3>Categorical Accuracy</h3>\n",
    "<p></p>"
   ]
  },
  {
   "cell_type": "code",
   "execution_count": 18,
   "metadata": {
    "colab": {
     "base_uri": "https://localhost:8080/",
     "height": 265
    },
    "colab_type": "code",
    "executionInfo": {
     "elapsed": 1585,
     "status": "ok",
     "timestamp": 1584302939057,
     "user": {
      "displayName": "michael dowd",
      "photoUrl": "",
      "userId": "09865951120913534207"
     },
     "user_tz": 0
    },
    "id": "7UeHpmaHGnlh",
    "outputId": "0ed17ae1-8244-4ada-b411-f232189decc7"
   },
   "outputs": [
    {
     "data": {
      "image/png": "[encoded data removed]",
      "text/plain": [
       "<Figure size 432x288 with 1 Axes>"
      ]
     },
     "metadata": {
      "tags": []
     },
     "output_type": "display_data"
    }
   ],
   "source": [
    "fig = plt.figure()\n",
    "ax = plt.subplot(111)\n",
    "ax.plot(history.history['categoricalaccuracy'], label = 'training categegorical accuracy')\n",
    "ax.plot(history.history['val_categoricalaccuracy'], label = 'testing categegorical accuracy')\n",
    "ax.legend()\n",
    "plt.show()"
   ]
  },
  {
   "cell_type": "markdown",
   "metadata": {
    "colab_type": "text",
    "id": "iSpHcmV4Gnlo"
   },
   "source": [
    "<h3>Precision</h3>\n",
    "<p></p>"
   ]
  },
  {
   "cell_type": "code",
   "execution_count": 19,
   "metadata": {
    "colab": {
     "base_uri": "https://localhost:8080/",
     "height": 265
    },
    "colab_type": "code",
    "executionInfo": {
     "elapsed": 1795,
     "status": "ok",
     "timestamp": 1584302951205,
     "user": {
      "displayName": "michael dowd",
      "photoUrl": "",
      "userId": "09865951120913534207"
     },
     "user_tz": 0
    },
    "id": "G3XZ-1hbGnlq",
    "outputId": "fbf4eee1-e128-4ad6-b99c-8e6f40a8e1a5"
   },
   "outputs": [
    {
     "data": {
      "image/png": "[encoded data removed]",
      "text/plain": [
       "<Figure size 432x288 with 1 Axes>"
      ]
     },
     "metadata": {
      "tags": []
     },
     "output_type": "display_data"
    }
   ],
   "source": [
    "fig = plt.figure()\n",
    "ax = plt.subplot(111)\n",
    "ax.plot(history.history['precision'], label = 'training precision')\n",
    "ax.plot(history.history['val_precision'], label = 'testing precision')\n",
    "ax.legend()\n",
    "plt.show()"
   ]
  },
  {
   "cell_type": "markdown",
   "metadata": {
    "colab_type": "text",
    "id": "Dn0HDcL6Gnly"
   },
   "source": [
    "<h3>Recall</h3>\n",
    "<p></p>"
   ]
  },
  {
   "cell_type": "code",
   "execution_count": 20,
   "metadata": {
    "colab": {
     "base_uri": "https://localhost:8080/",
     "height": 265
    },
    "colab_type": "code",
    "executionInfo": {
     "elapsed": 1628,
     "status": "ok",
     "timestamp": 1584302968529,
     "user": {
      "displayName": "michael dowd",
      "photoUrl": "",
      "userId": "09865951120913534207"
     },
     "user_tz": 0
    },
    "id": "VGqjOUN8Gnl0",
    "outputId": "ec68f2d8-80b5-4f32-bca4-984e350568a6"
   },
   "outputs": [
    {
     "data": {
      "image/png": "[encoded data removed]",
      "text/plain": [
       "<Figure size 432x288 with 1 Axes>"
      ]
     },
     "metadata": {
      "tags": []
     },
     "output_type": "display_data"
    }
   ],
   "source": [
    "fig = plt.figure()\n",
    "ax = plt.subplot(111)\n",
    "ax.plot(history.history['recall'], label = 'training recall')\n",
    "ax.plot(history.history['val_recall'], label = 'testing recall')\n",
    "ax.legend()\n",
    "plt.show()"
   ]
  },
  {
   "cell_type": "markdown",
   "metadata": {
    "colab_type": "text",
    "id": "JUXysy3wQM1Z"
   },
   "source": [
    "<h2>Evaluation</h2>"
   ]
  },
  {
   "cell_type": "code",
   "execution_count": 21,
   "metadata": {
    "colab": {
     "base_uri": "https://localhost:8080/",
     "height": 510
    },
    "colab_type": "code",
    "executionInfo": {
     "elapsed": 28110,
     "status": "ok",
     "timestamp": 1584303002562,
     "user": {
      "displayName": "michael dowd",
      "photoUrl": "",
      "userId": "09865951120913534207"
     },
     "user_tz": 0
    },
    "id": "ash5fAHCQIIM",
    "outputId": "aa346782-cf14-47ce-93dc-2d2c0d8fa18f"
   },
   "outputs": [
    {
     "name": "stdout",
     "output_type": "stream",
     "text": [
      "done generating random predictions\n",
      "done generating test predictions\n",
      "Classification Report - Baseline\n",
      "              precision    recall  f1-score   support\n",
      "\n",
      "         CAG       0.36      0.34      0.35       561\n",
      "         NAG       0.33      0.33      0.33       531\n",
      "         OAG       0.30      0.31      0.31       494\n",
      "\n",
      "    accuracy                           0.33      1586\n",
      "   macro avg       0.33      0.33      0.33      1586\n",
      "weighted avg       0.33      0.33      0.33      1586\n",
      "\n",
      "Classification Report - Model\n",
      "              precision    recall  f1-score   support\n",
      "\n",
      "         CAG       0.44      0.51      0.48       561\n",
      "         NAG       0.69      0.53      0.60       531\n",
      "         OAG       0.52      0.55      0.53       494\n",
      "\n",
      "    accuracy                           0.53      1586\n",
      "   macro avg       0.55      0.53      0.54      1586\n",
      "weighted avg       0.55      0.53      0.54      1586\n",
      "\n",
      "Confusion Matrix\n",
      "['CAG', 'NAG', 'OAG']\n",
      "[[288  91 182]\n",
      " [174 282  75]\n",
      " [188  33 273]]\n"
     ]
    }
   ],
   "source": [
    "# Baseline - Random predictions\n",
    "identity = np.eye(len(CLASSES))\n",
    "baseline_labels=identity[np.random.choice(len(CLASSES), len(test_labels))]\n",
    "print('done generating random predictions')\n",
    "\n",
    "# Model Predictions\n",
    "y_pred = model.predict(test_tokens)\n",
    "print('done generating test predictions')\n",
    "\n",
    "print('Classification Report - Baseline')\n",
    "report_baseline = metrics.classification_report(test_labels.argmax(axis=1),\n",
    "                                       baseline_labels.argmax(axis=1),\n",
    "                                      target_names = CLASSES)\n",
    "print(report_baseline)\n",
    "print('Classification Report - Model')\n",
    "report_model = metrics.classification_report(test_labels.argmax(axis=1),\n",
    "                                       y_pred.argmax(axis=1),\n",
    "                                      target_names = CLASSES)\n",
    "print(report_model)\n",
    "\n",
    "print('Confusion Matrix')\n",
    "matrix = metrics.confusion_matrix(test_labels.argmax(axis=1), y_pred.argmax(axis=1))\n",
    "print(CLASSES)\n",
    "print(matrix)"
   ]
  }
 ],
 "metadata": {
  "accelerator": "GPU",
  "colab": {
   "collapsed_sections": [],
   "name": "BERT.ipynb",
   "provenance": []
  },
  "kernelspec": {
   "display_name": "Python 3",
   "language": "python",
   "name": "python3"
  },
  "language_info": {
   "codemirror_mode": {
    "name": "ipython",
    "version": 3
   },
   "file_extension": ".py",
   "mimetype": "text/x-python",
   "name": "python",
   "nbconvert_exporter": "python",
   "pygments_lexer": "ipython3",
   "version": "3.6.6"
  }
 },
 "nbformat": 4,
 "nbformat_minor": 1
}
