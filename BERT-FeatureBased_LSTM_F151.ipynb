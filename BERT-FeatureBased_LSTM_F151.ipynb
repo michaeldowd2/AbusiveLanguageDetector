{
 "cells": [
  {
   "cell_type": "markdown",
   "metadata": {},
   "source": [
    "<h1>Transfer Learning with BERT</h1>"
   ]
  },
  {
   "cell_type": "code",
   "execution_count": 1,
   "metadata": {},
   "outputs": [
    {
     "name": "stdout",
     "output_type": "stream",
     "text": [
      "Libraries loaded\n"
     ]
    }
   ],
   "source": [
    "# References\n",
    "# https://colab.research.google.com/drive/1IubZ3T7gqD09ZIVmJapiB5MXUnVGlzwH#scrollTo=7LbVjtktg3Ln\n",
    "# https://medium.com/analytics-vidhya/bert-in-keras-tensorflow-2-0-using-tfhub-huggingface-81c08c5f81d8\n",
    "# https://medium.com/@brn.pistone/bert-fine-tuning-for-tensorflow-2-0-with-keras-api-9913fc1348f6\n",
    "\n",
    "# https://www.aclweb.org/anthology/W18-4407.pdf\n",
    "# https://www.aclweb.org/anthology/W18-4408.pdf\n",
    "\n",
    "# Requirements\n",
    "# pip install sentencepiece\n",
    "# pip install tensorflow_hub\n",
    "# pip install tensorflow\n",
    "# pip install bert-for-tf2\n",
    "# pip install transformers\n",
    "\n",
    "from sklearn.preprocessing import OneHotEncoder\n",
    "from sklearn.preprocessing import LabelEncoder\n",
    "from sklearn.model_selection import train_test_split\n",
    "from sklearn import metrics\n",
    "import matplotlib.pyplot as plt\n",
    "import pandas as pd\n",
    "import tensorflow as tf\n",
    "import tensorflow_hub as hub\n",
    "import bert\n",
    "import os\n",
    "import numpy as np\n",
    "import random\n",
    "import re\n",
    "from datetime import datetime\n",
    "from tensorflow.keras.layers import Conv1D, Dense, Flatten, Dropout,Embedding, LSTM, Bidirectional, Input, Dropout, GlobalAveragePooling1D, AveragePooling1D\n",
    "from tensorflow.keras import Sequential\n",
    "from tensorflow.keras.models import Model\n",
    "from tensorflow.keras.preprocessing import sequence\n",
    "import bert\n",
    "from bert import bert_tokenization \n",
    "\n",
    "print('Libraries loaded')\n"
   ]
  },
  {
   "cell_type": "markdown",
   "metadata": {},
   "source": [
    "<h2>Settings</h2>"
   ]
  },
  {
   "cell_type": "code",
   "execution_count": 2,
   "metadata": {},
   "outputs": [
    {
     "name": "stdout",
     "output_type": "stream",
     "text": [
      "Settings set\n"
     ]
    }
   ],
   "source": [
    "CLASSES = ['CAG', 'NAG', 'OAG']\n",
    "MAX_LENGTH = 128\n",
    "TRAIN_MODEL = True\n",
    "RETRAIN_BERT = False\n",
    "TRAIN_SAMPLES = 0.8\n",
    "LOAD_MODEL_AND_PREDICT = True\n",
    "TEXT_TO_PREDICT = ['That is a well reasoned point',\n",
    "                   'This is happening in BJP ruled state. Shame on the adminstration']\n",
    "DATA_FILE = 'Data/agr_en_train.csv'\n",
    "print('Settings set')"
   ]
  },
  {
   "cell_type": "markdown",
   "metadata": {},
   "source": [
    "<h2>Load BERT Model from Tensorflow HUB</h2>"
   ]
  },
  {
   "cell_type": "code",
   "execution_count": 3,
   "metadata": {},
   "outputs": [
    {
     "name": "stdout",
     "output_type": "stream",
     "text": [
      "Model Loaded\n",
      "Tokenizer Created\n",
      "Sample Tokenizer Operations\n",
      "['this', 'is', 'a', 'sample', 'token', '##ing', 'operation', '.', 'it', 'spans', 'multiple', 'sentences']\n",
      "[2023, 2003, 1037, 7099, 19204, 2075, 3169, 1012, 2009, 14798, 3674, 11746]\n"
     ]
    }
   ],
   "source": [
    "bert_path = \"https://tfhub.dev/tensorflow/bert_en_uncased_L-12_H-768_A-12/1\"\n",
    "bert_layer = hub.KerasLayer(bert_path,trainable=True)\n",
    "print('Model Loaded')\n",
    "\n",
    "vocab_file1 = bert_layer.resolved_object.vocab_file.asset_path.numpy()\n",
    "tokenizer = bert.bert_tokenization.FullTokenizer(vocab_file1, do_lower_case=True)\n",
    "print('Tokenizer Created')\n",
    "\n",
    "print('Sample Tokenizer Operations')\n",
    "sample_x = tokenizer.tokenize('this is a sample tokening operation. It spans multiple sentences')\n",
    "sample_ids = tokenizer.convert_tokens_to_ids(sample_x)\n",
    "print(sample_x)\n",
    "print(sample_ids)"
   ]
  },
  {
   "cell_type": "markdown",
   "metadata": {},
   "source": [
    "<h2>Load Data and Explore</h2>\n",
    "<p>Want to make sure the target labels are well balanced. Also need to find the average length of the posts as the BERT model requires inputs up to a certain length</p>"
   ]
  },
  {
   "cell_type": "code",
   "execution_count": 4,
   "metadata": {},
   "outputs": [
    {
     "name": "stdout",
     "output_type": "stream",
     "text": [
      "Wordcount distribution\n"
     ]
    },
    {
     "data": {
      "image/png": "[encoded data removed]",
      "text/plain": [
       "<Figure size 432x288 with 1 Axes>"
      ]
     },
     "metadata": {
      "needs_background": "light"
     },
     "output_type": "display_data"
    },
    {
     "name": "stdout",
     "output_type": "stream",
     "text": [
      "Label distribution\n"
     ]
    },
    {
     "data": {
      "image/png": "[encoded data removed]",
      "text/plain": [
       "<Figure size 432x288 with 1 Axes>"
      ]
     },
     "metadata": {
      "needs_background": "light"
     },
     "output_type": "display_data"
    },
    {
     "name": "stdout",
     "output_type": "stream",
     "text": [
      "English distribution\n"
     ]
    },
    {
     "data": {
      "image/png": "[encoded data removed]",
      "text/plain": [
       "<Figure size 432x288 with 1 Axes>"
      ]
     },
     "metadata": {
      "needs_background": "light"
     },
     "output_type": "display_data"
    },
    {
     "name": "stdout",
     "output_type": "stream",
     "text": [
      "                                                   Text Indicator  Length  \\\n",
      "41                   modi ji all the pain  nö real gain       CAG       9   \n",
      "314   yàar my ears are bleeding stop this  get the b...       CAG      13   \n",
      "813            रजनथ सह फर कहग क हम ननद करत ह डब मर सरकर       CAG      12   \n",
      "830    bot powered by prince fadii  just now done  i...       NAG      61   \n",
      "1107   bot powered by ishaq zada  see my bot speed  ...       NAG      66   \n",
      "1441       live  nse स pehlakadam season 2 grand finale       NAG       9   \n",
      "1462  what you should know about turkeys president r...       NAG     297   \n",
      "1621   bot powered by prince fadii  see my bot speed...       NAG      62   \n",
      "1704  a question of order india turkey and the retur...       CAG     106   \n",
      "1719  अर कछ त कर खल हजड क तरह तल बजत रहन स कछ नह हग ...       OAG      25   \n",
      "\n",
      "      isEnglish  \n",
      "41        False  \n",
      "314       False  \n",
      "813       False  \n",
      "830       False  \n",
      "1107      False  \n",
      "1441      False  \n",
      "1462      False  \n",
      "1621      False  \n",
      "1704      False  \n",
      "1719      False  \n"
     ]
    }
   ],
   "source": [
    "def remove_URL(s):\n",
    "    \"\"\"Remove URLs from a sample string\"\"\"\n",
    "    return re.sub(r\"http\\S+\", \"\", s)\n",
    "\n",
    "def remove_punctuation(s):\n",
    "    return re.sub(r'[^\\w\\s]', '', s)\n",
    "    \n",
    "def remove_Emoji(s):\n",
    "    emoji_pattern = re.compile(\"[\"\n",
    "        u\"\\U0001F600-\\U0001F64F\"  # emoticons\n",
    "        u\"\\U0001F300-\\U0001F5FF\"  # symbols & pictographs\n",
    "        u\"\\U0001F680-\\U0001F6FF\"  # transport & map symbols\n",
    "        u\"\\U0001F1E0-\\U0001F1FF\"  # flags (iOS)\n",
    "                           \"]+\", flags=re.UNICODE)\n",
    "    return emoji_pattern.sub(r'', s)\n",
    "\n",
    "def replace_chars(Data):\n",
    "    Data['Text'] = Data['Text'].str.replace('\\n',' ')\n",
    "    Data['Text'] = Data['Text'].str.replace('  ',' ')\n",
    "    Data['Text'] = Data['Text'].str.strip()\n",
    "    Data['Text'] = Data['Text'].str.lower()\n",
    "    Data['Text'] = Data['Text'].str.replace('pls','please')\n",
    "    Data['Text'] = Data['Text'].str.replace('plz','please')\n",
    "    Data['Text'] = Data['Text'].str.replace(' u ',' you ')\n",
    "    Data['Text'] = Data['Text'].str.replace(' ur ',' your ')\n",
    "    Data['Text'] = Data['Text'].str.replace(' vs ',' versus ')\n",
    "    Data['Text'] = Data['Text'].str.replace(' tks ',' thanks ')\n",
    "    Data['Text'] = Data['Text'].str.replace(' tkz ',' thanks ')\n",
    "    Data['Text'] = Data['Text'].str.replace(' cud ',' could ')\n",
    "    Data['Text'] = Data['Text'].str.replace(' b ',' be ')\n",
    "    Data['Text'] = Data['Text'].str.replace(' r ',' are ')\n",
    "    Data['Text'] = Data['Text'].str.replace(' gonna ',' going to ')\n",
    "    Data['Text'] = Data['Text'].str.replace(' y ',' why ')\n",
    "    Data['Text'] = Data['Text'].str.replace('bn ',' billion ')\n",
    "    Data['Text'] = Data['Text'].str.replace('tn ',' trillion ')\n",
    "    Data['Text'] = Data['Text'].str.replace('£',' pounds ')\n",
    "    Data['Text'] = Data['Text'].str.replace('$',' dollars ')\n",
    "    return Data\n",
    "\n",
    "def isEnglish(s):\n",
    "    try:\n",
    "        s.encode(encoding='utf-8').decode('ascii')\n",
    "    except UnicodeDecodeError:\n",
    "        return False\n",
    "    else:\n",
    "        return True\n",
    "\n",
    "def create_data_frame():\n",
    "    data = pd.read_csv(DATA_FILE)\n",
    "    data.columns = ['ID','Text','Indicator']\n",
    "    data.drop(['ID'], axis='columns', inplace = True)\n",
    "    \n",
    "    data = replace_chars(data)\n",
    "    data['Text'] = data['Text'].apply(remove_Emoji)\n",
    "    data['Text'] = data['Text'].apply(remove_URL)\n",
    "    data['Text'] = data['Text'].apply(remove_punctuation)\n",
    "    data['Length'] = data['Text'].str.split(' ').apply(len)\n",
    "    data['isEnglish'] = data['Text'].apply(isEnglish)\n",
    "    return data\n",
    "\n",
    "data = create_data_frame()\n",
    "print('Wordcount distribution')\n",
    "data['Length'].hist(bins=30)\n",
    "plt.show()\n",
    "print('Label distribution')\n",
    "data['Indicator'].value_counts().plot(kind='bar')\n",
    "plt.show()\n",
    "print('English distribution')\n",
    "data['isEnglish'].value_counts().plot(kind='bar')\n",
    "plt.show()\n",
    "print(data[data['isEnglish']==False][0:10])\n"
   ]
  },
  {
   "cell_type": "markdown",
   "metadata": {},
   "source": [
    "<p>The target labels aren't balanced and the length of the text in the samples is quite skewed. Both properties could affect the training of a classifier, also feature-based transfer learning using BERT can cope with far fewer samples, so at this point some samples will be filtered out to improve the quality of the set."
   ]
  },
  {
   "cell_type": "code",
   "execution_count": 5,
   "metadata": {},
   "outputs": [
    {
     "data": {
      "image/png": "[encoded data removed]",
      "text/plain": [
       "<Figure size 432x288 with 1 Axes>"
      ]
     },
     "metadata": {
      "needs_background": "light"
     },
     "output_type": "display_data"
    },
    {
     "data": {
      "image/png": "[encoded data removed]",
      "text/plain": [
       "<Figure size 432x288 with 1 Axes>"
      ]
     },
     "metadata": {
      "needs_background": "light"
     },
     "output_type": "display_data"
    },
    {
     "name": "stdout",
     "output_type": "stream",
     "text": [
      "New dataset length 7926\n"
     ]
    }
   ],
   "source": [
    "def remove_too_long_samples(data):\n",
    "    return data[data['Length']<=MAX_LENGTH]\n",
    "\n",
    "def balance_samples_for_labels(data):\n",
    "    oags = data[data['Indicator']=='OAG']\n",
    "    length = len(oags.index)\n",
    "    cags = data[data['Indicator']=='CAG'].sample(n=length,random_state=42)\n",
    "    nags = data[data['Indicator']=='NAG'].sample(n=length,random_state=42)\n",
    "    all_stuff = pd.concat([oags,cags,nags])\n",
    "    \n",
    "    #shuffle dataset\n",
    "    return all_stuff.sample(n=len(all_stuff.index), random_state=42)\n",
    "    \n",
    "data = remove_too_long_samples(data)\n",
    "data = data[data['isEnglish'] == True]\n",
    "data['Length'].hist(bins=30)\n",
    "plt.show()\n",
    "data = balance_samples_for_labels(data)\n",
    "data['Indicator'].value_counts().plot(kind='bar')\n",
    "plt.show()\n",
    "print('New dataset length %s' % len(data.index))\n"
   ]
  },
  {
   "cell_type": "markdown",
   "metadata": {},
   "source": [
    "<h2>Data Processing</h2>\n",
    "<p>The Bert model loaded from TF Hub expects input data in a particular format. For every text sample, three arrays are created: most importantly the sample is tokenised and then converted to Ids using BERTs tokenizer dictionary. An input mask array and sentence location (not used for classification) array are also created."
   ]
  },
  {
   "cell_type": "code",
   "execution_count": 6,
   "metadata": {},
   "outputs": [
    {
     "name": "stdout",
     "output_type": "stream",
     "text": [
      "Training data loaded\n",
      "[<tf.Tensor: shape=(6340, 128), dtype=int32, numpy=\n",
      "array([[  101,  2073,  2015, ...,     0,     0,     0],\n",
      "       [  101,  2796,  4671, ...,     0,     0,     0],\n",
      "       [  101,  2017,  4539, ...,     0,     0,     0],\n",
      "       ...,\n",
      "       [  101,  3282, 25329, ...,     0,     0,     0],\n",
      "       [  101,  2293,  2017, ...,     0,     0,     0],\n",
      "       [  101,  1043,  1051, ...,     0,     0,     0]])>, <tf.Tensor: shape=(6340, 128), dtype=int32, numpy=\n",
      "array([[0, 0, 0, ..., 0, 0, 0],\n",
      "       [0, 0, 0, ..., 0, 0, 0],\n",
      "       [0, 0, 0, ..., 0, 0, 0],\n",
      "       ...,\n",
      "       [0, 0, 0, ..., 0, 0, 0],\n",
      "       [0, 0, 0, ..., 0, 0, 0],\n",
      "       [0, 0, 0, ..., 0, 0, 0]])>, <tf.Tensor: shape=(6340, 128), dtype=int32, numpy=\n",
      "array([[1, 1, 1, ..., 0, 0, 0],\n",
      "       [1, 1, 1, ..., 0, 0, 0],\n",
      "       [1, 1, 1, ..., 0, 0, 0],\n",
      "       ...,\n",
      "       [1, 1, 1, ..., 0, 0, 0],\n",
      "       [1, 1, 1, ..., 0, 0, 0],\n",
      "       [1, 1, 1, ..., 0, 0, 0]])>]\n",
      "[[1. 0. 0.]\n",
      " [0. 0. 1.]\n",
      " [1. 0. 0.]\n",
      " [0. 0. 1.]\n",
      " [0. 0. 1.]\n",
      " [0. 1. 0.]\n",
      " [0. 0. 1.]\n",
      " [0. 0. 1.]\n",
      " [0. 1. 0.]\n",
      " [1. 0. 0.]]\n"
     ]
    }
   ],
   "source": [
    "def Bertify(Set):\n",
    "    \n",
    "    tokens = map(tokenizer.tokenize, Set)\n",
    "    tokens = map(lambda tok: tok[:MAX_LENGTH-2], tokens)\n",
    "    tokens = map(lambda tok: [\"[CLS]\"] + tok + [\"[SEP]\"], tokens)\n",
    "    \n",
    "    token_ids = map(tokenizer.convert_tokens_to_ids, tokens)\n",
    "    token_ids = map(lambda tids: tids + [0] * (MAX_LENGTH - len(tids)), token_ids)\n",
    "    # token_ids = map(lambda tids: np.array(tids), token_ids)\n",
    "    token_ids = list(token_ids)\n",
    "    token_masks =[]\n",
    "    sent_segs = []\n",
    "    for token_list in token_ids:\n",
    "        token_masks.append([1 if x > 0 else 0 for x in token_list])\n",
    "        sent_segs.append([0 for x in token_list])    \n",
    "    return  [tf.cast(token_ids,tf.int32), tf.cast(sent_segs,tf.int32), tf.cast(token_masks,tf.int32)]\n",
    "\n",
    "def preprocess_data(data): \n",
    "    #One hot encoding\n",
    "    label_encoder = LabelEncoder()\n",
    "    label_encoder = label_encoder.fit(CLASSES)\n",
    "    label_ints = label_encoder.transform(data.values[:,1])\n",
    "    label_ints = label_ints.reshape(len(label_ints), 1)\n",
    "    onehot_encoder = OneHotEncoder(sparse=False, categories='auto')\n",
    "    label_onehot = onehot_encoder.fit_transform(label_ints)\n",
    "    \n",
    "    #Split to training and test\n",
    "    train_len = int(len(data.index) * TRAIN_SAMPLES)\n",
    "    \n",
    "    train_set = data.values[:train_len,0]\n",
    "    train_features = Bertify(train_set)\n",
    "    train_labels = np.array(label_onehot[:train_len,:])\n",
    "    \n",
    "    test_set = data.values[train_len:,0]\n",
    "    test_features = Bertify(test_set)\n",
    "    test_labels = np.array(label_onehot[train_len:,:])\n",
    "    \n",
    "    return train_features, train_labels, test_features, test_labels\n",
    "\n",
    "if TRAIN_MODEL:\n",
    "    train_tokens, train_labels, test_tokens, test_labels = preprocess_data(data)\n",
    "    print('Training data loaded')\n",
    "    print(train_tokens[0:10])\n",
    "    print(train_labels[0:10])\n",
    "else:\n",
    "    print('Training data not loaded')"
   ]
  },
  {
   "cell_type": "markdown",
   "metadata": {},
   "source": [
    "<h2>Model Definition</h2>\n",
    "<p>"
   ]
  },
  {
   "cell_type": "code",
   "execution_count": 14,
   "metadata": {},
   "outputs": [
    {
     "name": "stdout",
     "output_type": "stream",
     "text": [
      "Model: \"model_2\"\n",
      "__________________________________________________________________________________________________\n",
      "Layer (type)                    Output Shape         Param #     Connected to                     \n",
      "==================================================================================================\n",
      "input_token_ids (InputLayer)    [(None, 128)]        0                                            \n",
      "__________________________________________________________________________________________________\n",
      "input_token_masks (InputLayer)  [(None, 128)]        0                                            \n",
      "__________________________________________________________________________________________________\n",
      "input_sent_segms (InputLayer)   [(None, 128)]        0                                            \n",
      "__________________________________________________________________________________________________\n",
      "keras_layer (KerasLayer)        [(None, 768), (None, 109482241   input_token_ids[0][0]            \n",
      "                                                                 input_token_masks[0][0]          \n",
      "                                                                 input_sent_segms[0][0]           \n",
      "__________________________________________________________________________________________________\n",
      "bidirectional_3 (Bidirectional) (None, 1536)         9443328     keras_layer[7][1]                \n",
      "__________________________________________________________________________________________________\n",
      "dropout_3 (Dropout)             (None, 1536)         0           bidirectional_3[0][0]            \n",
      "__________________________________________________________________________________________________\n",
      "output (Dense)                  (None, 3)            4611        dropout_3[0][0]                  \n",
      "==================================================================================================\n",
      "Total params: 118,930,180\n",
      "Trainable params: 9,447,939\n",
      "Non-trainable params: 109,482,241\n",
      "__________________________________________________________________________________________________\n",
      "None\n",
      "done\n"
     ]
    }
   ],
   "source": [
    "METRICS = [\n",
    "      tf.keras.metrics.CategoricalCrossentropy(name='categoricalcrossentropy'),\n",
    "      tf.keras.metrics.CategoricalAccuracy(name='categoricalaccuracy'),\n",
    "      tf.keras.metrics.Precision(name='precision'),\n",
    "      tf.keras.metrics.Recall(name='recall'),\n",
    "      tf.keras.metrics.AUC(name='auc'),\n",
    "]\n",
    "\n",
    "def build_model_fullyconnected():\n",
    "    \"\"\"add pretrained bert model as a keras layer\"\"\"\n",
    "    input_word_ids = Input((MAX_LENGTH,), dtype=tf.int32, name='input_token_ids')\n",
    "    input_masks = Input((MAX_LENGTH,), dtype=tf.int32, name='input_token_masks')\n",
    "    input_segments = Input((MAX_LENGTH,), dtype=tf.int32, name='input_sent_segms')\n",
    "    \n",
    "    if not RETRAIN_BERT:\n",
    "        bert_layer.trainable = False\n",
    "    \n",
    "    _, sout = bert_layer([input_word_ids, input_masks, input_segments])\n",
    "    X = Bidirectional(LSTM(768))(sout)\n",
    "    X = Dropout(0.2)(X)\n",
    "    output_= Dense(3, activation=tf.nn.softmax, name='output')(X)\n",
    "\n",
    "    #model = Model(input_,output_)\n",
    "    model = Model([input_word_ids, input_masks, input_segments],output_)\n",
    "    model.compile(optimizer = \"adam\",loss = \"categorical_crossentropy\",\n",
    "                    metrics = METRICS)\n",
    "    return model\n",
    "\n",
    "model = build_model_fullyconnected()\n",
    "print(model.summary())\n",
    "print('done')"
   ]
  },
  {
   "cell_type": "markdown",
   "metadata": {},
   "source": [
    "<h2>Model Training</h2>"
   ]
  },
  {
   "cell_type": "code",
   "execution_count": 15,
   "metadata": {},
   "outputs": [
    {
     "name": "stdout",
     "output_type": "stream",
     "text": [
      "Train on 5706 samples, validate on 634 samples\n",
      "Epoch 1/100\n",
      "5706/5706 [==============================] - 119s 21ms/sample - loss: 1.1049 - categoricalcrossentropy: 1.1049 - categoricalaccuracy: 0.4429 - precision: 0.5363 - recall: 0.1940 - auc: 0.6313 - val_loss: 0.9868 - val_categoricalcrossentropy: 0.9868 - val_categoricalaccuracy: 0.5142 - val_precision: 0.5872 - val_recall: 0.3612 - val_auc: 0.7099\n",
      "Epoch 2/100\n",
      "4288/5706 [=====================>........] - ETA: 24s - loss: 0.9516 - categoricalcrossentropy: 0.9516 - categoricalaccuracy: 0.5289 - precision: 0.6303 - recall: 0.3300 - auc: 0.7253\n",
      "Epoch 00002: saving model to Model\\bert_faq.ckpt\n",
      "5706/5706 [==============================] - 115s 20ms/sample - loss: 0.9466 - categoricalcrossentropy: 0.9466 - categoricalaccuracy: 0.5343 - precision: 0.6287 - recall: 0.3360 - auc: 0.7293 - val_loss: 0.9390 - val_categoricalcrossentropy: 0.9390 - val_categoricalaccuracy: 0.5710 - val_precision: 0.6624 - val_recall: 0.3281 - val_auc: 0.7411\n",
      "Epoch 3/100\n",
      "5706/5706 [==============================] - 107s 19ms/sample - loss: 0.8960 - categoricalcrossentropy: 0.8960 - categoricalaccuracy: 0.5671 - precision: 0.6497 - recall: 0.3982 - auc: 0.7631 - val_loss: 0.9419 - val_categoricalcrossentropy: 0.9419 - val_categoricalaccuracy: 0.5584 - val_precision: 0.6232 - val_recall: 0.3991 - val_auc: 0.7389\n",
      "Epoch 4/100\n",
      "2880/5706 [==============>...............] - ETA: 46s - loss: 0.8290 - categoricalcrossentropy: 0.8290 - categoricalaccuracy: 0.6187 - precision: 0.6881 - recall: 0.4948 - auc: 0.8053\n",
      "Epoch 00004: saving model to Model\\bert_faq.ckpt\n",
      "5706/5706 [==============================] - 112s 20ms/sample - loss: 0.8330 - categoricalcrossentropy: 0.8330 - categoricalaccuracy: 0.6134 - precision: 0.6836 - recall: 0.4900 - auc: 0.8024 - val_loss: 0.9451 - val_categoricalcrossentropy: 0.9451 - val_categoricalaccuracy: 0.5473 - val_precision: 0.6170 - val_recall: 0.3785 - val_auc: 0.7343\n",
      "Epoch 5/100\n",
      "5706/5706 [==============================] - 104s 18ms/sample - loss: 0.7263 - categoricalcrossentropy: 0.7263 - categoricalaccuracy: 0.6767 - precision: 0.7374 - recall: 0.5920 - auc: 0.8545 - val_loss: 1.0101 - val_categoricalcrossentropy: 1.0101 - val_categoricalaccuracy: 0.5505 - val_precision: 0.6016 - val_recall: 0.4763 - val_auc: 0.7391\n",
      "Epoch 6/100\n",
      "1472/5706 [======>.......................] - ETA: 1:10 - loss: 0.5500 - categoricalcrossentropy: 0.5500 - categoricalaccuracy: 0.7724 - precision: 0.8081 - recall: 0.7208 - auc: 0.9194\n",
      "Epoch 00006: saving model to Model\\bert_faq.ckpt\n",
      "5706/5706 [==============================] - 112s 20ms/sample - loss: 0.5745 - categoricalcrossentropy: 0.5745 - categoricalaccuracy: 0.7618 - precision: 0.7968 - recall: 0.7079 - auc: 0.9113 - val_loss: 1.2144 - val_categoricalcrossentropy: 1.2144 - val_categoricalaccuracy: 0.5063 - val_precision: 0.5214 - val_recall: 0.4606 - val_auc: 0.6878\n",
      "Epoch 7/100\n",
      "5706/5706 [==============================] - 104s 18ms/sample - loss: 0.3778 - categoricalcrossentropy: 0.3778 - categoricalaccuracy: 0.8524 - precision: 0.8699 - recall: 0.8332 - auc: 0.9618 - val_loss: 1.2853 - val_categoricalcrossentropy: 1.2853 - val_categoricalaccuracy: 0.5221 - val_precision: 0.5383 - val_recall: 0.4984 - val_auc: 0.7222\n",
      "Epoch 8/100\n",
      "  64/5706 [..............................] - ETA: 1:34 - loss: 0.1801 - categoricalcrossentropy: 0.1801 - categoricalaccuracy: 0.9375 - precision: 0.9661 - recall: 0.8906 - auc: 0.9944\n",
      "Epoch 00008: saving model to Model\\bert_faq.ckpt\n",
      "5706/5706 [==============================] - 113s 20ms/sample - loss: 0.2090 - categoricalcrossentropy: 0.2090 - categoricalaccuracy: 0.9280 - precision: 0.9372 - recall: 0.9201 - auc: 0.9876 - val_loss: 1.7035 - val_categoricalcrossentropy: 1.7035 - val_categoricalaccuracy: 0.5268 - val_precision: 0.5282 - val_recall: 0.5016 - val_auc: 0.7007\n",
      "Epoch 9/100\n",
      "4384/5706 [======================>.......] - ETA: 21s - loss: 0.1353 - categoricalcrossentropy: 0.1353 - categoricalaccuracy: 0.9546 - precision: 0.9584 - recall: 0.9507 - auc: 0.9944\n",
      "Epoch 00009: saving model to Model\\bert_faq.ckpt\n",
      "5706/5706 [==============================] - 112s 20ms/sample - loss: 0.1364 - categoricalcrossentropy: 0.1364 - categoricalaccuracy: 0.9553 - precision: 0.9597 - recall: 0.9520 - auc: 0.9941 - val_loss: 1.9472 - val_categoricalcrossentropy: 1.9472 - val_categoricalaccuracy: 0.5268 - val_precision: 0.5250 - val_recall: 0.5142 - val_auc: 0.6982\n",
      "Epoch 10/100\n",
      "5706/5706 [==============================] - 104s 18ms/sample - loss: 0.0770 - categoricalcrossentropy: 0.0770 - categoricalaccuracy: 0.9746 - precision: 0.9764 - recall: 0.9732 - auc: 0.9981 - val_loss: 2.1240 - val_categoricalcrossentropy: 2.1240 - val_categoricalaccuracy: 0.5110 - val_precision: 0.5170 - val_recall: 0.5032 - val_auc: 0.6899\n",
      "Epoch 11/100\n",
      "2976/5706 [==============>...............] - ETA: 45s - loss: 0.0540 - categoricalcrossentropy: 0.0540 - categoricalaccuracy: 0.9829 - precision: 0.9838 - recall: 0.9822 - auc: 0.9985\n",
      "Epoch 00011: saving model to Model\\bert_faq.ckpt\n",
      "5706/5706 [==============================] - 113s 20ms/sample - loss: 0.0605 - categoricalcrossentropy: 0.0605 - categoricalaccuracy: 0.9802 - precision: 0.9814 - recall: 0.9795 - auc: 0.9983 - val_loss: 2.3024 - val_categoricalcrossentropy: 2.3024 - val_categoricalaccuracy: 0.5079 - val_precision: 0.5113 - val_recall: 0.5016 - val_auc: 0.6965\n",
      "Epoch 12/100\n",
      "5706/5706 [==============================] - 104s 18ms/sample - loss: 0.0437 - categoricalcrossentropy: 0.0437 - categoricalaccuracy: 0.9877 - precision: 0.9884 - recall: 0.9867 - auc: 0.9990 - val_loss: 2.2831 - val_categoricalcrossentropy: 2.2831 - val_categoricalaccuracy: 0.5379 - val_precision: 0.5396 - val_recall: 0.5268 - val_auc: 0.6972\n",
      "Epoch 13/100\n",
      "1568/5706 [=======>......................] - ETA: 1:08 - loss: 0.0181 - categoricalcrossentropy: 0.0181 - categoricalaccuracy: 0.9962 - precision: 0.9962 - recall: 0.9955 - auc: 0.9999\n",
      "Epoch 00013: saving model to Model\\bert_faq.ckpt\n",
      "5706/5706 [==============================] - 112s 20ms/sample - loss: 0.0434 - categoricalcrossentropy: 0.0434 - categoricalaccuracy: 0.9849 - precision: 0.9858 - recall: 0.9846 - auc: 0.9993 - val_loss: 2.5594 - val_categoricalcrossentropy: 2.5594 - val_categoricalaccuracy: 0.5284 - val_precision: 0.5329 - val_recall: 0.5237 - val_auc: 0.6954\n",
      "Epoch 14/100\n",
      "5706/5706 [==============================] - 104s 18ms/sample - loss: 0.0404 - categoricalcrossentropy: 0.0404 - categoricalaccuracy: 0.9879 - precision: 0.9884 - recall: 0.9876 - auc: 0.9991 - val_loss: 2.7010 - val_categoricalcrossentropy: 2.7010 - val_categoricalaccuracy: 0.5047 - val_precision: 0.5096 - val_recall: 0.5016 - val_auc: 0.6792\n",
      "Epoch 15/100\n",
      " 160/5706 [..............................] - ETA: 1:32 - loss: 0.0082 - categoricalcrossentropy: 0.0082 - categoricalaccuracy: 0.9937 - precision: 0.9937 - recall: 0.9937 - auc: 1.0000\n",
      "Epoch 00015: saving model to Model\\bert_faq.ckpt\n",
      "5706/5706 [==============================] - 113s 20ms/sample - loss: 0.0220 - categoricalcrossentropy: 0.0220 - categoricalaccuracy: 0.9928 - precision: 0.9932 - recall: 0.9923 - auc: 0.9997 - val_loss: 2.9301 - val_categoricalcrossentropy: 2.9301 - val_categoricalaccuracy: 0.5047 - val_precision: 0.5065 - val_recall: 0.4953 - val_auc: 0.6747\n",
      "Epoch 16/100\n",
      "4480/5706 [======================>.......] - ETA: 20s - loss: 0.0168 - categoricalcrossentropy: 0.0168 - categoricalaccuracy: 0.9931 - precision: 0.9935 - recall: 0.9931 - auc: 0.9999\n",
      "Epoch 00016: saving model to Model\\bert_faq.ckpt\n",
      "5706/5706 [==============================] - 112s 20ms/sample - loss: 0.0230 - categoricalcrossentropy: 0.0230 - categoricalaccuracy: 0.9914 - precision: 0.9918 - recall: 0.9914 - auc: 0.9997 - val_loss: 2.4919 - val_categoricalcrossentropy: 2.4919 - val_categoricalaccuracy: 0.5047 - val_precision: 0.5072 - val_recall: 0.5032 - val_auc: 0.6725\n",
      "Epoch 17/100\n",
      "5706/5706 [==============================] - 104s 18ms/sample - loss: 0.0437 - categoricalcrossentropy: 0.0437 - categoricalaccuracy: 0.9862 - precision: 0.9863 - recall: 0.9853 - auc: 0.9993 - val_loss: 2.5782 - val_categoricalcrossentropy: 2.5782 - val_categoricalaccuracy: 0.5016 - val_precision: 0.5040 - val_recall: 0.4921 - val_auc: 0.6763\n"
     ]
    },
    {
     "name": "stdout",
     "output_type": "stream",
     "text": [
      "Epoch 18/100\n",
      "3072/5706 [===============>..............] - ETA: 43s - loss: 0.0754 - categoricalcrossentropy: 0.0754 - categoricalaccuracy: 0.9727 - precision: 0.9733 - recall: 0.9714 - auc: 0.9982\n",
      "Epoch 00018: saving model to Model\\bert_faq.ckpt\n",
      "5706/5706 [==============================] - 112s 20ms/sample - loss: 0.0660 - categoricalcrossentropy: 0.0660 - categoricalaccuracy: 0.9763 - precision: 0.9773 - recall: 0.9755 - auc: 0.9986 - val_loss: 2.6343 - val_categoricalcrossentropy: 2.6343 - val_categoricalaccuracy: 0.4984 - val_precision: 0.5008 - val_recall: 0.4921 - val_auc: 0.6700\n",
      "Epoch 19/100\n",
      "5706/5706 [==============================] - 104s 18ms/sample - loss: 0.0623 - categoricalcrossentropy: 0.0623 - categoricalaccuracy: 0.9776 - precision: 0.9781 - recall: 0.9765 - auc: 0.9983 - val_loss: 2.9334 - val_categoricalcrossentropy: 2.9334 - val_categoricalaccuracy: 0.4795 - val_precision: 0.4832 - val_recall: 0.4763 - val_auc: 0.6505\n",
      "Epoch 20/100\n",
      "1664/5706 [=======>......................] - ETA: 1:07 - loss: 0.0284 - categoricalcrossentropy: 0.0284 - categoricalaccuracy: 0.9910 - precision: 0.9928 - recall: 0.9892 - auc: 0.9998\n",
      "Epoch 00020: saving model to Model\\bert_faq.ckpt\n",
      "5706/5706 [==============================] - 112s 20ms/sample - loss: 0.0361 - categoricalcrossentropy: 0.0361 - categoricalaccuracy: 0.9876 - precision: 0.9882 - recall: 0.9867 - auc: 0.9995 - val_loss: 2.6755 - val_categoricalcrossentropy: 2.6755 - val_categoricalaccuracy: 0.4984 - val_precision: 0.5024 - val_recall: 0.4984 - val_auc: 0.6800\n",
      "Epoch 21/100\n",
      "5706/5706 [==============================] - 104s 18ms/sample - loss: 0.0247 - categoricalcrossentropy: 0.0247 - categoricalaccuracy: 0.9918 - precision: 0.9921 - recall: 0.9914 - auc: 0.9997 - val_loss: 2.8034 - val_categoricalcrossentropy: 2.8034 - val_categoricalaccuracy: 0.5174 - val_precision: 0.5224 - val_recall: 0.5158 - val_auc: 0.6842\n",
      "Epoch 22/100\n",
      " 256/5706 [>.............................] - ETA: 1:30 - loss: 0.0423 - categoricalcrossentropy: 0.0423 - categoricalaccuracy: 0.9844 - precision: 0.9844 - recall: 0.9844 - auc: 0.9996\n",
      "Epoch 00022: saving model to Model\\bert_faq.ckpt\n",
      "5706/5706 [==============================] - 113s 20ms/sample - loss: 0.0141 - categoricalcrossentropy: 0.0141 - categoricalaccuracy: 0.9942 - precision: 0.9942 - recall: 0.9939 - auc: 1.0000 - val_loss: 2.9813 - val_categoricalcrossentropy: 2.9813 - val_categoricalaccuracy: 0.4984 - val_precision: 0.5008 - val_recall: 0.4905 - val_auc: 0.6774\n",
      "Epoch 23/100\n",
      "4576/5706 [=======================>......] - ETA: 18s - loss: 0.0180 - categoricalcrossentropy: 0.0180 - categoricalaccuracy: 0.9937 - precision: 0.9939 - recall: 0.9932 - auc: 0.9999\n",
      "Epoch 00023: saving model to Model\\bert_faq.ckpt\n",
      "5706/5706 [==============================] - 112s 20ms/sample - loss: 0.0165 - categoricalcrossentropy: 0.0165 - categoricalaccuracy: 0.9940 - precision: 0.9942 - recall: 0.9937 - auc: 0.9999 - val_loss: 2.8819 - val_categoricalcrossentropy: 2.8819 - val_categoricalaccuracy: 0.5221 - val_precision: 0.5217 - val_recall: 0.5126 - val_auc: 0.6840\n",
      "Epoch 24/100\n",
      "5706/5706 [==============================] - 104s 18ms/sample - loss: 0.0134 - categoricalcrossentropy: 0.0134 - categoricalaccuracy: 0.9942 - precision: 0.9954 - recall: 0.9939 - auc: 1.0000 - val_loss: 2.9102 - val_categoricalcrossentropy: 2.9102 - val_categoricalaccuracy: 0.4921 - val_precision: 0.4928 - val_recall: 0.4874 - val_auc: 0.6819\n",
      "Epoch 25/100\n",
      "3168/5706 [===============>..............] - ETA: 42s - loss: 0.0085 - categoricalcrossentropy: 0.0085 - categoricalaccuracy: 0.9965 - precision: 0.9965 - recall: 0.9965 - auc: 1.0000\n",
      "Epoch 00025: saving model to Model\\bert_faq.ckpt\n",
      "5706/5706 [==============================] - 113s 20ms/sample - loss: 0.0118 - categoricalcrossentropy: 0.0118 - categoricalaccuracy: 0.9953 - precision: 0.9954 - recall: 0.9953 - auc: 1.0000 - val_loss: 2.9384 - val_categoricalcrossentropy: 2.9384 - val_categoricalaccuracy: 0.5095 - val_precision: 0.5136 - val_recall: 0.5063 - val_auc: 0.6824\n",
      "Epoch 26/100\n",
      "5706/5706 [==============================] - 104s 18ms/sample - loss: 0.0110 - categoricalcrossentropy: 0.0110 - categoricalaccuracy: 0.9946 - precision: 0.9949 - recall: 0.9944 - auc: 1.0000 - val_loss: 3.0652 - val_categoricalcrossentropy: 3.0652 - val_categoricalaccuracy: 0.4921 - val_precision: 0.4936 - val_recall: 0.4874 - val_auc: 0.6784\n",
      "Epoch 27/100\n",
      "1760/5706 [========>.....................] - ETA: 1:05 - loss: 0.0109 - categoricalcrossentropy: 0.0109 - categoricalaccuracy: 0.9960 - precision: 0.9960 - recall: 0.9955 - auc: 1.0000\n",
      "Epoch 00027: saving model to Model\\bert_faq.ckpt\n",
      "5706/5706 [==============================] - 112s 20ms/sample - loss: 0.0113 - categoricalcrossentropy: 0.0113 - categoricalaccuracy: 0.9949 - precision: 0.9956 - recall: 0.9946 - auc: 1.0000 - val_loss: 3.1312 - val_categoricalcrossentropy: 3.1312 - val_categoricalaccuracy: 0.5110 - val_precision: 0.5136 - val_recall: 0.5063 - val_auc: 0.6857\n",
      "Epoch 28/100\n",
      "5706/5706 [==============================] - 104s 18ms/sample - loss: 0.0121 - categoricalcrossentropy: 0.0121 - categoricalaccuracy: 0.9946 - precision: 0.9951 - recall: 0.9940 - auc: 1.0000 - val_loss: 3.0734 - val_categoricalcrossentropy: 3.0734 - val_categoricalaccuracy: 0.5000 - val_precision: 0.5008 - val_recall: 0.4968 - val_auc: 0.6812\n",
      "Epoch 29/100\n",
      " 352/5706 [>.............................] - ETA: 1:29 - loss: 0.0054 - categoricalcrossentropy: 0.0054 - categoricalaccuracy: 0.9972 - precision: 0.9972 - recall: 0.9972 - auc: 1.0000\n",
      "Epoch 00029: saving model to Model\\bert_faq.ckpt\n",
      "5706/5706 [==============================] - 113s 20ms/sample - loss: 0.0109 - categoricalcrossentropy: 0.0109 - categoricalaccuracy: 0.9956 - precision: 0.9960 - recall: 0.9954 - auc: 1.0000 - val_loss: 3.0390 - val_categoricalcrossentropy: 3.0390 - val_categoricalaccuracy: 0.5268 - val_precision: 0.5310 - val_recall: 0.5268 - val_auc: 0.6882\n",
      "Epoch 30/100\n",
      "4672/5706 [=======================>......] - ETA: 17s - loss: 0.0088 - categoricalcrossentropy: 0.0088 - categoricalaccuracy: 0.9949 - precision: 0.9957 - recall: 0.9946 - auc: 1.0000\n",
      "Epoch 00030: saving model to Model\\bert_faq.ckpt\n",
      "5706/5706 [==============================] - 112s 20ms/sample - loss: 0.0112 - categoricalcrossentropy: 0.0112 - categoricalaccuracy: 0.9946 - precision: 0.9953 - recall: 0.9944 - auc: 1.0000 - val_loss: 3.1406 - val_categoricalcrossentropy: 3.1406 - val_categoricalaccuracy: 0.5205 - val_precision: 0.5230 - val_recall: 0.5205 - val_auc: 0.6795\n",
      "Epoch 31/100\n",
      "5706/5706 [==============================] - 104s 18ms/sample - loss: 0.0743 - categoricalcrossentropy: 0.0743 - categoricalaccuracy: 0.9737 - precision: 0.9749 - recall: 0.9725 - auc: 0.9982 - val_loss: 2.2228 - val_categoricalcrossentropy: 2.2228 - val_categoricalaccuracy: 0.4795 - val_precision: 0.4862 - val_recall: 0.4732 - val_auc: 0.6623\n",
      "Epoch 32/100\n",
      "3264/5706 [================>.............] - ETA: 40s - loss: 0.1226 - categoricalcrossentropy: 0.1226 - categoricalaccuracy: 0.9556 - precision: 0.9589 - recall: 0.9516 - auc: 0.9954\n",
      "Epoch 00032: saving model to Model\\bert_faq.ckpt\n",
      "5706/5706 [==============================] - 113s 20ms/sample - loss: 0.1280 - categoricalcrossentropy: 0.1280 - categoricalaccuracy: 0.9543 - precision: 0.9566 - recall: 0.9509 - auc: 0.9950 - val_loss: 2.2370 - val_categoricalcrossentropy: 2.2370 - val_categoricalaccuracy: 0.4763 - val_precision: 0.4791 - val_recall: 0.4700 - val_auc: 0.6661\n",
      "Epoch 33/100\n",
      "5706/5706 [==============================] - 104s 18ms/sample - loss: 0.0610 - categoricalcrossentropy: 0.0610 - categoricalaccuracy: 0.9793 - precision: 0.9812 - recall: 0.9786 - auc: 0.9984 - val_loss: 2.5531 - val_categoricalcrossentropy: 2.5531 - val_categoricalaccuracy: 0.5000 - val_precision: 0.5024 - val_recall: 0.4937 - val_auc: 0.6831\n",
      "Epoch 34/100\n",
      "1856/5706 [========>.....................] - ETA: 1:03 - loss: 0.0237 - categoricalcrossentropy: 0.0237 - categoricalaccuracy: 0.9935 - precision: 0.9941 - recall: 0.9930 - auc: 0.9994\n",
      "Epoch 00034: saving model to Model\\bert_faq.ckpt\n"
     ]
    },
    {
     "name": "stdout",
     "output_type": "stream",
     "text": [
      "5706/5706 [==============================] - 112s 20ms/sample - loss: 0.0289 - categoricalcrossentropy: 0.0289 - categoricalaccuracy: 0.9904 - precision: 0.9907 - recall: 0.9898 - auc: 0.9995 - val_loss: 2.6787 - val_categoricalcrossentropy: 2.6787 - val_categoricalaccuracy: 0.5016 - val_precision: 0.5089 - val_recall: 0.4984 - val_auc: 0.6821\n",
      "Epoch 35/100\n",
      "5706/5706 [==============================] - 104s 18ms/sample - loss: 0.0162 - categoricalcrossentropy: 0.0162 - categoricalaccuracy: 0.9946 - precision: 0.9953 - recall: 0.9946 - auc: 0.9998 - val_loss: 2.8476 - val_categoricalcrossentropy: 2.8476 - val_categoricalaccuracy: 0.4905 - val_precision: 0.4928 - val_recall: 0.4874 - val_auc: 0.6777\n",
      "Epoch 36/100\n",
      " 448/5706 [=>............................] - ETA: 1:27 - loss: 0.0271 - categoricalcrossentropy: 0.0271 - categoricalaccuracy: 0.9888 - precision: 0.9888 - recall: 0.9888 - auc: 0.9998\n",
      "Epoch 00036: saving model to Model\\bert_faq.ckpt\n",
      "5706/5706 [==============================] - 113s 20ms/sample - loss: 0.0144 - categoricalcrossentropy: 0.0144 - categoricalaccuracy: 0.9949 - precision: 0.9953 - recall: 0.9947 - auc: 0.9999 - val_loss: 2.9858 - val_categoricalcrossentropy: 2.9858 - val_categoricalaccuracy: 0.5284 - val_precision: 0.5294 - val_recall: 0.5252 - val_auc: 0.6893\n",
      "Epoch 37/100\n",
      "4768/5706 [========================>.....] - ETA: 15s - loss: 0.0153 - categoricalcrossentropy: 0.0153 - categoricalaccuracy: 0.9948 - precision: 0.9954 - recall: 0.9943 - auc: 0.9996\n",
      "Epoch 00037: saving model to Model\\bert_faq.ckpt\n",
      "5706/5706 [==============================] - 112s 20ms/sample - loss: 0.0166 - categoricalcrossentropy: 0.0166 - categoricalaccuracy: 0.9940 - precision: 0.9946 - recall: 0.9935 - auc: 0.9997 - val_loss: 2.9413 - val_categoricalcrossentropy: 2.9413 - val_categoricalaccuracy: 0.4937 - val_precision: 0.4944 - val_recall: 0.4874 - val_auc: 0.6899\n",
      "Epoch 38/100\n",
      "5706/5706 [==============================] - 104s 18ms/sample - loss: 0.0220 - categoricalcrossentropy: 0.0220 - categoricalaccuracy: 0.9918 - precision: 0.9918 - recall: 0.9916 - auc: 0.9997 - val_loss: 3.1223 - val_categoricalcrossentropy: 3.1223 - val_categoricalaccuracy: 0.4921 - val_precision: 0.4944 - val_recall: 0.4890 - val_auc: 0.6592\n",
      "Epoch 39/100\n",
      "3360/5706 [================>.............] - ETA: 38s - loss: 0.0184 - categoricalcrossentropy: 0.0184 - categoricalaccuracy: 0.9940 - precision: 0.9946 - recall: 0.9937 - auc: 0.9997\n",
      "Epoch 00039: saving model to Model\\bert_faq.ckpt\n",
      "5706/5706 [==============================] - 113s 20ms/sample - loss: 0.0165 - categoricalcrossentropy: 0.0165 - categoricalaccuracy: 0.9942 - precision: 0.9947 - recall: 0.9939 - auc: 0.9998 - val_loss: 3.0299 - val_categoricalcrossentropy: 3.0299 - val_categoricalaccuracy: 0.5079 - val_precision: 0.5087 - val_recall: 0.5047 - val_auc: 0.6887\n",
      "Epoch 40/100\n",
      "5706/5706 [==============================] - 104s 18ms/sample - loss: 0.0123 - categoricalcrossentropy: 0.0123 - categoricalaccuracy: 0.9947 - precision: 0.9954 - recall: 0.9947 - auc: 1.0000 - val_loss: 3.0762 - val_categoricalcrossentropy: 3.0762 - val_categoricalaccuracy: 0.4905 - val_precision: 0.4872 - val_recall: 0.4811 - val_auc: 0.6799\n",
      "Epoch 41/100\n",
      "1952/5706 [=========>....................] - ETA: 1:02 - loss: 0.0131 - categoricalcrossentropy: 0.0131 - categoricalaccuracy: 0.9933 - precision: 0.9933 - recall: 0.9913 - auc: 0.9999\n",
      "Epoch 00041: saving model to Model\\bert_faq.ckpt\n",
      "5706/5706 [==============================] - 111s 20ms/sample - loss: 0.0112 - categoricalcrossentropy: 0.0112 - categoricalaccuracy: 0.9942 - precision: 0.9942 - recall: 0.9935 - auc: 1.0000 - val_loss: 3.1198 - val_categoricalcrossentropy: 3.1198 - val_categoricalaccuracy: 0.5110 - val_precision: 0.5111 - val_recall: 0.5079 - val_auc: 0.6872\n",
      "Epoch 42/100\n",
      "5706/5706 [==============================] - 104s 18ms/sample - loss: 0.0116 - categoricalcrossentropy: 0.0116 - categoricalaccuracy: 0.9944 - precision: 0.9947 - recall: 0.9944 - auc: 0.9999 - val_loss: 3.0712 - val_categoricalcrossentropy: 3.0712 - val_categoricalaccuracy: 0.5079 - val_precision: 0.5072 - val_recall: 0.5016 - val_auc: 0.6831\n",
      "Epoch 43/100\n",
      " 544/5706 [=>............................] - ETA: 1:25 - loss: 0.0064 - categoricalcrossentropy: 0.0064 - categoricalaccuracy: 0.9945 - precision: 0.9945 - recall: 0.9945 - auc: 1.0000\n",
      "Epoch 00043: saving model to Model\\bert_faq.ckpt\n",
      "5706/5706 [==============================] - 113s 20ms/sample - loss: 0.0113 - categoricalcrossentropy: 0.0113 - categoricalaccuracy: 0.9954 - precision: 0.9954 - recall: 0.9951 - auc: 0.9998 - val_loss: 3.1177 - val_categoricalcrossentropy: 3.1177 - val_categoricalaccuracy: 0.5110 - val_precision: 0.5136 - val_recall: 0.5079 - val_auc: 0.6881\n",
      "Epoch 44/100\n",
      "4864/5706 [========================>.....] - ETA: 13s - loss: 0.0105 - categoricalcrossentropy: 0.0105 - categoricalaccuracy: 0.9953 - precision: 0.9955 - recall: 0.9953 - auc: 1.0000\n",
      "Epoch 00044: saving model to Model\\bert_faq.ckpt\n",
      "5706/5706 [==============================] - 112s 20ms/sample - loss: 0.0102 - categoricalcrossentropy: 0.0102 - categoricalaccuracy: 0.9953 - precision: 0.9954 - recall: 0.9953 - auc: 1.0000 - val_loss: 3.0854 - val_categoricalcrossentropy: 3.0854 - val_categoricalaccuracy: 0.5079 - val_precision: 0.5087 - val_recall: 0.5047 - val_auc: 0.6912\n",
      "Epoch 45/100\n",
      "5706/5706 [==============================] - 104s 18ms/sample - loss: 0.0094 - categoricalcrossentropy: 0.0094 - categoricalaccuracy: 0.9953 - precision: 0.9956 - recall: 0.9951 - auc: 1.0000 - val_loss: 3.0944 - val_categoricalcrossentropy: 3.0944 - val_categoricalaccuracy: 0.5079 - val_precision: 0.5087 - val_recall: 0.5047 - val_auc: 0.6878\n",
      "Epoch 46/100\n",
      "3456/5706 [=================>............] - ETA: 37s - loss: 0.0086 - categoricalcrossentropy: 0.0086 - categoricalaccuracy: 0.9954 - precision: 0.9962 - recall: 0.9954 - auc: 1.0000\n",
      "Epoch 00046: saving model to Model\\bert_faq.ckpt\n",
      "5706/5706 [==============================] - 113s 20ms/sample - loss: 0.0094 - categoricalcrossentropy: 0.0094 - categoricalaccuracy: 0.9954 - precision: 0.9960 - recall: 0.9954 - auc: 1.0000 - val_loss: 3.1688 - val_categoricalcrossentropy: 3.1688 - val_categoricalaccuracy: 0.5063 - val_precision: 0.5072 - val_recall: 0.5000 - val_auc: 0.6869\n",
      "Epoch 47/100\n",
      "5706/5706 [==============================] - 104s 18ms/sample - loss: 0.0095 - categoricalcrossentropy: 0.0095 - categoricalaccuracy: 0.9947 - precision: 0.9954 - recall: 0.9946 - auc: 1.0000 - val_loss: 3.1893 - val_categoricalcrossentropy: 3.1893 - val_categoricalaccuracy: 0.5000 - val_precision: 0.5040 - val_recall: 0.5000 - val_auc: 0.6854\n",
      "Epoch 48/100\n",
      "2048/5706 [=========>....................] - ETA: 1:00 - loss: 0.0078 - categoricalcrossentropy: 0.0078 - categoricalaccuracy: 0.9956 - precision: 0.9966 - recall: 0.9956 - auc: 1.0000\n",
      "Epoch 00048: saving model to Model\\bert_faq.ckpt\n",
      "5706/5706 [==============================] - 112s 20ms/sample - loss: 0.0091 - categoricalcrossentropy: 0.0091 - categoricalaccuracy: 0.9954 - precision: 0.9958 - recall: 0.9951 - auc: 1.0000 - val_loss: 3.1797 - val_categoricalcrossentropy: 3.1797 - val_categoricalaccuracy: 0.5000 - val_precision: 0.5040 - val_recall: 0.4968 - val_auc: 0.6844\n",
      "Epoch 49/100\n",
      "5706/5706 [==============================] - 104s 18ms/sample - loss: 0.0093 - categoricalcrossentropy: 0.0093 - categoricalaccuracy: 0.9956 - precision: 0.9961 - recall: 0.9954 - auc: 1.0000 - val_loss: 3.1557 - val_categoricalcrossentropy: 3.1557 - val_categoricalaccuracy: 0.5079 - val_precision: 0.5128 - val_recall: 0.5047 - val_auc: 0.6882\n",
      "Epoch 50/100\n",
      " 640/5706 [==>...........................] - ETA: 1:23 - loss: 0.0080 - categoricalcrossentropy: 0.0080 - categoricalaccuracy: 0.9953 - precision: 0.9969 - recall: 0.9953 - auc: 1.0000\n",
      "Epoch 00050: saving model to Model\\bert_faq.ckpt\n",
      "5706/5706 [==============================] - 113s 20ms/sample - loss: 0.0104 - categoricalcrossentropy: 0.0104 - categoricalaccuracy: 0.9947 - precision: 0.9951 - recall: 0.9946 - auc: 1.0000 - val_loss: 3.1713 - val_categoricalcrossentropy: 3.1713 - val_categoricalaccuracy: 0.5047 - val_precision: 0.5088 - val_recall: 0.5016 - val_auc: 0.6892\n",
      "Epoch 51/100\n"
     ]
    },
    {
     "name": "stdout",
     "output_type": "stream",
     "text": [
      "4960/5706 [=========================>....] - ETA: 12s - loss: 0.0082 - categoricalcrossentropy: 0.0082 - categoricalaccuracy: 0.9956 - precision: 0.9962 - recall: 0.9956 - auc: 1.0000\n",
      "Epoch 00051: saving model to Model\\bert_faq.ckpt\n",
      "5706/5706 [==============================] - 112s 20ms/sample - loss: 0.0082 - categoricalcrossentropy: 0.0082 - categoricalaccuracy: 0.9958 - precision: 0.9965 - recall: 0.9958 - auc: 1.0000 - val_loss: 3.2807 - val_categoricalcrossentropy: 3.2807 - val_categoricalaccuracy: 0.5110 - val_precision: 0.5111 - val_recall: 0.5063 - val_auc: 0.6888\n",
      "Epoch 52/100\n",
      "5706/5706 [==============================] - 104s 18ms/sample - loss: 0.0102 - categoricalcrossentropy: 0.0102 - categoricalaccuracy: 0.9949 - precision: 0.9960 - recall: 0.9944 - auc: 1.0000 - val_loss: 3.2190 - val_categoricalcrossentropy: 3.2190 - val_categoricalaccuracy: 0.5047 - val_precision: 0.5064 - val_recall: 0.5016 - val_auc: 0.6851\n",
      "Epoch 53/100\n",
      "3552/5706 [=================>............] - ETA: 35s - loss: 0.0116 - categoricalcrossentropy: 0.0116 - categoricalaccuracy: 0.9941 - precision: 0.9944 - recall: 0.9938 - auc: 1.0000\n",
      "Epoch 00053: saving model to Model\\bert_faq.ckpt\n",
      "5706/5706 [==============================] - 112s 20ms/sample - loss: 0.0097 - categoricalcrossentropy: 0.0097 - categoricalaccuracy: 0.9949 - precision: 0.9953 - recall: 0.9947 - auc: 1.0000 - val_loss: 3.3225 - val_categoricalcrossentropy: 3.3225 - val_categoricalaccuracy: 0.5000 - val_precision: 0.5008 - val_recall: 0.4953 - val_auc: 0.6823\n",
      "Epoch 54/100\n",
      "5706/5706 [==============================] - 104s 18ms/sample - loss: 0.0091 - categoricalcrossentropy: 0.0091 - categoricalaccuracy: 0.9953 - precision: 0.9960 - recall: 0.9951 - auc: 1.0000 - val_loss: 3.2895 - val_categoricalcrossentropy: 3.2895 - val_categoricalaccuracy: 0.5189 - val_precision: 0.5175 - val_recall: 0.5142 - val_auc: 0.6906\n",
      "Epoch 55/100\n",
      "2144/5706 [==========>...................] - ETA: 59s - loss: 0.0067 - categoricalcrossentropy: 0.0067 - categoricalaccuracy: 0.9963 - precision: 0.9967 - recall: 0.9958 - auc: 1.0000\n",
      "Epoch 00055: saving model to Model\\bert_faq.ckpt\n",
      "5706/5706 [==============================] - 112s 20ms/sample - loss: 0.0085 - categoricalcrossentropy: 0.0085 - categoricalaccuracy: 0.9953 - precision: 0.9954 - recall: 0.9949 - auc: 1.0000 - val_loss: 3.3321 - val_categoricalcrossentropy: 3.3321 - val_categoricalaccuracy: 0.4968 - val_precision: 0.4984 - val_recall: 0.4953 - val_auc: 0.6794\n",
      "Epoch 56/100\n",
      "5706/5706 [==============================] - 104s 18ms/sample - loss: 0.0090 - categoricalcrossentropy: 0.0090 - categoricalaccuracy: 0.9953 - precision: 0.9958 - recall: 0.9949 - auc: 1.0000 - val_loss: 3.2731 - val_categoricalcrossentropy: 3.2731 - val_categoricalaccuracy: 0.5158 - val_precision: 0.5199 - val_recall: 0.5142 - val_auc: 0.6931\n",
      "Epoch 57/100\n",
      " 736/5706 [==>...........................] - ETA: 1:22 - loss: 0.0058 - categoricalcrossentropy: 0.0058 - categoricalaccuracy: 0.9986 - precision: 0.9986 - recall: 0.9986 - auc: 1.0000\n",
      "Epoch 00057: saving model to Model\\bert_faq.ckpt\n",
      "5706/5706 [==============================] - 112s 20ms/sample - loss: 0.0096 - categoricalcrossentropy: 0.0096 - categoricalaccuracy: 0.9961 - precision: 0.9965 - recall: 0.9956 - auc: 0.9998 - val_loss: 3.4223 - val_categoricalcrossentropy: 3.4223 - val_categoricalaccuracy: 0.5047 - val_precision: 0.5063 - val_recall: 0.5047 - val_auc: 0.6814\n",
      "Epoch 58/100\n",
      "5056/5706 [=========================>....] - ETA: 10s - loss: 0.0101 - categoricalcrossentropy: 0.0101 - categoricalaccuracy: 0.9953 - precision: 0.9954 - recall: 0.9951 - auc: 1.0000\n",
      "Epoch 00058: saving model to Model\\bert_faq.ckpt\n",
      "5706/5706 [==============================] - 112s 20ms/sample - loss: 0.0104 - categoricalcrossentropy: 0.0104 - categoricalaccuracy: 0.9951 - precision: 0.9954 - recall: 0.9949 - auc: 1.0000 - val_loss: 3.3609 - val_categoricalcrossentropy: 3.3609 - val_categoricalaccuracy: 0.5158 - val_precision: 0.5159 - val_recall: 0.5110 - val_auc: 0.6850\n",
      "Epoch 59/100\n",
      "5706/5706 [==============================] - 104s 18ms/sample - loss: 0.0097 - categoricalcrossentropy: 0.0097 - categoricalaccuracy: 0.9953 - precision: 0.9958 - recall: 0.9949 - auc: 1.0000 - val_loss: 3.4046 - val_categoricalcrossentropy: 3.4046 - val_categoricalaccuracy: 0.5158 - val_precision: 0.5191 - val_recall: 0.5142 - val_auc: 0.6877\n",
      "Epoch 60/100\n",
      "3648/5706 [==================>...........] - ETA: 34s - loss: 0.0113 - categoricalcrossentropy: 0.0113 - categoricalaccuracy: 0.9940 - precision: 0.9948 - recall: 0.9937 - auc: 1.0000\n",
      "Epoch 00060: saving model to Model\\bert_faq.ckpt\n",
      "5706/5706 [==============================] - 112s 20ms/sample - loss: 0.0095 - categoricalcrossentropy: 0.0095 - categoricalaccuracy: 0.9951 - precision: 0.9956 - recall: 0.9949 - auc: 1.0000 - val_loss: 3.5667 - val_categoricalcrossentropy: 3.5667 - val_categoricalaccuracy: 0.5189 - val_precision: 0.5206 - val_recall: 0.5174 - val_auc: 0.6853\n",
      "Epoch 61/100\n",
      "5706/5706 [==============================] - 104s 18ms/sample - loss: 0.0106 - categoricalcrossentropy: 0.0106 - categoricalaccuracy: 0.9953 - precision: 0.9954 - recall: 0.9949 - auc: 0.9998 - val_loss: 3.3056 - val_categoricalcrossentropy: 3.3056 - val_categoricalaccuracy: 0.5032 - val_precision: 0.5063 - val_recall: 0.5032 - val_auc: 0.6794\n",
      "Epoch 62/100\n",
      "2240/5706 [==========>...................] - ETA: 57s - loss: 0.0080 - categoricalcrossentropy: 0.0080 - categoricalaccuracy: 0.9955 - precision: 0.9960 - recall: 0.9951 - auc: 1.0000\n",
      "Epoch 00062: saving model to Model\\bert_faq.ckpt\n",
      "5706/5706 [==============================] - 111s 20ms/sample - loss: 0.0089 - categoricalcrossentropy: 0.0089 - categoricalaccuracy: 0.9953 - precision: 0.9956 - recall: 0.9951 - auc: 1.0000 - val_loss: 3.5662 - val_categoricalcrossentropy: 3.5662 - val_categoricalaccuracy: 0.5237 - val_precision: 0.5271 - val_recall: 0.5221 - val_auc: 0.6854\n",
      "Epoch 63/100\n",
      "5706/5706 [==============================] - 104s 18ms/sample - loss: 0.0103 - categoricalcrossentropy: 0.0103 - categoricalaccuracy: 0.9954 - precision: 0.9956 - recall: 0.9953 - auc: 1.0000 - val_loss: 3.2861 - val_categoricalcrossentropy: 3.2861 - val_categoricalaccuracy: 0.5189 - val_precision: 0.5194 - val_recall: 0.5079 - val_auc: 0.6830\n",
      "Epoch 64/100\n",
      " 832/5706 [===>..........................] - ETA: 1:20 - loss: 0.0056 - categoricalcrossentropy: 0.0056 - categoricalaccuracy: 0.9964 - precision: 0.9964 - recall: 0.9952 - auc: 1.0000\n",
      "Epoch 00064: saving model to Model\\bert_faq.ckpt\n",
      "5706/5706 [==============================] - 112s 20ms/sample - loss: 0.0097 - categoricalcrossentropy: 0.0097 - categoricalaccuracy: 0.9947 - precision: 0.9953 - recall: 0.9944 - auc: 1.0000 - val_loss: 3.3918 - val_categoricalcrossentropy: 3.3918 - val_categoricalaccuracy: 0.5205 - val_precision: 0.5223 - val_recall: 0.5174 - val_auc: 0.6856\n",
      "Epoch 65/100\n",
      "5152/5706 [==========================>...] - ETA: 9s - loss: 0.0084 - categoricalcrossentropy: 0.0084 - categoricalaccuracy: 0.9957 - precision: 0.9965 - recall: 0.9953 - auc: 1.0000\n",
      "Epoch 00065: saving model to Model\\bert_faq.ckpt\n",
      "5706/5706 [==============================] - 112s 20ms/sample - loss: 0.0081 - categoricalcrossentropy: 0.0081 - categoricalaccuracy: 0.9956 - precision: 0.9965 - recall: 0.9953 - auc: 1.0000 - val_loss: 3.6190 - val_categoricalcrossentropy: 3.6190 - val_categoricalaccuracy: 0.5110 - val_precision: 0.5111 - val_recall: 0.5079 - val_auc: 0.6819\n",
      "Epoch 66/100\n",
      "5706/5706 [==============================] - 104s 18ms/sample - loss: 0.0095 - categoricalcrossentropy: 0.0095 - categoricalaccuracy: 0.9953 - precision: 0.9958 - recall: 0.9949 - auc: 1.0000 - val_loss: 3.5839 - val_categoricalcrossentropy: 3.5839 - val_categoricalaccuracy: 0.5063 - val_precision: 0.5064 - val_recall: 0.5016 - val_auc: 0.6777\n",
      "Epoch 67/100\n",
      "3744/5706 [==================>...........] - ETA: 32s - loss: 0.0091 - categoricalcrossentropy: 0.0091 - categoricalaccuracy: 0.9960 - precision: 0.9960 - recall: 0.9955 - auc: 1.0000\n",
      "Epoch 00067: saving model to Model\\bert_faq.ckpt\n"
     ]
    },
    {
     "name": "stdout",
     "output_type": "stream",
     "text": [
      "5706/5706 [==============================] - 112s 20ms/sample - loss: 0.0089 - categoricalcrossentropy: 0.0089 - categoricalaccuracy: 0.9954 - precision: 0.9954 - recall: 0.9951 - auc: 1.0000 - val_loss: 3.7517 - val_categoricalcrossentropy: 3.7517 - val_categoricalaccuracy: 0.5095 - val_precision: 0.5087 - val_recall: 0.5047 - val_auc: 0.6723\n",
      "Epoch 68/100\n",
      "5706/5706 [==============================] - 104s 18ms/sample - loss: 0.0084 - categoricalcrossentropy: 0.0084 - categoricalaccuracy: 0.9958 - precision: 0.9968 - recall: 0.9956 - auc: 1.0000 - val_loss: 3.7565 - val_categoricalcrossentropy: 3.7565 - val_categoricalaccuracy: 0.5158 - val_precision: 0.5208 - val_recall: 0.5142 - val_auc: 0.6762\n",
      "Epoch 69/100\n",
      "2336/5706 [===========>..................] - ETA: 55s - loss: 0.0108 - categoricalcrossentropy: 0.0108 - categoricalaccuracy: 0.9949 - precision: 0.9949 - recall: 0.9949 - auc: 1.0000\n",
      "Epoch 00069: saving model to Model\\bert_faq.ckpt\n",
      "5706/5706 [==============================] - 112s 20ms/sample - loss: 0.0094 - categoricalcrossentropy: 0.0094 - categoricalaccuracy: 0.9954 - precision: 0.9958 - recall: 0.9951 - auc: 1.0000 - val_loss: 3.8467 - val_categoricalcrossentropy: 3.8467 - val_categoricalaccuracy: 0.5189 - val_precision: 0.5207 - val_recall: 0.5158 - val_auc: 0.6750\n",
      "Epoch 70/100\n",
      "5706/5706 [==============================] - 104s 18ms/sample - loss: 0.0095 - categoricalcrossentropy: 0.0095 - categoricalaccuracy: 0.9951 - precision: 0.9953 - recall: 0.9946 - auc: 1.0000 - val_loss: 3.9064 - val_categoricalcrossentropy: 3.9064 - val_categoricalaccuracy: 0.5142 - val_precision: 0.5175 - val_recall: 0.5142 - val_auc: 0.6728\n",
      "Epoch 71/100\n",
      " 928/5706 [===>..........................] - ETA: 1:19 - loss: 0.0101 - categoricalcrossentropy: 0.0101 - categoricalaccuracy: 0.9957 - precision: 0.9957 - recall: 0.9946 - auc: 1.0000\n",
      "Epoch 00071: saving model to Model\\bert_faq.ckpt\n",
      "5706/5706 [==============================] - 113s 20ms/sample - loss: 0.0084 - categoricalcrossentropy: 0.0084 - categoricalaccuracy: 0.9958 - precision: 0.9958 - recall: 0.9954 - auc: 1.0000 - val_loss: 4.0667 - val_categoricalcrossentropy: 4.0667 - val_categoricalaccuracy: 0.5205 - val_precision: 0.5238 - val_recall: 0.5205 - val_auc: 0.6718\n",
      "Epoch 72/100\n",
      "5248/5706 [==========================>...] - ETA: 7s - loss: 0.1983 - categoricalcrossentropy: 0.1983 - categoricalaccuracy: 0.9223 - precision: 0.9283 - recall: 0.9183 - auc: 0.9886\n",
      "Epoch 00072: saving model to Model\\bert_faq.ckpt\n",
      "5706/5706 [==============================] - 112s 20ms/sample - loss: 0.1987 - categoricalcrossentropy: 0.1987 - categoricalaccuracy: 0.9224 - precision: 0.9284 - recall: 0.9180 - auc: 0.9885 - val_loss: 1.9581 - val_categoricalcrossentropy: 1.9581 - val_categoricalaccuracy: 0.5174 - val_precision: 0.5255 - val_recall: 0.5032 - val_auc: 0.6962\n",
      "Epoch 73/100\n",
      "5706/5706 [==============================] - 104s 18ms/sample - loss: 0.1137 - categoricalcrossentropy: 0.1137 - categoricalaccuracy: 0.9588 - precision: 0.9621 - recall: 0.9565 - auc: 0.9959 - val_loss: 2.3280 - val_categoricalcrossentropy: 2.3280 - val_categoricalaccuracy: 0.4953 - val_precision: 0.4968 - val_recall: 0.4874 - val_auc: 0.6724\n",
      "Epoch 74/100\n",
      "3840/5706 [===================>..........] - ETA: 30s - loss: 0.0491 - categoricalcrossentropy: 0.0491 - categoricalaccuracy: 0.9828 - precision: 0.9836 - recall: 0.9826 - auc: 0.9989\n",
      "Epoch 00074: saving model to Model\\bert_faq.ckpt\n",
      "5706/5706 [==============================] - 113s 20ms/sample - loss: 0.0500 - categoricalcrossentropy: 0.0500 - categoricalaccuracy: 0.9834 - precision: 0.9839 - recall: 0.9826 - auc: 0.9989 - val_loss: 2.5263 - val_categoricalcrossentropy: 2.5263 - val_categoricalaccuracy: 0.5158 - val_precision: 0.5144 - val_recall: 0.5079 - val_auc: 0.6730\n",
      "Epoch 75/100\n",
      "5706/5706 [==============================] - 104s 18ms/sample - loss: 0.0353 - categoricalcrossentropy: 0.0353 - categoricalaccuracy: 0.9872 - precision: 0.9884 - recall: 0.9869 - auc: 0.9991 - val_loss: 2.7276 - val_categoricalcrossentropy: 2.7276 - val_categoricalaccuracy: 0.5095 - val_precision: 0.5119 - val_recall: 0.5079 - val_auc: 0.6854\n",
      "Epoch 76/100\n",
      "2432/5706 [===========>..................] - ETA: 54s - loss: 0.0183 - categoricalcrossentropy: 0.0183 - categoricalaccuracy: 0.9930 - precision: 0.9942 - recall: 0.9930 - auc: 0.9999\n",
      "Epoch 00076: saving model to Model\\bert_faq.ckpt\n",
      "5706/5706 [==============================] - 111s 20ms/sample - loss: 0.0166 - categoricalcrossentropy: 0.0166 - categoricalaccuracy: 0.9935 - precision: 0.9942 - recall: 0.9935 - auc: 0.9999 - val_loss: 2.9133 - val_categoricalcrossentropy: 2.9133 - val_categoricalaccuracy: 0.4953 - val_precision: 0.4960 - val_recall: 0.4874 - val_auc: 0.6764\n",
      "Epoch 77/100\n",
      "5706/5706 [==============================] - 104s 18ms/sample - loss: 0.0099 - categoricalcrossentropy: 0.0099 - categoricalaccuracy: 0.9951 - precision: 0.9956 - recall: 0.9951 - auc: 1.0000 - val_loss: 3.0454 - val_categoricalcrossentropy: 3.0454 - val_categoricalaccuracy: 0.5126 - val_precision: 0.5151 - val_recall: 0.5126 - val_auc: 0.6789\n",
      "Epoch 78/100\n",
      "1024/5706 [====>.........................] - ETA: 1:17 - loss: 0.0113 - categoricalcrossentropy: 0.0113 - categoricalaccuracy: 0.9961 - precision: 0.9971 - recall: 0.9961 - auc: 1.0000\n",
      "Epoch 00078: saving model to Model\\bert_faq.ckpt\n",
      "5706/5706 [==============================] - 112s 20ms/sample - loss: 0.0091 - categoricalcrossentropy: 0.0091 - categoricalaccuracy: 0.9965 - precision: 0.9968 - recall: 0.9956 - auc: 1.0000 - val_loss: 3.0715 - val_categoricalcrossentropy: 3.0715 - val_categoricalaccuracy: 0.5047 - val_precision: 0.5088 - val_recall: 0.5032 - val_auc: 0.6825\n",
      "Epoch 79/100\n",
      "5344/5706 [===========================>..] - ETA: 6s - loss: 0.0105 - categoricalcrossentropy: 0.0105 - categoricalaccuracy: 0.9949 - precision: 0.9957 - recall: 0.9948 - auc: 1.0000\n",
      "Epoch 00079: saving model to Model\\bert_faq.ckpt\n",
      "5706/5706 [==============================] - 111s 20ms/sample - loss: 0.0100 - categoricalcrossentropy: 0.0100 - categoricalaccuracy: 0.9951 - precision: 0.9960 - recall: 0.9949 - auc: 1.0000 - val_loss: 3.1346 - val_categoricalcrossentropy: 3.1346 - val_categoricalaccuracy: 0.5126 - val_precision: 0.5135 - val_recall: 0.5095 - val_auc: 0.6775\n",
      "Epoch 80/100\n",
      "5706/5706 [==============================] - 104s 18ms/sample - loss: 0.0097 - categoricalcrossentropy: 0.0097 - categoricalaccuracy: 0.9958 - precision: 0.9963 - recall: 0.9954 - auc: 1.0000 - val_loss: 3.1651 - val_categoricalcrossentropy: 3.1651 - val_categoricalaccuracy: 0.5047 - val_precision: 0.5063 - val_recall: 0.5032 - val_auc: 0.6791\n",
      "Epoch 81/100\n",
      "3936/5706 [===================>..........] - ETA: 29s - loss: 0.0072 - categoricalcrossentropy: 0.0072 - categoricalaccuracy: 0.9970 - precision: 0.9975 - recall: 0.9967 - auc: 1.0000\n",
      "Epoch 00081: saving model to Model\\bert_faq.ckpt\n",
      "5706/5706 [==============================] - 112s 20ms/sample - loss: 0.0077 - categoricalcrossentropy: 0.0077 - categoricalaccuracy: 0.9965 - precision: 0.9968 - recall: 0.9963 - auc: 1.0000 - val_loss: 3.2193 - val_categoricalcrossentropy: 3.2193 - val_categoricalaccuracy: 0.5095 - val_precision: 0.5111 - val_recall: 0.5095 - val_auc: 0.6771\n",
      "Epoch 82/100\n",
      "5706/5706 [==============================] - 104s 18ms/sample - loss: 0.0089 - categoricalcrossentropy: 0.0089 - categoricalaccuracy: 0.9954 - precision: 0.9958 - recall: 0.9951 - auc: 1.0000 - val_loss: 3.2471 - val_categoricalcrossentropy: 3.2471 - val_categoricalaccuracy: 0.5095 - val_precision: 0.5104 - val_recall: 0.5047 - val_auc: 0.6750\n",
      "Epoch 83/100\n",
      "2528/5706 [============>.................] - ETA: 52s - loss: 0.0103 - categoricalcrossentropy: 0.0103 - categoricalaccuracy: 0.9949 - precision: 0.9953 - recall: 0.9949 - auc: 1.0000\n",
      "Epoch 00083: saving model to Model\\bert_faq.ckpt\n",
      "5706/5706 [==============================] - 112s 20ms/sample - loss: 0.0087 - categoricalcrossentropy: 0.0087 - categoricalaccuracy: 0.9956 - precision: 0.9960 - recall: 0.9954 - auc: 1.0000 - val_loss: 3.2759 - val_categoricalcrossentropy: 3.2759 - val_categoricalaccuracy: 0.5174 - val_precision: 0.5151 - val_recall: 0.5126 - val_auc: 0.6815\n",
      "Epoch 84/100\n"
     ]
    },
    {
     "name": "stdout",
     "output_type": "stream",
     "text": [
      "5706/5706 [==============================] - 104s 18ms/sample - loss: 0.0086 - categoricalcrossentropy: 0.0086 - categoricalaccuracy: 0.9963 - precision: 0.9967 - recall: 0.9963 - auc: 1.0000 - val_loss: 3.2930 - val_categoricalcrossentropy: 3.2930 - val_categoricalaccuracy: 0.5016 - val_precision: 0.5024 - val_recall: 0.5000 - val_auc: 0.6772\n",
      "Epoch 85/100\n",
      "1120/5706 [====>.........................] - ETA: 1:16 - loss: 0.0067 - categoricalcrossentropy: 0.0067 - categoricalaccuracy: 0.9973 - precision: 0.9982 - recall: 0.9964 - auc: 1.0000\n",
      "Epoch 00085: saving model to Model\\bert_faq.ckpt\n",
      "5706/5706 [==============================] - 113s 20ms/sample - loss: 0.0087 - categoricalcrossentropy: 0.0087 - categoricalaccuracy: 0.9954 - precision: 0.9956 - recall: 0.9947 - auc: 1.0000 - val_loss: 3.3393 - val_categoricalcrossentropy: 3.3393 - val_categoricalaccuracy: 0.5000 - val_precision: 0.4984 - val_recall: 0.4937 - val_auc: 0.6783\n",
      "Epoch 86/100\n",
      "5440/5706 [===========================>..] - ETA: 4s - loss: 0.0083 - categoricalcrossentropy: 0.0083 - categoricalaccuracy: 0.9960 - precision: 0.9961 - recall: 0.9958 - auc: 1.0000\n",
      "Epoch 00086: saving model to Model\\bert_faq.ckpt\n",
      "5706/5706 [==============================] - 112s 20ms/sample - loss: 0.0080 - categoricalcrossentropy: 0.0080 - categoricalaccuracy: 0.9961 - precision: 0.9963 - recall: 0.9960 - auc: 1.0000 - val_loss: 3.3548 - val_categoricalcrossentropy: 3.3548 - val_categoricalaccuracy: 0.5047 - val_precision: 0.5064 - val_recall: 0.5016 - val_auc: 0.6788\n",
      "Epoch 87/100\n",
      "5706/5706 [==============================] - 104s 18ms/sample - loss: 0.0087 - categoricalcrossentropy: 0.0087 - categoricalaccuracy: 0.9960 - precision: 0.9967 - recall: 0.9956 - auc: 1.0000 - val_loss: 3.3926 - val_categoricalcrossentropy: 3.3926 - val_categoricalaccuracy: 0.5047 - val_precision: 0.5072 - val_recall: 0.5032 - val_auc: 0.6740\n",
      "Epoch 88/100\n",
      "4032/5706 [====================>.........] - ETA: 27s - loss: 0.0086 - categoricalcrossentropy: 0.0086 - categoricalaccuracy: 0.9965 - precision: 0.9970 - recall: 0.9965 - auc: 1.0000\n",
      "Epoch 00088: saving model to Model\\bert_faq.ckpt\n",
      "5706/5706 [==============================] - 113s 20ms/sample - loss: 0.0088 - categoricalcrossentropy: 0.0088 - categoricalaccuracy: 0.9960 - precision: 0.9963 - recall: 0.9960 - auc: 1.0000 - val_loss: 3.3627 - val_categoricalcrossentropy: 3.3627 - val_categoricalaccuracy: 0.5095 - val_precision: 0.5096 - val_recall: 0.5047 - val_auc: 0.6782\n",
      "Epoch 89/100\n",
      "5706/5706 [==============================] - 104s 18ms/sample - loss: 0.0080 - categoricalcrossentropy: 0.0080 - categoricalaccuracy: 0.9953 - precision: 0.9956 - recall: 0.9953 - auc: 1.0000 - val_loss: 3.3642 - val_categoricalcrossentropy: 3.3642 - val_categoricalaccuracy: 0.5079 - val_precision: 0.5096 - val_recall: 0.5032 - val_auc: 0.6829\n",
      "Epoch 90/100\n",
      "2624/5706 [============>.................] - ETA: 51s - loss: 0.0083 - categoricalcrossentropy: 0.0083 - categoricalaccuracy: 0.9966 - precision: 0.9966 - recall: 0.9962 - auc: 1.0000\n",
      "Epoch 00090: saving model to Model\\bert_faq.ckpt\n",
      "5706/5706 [==============================] - 111s 20ms/sample - loss: 0.0085 - categoricalcrossentropy: 0.0085 - categoricalaccuracy: 0.9953 - precision: 0.9958 - recall: 0.9949 - auc: 1.0000 - val_loss: 3.4206 - val_categoricalcrossentropy: 3.4206 - val_categoricalaccuracy: 0.5079 - val_precision: 0.5072 - val_recall: 0.5016 - val_auc: 0.6806\n",
      "Epoch 91/100\n",
      "5706/5706 [==============================] - 104s 18ms/sample - loss: 0.0083 - categoricalcrossentropy: 0.0083 - categoricalaccuracy: 0.9956 - precision: 0.9961 - recall: 0.9953 - auc: 1.0000 - val_loss: 3.4352 - val_categoricalcrossentropy: 3.4352 - val_categoricalaccuracy: 0.5126 - val_precision: 0.5143 - val_recall: 0.5095 - val_auc: 0.6777\n",
      "Epoch 92/100\n",
      "1216/5706 [=====>........................] - ETA: 1:14 - loss: 0.0086 - categoricalcrossentropy: 0.0086 - categoricalaccuracy: 0.9967 - precision: 0.9967 - recall: 0.9967 - auc: 1.0000\n",
      "Epoch 00092: saving model to Model\\bert_faq.ckpt\n",
      "5706/5706 [==============================] - 112s 20ms/sample - loss: 0.0105 - categoricalcrossentropy: 0.0105 - categoricalaccuracy: 0.9953 - precision: 0.9956 - recall: 0.9946 - auc: 1.0000 - val_loss: 3.4186 - val_categoricalcrossentropy: 3.4186 - val_categoricalaccuracy: 0.4953 - val_precision: 0.4960 - val_recall: 0.4937 - val_auc: 0.6762\n",
      "Epoch 93/100\n",
      "5536/5706 [============================>.] - ETA: 2s - loss: 0.0091 - categoricalcrossentropy: 0.0091 - categoricalaccuracy: 0.9964 - precision: 0.9964 - recall: 0.9964 - auc: 1.0000\n",
      "Epoch 00093: saving model to Model\\bert_faq.ckpt\n",
      "5706/5706 [==============================] - 112s 20ms/sample - loss: 0.0090 - categoricalcrossentropy: 0.0090 - categoricalaccuracy: 0.9963 - precision: 0.9963 - recall: 0.9963 - auc: 1.0000 - val_loss: 3.4236 - val_categoricalcrossentropy: 3.4236 - val_categoricalaccuracy: 0.5142 - val_precision: 0.5151 - val_recall: 0.5110 - val_auc: 0.6810\n",
      "Epoch 94/100\n",
      "5706/5706 [==============================] - 104s 18ms/sample - loss: 0.0082 - categoricalcrossentropy: 0.0082 - categoricalaccuracy: 0.9961 - precision: 0.9963 - recall: 0.9960 - auc: 1.0000 - val_loss: 3.4828 - val_categoricalcrossentropy: 3.4828 - val_categoricalaccuracy: 0.5158 - val_precision: 0.5183 - val_recall: 0.5142 - val_auc: 0.6807\n",
      "Epoch 95/100\n",
      "4128/5706 [====================>.........] - ETA: 26s - loss: 0.0095 - categoricalcrossentropy: 0.0095 - categoricalaccuracy: 0.9949 - precision: 0.9961 - recall: 0.9947 - auc: 1.0000\n",
      "Epoch 00095: saving model to Model\\bert_faq.ckpt\n",
      "5706/5706 [==============================] - 112s 20ms/sample - loss: 0.0087 - categoricalcrossentropy: 0.0087 - categoricalaccuracy: 0.9951 - precision: 0.9960 - recall: 0.9949 - auc: 1.0000 - val_loss: 3.5570 - val_categoricalcrossentropy: 3.5570 - val_categoricalaccuracy: 0.5000 - val_precision: 0.4992 - val_recall: 0.4937 - val_auc: 0.6776\n",
      "Epoch 96/100\n",
      "5706/5706 [==============================] - 104s 18ms/sample - loss: 0.0086 - categoricalcrossentropy: 0.0086 - categoricalaccuracy: 0.9958 - precision: 0.9960 - recall: 0.9949 - auc: 1.0000 - val_loss: 3.5142 - val_categoricalcrossentropy: 3.5142 - val_categoricalaccuracy: 0.5158 - val_precision: 0.5183 - val_recall: 0.5142 - val_auc: 0.6807\n",
      "Epoch 97/100\n",
      "2720/5706 [=============>................] - ETA: 49s - loss: 0.0080 - categoricalcrossentropy: 0.0080 - categoricalaccuracy: 0.9963 - precision: 0.9971 - recall: 0.9963 - auc: 1.0000\n",
      "Epoch 00097: saving model to Model\\bert_faq.ckpt\n",
      "5706/5706 [==============================] - 112s 20ms/sample - loss: 0.0084 - categoricalcrossentropy: 0.0084 - categoricalaccuracy: 0.9956 - precision: 0.9961 - recall: 0.9954 - auc: 1.0000 - val_loss: 3.5924 - val_categoricalcrossentropy: 3.5924 - val_categoricalaccuracy: 0.5142 - val_precision: 0.5192 - val_recall: 0.5126 - val_auc: 0.6785\n",
      "Epoch 98/100\n",
      "5706/5706 [==============================] - 104s 18ms/sample - loss: 0.0082 - categoricalcrossentropy: 0.0082 - categoricalaccuracy: 0.9960 - precision: 0.9961 - recall: 0.9953 - auc: 1.0000 - val_loss: 3.5930 - val_categoricalcrossentropy: 3.5930 - val_categoricalaccuracy: 0.5221 - val_precision: 0.5247 - val_recall: 0.5189 - val_auc: 0.6824\n",
      "Epoch 99/100\n",
      "1312/5706 [=====>........................] - ETA: 1:12 - loss: 0.0069 - categoricalcrossentropy: 0.0069 - categoricalaccuracy: 0.9954 - precision: 0.9954 - recall: 0.9954 - auc: 1.0000\n",
      "Epoch 00099: saving model to Model\\bert_faq.ckpt\n",
      "5706/5706 [==============================] - 113s 20ms/sample - loss: 0.0078 - categoricalcrossentropy: 0.0078 - categoricalaccuracy: 0.9963 - precision: 0.9963 - recall: 0.9958 - auc: 1.0000 - val_loss: 3.5756 - val_categoricalcrossentropy: 3.5756 - val_categoricalaccuracy: 0.5205 - val_precision: 0.5239 - val_recall: 0.5189 - val_auc: 0.6811\n",
      "Epoch 100/100\n",
      "5632/5706 [============================>.] - ETA: 1s - loss: 0.0075 - categoricalcrossentropy: 0.0075 - categoricalaccuracy: 0.9957 - precision: 0.9964 - recall: 0.9952 - auc: 1.0000\n",
      "Epoch 00100: saving model to Model\\bert_faq.ckpt\n"
     ]
    },
    {
     "name": "stdout",
     "output_type": "stream",
     "text": [
      "5706/5706 [==============================] - 111s 20ms/sample - loss: 0.0081 - categoricalcrossentropy: 0.0081 - categoricalaccuracy: 0.9954 - precision: 0.9961 - recall: 0.9949 - auc: 1.0000 - val_loss: 3.6486 - val_categoricalcrossentropy: 3.6486 - val_categoricalaccuracy: 0.5284 - val_precision: 0.5269 - val_recall: 0.5252 - val_auc: 0.6829\n"
     ]
    }
   ],
   "source": [
    "def fitModel(Model, training_set, training_label, testing_set, testing_label):\n",
    "    checkpointName = os.path.join('Model', \"bert_faq.ckpt\")\n",
    "\n",
    "    # Create a callback that saves the model's weights\n",
    "    cp_callback = tf.keras.callbacks.ModelCheckpoint(filepath=checkpointName,\n",
    "                                                     save_weights_only=True,\n",
    "                                                     save_freq = 10000,\n",
    "                                                     mode='auto',\n",
    "                                                     verbose=1)\n",
    "    history = Model.fit(\n",
    "        training_set,\n",
    "        training_label,\n",
    "        epochs=100,\n",
    "        validation_split = 0.1,\n",
    "        verbose=1,\n",
    "        callbacks=[cp_callback]\n",
    "    )\n",
    "    return history\n",
    "\n",
    "if TRAIN_MODEL:\n",
    "    history = fitModel(model, train_tokens, train_labels, test_tokens, test_labels)\n",
    "else:\n",
    "    print('Model training skipped')"
   ]
  },
  {
   "cell_type": "markdown",
   "metadata": {},
   "source": [
    "<h2>Training Metrics</h2>"
   ]
  },
  {
   "cell_type": "markdown",
   "metadata": {},
   "source": [
    "<h3>Categorical Accuracy</h3>\n",
    "<p></p>"
   ]
  },
  {
   "cell_type": "code",
   "execution_count": 17,
   "metadata": {},
   "outputs": [
    {
     "data": {
      "image/png": "[encoded data removed]",
      "text/plain": [
       "<Figure size 432x288 with 1 Axes>"
      ]
     },
     "metadata": {
      "needs_background": "light"
     },
     "output_type": "display_data"
    }
   ],
   "source": [
    "if TRAIN_MODEL:   \n",
    "    fig = plt.figure()\n",
    "    ax = plt.subplot(111)\n",
    "    ax.plot(history.history['categoricalaccuracy'], label = 'training categegorical accuracy')\n",
    "    ax.plot(history.history['val_categoricalaccuracy'], label = 'testing categegorical accuracy')\n",
    "    ax.legend()\n",
    "    plt.show()\n",
    "else:\n",
    "    print('No data: model training skipped')"
   ]
  },
  {
   "cell_type": "markdown",
   "metadata": {},
   "source": [
    "<h3>Precision</h3>\n",
    "<p></p>"
   ]
  },
  {
   "cell_type": "code",
   "execution_count": 18,
   "metadata": {},
   "outputs": [
    {
     "data": {
      "image/png": "[encoded data removed]",
      "text/plain": [
       "<Figure size 432x288 with 1 Axes>"
      ]
     },
     "metadata": {
      "needs_background": "light"
     },
     "output_type": "display_data"
    }
   ],
   "source": [
    "if TRAIN_MODEL:\n",
    "    fig = plt.figure()\n",
    "    ax = plt.subplot(111)\n",
    "    ax.plot(history.history['precision'], label = 'training precision')\n",
    "    ax.plot(history.history['val_precision'], label = 'testing precision')\n",
    "    ax.legend()\n",
    "    plt.show()\n",
    "else:\n",
    "    print('No data: model training skipped')"
   ]
  },
  {
   "cell_type": "markdown",
   "metadata": {},
   "source": [
    "<h3>Recall</h3>\n",
    "<p></p>"
   ]
  },
  {
   "cell_type": "code",
   "execution_count": 19,
   "metadata": {},
   "outputs": [
    {
     "data": {
      "image/png": "[encoded data removed]",
      "text/plain": [
       "<Figure size 432x288 with 1 Axes>"
      ]
     },
     "metadata": {
      "needs_background": "light"
     },
     "output_type": "display_data"
    }
   ],
   "source": [
    "if TRAIN_MODEL:\n",
    "    fig = plt.figure()\n",
    "    ax = plt.subplot(111)\n",
    "    ax.plot(history.history['recall'], label = 'training recall')\n",
    "    ax.plot(history.history['val_recall'], label = 'testing recall')\n",
    "    ax.legend()\n",
    "    plt.show()\n",
    "else:\n",
    "    print('No data: model training skipped')"
   ]
  },
  {
   "cell_type": "markdown",
   "metadata": {},
   "source": [
    "<h2>Evaluation</h2>"
   ]
  },
  {
   "cell_type": "code",
   "execution_count": 58,
   "metadata": {},
   "outputs": [
    {
     "name": "stdout",
     "output_type": "stream",
     "text": [
      "done generating random predictions\n"
     ]
    }
   ],
   "source": [
    "# Baseline - Random predictions\n",
    "x = np.eye(len(CLASSES))\n",
    "baseline_labels=x[np.random.choice(len(CLASSES), len(test_labels))]\n",
    "print('done generating random predictions')"
   ]
  },
  {
   "cell_type": "code",
   "execution_count": 52,
   "metadata": {
    "scrolled": true
   },
   "outputs": [
    {
     "name": "stdout",
     "output_type": "stream",
     "text": [
      "done generating test predictions\n"
     ]
    }
   ],
   "source": [
    "# Model Predictions\n",
    "y_pred = model.predict(test_tokens)\n",
    "print('done generating test predictions')"
   ]
  },
  {
   "cell_type": "code",
   "execution_count": 59,
   "metadata": {},
   "outputs": [
    {
     "name": "stdout",
     "output_type": "stream",
     "text": [
      "Classification Report - Baseline\n",
      "              precision    recall  f1-score   support\n",
      "\n",
      "         CAG       0.33      0.33      0.33       561\n",
      "         NAG       0.34      0.33      0.33       531\n",
      "         OAG       0.30      0.32      0.31       494\n",
      "\n",
      "   micro avg       0.32      0.32      0.32      1586\n",
      "   macro avg       0.32      0.32      0.32      1586\n",
      "weighted avg       0.33      0.32      0.32      1586\n",
      "\n",
      "Classification Report - Model\n",
      "              precision    recall  f1-score   support\n",
      "\n",
      "         CAG       0.44      0.38      0.41       561\n",
      "         NAG       0.57      0.57      0.57       531\n",
      "         OAG       0.51      0.58      0.54       494\n",
      "\n",
      "   micro avg       0.51      0.51      0.51      1586\n",
      "   macro avg       0.50      0.51      0.51      1586\n",
      "weighted avg       0.50      0.51      0.50      1586\n",
      "\n",
      "Confusion Matrix\n",
      "['CAG', 'NAG', 'OAG']\n",
      "[[215 156 190]\n",
      " [140 301  90]\n",
      " [132  75 287]]\n"
     ]
    }
   ],
   "source": [
    "print('Classification Report - Baseline')\n",
    "report_baseline = metrics.classification_report(test_labels.argmax(axis=1),\n",
    "                                       baseline_labels.argmax(axis=1),\n",
    "                                      target_names = CLASSES)\n",
    "print(report_baseline)\n",
    "print('Classification Report - Model')\n",
    "report_model = metrics.classification_report(test_labels.argmax(axis=1),\n",
    "                                       y_pred.argmax(axis=1),\n",
    "                                      target_names = CLASSES)\n",
    "print(report_model)\n",
    "\n",
    "print('Confusion Matrix')\n",
    "matrix = metrics.confusion_matrix(test_labels.argmax(axis=1), y_pred.argmax(axis=1))\n",
    "print(CLASSES)\n",
    "print(matrix)\n"
   ]
  },
  {
   "cell_type": "markdown",
   "metadata": {},
   "source": [
    "<h2>Interpretation</h2>\n",
    "<p>An f1 score of 0.50 is achieved over the test set. This is an improvement of 0.18 over the baseline, which uses randomly assigned labels. Therefore the model has learned some differences in language between the different classes.</p>\n",
    "<p>The highest f1 score, 0.57, is achieved in the 'Not Aggressive' class. The confusion matrix also highlights this - of the 531 samples labelled as 'Not Agressive' the model correctly predicted 301 of them. Of the remaining 230 samples that were incorrectly labelled, 140 of them were mislabelled as 'Covertly Agressive' and only 90 of them mislabelled as 'Overtly Agressive'. The model has clearly learned something about the differences between overtly aggressive comments and non-aggressive comments.</p>\n",
    "<p>The same pattern exists for 'Overtly Agressive' samples, ie. that the vast majority of mislabelled samples were labelled as 'Covertly Agressive', 132 samples, as compared to only 75 samples that were mislabelled as 'Not Aggressive'. Again this highlights that the model has somewhat successfully been able to differentiate between overtly aggressive comments and non-aggressive comments. It also shows that the model had difficulty understanding the subtlety associated with 'Covertly Aggressive' comments. Indeed the f1-score, precision and recall of 'Covertly Agressive' samples are by far the lowest of the three classes.</p>"
   ]
  },
  {
   "cell_type": "markdown",
   "metadata": {},
   "source": [
    "<h2>Running Predictions Using The Saved Model</h2>"
   ]
  },
  {
   "cell_type": "code",
   "execution_count": 72,
   "metadata": {},
   "outputs": [
    {
     "name": "stdout",
     "output_type": "stream",
     "text": [
      "Model build with random weights\n",
      "Weights loaded\n",
      "That is a well reasoned point\n",
      "NAG\n",
      "This is happening in BJP ruled state. Shame on the adminstration\n",
      "OAG\n"
     ]
    }
   ],
   "source": [
    "def Load_Checkpoint(Model):\n",
    "    \n",
    "    latest_checkpoint = tf.train.latest_checkpoint('Model')\n",
    "    #loaded_model = build_model_fullyconnected()\n",
    "    \n",
    "    print('Model build with random weights')\n",
    "    #Model.evaluate(test_tokens, test_labels, verbose=2)\n",
    "       \n",
    "    Model.load_weights(latest_checkpoint)\n",
    "    print('Weights loaded')\n",
    "    #Model.evaluate(test_tokens, test_labels, verbose=2)\n",
    "    \n",
    "    return Model\n",
    "    \n",
    "def Model_Predictions(Model, Text_Array):\n",
    "    inputs = Bertify(Text_Array)\n",
    "    predicted_labels = Model.predict(inputs)\n",
    "    label_indices = np.argmax(predicted_labels, axis=1)\n",
    "    labels = [CLASSES[x] for x in label_indices]\n",
    "    return labels\n",
    "\n",
    "if LOAD_MODEL_AND_PREDICT:\n",
    "    model = Load_Checkpoint(model)\n",
    "    predictions = Model_Predictions(model, TEXT_TO_PREDICT)\n",
    "    for text, prediction in zip(TEXT_TO_PREDICT, predictions):\n",
    "        print(text)\n",
    "        print(prediction)\n"
   ]
  }
 ],
 "metadata": {
  "kernelspec": {
   "display_name": "Python 3",
   "language": "python",
   "name": "python3"
  },
  "language_info": {
   "codemirror_mode": {
    "name": "ipython",
    "version": 3
   },
   "file_extension": ".py",
   "mimetype": "text/x-python",
   "name": "python",
   "nbconvert_exporter": "python",
   "pygments_lexer": "ipython3",
   "version": "3.6.6"
  }
 },
 "nbformat": 4,
 "nbformat_minor": 4
}
