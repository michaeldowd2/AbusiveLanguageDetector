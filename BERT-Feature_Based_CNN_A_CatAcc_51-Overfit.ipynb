{
 "cells": [
  {
   "cell_type": "markdown",
   "metadata": {},
   "source": [
    "<h1>Transfer Learning with BERT</h1>"
   ]
  },
  {
   "cell_type": "code",
   "execution_count": 51,
   "metadata": {},
   "outputs": [
    {
     "name": "stdout",
     "output_type": "stream",
     "text": [
      "Libraries loaded\n"
     ]
    }
   ],
   "source": [
    "# References\n",
    "# https://colab.research.google.com/drive/1IubZ3T7gqD09ZIVmJapiB5MXUnVGlzwH#scrollTo=7LbVjtktg3Ln\n",
    "# https://medium.com/analytics-vidhya/bert-in-keras-tensorflow-2-0-using-tfhub-huggingface-81c08c5f81d8\n",
    "# https://medium.com/@brn.pistone/bert-fine-tuning-for-tensorflow-2-0-with-keras-api-9913fc1348f6\n",
    "\n",
    "# https://www.aclweb.org/anthology/W18-4407.pdf\n",
    "# https://www.aclweb.org/anthology/W18-4408.pdf\n",
    "\n",
    "# Requirements\n",
    "# pip install sentencepiece\n",
    "# pip install tensorflow_hub\n",
    "# pip install tensorflow\n",
    "# pip install bert-for-tf2\n",
    "# pip install transformers\n",
    "\n",
    "from sklearn.preprocessing import OneHotEncoder\n",
    "from sklearn.preprocessing import LabelEncoder\n",
    "from sklearn.model_selection import train_test_split\n",
    "import matplotlib.pyplot as plt\n",
    "import pandas as pd\n",
    "import tensorflow as tf\n",
    "import tensorflow_hub as hub\n",
    "import bert\n",
    "import os\n",
    "import numpy as np\n",
    "import random\n",
    "import re\n",
    "from datetime import datetime\n",
    "from tensorflow.keras.layers import Conv1D, Dense, Flatten, Dropout,Embedding, LSTM, Bidirectional, Input, Dropout, GlobalAveragePooling1D, AveragePooling1D\n",
    "from tensorflow.keras import Sequential\n",
    "from tensorflow.keras.models import Model\n",
    "from tensorflow.keras.preprocessing import sequence\n",
    "import bert\n",
    "from bert import bert_tokenization \n",
    "\n",
    "print('Libraries loaded')\n"
   ]
  },
  {
   "cell_type": "markdown",
   "metadata": {},
   "source": [
    "<h2>Settings</h2>"
   ]
  },
  {
   "cell_type": "code",
   "execution_count": 2,
   "metadata": {},
   "outputs": [
    {
     "name": "stdout",
     "output_type": "stream",
     "text": [
      "Settings set\n"
     ]
    }
   ],
   "source": [
    "CLASSES = ['CAG', 'NAG', 'OAG']\n",
    "MAX_LENGTH = 128\n",
    "TRAIN_MODEL = True\n",
    "RETRAIN_BERT = False\n",
    "TRAIN_SAMPLES = 0.8\n",
    "LOAD_MODEL_AND_PREDICT = True\n",
    "TEXT_TO_PREDICT = ['That is a well reasoned point',\n",
    "                   'This is happening in BJP ruled state. Shame on the adminstration']\n",
    "DATA_FILE = 'Data/agr_en_train.csv'\n",
    "print('Settings set')"
   ]
  },
  {
   "cell_type": "markdown",
   "metadata": {},
   "source": [
    "<h2>Load BERT Model from Tensorflow HUB</h2>"
   ]
  },
  {
   "cell_type": "code",
   "execution_count": 3,
   "metadata": {},
   "outputs": [
    {
     "name": "stdout",
     "output_type": "stream",
     "text": [
      "Model Loaded\n",
      "Tokenizer Created\n",
      "Sample Tokenizer Operations\n",
      "['this', 'is', 'a', 'sample', 'token', '##ing', 'operation', '.', 'it', 'spans', 'multiple', 'sentences']\n",
      "[2023, 2003, 1037, 7099, 19204, 2075, 3169, 1012, 2009, 14798, 3674, 11746]\n"
     ]
    }
   ],
   "source": [
    "bert_path = \"https://tfhub.dev/tensorflow/bert_en_uncased_L-12_H-768_A-12/1\"\n",
    "bert_layer = hub.KerasLayer(bert_path,trainable=True)\n",
    "print('Model Loaded')\n",
    "\n",
    "vocab_file1 = bert_layer.resolved_object.vocab_file.asset_path.numpy()\n",
    "tokenizer = bert.bert_tokenization.FullTokenizer(vocab_file1, do_lower_case=True)\n",
    "print('Tokenizer Created')\n",
    "\n",
    "print('Sample Tokenizer Operations')\n",
    "sample_x = tokenizer.tokenize('this is a sample tokening operation. It spans multiple sentences')\n",
    "sample_ids = tokenizer.convert_tokens_to_ids(sample_x)\n",
    "print(sample_x)\n",
    "print(sample_ids)"
   ]
  },
  {
   "cell_type": "markdown",
   "metadata": {},
   "source": [
    "<h2>Load Data and Explore</h2>\n",
    "<p>Want to make sure the target labels are well balanced. Also need to find the average length of the posts as the BERT model requires inputs up to a certain length</p>"
   ]
  },
  {
   "cell_type": "code",
   "execution_count": 47,
   "metadata": {},
   "outputs": [
    {
     "name": "stdout",
     "output_type": "stream",
     "text": [
      "Wordcount distribution\n"
     ]
    },
    {
     "data": {
      "image/png": "[encoded data removed]",
      "text/plain": [
       "<Figure size 432x288 with 1 Axes>"
      ]
     },
     "metadata": {
      "needs_background": "light"
     },
     "output_type": "display_data"
    },
    {
     "name": "stdout",
     "output_type": "stream",
     "text": [
      "Label distribution\n"
     ]
    },
    {
     "data": {
      "image/png": "[encoded data removed]",
      "text/plain": [
       "<Figure size 432x288 with 1 Axes>"
      ]
     },
     "metadata": {
      "needs_background": "light"
     },
     "output_type": "display_data"
    },
    {
     "name": "stdout",
     "output_type": "stream",
     "text": [
      "English distribution\n"
     ]
    },
    {
     "data": {
      "image/png": "[encoded data removed]",
      "text/plain": [
       "<Figure size 432x288 with 1 Axes>"
      ]
     },
     "metadata": {
      "needs_background": "light"
     },
     "output_type": "display_data"
    },
    {
     "name": "stdout",
     "output_type": "stream",
     "text": [
      "                                                   Text Indicator  Length  \\\n",
      "41                   modi ji all the pain  nö real gain       CAG       9   \n",
      "314   yàar my ears are bleeding stop this  get the b...       CAG      13   \n",
      "813            रजनथ सह फर कहग क हम ननद करत ह डब मर सरकर       CAG      12   \n",
      "830    bot powered by prince fadii  just now done  i...       NAG      61   \n",
      "1107   bot powered by ishaq zada  see my bot speed  ...       NAG      66   \n",
      "1441       live  nse स pehlakadam season 2 grand finale       NAG       9   \n",
      "1462  what you should know about turkeys president r...       NAG     297   \n",
      "1621   bot powered by prince fadii  see my bot speed...       NAG      62   \n",
      "1704  a question of order india turkey and the retur...       CAG     106   \n",
      "1719  अर कछ त कर खल हजड क तरह तल बजत रहन स कछ नह हग ...       OAG      25   \n",
      "\n",
      "      isEnglish  \n",
      "41        False  \n",
      "314       False  \n",
      "813       False  \n",
      "830       False  \n",
      "1107      False  \n",
      "1441      False  \n",
      "1462      False  \n",
      "1621      False  \n",
      "1704      False  \n",
      "1719      False  \n"
     ]
    }
   ],
   "source": [
    "def remove_URL(s):\n",
    "    \"\"\"Remove URLs from a sample string\"\"\"\n",
    "    return re.sub(r\"http\\S+\", \"\", s)\n",
    "\n",
    "def remove_punctuation(s):\n",
    "    return re.sub(r'[^\\w\\s]', '', s)\n",
    "    \n",
    "def remove_Emoji(s):\n",
    "    emoji_pattern = re.compile(\"[\"\n",
    "        u\"\\U0001F600-\\U0001F64F\"  # emoticons\n",
    "        u\"\\U0001F300-\\U0001F5FF\"  # symbols & pictographs\n",
    "        u\"\\U0001F680-\\U0001F6FF\"  # transport & map symbols\n",
    "        u\"\\U0001F1E0-\\U0001F1FF\"  # flags (iOS)\n",
    "                           \"]+\", flags=re.UNICODE)\n",
    "    return emoji_pattern.sub(r'', s)\n",
    "\n",
    "def replace_chars(Data):\n",
    "    Data['Text'] = Data['Text'].str.replace('\\n',' ')\n",
    "    Data['Text'] = Data['Text'].str.replace('  ',' ')\n",
    "    Data['Text'] = Data['Text'].str.strip()\n",
    "    Data['Text'] = Data['Text'].str.lower()\n",
    "    Data['Text'] = Data['Text'].str.replace('pls','please')\n",
    "    Data['Text'] = Data['Text'].str.replace('plz','please')\n",
    "    Data['Text'] = Data['Text'].str.replace(' u ',' you ')\n",
    "    Data['Text'] = Data['Text'].str.replace(' ur ',' your ')\n",
    "    Data['Text'] = Data['Text'].str.replace(' vs ',' versus ')\n",
    "    Data['Text'] = Data['Text'].str.replace(' tks ',' thanks ')\n",
    "    Data['Text'] = Data['Text'].str.replace(' tkz ',' thanks ')\n",
    "    Data['Text'] = Data['Text'].str.replace(' cud ',' could ')\n",
    "    Data['Text'] = Data['Text'].str.replace(' b ',' be ')\n",
    "    Data['Text'] = Data['Text'].str.replace(' r ',' are ')\n",
    "    Data['Text'] = Data['Text'].str.replace(' gonna ',' going to ')\n",
    "    Data['Text'] = Data['Text'].str.replace(' y ',' why ')\n",
    "    Data['Text'] = Data['Text'].str.replace('bn ',' billion ')\n",
    "    Data['Text'] = Data['Text'].str.replace('tn ',' trillion ')\n",
    "    Data['Text'] = Data['Text'].str.replace('£',' pounds ')\n",
    "    Data['Text'] = Data['Text'].str.replace('$',' dollars ')\n",
    "    return Data\n",
    "\n",
    "def isEnglish(s):\n",
    "    try:\n",
    "        s.encode(encoding='utf-8').decode('ascii')\n",
    "    except UnicodeDecodeError:\n",
    "        return False\n",
    "    else:\n",
    "        return True\n",
    "\n",
    "def create_data_frame():\n",
    "    data = pd.read_csv(DATA_FILE)\n",
    "    data.columns = ['ID','Text','Indicator']\n",
    "    data.drop(['ID'], axis='columns', inplace = True)\n",
    "    \n",
    "    data = replace_chars(data)\n",
    "    data['Text'] = data['Text'].apply(remove_Emoji)\n",
    "    data['Text'] = data['Text'].apply(remove_URL)\n",
    "    data['Text'] = data['Text'].apply(remove_punctuation)\n",
    "    data['Length'] = data['Text'].str.split(' ').apply(len)\n",
    "    data['isEnglish'] = data['Text'].apply(isEnglish)\n",
    "    return data\n",
    "\n",
    "data = create_data_frame()\n",
    "print('Wordcount distribution')\n",
    "data['Length'].hist(bins=30)\n",
    "plt.show()\n",
    "print('Label distribution')\n",
    "data['Indicator'].value_counts().plot(kind='bar')\n",
    "plt.show()\n",
    "print('English distribution')\n",
    "data['isEnglish'].value_counts().plot(kind='bar')\n",
    "plt.show()\n",
    "print(data[data['isEnglish']==False][0:10])\n"
   ]
  },
  {
   "cell_type": "markdown",
   "metadata": {},
   "source": [
    "<p>The target labels aren't balanced and the length of the text in the samples is quite skewed. Both properties could affect the training of a classifier, also feature-based transfer learning using BERT can cope with far fewer samples, so at this point some samples will be filtered out to improve the quality of the set."
   ]
  },
  {
   "cell_type": "code",
   "execution_count": 48,
   "metadata": {},
   "outputs": [
    {
     "data": {
      "image/png": "[encoded data removed]",
      "text/plain": [
       "<Figure size 432x288 with 1 Axes>"
      ]
     },
     "metadata": {
      "needs_background": "light"
     },
     "output_type": "display_data"
    },
    {
     "data": {
      "image/png": "[encoded data removed]",
      "text/plain": [
       "<Figure size 432x288 with 1 Axes>"
      ]
     },
     "metadata": {
      "needs_background": "light"
     },
     "output_type": "display_data"
    },
    {
     "name": "stdout",
     "output_type": "stream",
     "text": [
      "New dataset length 7944\n"
     ]
    }
   ],
   "source": [
    "def remove_too_long_samples(data):\n",
    "    return data[data['Length']<=MAX_LENGTH]\n",
    "\n",
    "def balance_samples_for_labels(data):\n",
    "    oags = data[data['Indicator']=='OAG']\n",
    "    length = len(oags.index)\n",
    "    cags = data[data['Indicator']=='CAG'].sample(n=length,random_state=42)\n",
    "    nags = data[data['Indicator']=='NAG'].sample(n=length,random_state=42)\n",
    "    all_stuff = pd.concat([oags,cags,nags])\n",
    "    \n",
    "    #shuffle dataset\n",
    "    return all_stuff.sample(n=len(all_stuff.index), random_state=42)\n",
    "    \n",
    "data = remove_too_long_samples(data)\n",
    "data['Length'].hist(bins=30)\n",
    "plt.show()\n",
    "data = balance_samples_for_labels(data)\n",
    "data['Indicator'].value_counts().plot(kind='bar')\n",
    "plt.show()\n",
    "print('New dataset length %s' % len(data.index))\n"
   ]
  },
  {
   "cell_type": "markdown",
   "metadata": {},
   "source": [
    "<h2>Data Processing</h2>\n",
    "<p>The Bert model loaded from TF Hub expects input data in a particular format. For every text sample, three arrays are created: most importantly the sample is tokenised and then converted to Ids using BERTs tokenizer dictionary. An input mask array and sentence location (not used for classification) array are also created."
   ]
  },
  {
   "cell_type": "code",
   "execution_count": 49,
   "metadata": {},
   "outputs": [
    {
     "name": "stdout",
     "output_type": "stream",
     "text": [
      "Training data loaded\n",
      "[<tf.Tensor: shape=(6355, 128), dtype=int32, numpy=\n",
      "array([[  101,  2821,  2061, ...,     0,     0,     0],\n",
      "       [  101, 12264,   102, ...,     0,     0,     0],\n",
      "       [  101,  6522,  2860, ...,     0,     0,     0],\n",
      "       ...,\n",
      "       [  101,  2079,  1996, ...,     0,     0,     0],\n",
      "       [  101,  2023,  7221, ...,     0,     0,     0],\n",
      "       [  101,  1037,  5160, ...,     0,     0,     0]])>, <tf.Tensor: shape=(6355, 128), dtype=int32, numpy=\n",
      "array([[0, 0, 0, ..., 0, 0, 0],\n",
      "       [0, 0, 0, ..., 0, 0, 0],\n",
      "       [0, 0, 0, ..., 0, 0, 0],\n",
      "       ...,\n",
      "       [0, 0, 0, ..., 0, 0, 0],\n",
      "       [0, 0, 0, ..., 0, 0, 0],\n",
      "       [0, 0, 0, ..., 0, 0, 0]])>, <tf.Tensor: shape=(6355, 128), dtype=int32, numpy=\n",
      "array([[1, 1, 1, ..., 0, 0, 0],\n",
      "       [1, 1, 1, ..., 0, 0, 0],\n",
      "       [1, 1, 1, ..., 0, 0, 0],\n",
      "       ...,\n",
      "       [1, 1, 1, ..., 0, 0, 0],\n",
      "       [1, 1, 1, ..., 0, 0, 0],\n",
      "       [1, 1, 1, ..., 0, 0, 0]])>]\n",
      "[[0. 0. 1.]\n",
      " [0. 0. 1.]\n",
      " [0. 1. 0.]\n",
      " [0. 0. 1.]\n",
      " [1. 0. 0.]\n",
      " [0. 0. 1.]\n",
      " [0. 0. 1.]\n",
      " [1. 0. 0.]\n",
      " [0. 1. 0.]\n",
      " [0. 1. 0.]]\n"
     ]
    }
   ],
   "source": [
    "def Bertify(Set):\n",
    "    \n",
    "    tokens = map(tokenizer.tokenize, Set)\n",
    "    tokens = map(lambda tok: tok[:MAX_LENGTH-2], tokens)\n",
    "    tokens = map(lambda tok: [\"[CLS]\"] + tok + [\"[SEP]\"], tokens)\n",
    "    \n",
    "    token_ids = map(tokenizer.convert_tokens_to_ids, tokens)\n",
    "    token_ids = map(lambda tids: tids + [0] * (MAX_LENGTH - len(tids)), token_ids)\n",
    "    # token_ids = map(lambda tids: np.array(tids), token_ids)\n",
    "    token_ids = list(token_ids)\n",
    "    token_masks =[]\n",
    "    sent_segs = []\n",
    "    for token_list in token_ids:\n",
    "        token_masks.append([1 if x > 0 else 0 for x in token_list])\n",
    "        sent_segs.append([0 for x in token_list])    \n",
    "    return  [tf.cast(token_ids,tf.int32), tf.cast(sent_segs,tf.int32), tf.cast(token_masks,tf.int32)]\n",
    "\n",
    "def preprocess_data(data): \n",
    "    #One hot encoding\n",
    "    label_encoder = LabelEncoder()\n",
    "    label_encoder = label_encoder.fit(CLASSES)\n",
    "    label_ints = label_encoder.transform(data.values[:,1])\n",
    "    label_ints = label_ints.reshape(len(label_ints), 1)\n",
    "    onehot_encoder = OneHotEncoder(sparse=False, categories='auto')\n",
    "    label_onehot = onehot_encoder.fit_transform(label_ints)\n",
    "    \n",
    "    #Split to training and test\n",
    "    train_len = int(len(data.index) * TRAIN_SAMPLES)\n",
    "    \n",
    "    train_set = data.values[:train_len,0]\n",
    "    train_features = Bertify(train_set)\n",
    "    train_labels = np.array(label_onehot[:train_len,:])\n",
    "    \n",
    "    test_set = data.values[train_len:,0]\n",
    "    test_features = Bertify(test_set)\n",
    "    test_labels = np.array(label_onehot[train_len:,:])\n",
    "    \n",
    "    return train_features, train_labels, test_features, test_labels\n",
    "\n",
    "if TRAIN_MODEL:\n",
    "    train_tokens, train_labels, test_tokens, test_labels = preprocess_data(data)\n",
    "    print('Training data loaded')\n",
    "    print(train_tokens[0:10])\n",
    "    print(train_labels[0:10])\n",
    "else:\n",
    "    print('Training data not loaded')"
   ]
  },
  {
   "cell_type": "markdown",
   "metadata": {},
   "source": [
    "<h2>Model Definition</h2>"
   ]
  },
  {
   "cell_type": "code",
   "execution_count": 70,
   "metadata": {},
   "outputs": [
    {
     "name": "stdout",
     "output_type": "stream",
     "text": [
      "Model: \"model_8\"\n",
      "__________________________________________________________________________________________________\n",
      "Layer (type)                    Output Shape         Param #     Connected to                     \n",
      "==================================================================================================\n",
      "input_token_ids (InputLayer)    [(None, 128)]        0                                            \n",
      "__________________________________________________________________________________________________\n",
      "input_token_masks (InputLayer)  [(None, 128)]        0                                            \n",
      "__________________________________________________________________________________________________\n",
      "input_sent_segms (InputLayer)   [(None, 128)]        0                                            \n",
      "__________________________________________________________________________________________________\n",
      "keras_layer (KerasLayer)        [(None, 768), (None, 109482241   input_token_ids[0][0]            \n",
      "                                                                 input_token_masks[0][0]          \n",
      "                                                                 input_sent_segms[0][0]           \n",
      "__________________________________________________________________________________________________\n",
      "conv1d_24 (Conv1D)              (None, None, 128)    491648      keras_layer[17][1]               \n",
      "__________________________________________________________________________________________________\n",
      "average_pooling1d_17 (AveragePo (None, None, 128)    0           conv1d_24[0][0]                  \n",
      "__________________________________________________________________________________________________\n",
      "conv1d_25 (Conv1D)              (None, None, 64)     41024       average_pooling1d_17[0][0]       \n",
      "__________________________________________________________________________________________________\n",
      "global_average_pooling1d_5 (Glo (None, 64)           0           conv1d_25[0][0]                  \n",
      "__________________________________________________________________________________________________\n",
      "dense_14 (Dense)                (None, 32)           2080        global_average_pooling1d_5[0][0] \n",
      "__________________________________________________________________________________________________\n",
      "dropout_13 (Dropout)            (None, 32)           0           dense_14[0][0]                   \n",
      "__________________________________________________________________________________________________\n",
      "output (Dense)                  (None, 3)            99          dropout_13[0][0]                 \n",
      "==================================================================================================\n",
      "Total params: 110,017,092\n",
      "Trainable params: 534,851\n",
      "Non-trainable params: 109,482,241\n",
      "__________________________________________________________________________________________________\n",
      "None\n",
      "done\n"
     ]
    }
   ],
   "source": [
    "METRICS = [\n",
    "      tf.keras.metrics.CategoricalCrossentropy(name='categoricalcrossentropy'),\n",
    "      tf.keras.metrics.CategoricalAccuracy(name='categoricalaccuracy'),\n",
    "      tf.keras.metrics.Precision(name='precision'),\n",
    "      tf.keras.metrics.Recall(name='recall'),\n",
    "      tf.keras.metrics.AUC(name='auc'),\n",
    "]\n",
    "\n",
    "def build_model_fullyconnected():\n",
    "    \"\"\"add pretrained bert model as a keras layer\"\"\"\n",
    "    input_word_ids = Input((MAX_LENGTH,), dtype=tf.int32, name='input_token_ids')\n",
    "    input_masks = Input((MAX_LENGTH,), dtype=tf.int32, name='input_token_masks')\n",
    "    input_segments = Input((MAX_LENGTH,), dtype=tf.int32, name='input_sent_segms')\n",
    "    \n",
    "    if not RETRAIN_BERT:\n",
    "        bert_layer.trainable = False\n",
    "    \n",
    "    _, sout = bert_layer([input_word_ids, input_masks, input_segments])\n",
    "    # X = GlobalAveragePooling1D()(sout)\n",
    "    X = Conv1D(128, 5, activation='relu')(sout)\n",
    "    X = AveragePooling1D()(X)\n",
    "    X = Conv1D(64, 5, activation='relu')(X)\n",
    "    X = GlobalAveragePooling1D()(X)\n",
    "    X = Dense(32, activation='relu')(X) \n",
    "    X = Dropout(0.3)(X)\n",
    "    output_= Dense(3, activation=tf.nn.softmax, name='output')(X)\n",
    "\n",
    "    #model = Model(input_,output_)\n",
    "    model = Model([input_word_ids, input_masks, input_segments],output_)\n",
    "    model.compile(optimizer = \"adam\",loss = \"categorical_crossentropy\",\n",
    "                    metrics = METRICS)\n",
    "    return model\n",
    "\n",
    "model = build_model_fullyconnected()\n",
    "print(model.summary())\n",
    "print('done')"
   ]
  },
  {
   "cell_type": "markdown",
   "metadata": {},
   "source": [
    "<h2>Model Training</h2>"
   ]
  },
  {
   "cell_type": "code",
   "execution_count": 71,
   "metadata": {},
   "outputs": [
    {
     "name": "stdout",
     "output_type": "stream",
     "text": [
      "Train on 6355 samples, validate on 1589 samples\n",
      "Epoch 1/100\n",
      "6355/6355 [==============================] - 109s 17ms/sample - loss: 1.0607 - categoricalcrossentropy: 1.0607 - categoricalaccuracy: 0.4209 - precision: 0.5648 - recall: 0.1166 - auc: 0.6160 - val_loss: 1.0025 - val_categoricalcrossentropy: 1.0025 - val_categoricalaccuracy: 0.4695 - val_precision: 0.6261 - val_recall: 0.2329 - val_auc: 0.6794\n",
      "Epoch 2/100\n",
      "3616/6355 [================>.............] - ETA: 35s - loss: 0.9773 - categoricalcrossentropy: 0.9773 - categoricalaccuracy: 0.5077 - precision: 0.6635 - recall: 0.2351 - auc: 0.7031\n",
      "Epoch 00002: saving model to Model\\bert_faq.ckpt\n",
      "6355/6355 [==============================] - 111s 17ms/sample - loss: 0.9762 - categoricalcrossentropy: 0.9762 - categoricalaccuracy: 0.5108 - precision: 0.6630 - recall: 0.2352 - auc: 0.7039 - val_loss: 0.9752 - val_categoricalcrossentropy: 0.9752 - val_categoricalaccuracy: 0.5223 - val_precision: 0.6965 - val_recall: 0.2108 - val_auc: 0.7113\n",
      "Epoch 3/100\n",
      "6355/6355 [==============================] - 105s 16ms/sample - loss: 0.9468 - categoricalcrossentropy: 0.9468 - categoricalaccuracy: 0.5262 - precision: 0.6832 - recall: 0.2585 - auc: 0.7268 - val_loss: 0.9781 - val_categoricalcrossentropy: 0.9781 - val_categoricalaccuracy: 0.5205 - val_precision: 0.6279 - val_recall: 0.2889 - val_auc: 0.7141\n",
      "Epoch 4/100\n",
      " 928/6355 [===>..........................] - ETA: 1:10 - loss: 0.9595 - categoricalcrossentropy: 0.9595 - categoricalaccuracy: 0.5312 - precision: 0.6676 - recall: 0.2619 - auc: 0.7225\n",
      "Epoch 00004: saving model to Model\\bert_faq.ckpt\n",
      "6355/6355 [==============================] - 110s 17ms/sample - loss: 0.9289 - categoricalcrossentropy: 0.9289 - categoricalaccuracy: 0.5434 - precision: 0.6928 - recall: 0.2785 - auc: 0.7410 - val_loss: 0.9656 - val_categoricalcrossentropy: 0.9656 - val_categoricalaccuracy: 0.5223 - val_precision: 0.6714 - val_recall: 0.2687 - val_auc: 0.7211\n",
      "Epoch 5/100\n",
      "4576/6355 [====================>.........] - ETA: 22s - loss: 0.9051 - categoricalcrossentropy: 0.9051 - categoricalaccuracy: 0.5651 - precision: 0.7060 - recall: 0.3112 - auc: 0.7563\n",
      "Epoch 00005: saving model to Model\\bert_faq.ckpt\n",
      "6355/6355 [==============================] - 109s 17ms/sample - loss: 0.9039 - categoricalcrossentropy: 0.9039 - categoricalaccuracy: 0.5637 - precision: 0.7020 - recall: 0.3147 - auc: 0.7567 - val_loss: 0.9603 - val_categoricalcrossentropy: 0.9603 - val_categoricalaccuracy: 0.5494 - val_precision: 0.6500 - val_recall: 0.2700 - val_auc: 0.7296\n",
      "Epoch 6/100\n",
      "6355/6355 [==============================] - 100s 16ms/sample - loss: 0.8804 - categoricalcrossentropy: 0.8804 - categoricalaccuracy: 0.5775 - precision: 0.7038 - recall: 0.3402 - auc: 0.7705 - val_loss: 0.9654 - val_categoricalcrossentropy: 0.9654 - val_categoricalaccuracy: 0.5368 - val_precision: 0.6284 - val_recall: 0.3203 - val_auc: 0.7267\n",
      "Epoch 7/100\n",
      "1888/6355 [=======>......................] - ETA: 56s - loss: 0.8545 - categoricalcrossentropy: 0.8545 - categoricalaccuracy: 0.6081 - precision: 0.7095 - recall: 0.3776 - auc: 0.7878\n",
      "Epoch 00007: saving model to Model\\bert_faq.ckpt\n",
      "6355/6355 [==============================] - 107s 17ms/sample - loss: 0.8626 - categoricalcrossentropy: 0.8626 - categoricalaccuracy: 0.5902 - precision: 0.7015 - recall: 0.3679 - auc: 0.7811 - val_loss: 0.9623 - val_categoricalcrossentropy: 0.9623 - val_categoricalaccuracy: 0.5406 - val_precision: 0.6216 - val_recall: 0.2977 - val_auc: 0.7254\n",
      "Epoch 8/100\n",
      "5536/6355 [=========================>....] - ETA: 10s - loss: 0.8451 - categoricalcrossentropy: 0.8452 - categoricalaccuracy: 0.6077 - precision: 0.7200 - recall: 0.3990 - auc: 0.7949\n",
      "Epoch 00008: saving model to Model\\bert_faq.ckpt\n",
      "6355/6355 [==============================] - 108s 17ms/sample - loss: 0.8402 - categoricalcrossentropy: 0.8402 - categoricalaccuracy: 0.6104 - precision: 0.7169 - recall: 0.4057 - auc: 0.7975 - val_loss: 0.9555 - val_categoricalcrossentropy: 0.9555 - val_categoricalaccuracy: 0.5450 - val_precision: 0.6168 - val_recall: 0.3606 - val_auc: 0.7361\n",
      "Epoch 9/100\n",
      "6355/6355 [==============================] - 100s 16ms/sample - loss: 0.8059 - categoricalcrossentropy: 0.8059 - categoricalaccuracy: 0.6387 - precision: 0.7232 - recall: 0.4625 - auc: 0.8176 - val_loss: 0.9673 - val_categoricalcrossentropy: 0.9673 - val_categoricalaccuracy: 0.5286 - val_precision: 0.5926 - val_recall: 0.3606 - val_auc: 0.7257\n",
      "Epoch 10/100\n",
      "2848/6355 [============>.................] - ETA: 44s - loss: 0.7473 - categoricalcrossentropy: 0.7473 - categoricalaccuracy: 0.6699 - precision: 0.7544 - recall: 0.5316 - auc: 0.8477\n",
      "Epoch 00010: saving model to Model\\bert_faq.ckpt\n",
      "6355/6355 [==============================] - 108s 17ms/sample - loss: 0.7487 - categoricalcrossentropy: 0.7487 - categoricalaccuracy: 0.6754 - precision: 0.7523 - recall: 0.5467 - auc: 0.8462 - val_loss: 1.0061 - val_categoricalcrossentropy: 1.0061 - val_categoricalaccuracy: 0.5249 - val_precision: 0.5671 - val_recall: 0.3644 - val_auc: 0.7086\n",
      "Epoch 11/100\n",
      "6355/6355 [==============================] - 100s 16ms/sample - loss: 0.6833 - categoricalcrossentropy: 0.6833 - categoricalaccuracy: 0.7139 - precision: 0.7771 - recall: 0.6167 - auc: 0.8746 - val_loss: 1.1042 - val_categoricalcrossentropy: 1.1042 - val_categoricalaccuracy: 0.5236 - val_precision: 0.5419 - val_recall: 0.4644 - val_auc: 0.7092\n",
      "Epoch 12/100\n",
      " 160/6355 [..............................] - ETA: 1:18 - loss: 0.5866 - categoricalcrossentropy: 0.5866 - categoricalaccuracy: 0.7750 - precision: 0.8188 - recall: 0.7063 - auc: 0.9095\n",
      "Epoch 00012: saving model to Model\\bert_faq.ckpt\n",
      "6355/6355 [==============================] - 108s 17ms/sample - loss: 0.6053 - categoricalcrossentropy: 0.6053 - categoricalaccuracy: 0.7530 - precision: 0.8020 - recall: 0.6815 - auc: 0.9028 - val_loss: 1.1009 - val_categoricalcrossentropy: 1.1009 - val_categoricalaccuracy: 0.5217 - val_precision: 0.5439 - val_recall: 0.4481 - val_auc: 0.7132\n",
      "Epoch 13/100\n",
      "3808/6355 [================>.............] - ETA: 32s - loss: 0.5279 - categoricalcrossentropy: 0.5279 - categoricalaccuracy: 0.7933 - precision: 0.8291 - recall: 0.7363 - auc: 0.9258\n",
      "Epoch 00013: saving model to Model\\bert_faq.ckpt\n",
      "6355/6355 [==============================] - 108s 17ms/sample - loss: 0.5232 - categoricalcrossentropy: 0.5232 - categoricalaccuracy: 0.7956 - precision: 0.8306 - recall: 0.7408 - auc: 0.9273 - val_loss: 1.2777 - val_categoricalcrossentropy: 1.2777 - val_categoricalaccuracy: 0.5173 - val_precision: 0.5299 - val_recall: 0.4739 - val_auc: 0.6958\n",
      "Epoch 14/100\n",
      "6355/6355 [==============================] - 100s 16ms/sample - loss: 0.4407 - categoricalcrossentropy: 0.4407 - categoricalaccuracy: 0.8378 - precision: 0.8625 - recall: 0.8014 - auc: 0.9489 - val_loss: 1.4499 - val_categoricalcrossentropy: 1.4499 - val_categoricalaccuracy: 0.5249 - val_precision: 0.5355 - val_recall: 0.4840 - val_auc: 0.7009\n",
      "Epoch 15/100\n",
      "1120/6355 [====>.........................] - ETA: 1:06 - loss: 0.3598 - categoricalcrossentropy: 0.3598 - categoricalaccuracy: 0.8589 - precision: 0.8853 - recall: 0.8268 - auc: 0.9672\n",
      "Epoch 00015: saving model to Model\\bert_faq.ckpt\n",
      "6355/6355 [==============================] - 108s 17ms/sample - loss: 0.3779 - categoricalcrossentropy: 0.3779 - categoricalaccuracy: 0.8585 - precision: 0.8828 - recall: 0.8288 - auc: 0.9625 - val_loss: 1.4577 - val_categoricalcrossentropy: 1.4577 - val_categoricalaccuracy: 0.5179 - val_precision: 0.5289 - val_recall: 0.4890 - val_auc: 0.7009\n",
      "Epoch 16/100\n",
      "4768/6355 [=====================>........] - ETA: 20s - loss: 0.3060 - categoricalcrossentropy: 0.3060 - categoricalaccuracy: 0.8901 - precision: 0.9038 - recall: 0.8725 - auc: 0.9748\n",
      "Epoch 00016: saving model to Model\\bert_faq.ckpt\n",
      "6355/6355 [==============================] - 107s 17ms/sample - loss: 0.3100 - categoricalcrossentropy: 0.3100 - categoricalaccuracy: 0.8883 - precision: 0.9019 - recall: 0.8711 - auc: 0.9739 - val_loss: 1.7459 - val_categoricalcrossentropy: 1.7459 - val_categoricalaccuracy: 0.5280 - val_precision: 0.5341 - val_recall: 0.5079 - val_auc: 0.6980\n",
      "Epoch 17/100\n"
     ]
    },
    {
     "name": "stdout",
     "output_type": "stream",
     "text": [
      "6355/6355 [==============================] - 100s 16ms/sample - loss: 0.2568 - categoricalcrossentropy: 0.2568 - categoricalaccuracy: 0.9136 - precision: 0.9265 - recall: 0.8999 - auc: 0.9818 - val_loss: 1.8272 - val_categoricalcrossentropy: 1.8272 - val_categoricalaccuracy: 0.5060 - val_precision: 0.5137 - val_recall: 0.4840 - val_auc: 0.6936\n",
      "Epoch 18/100\n",
      "2080/6355 [========>.....................] - ETA: 53s - loss: 0.2583 - categoricalcrossentropy: 0.2583 - categoricalaccuracy: 0.9115 - precision: 0.9243 - recall: 0.8986 - auc: 0.9816\n",
      "Epoch 00018: saving model to Model\\bert_faq.ckpt\n",
      "6355/6355 [==============================] - 108s 17ms/sample - loss: 0.2395 - categoricalcrossentropy: 0.2395 - categoricalaccuracy: 0.9190 - precision: 0.9302 - recall: 0.9057 - auc: 0.9839 - val_loss: 1.7997 - val_categoricalcrossentropy: 1.7997 - val_categoricalaccuracy: 0.5192 - val_precision: 0.5267 - val_recall: 0.5022 - val_auc: 0.6909\n",
      "Epoch 19/100\n",
      "5728/6355 [==========================>...] - ETA: 7s - loss: 0.1667 - categoricalcrossentropy: 0.1667 - categoricalaccuracy: 0.9461 - precision: 0.9546 - recall: 0.9391 - auc: 0.9920\n",
      "Epoch 00019: saving model to Model\\bert_faq.ckpt\n",
      "6355/6355 [==============================] - 107s 17ms/sample - loss: 0.1657 - categoricalcrossentropy: 0.1657 - categoricalaccuracy: 0.9463 - precision: 0.9549 - recall: 0.9393 - auc: 0.9921 - val_loss: 2.2276 - val_categoricalcrossentropy: 2.2276 - val_categoricalaccuracy: 0.5041 - val_precision: 0.5068 - val_recall: 0.4921 - val_auc: 0.6781\n",
      "Epoch 20/100\n",
      "6355/6355 [==============================] - 100s 16ms/sample - loss: 0.1316 - categoricalcrossentropy: 0.1316 - categoricalaccuracy: 0.9599 - precision: 0.9667 - recall: 0.9553 - auc: 0.9945 - val_loss: 2.3820 - val_categoricalcrossentropy: 2.3820 - val_categoricalaccuracy: 0.4965 - val_precision: 0.5000 - val_recall: 0.4858 - val_auc: 0.6750\n",
      "Epoch 21/100\n",
      "3040/6355 [=============>................] - ETA: 41s - loss: 0.1108 - categoricalcrossentropy: 0.1108 - categoricalaccuracy: 0.9655 - precision: 0.9692 - recall: 0.9625 - auc: 0.9962\n",
      "Epoch 00021: saving model to Model\\bert_faq.ckpt\n",
      "6355/6355 [==============================] - 108s 17ms/sample - loss: 0.1227 - categoricalcrossentropy: 0.1227 - categoricalaccuracy: 0.9611 - precision: 0.9665 - recall: 0.9567 - auc: 0.9950 - val_loss: 2.5275 - val_categoricalcrossentropy: 2.5275 - val_categoricalaccuracy: 0.5072 - val_precision: 0.5103 - val_recall: 0.4978 - val_auc: 0.6762\n",
      "Epoch 22/100\n",
      "6355/6355 [==============================] - 100s 16ms/sample - loss: 0.1153 - categoricalcrossentropy: 0.1153 - categoricalaccuracy: 0.9651 - precision: 0.9689 - recall: 0.9603 - auc: 0.9957 - val_loss: 2.3425 - val_categoricalcrossentropy: 2.3425 - val_categoricalaccuracy: 0.5091 - val_precision: 0.5123 - val_recall: 0.4965 - val_auc: 0.6809\n",
      "Epoch 23/100\n",
      " 352/6355 [>.............................] - ETA: 1:15 - loss: 0.1019 - categoricalcrossentropy: 0.1019 - categoricalaccuracy: 0.9716 - precision: 0.9769 - recall: 0.9631 - auc: 0.9975\n",
      "Epoch 00023: saving model to Model\\bert_faq.ckpt\n",
      "6355/6355 [==============================] - 107s 17ms/sample - loss: 0.1143 - categoricalcrossentropy: 0.1143 - categoricalaccuracy: 0.9663 - precision: 0.9707 - recall: 0.9629 - auc: 0.9952 - val_loss: 2.3443 - val_categoricalcrossentropy: 2.3443 - val_categoricalaccuracy: 0.5098 - val_precision: 0.5148 - val_recall: 0.5022 - val_auc: 0.6882\n",
      "Epoch 24/100\n",
      "4000/6355 [=================>............] - ETA: 29s - loss: 0.0895 - categoricalcrossentropy: 0.0895 - categoricalaccuracy: 0.9725 - precision: 0.9761 - recall: 0.9693 - auc: 0.9974\n",
      "Epoch 00024: saving model to Model\\bert_faq.ckpt\n",
      "6355/6355 [==============================] - 108s 17ms/sample - loss: 0.1003 - categoricalcrossentropy: 0.1003 - categoricalaccuracy: 0.9699 - precision: 0.9729 - recall: 0.9668 - auc: 0.9967 - val_loss: 2.4909 - val_categoricalcrossentropy: 2.4909 - val_categoricalaccuracy: 0.5066 - val_precision: 0.5113 - val_recall: 0.4978 - val_auc: 0.6803\n",
      "Epoch 25/100\n",
      "6355/6355 [==============================] - 100s 16ms/sample - loss: 0.0947 - categoricalcrossentropy: 0.0947 - categoricalaccuracy: 0.9723 - precision: 0.9755 - recall: 0.9699 - auc: 0.9966 - val_loss: 2.9975 - val_categoricalcrossentropy: 2.9975 - val_categoricalaccuracy: 0.4991 - val_precision: 0.5019 - val_recall: 0.4934 - val_auc: 0.6671\n",
      "Epoch 26/100\n",
      "1312/6355 [=====>........................] - ETA: 1:03 - loss: 0.1171 - categoricalcrossentropy: 0.1171 - categoricalaccuracy: 0.9688 - precision: 0.9709 - recall: 0.9665 - auc: 0.9942\n",
      "Epoch 00026: saving model to Model\\bert_faq.ckpt\n",
      "6355/6355 [==============================] - 107s 17ms/sample - loss: 0.0955 - categoricalcrossentropy: 0.0955 - categoricalaccuracy: 0.9710 - precision: 0.9731 - recall: 0.9671 - auc: 0.9964 - val_loss: 2.8351 - val_categoricalcrossentropy: 2.8351 - val_categoricalaccuracy: 0.5047 - val_precision: 0.5077 - val_recall: 0.4991 - val_auc: 0.6819\n",
      "Epoch 27/100\n",
      "4960/6355 [======================>.......] - ETA: 17s - loss: 0.0813 - categoricalcrossentropy: 0.0813 - categoricalaccuracy: 0.9786 - precision: 0.9796 - recall: 0.9770 - auc: 0.9977\n",
      "Epoch 00027: saving model to Model\\bert_faq.ckpt\n",
      "6355/6355 [==============================] - 108s 17ms/sample - loss: 0.0810 - categoricalcrossentropy: 0.0810 - categoricalaccuracy: 0.9784 - precision: 0.9796 - recall: 0.9769 - auc: 0.9975 - val_loss: 2.8370 - val_categoricalcrossentropy: 2.8370 - val_categoricalaccuracy: 0.5116 - val_precision: 0.5157 - val_recall: 0.5079 - val_auc: 0.6804\n",
      "Epoch 28/100\n",
      "6355/6355 [==============================] - 100s 16ms/sample - loss: 0.0779 - categoricalcrossentropy: 0.0779 - categoricalaccuracy: 0.9767 - precision: 0.9799 - recall: 0.9753 - auc: 0.9975 - val_loss: 2.9693 - val_categoricalcrossentropy: 2.9693 - val_categoricalaccuracy: 0.5223 - val_precision: 0.5227 - val_recall: 0.5135 - val_auc: 0.6787\n",
      "Epoch 29/100\n",
      "2272/6355 [=========>....................] - ETA: 51s - loss: 0.0378 - categoricalcrossentropy: 0.0378 - categoricalaccuracy: 0.9921 - precision: 0.9929 - recall: 0.9908 - auc: 0.9993\n",
      "Epoch 00029: saving model to Model\\bert_faq.ckpt\n",
      "6355/6355 [==============================] - 107s 17ms/sample - loss: 0.0540 - categoricalcrossentropy: 0.0540 - categoricalaccuracy: 0.9855 - precision: 0.9864 - recall: 0.9844 - auc: 0.9986 - val_loss: 2.9511 - val_categoricalcrossentropy: 2.9511 - val_categoricalaccuracy: 0.5085 - val_precision: 0.5132 - val_recall: 0.5028 - val_auc: 0.6845\n",
      "Epoch 30/100\n",
      "5920/6355 [==========================>...] - ETA: 5s - loss: 0.0670 - categoricalcrossentropy: 0.0670 - categoricalaccuracy: 0.9801 - precision: 0.9815 - recall: 0.9785 - auc: 0.9984\n",
      "Epoch 00030: saving model to Model\\bert_faq.ckpt\n",
      "6355/6355 [==============================] - 108s 17ms/sample - loss: 0.0676 - categoricalcrossentropy: 0.0676 - categoricalaccuracy: 0.9795 - precision: 0.9809 - recall: 0.9781 - auc: 0.9984 - val_loss: 2.9998 - val_categoricalcrossentropy: 2.9998 - val_categoricalaccuracy: 0.5047 - val_precision: 0.5100 - val_recall: 0.4984 - val_auc: 0.6717\n",
      "Epoch 31/100\n",
      "6355/6355 [==============================] - 100s 16ms/sample - loss: 0.0448 - categoricalcrossentropy: 0.0448 - categoricalaccuracy: 0.9877 - precision: 0.9899 - recall: 0.9860 - auc: 0.9989 - val_loss: 3.4332 - val_categoricalcrossentropy: 3.4332 - val_categoricalaccuracy: 0.4953 - val_precision: 0.4990 - val_recall: 0.4902 - val_auc: 0.6640\n",
      "Epoch 32/100\n",
      "3232/6355 [==============>...............] - ETA: 39s - loss: 0.0614 - categoricalcrossentropy: 0.0614 - categoricalaccuracy: 0.9830 - precision: 0.9839 - recall: 0.9808 - auc: 0.9981\n",
      "Epoch 00032: saving model to Model\\bert_faq.ckpt\n",
      "6355/6355 [==============================] - 108s 17ms/sample - loss: 0.0676 - categoricalcrossentropy: 0.0676 - categoricalaccuracy: 0.9821 - precision: 0.9836 - recall: 0.9797 - auc: 0.9978 - val_loss: 3.2674 - val_categoricalcrossentropy: 3.2674 - val_categoricalaccuracy: 0.4965 - val_precision: 0.4978 - val_recall: 0.4909 - val_auc: 0.6602\n",
      "Epoch 33/100\n"
     ]
    },
    {
     "name": "stdout",
     "output_type": "stream",
     "text": [
      "6355/6355 [==============================] - 100s 16ms/sample - loss: 0.0642 - categoricalcrossentropy: 0.0642 - categoricalaccuracy: 0.9788 - precision: 0.9809 - recall: 0.9777 - auc: 0.9985 - val_loss: 3.2058 - val_categoricalcrossentropy: 3.2058 - val_categoricalaccuracy: 0.5186 - val_precision: 0.5238 - val_recall: 0.5129 - val_auc: 0.6820\n",
      "Epoch 34/100\n",
      " 544/6355 [=>............................] - ETA: 1:13 - loss: 0.0335 - categoricalcrossentropy: 0.0335 - categoricalaccuracy: 0.9945 - precision: 0.9945 - recall: 0.9926 - auc: 0.9997\n",
      "Epoch 00034: saving model to Model\\bert_faq.ckpt\n",
      "6355/6355 [==============================] - 108s 17ms/sample - loss: 0.0610 - categoricalcrossentropy: 0.0610 - categoricalaccuracy: 0.9813 - precision: 0.9830 - recall: 0.9805 - auc: 0.9984 - val_loss: 3.3403 - val_categoricalcrossentropy: 3.3403 - val_categoricalaccuracy: 0.5167 - val_precision: 0.5185 - val_recall: 0.5116 - val_auc: 0.6751\n",
      "Epoch 35/100\n",
      "4192/6355 [==================>...........] - ETA: 27s - loss: 0.0471 - categoricalcrossentropy: 0.0471 - categoricalaccuracy: 0.9874 - precision: 0.9892 - recall: 0.9857 - auc: 0.9984\n",
      "Epoch 00035: saving model to Model\\bert_faq.ckpt\n",
      "6355/6355 [==============================] - 107s 17ms/sample - loss: 0.0506 - categoricalcrossentropy: 0.0506 - categoricalaccuracy: 0.9863 - precision: 0.9878 - recall: 0.9849 - auc: 0.9983 - val_loss: 3.2728 - val_categoricalcrossentropy: 3.2728 - val_categoricalaccuracy: 0.5123 - val_precision: 0.5150 - val_recall: 0.5091 - val_auc: 0.6821\n",
      "Epoch 36/100\n",
      "6355/6355 [==============================] - 100s 16ms/sample - loss: 0.0752 - categoricalcrossentropy: 0.0752 - categoricalaccuracy: 0.9772 - precision: 0.9787 - recall: 0.9758 - auc: 0.9977 - val_loss: 2.9431 - val_categoricalcrossentropy: 2.9431 - val_categoricalaccuracy: 0.5173 - val_precision: 0.5179 - val_recall: 0.5098 - val_auc: 0.6807\n",
      "Epoch 37/100\n",
      "1504/6355 [======>.......................] - ETA: 1:01 - loss: 0.0542 - categoricalcrossentropy: 0.0542 - categoricalaccuracy: 0.9854 - precision: 0.9860 - recall: 0.9807 - auc: 0.9991\n",
      "Epoch 00037: saving model to Model\\bert_faq.ckpt\n",
      "6355/6355 [==============================] - 108s 17ms/sample - loss: 0.0583 - categoricalcrossentropy: 0.0583 - categoricalaccuracy: 0.9832 - precision: 0.9841 - recall: 0.9811 - auc: 0.9987 - val_loss: 3.2264 - val_categoricalcrossentropy: 3.2264 - val_categoricalaccuracy: 0.5186 - val_precision: 0.5205 - val_recall: 0.5116 - val_auc: 0.6810\n",
      "Epoch 38/100\n",
      "5152/6355 [=======================>......] - ETA: 15s - loss: 0.0362 - categoricalcrossentropy: 0.0362 - categoricalaccuracy: 0.9891 - precision: 0.9901 - recall: 0.9885 - auc: 0.9994\n",
      "Epoch 00038: saving model to Model\\bert_faq.ckpt\n",
      "6355/6355 [==============================] - 107s 17ms/sample - loss: 0.0374 - categoricalcrossentropy: 0.0374 - categoricalaccuracy: 0.9888 - precision: 0.9898 - recall: 0.9879 - auc: 0.9994 - val_loss: 3.5889 - val_categoricalcrossentropy: 3.5889 - val_categoricalaccuracy: 0.5085 - val_precision: 0.5128 - val_recall: 0.5035 - val_auc: 0.6743\n",
      "Epoch 39/100\n",
      "6355/6355 [==============================] - 100s 16ms/sample - loss: 0.0347 - categoricalcrossentropy: 0.0347 - categoricalaccuracy: 0.9896 - precision: 0.9907 - recall: 0.9888 - auc: 0.9994 - val_loss: 3.4905 - val_categoricalcrossentropy: 3.4905 - val_categoricalaccuracy: 0.5198 - val_precision: 0.5226 - val_recall: 0.5173 - val_auc: 0.6817\n",
      "Epoch 40/100\n",
      "2464/6355 [==========>...................] - ETA: 49s - loss: 0.0330 - categoricalcrossentropy: 0.0330 - categoricalaccuracy: 0.9903 - precision: 0.9919 - recall: 0.9899 - auc: 0.9991\n",
      "Epoch 00040: saving model to Model\\bert_faq.ckpt\n",
      "6355/6355 [==============================] - 108s 17ms/sample - loss: 0.0380 - categoricalcrossentropy: 0.0380 - categoricalaccuracy: 0.9866 - precision: 0.9882 - recall: 0.9857 - auc: 0.9993 - val_loss: 3.5160 - val_categoricalcrossentropy: 3.5160 - val_categoricalaccuracy: 0.5123 - val_precision: 0.5137 - val_recall: 0.5072 - val_auc: 0.6777\n",
      "Epoch 41/100\n",
      "6112/6355 [===========================>..] - ETA: 3s - loss: 0.0507 - categoricalcrossentropy: 0.0507 - categoricalaccuracy: 0.9848 - precision: 0.9856 - recall: 0.9831 - auc: 0.9988\n",
      "Epoch 00041: saving model to Model\\bert_faq.ckpt\n",
      "6355/6355 [==============================] - 107s 17ms/sample - loss: 0.0499 - categoricalcrossentropy: 0.0499 - categoricalaccuracy: 0.9852 - precision: 0.9860 - recall: 0.9836 - auc: 0.9989 - val_loss: 3.5302 - val_categoricalcrossentropy: 3.5302 - val_categoricalaccuracy: 0.5116 - val_precision: 0.5141 - val_recall: 0.5060 - val_auc: 0.6760\n",
      "Epoch 42/100\n",
      "6355/6355 [==============================] - 100s 16ms/sample - loss: 0.0523 - categoricalcrossentropy: 0.0523 - categoricalaccuracy: 0.9838 - precision: 0.9855 - recall: 0.9817 - auc: 0.9987 - val_loss: 3.3974 - val_categoricalcrossentropy: 3.3974 - val_categoricalaccuracy: 0.5230 - val_precision: 0.5252 - val_recall: 0.5173 - val_auc: 0.6800\n",
      "Epoch 43/100\n",
      "3424/6355 [===============>..............] - ETA: 36s - loss: 0.0673 - categoricalcrossentropy: 0.0673 - categoricalaccuracy: 0.9787 - precision: 0.9806 - recall: 0.9766 - auc: 0.9978\n",
      "Epoch 00043: saving model to Model\\bert_faq.ckpt\n",
      "6355/6355 [==============================] - 108s 17ms/sample - loss: 0.0679 - categoricalcrossentropy: 0.0679 - categoricalaccuracy: 0.9778 - precision: 0.9803 - recall: 0.9766 - auc: 0.9979 - val_loss: 3.4480 - val_categoricalcrossentropy: 3.4480 - val_categoricalaccuracy: 0.5192 - val_precision: 0.5241 - val_recall: 0.5142 - val_auc: 0.6797\n",
      "Epoch 44/100\n",
      "6355/6355 [==============================] - 100s 16ms/sample - loss: 0.0474 - categoricalcrossentropy: 0.0474 - categoricalaccuracy: 0.9830 - precision: 0.9839 - recall: 0.9813 - auc: 0.9992 - val_loss: 3.9494 - val_categoricalcrossentropy: 3.9494 - val_categoricalaccuracy: 0.5186 - val_precision: 0.5197 - val_recall: 0.5142 - val_auc: 0.6775\n",
      "Epoch 45/100\n",
      " 736/6355 [==>...........................] - ETA: 1:10 - loss: 0.0703 - categoricalcrossentropy: 0.0703 - categoricalaccuracy: 0.9769 - precision: 0.9768 - recall: 0.9742 - auc: 0.9968\n",
      "Epoch 00045: saving model to Model\\bert_faq.ckpt\n",
      "6355/6355 [==============================] - 108s 17ms/sample - loss: 0.0549 - categoricalcrossentropy: 0.0549 - categoricalaccuracy: 0.9830 - precision: 0.9842 - recall: 0.9822 - auc: 0.9982 - val_loss: 3.8534 - val_categoricalcrossentropy: 3.8534 - val_categoricalaccuracy: 0.5135 - val_precision: 0.5163 - val_recall: 0.5085 - val_auc: 0.6764\n",
      "Epoch 46/100\n",
      "4384/6355 [===================>..........] - ETA: 24s - loss: 0.0384 - categoricalcrossentropy: 0.0384 - categoricalaccuracy: 0.9875 - precision: 0.9892 - recall: 0.9863 - auc: 0.9993\n",
      "Epoch 00046: saving model to Model\\bert_faq.ckpt\n",
      "6355/6355 [==============================] - 108s 17ms/sample - loss: 0.0347 - categoricalcrossentropy: 0.0347 - categoricalaccuracy: 0.9887 - precision: 0.9901 - recall: 0.9877 - auc: 0.9994 - val_loss: 3.8354 - val_categoricalcrossentropy: 3.8354 - val_categoricalaccuracy: 0.5217 - val_precision: 0.5241 - val_recall: 0.5211 - val_auc: 0.6779\n",
      "Epoch 47/100\n",
      "6355/6355 [==============================] - 100s 16ms/sample - loss: 0.0360 - categoricalcrossentropy: 0.0360 - categoricalaccuracy: 0.9890 - precision: 0.9904 - recall: 0.9884 - auc: 0.9990 - val_loss: 3.7073 - val_categoricalcrossentropy: 3.7073 - val_categoricalaccuracy: 0.5066 - val_precision: 0.5115 - val_recall: 0.5028 - val_auc: 0.6722\n",
      "Epoch 48/100\n",
      "1696/6355 [=======>......................] - ETA: 58s - loss: 0.0366 - categoricalcrossentropy: 0.0366 - categoricalaccuracy: 0.9900 - precision: 0.9905 - recall: 0.9888 - auc: 0.9987\n",
      "Epoch 00048: saving model to Model\\bert_faq.ckpt\n",
      "6355/6355 [==============================] - 107s 17ms/sample - loss: 0.0327 - categoricalcrossentropy: 0.0327 - categoricalaccuracy: 0.9898 - precision: 0.9904 - recall: 0.9888 - auc: 0.9994 - val_loss: 4.1044 - val_categoricalcrossentropy: 4.1044 - val_categoricalaccuracy: 0.5211 - val_precision: 0.5250 - val_recall: 0.5211 - val_auc: 0.6747\n",
      "Epoch 49/100\n"
     ]
    },
    {
     "name": "stdout",
     "output_type": "stream",
     "text": [
      "5344/6355 [========================>.....] - ETA: 12s - loss: 0.0313 - categoricalcrossentropy: 0.0313 - categoricalaccuracy: 0.9875 - precision: 0.9893 - recall: 0.9865 - auc: 0.9996\n",
      "Epoch 00049: saving model to Model\\bert_faq.ckpt\n",
      "6355/6355 [==============================] - 108s 17ms/sample - loss: 0.0439 - categoricalcrossentropy: 0.0439 - categoricalaccuracy: 0.9838 - precision: 0.9855 - recall: 0.9830 - auc: 0.9991 - val_loss: 3.5443 - val_categoricalcrossentropy: 3.5443 - val_categoricalaccuracy: 0.5148 - val_precision: 0.5160 - val_recall: 0.5085 - val_auc: 0.6741\n",
      "Epoch 50/100\n",
      "6355/6355 [==============================] - 100s 16ms/sample - loss: 0.0431 - categoricalcrossentropy: 0.0431 - categoricalaccuracy: 0.9865 - precision: 0.9871 - recall: 0.9851 - auc: 0.9988 - val_loss: 4.1232 - val_categoricalcrossentropy: 4.1232 - val_categoricalaccuracy: 0.5167 - val_precision: 0.5175 - val_recall: 0.5129 - val_auc: 0.6749\n",
      "Epoch 51/100\n",
      "2656/6355 [===========>..................] - ETA: 46s - loss: 0.0519 - categoricalcrossentropy: 0.0519 - categoricalaccuracy: 0.9812 - precision: 0.9837 - recall: 0.9789 - auc: 0.9989\n",
      "Epoch 00051: saving model to Model\\bert_faq.ckpt\n",
      "6355/6355 [==============================] - 108s 17ms/sample - loss: 0.0596 - categoricalcrossentropy: 0.0596 - categoricalaccuracy: 0.9813 - precision: 0.9829 - recall: 0.9794 - auc: 0.9984 - val_loss: 3.6076 - val_categoricalcrossentropy: 3.6076 - val_categoricalaccuracy: 0.5186 - val_precision: 0.5207 - val_recall: 0.5154 - val_auc: 0.6803\n",
      "Epoch 52/100\n",
      "6304/6355 [============================>.] - ETA: 0s - loss: 0.0272 - categoricalcrossentropy: 0.0272 - categoricalaccuracy: 0.9905 - precision: 0.9908 - recall: 0.9897 - auc: 0.9995\n",
      "Epoch 00052: saving model to Model\\bert_faq.ckpt\n",
      "6355/6355 [==============================] - 108s 17ms/sample - loss: 0.0274 - categoricalcrossentropy: 0.0274 - categoricalaccuracy: 0.9902 - precision: 0.9905 - recall: 0.9895 - auc: 0.9995 - val_loss: 4.0633 - val_categoricalcrossentropy: 4.0633 - val_categoricalaccuracy: 0.5274 - val_precision: 0.5299 - val_recall: 0.5249 - val_auc: 0.6819\n",
      "Epoch 53/100\n",
      "6355/6355 [==============================] - 100s 16ms/sample - loss: 0.0247 - categoricalcrossentropy: 0.0247 - categoricalaccuracy: 0.9910 - precision: 0.9916 - recall: 0.9899 - auc: 0.9998 - val_loss: 4.0036 - val_categoricalcrossentropy: 4.0036 - val_categoricalaccuracy: 0.5129 - val_precision: 0.5146 - val_recall: 0.5116 - val_auc: 0.6747\n",
      "Epoch 54/100\n",
      "3616/6355 [================>.............] - ETA: 34s - loss: 0.0175 - categoricalcrossentropy: 0.0175 - categoricalaccuracy: 0.9931 - precision: 0.9939 - recall: 0.9925 - auc: 0.9998\n",
      "Epoch 00054: saving model to Model\\bert_faq.ckpt\n",
      "6355/6355 [==============================] - 107s 17ms/sample - loss: 0.0256 - categoricalcrossentropy: 0.0256 - categoricalaccuracy: 0.9909 - precision: 0.9920 - recall: 0.9906 - auc: 0.9994 - val_loss: 3.8447 - val_categoricalcrossentropy: 3.8447 - val_categoricalaccuracy: 0.5198 - val_precision: 0.5219 - val_recall: 0.5179 - val_auc: 0.6840\n",
      "Epoch 55/100\n",
      "6355/6355 [==============================] - 100s 16ms/sample - loss: 0.0688 - categoricalcrossentropy: 0.0688 - categoricalaccuracy: 0.9789 - precision: 0.9804 - recall: 0.9772 - auc: 0.9979 - val_loss: 3.7378 - val_categoricalcrossentropy: 3.7378 - val_categoricalaccuracy: 0.5072 - val_precision: 0.5086 - val_recall: 0.5047 - val_auc: 0.6616\n",
      "Epoch 56/100\n",
      " 928/6355 [===>..........................] - ETA: 1:08 - loss: 0.0900 - categoricalcrossentropy: 0.0900 - categoricalaccuracy: 0.9741 - precision: 0.9740 - recall: 0.9698 - auc: 0.9964\n",
      "Epoch 00056: saving model to Model\\bert_faq.ckpt\n",
      "6355/6355 [==============================] - 108s 17ms/sample - loss: 0.0670 - categoricalcrossentropy: 0.0670 - categoricalaccuracy: 0.9783 - precision: 0.9798 - recall: 0.9759 - auc: 0.9978 - val_loss: 3.4570 - val_categoricalcrossentropy: 3.4570 - val_categoricalaccuracy: 0.5154 - val_precision: 0.5157 - val_recall: 0.5053 - val_auc: 0.6775\n",
      "Epoch 57/100\n",
      "4576/6355 [====================>.........] - ETA: 22s - loss: 0.0289 - categoricalcrossentropy: 0.0289 - categoricalaccuracy: 0.9895 - precision: 0.9902 - recall: 0.9886 - auc: 0.9996\n",
      "Epoch 00057: saving model to Model\\bert_faq.ckpt\n",
      "6355/6355 [==============================] - 107s 17ms/sample - loss: 0.0308 - categoricalcrossentropy: 0.0308 - categoricalaccuracy: 0.9890 - precision: 0.9896 - recall: 0.9884 - auc: 0.9996 - val_loss: 4.6365 - val_categoricalcrossentropy: 4.6365 - val_categoricalaccuracy: 0.5142 - val_precision: 0.5159 - val_recall: 0.5116 - val_auc: 0.6644\n",
      "Epoch 58/100\n",
      "6355/6355 [==============================] - 100s 16ms/sample - loss: 0.0477 - categoricalcrossentropy: 0.0477 - categoricalaccuracy: 0.9851 - precision: 0.9858 - recall: 0.9846 - auc: 0.9986 - val_loss: 3.9981 - val_categoricalcrossentropy: 3.9981 - val_categoricalaccuracy: 0.4984 - val_precision: 0.4981 - val_recall: 0.4921 - val_auc: 0.6622\n",
      "Epoch 59/100\n",
      "1888/6355 [=======>......................] - ETA: 56s - loss: 0.0211 - categoricalcrossentropy: 0.0211 - categoricalaccuracy: 0.9963 - precision: 0.9968 - recall: 0.9958 - auc: 0.9996\n",
      "Epoch 00059: saving model to Model\\bert_faq.ckpt\n",
      "6355/6355 [==============================] - 108s 17ms/sample - loss: 0.0292 - categoricalcrossentropy: 0.0292 - categoricalaccuracy: 0.9907 - precision: 0.9915 - recall: 0.9901 - auc: 0.9996 - val_loss: 4.2012 - val_categoricalcrossentropy: 4.2012 - val_categoricalaccuracy: 0.5060 - val_precision: 0.5076 - val_recall: 0.5041 - val_auc: 0.6664\n",
      "Epoch 60/100\n",
      "5536/6355 [=========================>....] - ETA: 10s - loss: 0.0234 - categoricalcrossentropy: 0.0234 - categoricalaccuracy: 0.9911 - precision: 0.9922 - recall: 0.9910 - auc: 0.9997\n",
      "Epoch 00060: saving model to Model\\bert_faq.ckpt\n",
      "6355/6355 [==============================] - 108s 17ms/sample - loss: 0.0226 - categoricalcrossentropy: 0.0226 - categoricalaccuracy: 0.9910 - precision: 0.9920 - recall: 0.9909 - auc: 0.9998 - val_loss: 4.6904 - val_categoricalcrossentropy: 4.6904 - val_categoricalaccuracy: 0.5053 - val_precision: 0.5083 - val_recall: 0.5028 - val_auc: 0.6542\n",
      "Epoch 61/100\n",
      "6355/6355 [==============================] - 100s 16ms/sample - loss: 0.0269 - categoricalcrossentropy: 0.0269 - categoricalaccuracy: 0.9909 - precision: 0.9917 - recall: 0.9906 - auc: 0.9993 - val_loss: 4.3269 - val_categoricalcrossentropy: 4.3269 - val_categoricalaccuracy: 0.5003 - val_precision: 0.5010 - val_recall: 0.4965 - val_auc: 0.6645\n",
      "Epoch 62/100\n",
      "2848/6355 [============>.................] - ETA: 44s - loss: 0.0155 - categoricalcrossentropy: 0.0155 - categoricalaccuracy: 0.9944 - precision: 0.9947 - recall: 0.9937 - auc: 0.9999\n",
      "Epoch 00062: saving model to Model\\bert_faq.ckpt\n",
      "6355/6355 [==============================] - 108s 17ms/sample - loss: 0.0194 - categoricalcrossentropy: 0.0194 - categoricalaccuracy: 0.9935 - precision: 0.9937 - recall: 0.9931 - auc: 0.9998 - val_loss: 4.4688 - val_categoricalcrossentropy: 4.4688 - val_categoricalaccuracy: 0.5060 - val_precision: 0.5067 - val_recall: 0.5016 - val_auc: 0.6693\n",
      "Epoch 63/100\n",
      "6355/6355 [==============================] - 100s 16ms/sample - loss: 0.0175 - categoricalcrossentropy: 0.0175 - categoricalaccuracy: 0.9923 - precision: 0.9931 - recall: 0.9917 - auc: 0.9998 - val_loss: 4.8336 - val_categoricalcrossentropy: 4.8336 - val_categoricalaccuracy: 0.5098 - val_precision: 0.5101 - val_recall: 0.5072 - val_auc: 0.6653\n",
      "Epoch 64/100\n",
      " 160/6355 [..............................] - ETA: 1:18 - loss: 0.0532 - categoricalcrossentropy: 0.0532 - categoricalaccuracy: 0.9812 - precision: 0.9812 - recall: 0.9812 - auc: 0.9966\n",
      "Epoch 00064: saving model to Model\\bert_faq.ckpt\n",
      "6355/6355 [==============================] - 107s 17ms/sample - loss: 0.0196 - categoricalcrossentropy: 0.0196 - categoricalaccuracy: 0.9926 - precision: 0.9931 - recall: 0.9921 - auc: 0.9996 - val_loss: 4.9665 - val_categoricalcrossentropy: 4.9665 - val_categoricalaccuracy: 0.5085 - val_precision: 0.5092 - val_recall: 0.5053 - val_auc: 0.6672\n",
      "Epoch 65/100\n"
     ]
    },
    {
     "name": "stdout",
     "output_type": "stream",
     "text": [
      "3808/6355 [================>.............] - ETA: 32s - loss: 0.0181 - categoricalcrossentropy: 0.0181 - categoricalaccuracy: 0.9929 - precision: 0.9929 - recall: 0.9926 - auc: 0.9999\n",
      "Epoch 00065: saving model to Model\\bert_faq.ckpt\n",
      "6355/6355 [==============================] - 108s 17ms/sample - loss: 0.0190 - categoricalcrossentropy: 0.0190 - categoricalaccuracy: 0.9928 - precision: 0.9929 - recall: 0.9924 - auc: 0.9998 - val_loss: 5.1362 - val_categoricalcrossentropy: 5.1362 - val_categoricalaccuracy: 0.5104 - val_precision: 0.5123 - val_recall: 0.5098 - val_auc: 0.6653\n",
      "Epoch 66/100\n",
      "6355/6355 [==============================] - 100s 16ms/sample - loss: 0.0167 - categoricalcrossentropy: 0.0167 - categoricalaccuracy: 0.9935 - precision: 0.9939 - recall: 0.9929 - auc: 0.9999 - val_loss: 5.1782 - val_categoricalcrossentropy: 5.1782 - val_categoricalaccuracy: 0.5110 - val_precision: 0.5114 - val_recall: 0.5091 - val_auc: 0.6620\n",
      "Epoch 67/100\n",
      "1120/6355 [====>.........................] - ETA: 1:06 - loss: 0.0190 - categoricalcrossentropy: 0.0190 - categoricalaccuracy: 0.9920 - precision: 0.9929 - recall: 0.9920 - auc: 0.9999\n",
      "Epoch 00067: saving model to Model\\bert_faq.ckpt\n",
      "6355/6355 [==============================] - 107s 17ms/sample - loss: 0.0236 - categoricalcrossentropy: 0.0236 - categoricalaccuracy: 0.9921 - precision: 0.9929 - recall: 0.9917 - auc: 0.9995 - val_loss: 4.7050 - val_categoricalcrossentropy: 4.7050 - val_categoricalaccuracy: 0.4934 - val_precision: 0.4949 - val_recall: 0.4890 - val_auc: 0.6499\n",
      "Epoch 68/100\n",
      "4768/6355 [=====================>........] - ETA: 20s - loss: 0.1223 - categoricalcrossentropy: 0.1223 - categoricalaccuracy: 0.9652 - precision: 0.9694 - recall: 0.9622 - auc: 0.9948\n",
      "Epoch 00068: saving model to Model\\bert_faq.ckpt\n",
      "6355/6355 [==============================] - 108s 17ms/sample - loss: 0.1126 - categoricalcrossentropy: 0.1126 - categoricalaccuracy: 0.9677 - precision: 0.9710 - recall: 0.9646 - auc: 0.9955 - val_loss: 3.9422 - val_categoricalcrossentropy: 3.9422 - val_categoricalaccuracy: 0.4978 - val_precision: 0.5006 - val_recall: 0.4947 - val_auc: 0.6582\n",
      "Epoch 69/100\n",
      "6355/6355 [==============================] - 100s 16ms/sample - loss: 0.0530 - categoricalcrossentropy: 0.0530 - categoricalaccuracy: 0.9810 - precision: 0.9820 - recall: 0.9797 - auc: 0.9986 - val_loss: 4.2532 - val_categoricalcrossentropy: 4.2532 - val_categoricalaccuracy: 0.4972 - val_precision: 0.4994 - val_recall: 0.4947 - val_auc: 0.6569\n",
      "Epoch 70/100\n",
      "2080/6355 [========>.....................] - ETA: 53s - loss: 0.0369 - categoricalcrossentropy: 0.0369 - categoricalaccuracy: 0.9875 - precision: 0.9880 - recall: 0.9865 - auc: 0.9996\n",
      "Epoch 00070: saving model to Model\\bert_faq.ckpt\n",
      "6355/6355 [==============================] - 107s 17ms/sample - loss: 0.0506 - categoricalcrossentropy: 0.0506 - categoricalaccuracy: 0.9827 - precision: 0.9842 - recall: 0.9813 - auc: 0.9988 - val_loss: 4.1176 - val_categoricalcrossentropy: 4.1176 - val_categoricalaccuracy: 0.5022 - val_precision: 0.5035 - val_recall: 0.4991 - val_auc: 0.6674\n",
      "Epoch 71/100\n",
      "5728/6355 [==========================>...] - ETA: 7s - loss: 0.0321 - categoricalcrossentropy: 0.0321 - categoricalaccuracy: 0.9900 - precision: 0.9906 - recall: 0.9895 - auc: 0.9993\n",
      "Epoch 00071: saving model to Model\\bert_faq.ckpt\n",
      "6355/6355 [==============================] - 108s 17ms/sample - loss: 0.0337 - categoricalcrossentropy: 0.0337 - categoricalaccuracy: 0.9895 - precision: 0.9901 - recall: 0.9888 - auc: 0.9992 - val_loss: 4.2511 - val_categoricalcrossentropy: 4.2511 - val_categoricalaccuracy: 0.4940 - val_precision: 0.4962 - val_recall: 0.4934 - val_auc: 0.6554\n",
      "Epoch 72/100\n",
      "6355/6355 [==============================] - 100s 16ms/sample - loss: 0.0485 - categoricalcrossentropy: 0.0485 - categoricalaccuracy: 0.9824 - precision: 0.9835 - recall: 0.9819 - auc: 0.9989 - val_loss: 3.9170 - val_categoricalcrossentropy: 3.9170 - val_categoricalaccuracy: 0.5066 - val_precision: 0.5080 - val_recall: 0.4984 - val_auc: 0.6747\n",
      "Epoch 73/100\n",
      "3040/6355 [=============>................] - ETA: 41s - loss: 0.0412 - categoricalcrossentropy: 0.0412 - categoricalaccuracy: 0.9878 - precision: 0.9888 - recall: 0.9872 - auc: 0.9987\n",
      "Epoch 00073: saving model to Model\\bert_faq.ckpt\n",
      "6355/6355 [==============================] - 107s 17ms/sample - loss: 0.0390 - categoricalcrossentropy: 0.0390 - categoricalaccuracy: 0.9874 - precision: 0.9883 - recall: 0.9869 - auc: 0.9990 - val_loss: 4.2326 - val_categoricalcrossentropy: 4.2326 - val_categoricalaccuracy: 0.5047 - val_precision: 0.5029 - val_recall: 0.4959 - val_auc: 0.6661\n",
      "Epoch 74/100\n",
      "6355/6355 [==============================] - 100s 16ms/sample - loss: 0.0259 - categoricalcrossentropy: 0.0259 - categoricalaccuracy: 0.9918 - precision: 0.9923 - recall: 0.9912 - auc: 0.9998 - val_loss: 4.5569 - val_categoricalcrossentropy: 4.5569 - val_categoricalaccuracy: 0.5079 - val_precision: 0.5101 - val_recall: 0.5066 - val_auc: 0.6686\n",
      "Epoch 75/100\n",
      " 352/6355 [>.............................] - ETA: 1:16 - loss: 0.0209 - categoricalcrossentropy: 0.0209 - categoricalaccuracy: 0.9943 - precision: 0.9943 - recall: 0.9943 - auc: 0.9999\n",
      "Epoch 00075: saving model to Model\\bert_faq.ckpt\n",
      "6355/6355 [==============================] - 108s 17ms/sample - loss: 0.0204 - categoricalcrossentropy: 0.0204 - categoricalaccuracy: 0.9932 - precision: 0.9935 - recall: 0.9931 - auc: 0.9999 - val_loss: 4.8637 - val_categoricalcrossentropy: 4.8637 - val_categoricalaccuracy: 0.4940 - val_precision: 0.4959 - val_recall: 0.4921 - val_auc: 0.6608\n",
      "Epoch 76/100\n",
      "4000/6355 [=================>............] - ETA: 29s - loss: 0.0171 - categoricalcrossentropy: 0.0171 - categoricalaccuracy: 0.9950 - precision: 0.9957 - recall: 0.9945 - auc: 0.9999\n",
      "Epoch 00076: saving model to Model\\bert_faq.ckpt\n",
      "6355/6355 [==============================] - 107s 17ms/sample - loss: 0.0191 - categoricalcrossentropy: 0.0191 - categoricalaccuracy: 0.9934 - precision: 0.9939 - recall: 0.9928 - auc: 0.9999 - val_loss: 4.8405 - val_categoricalcrossentropy: 4.8405 - val_categoricalaccuracy: 0.4972 - val_precision: 0.4975 - val_recall: 0.4947 - val_auc: 0.6625\n",
      "Epoch 77/100\n",
      "6355/6355 [==============================] - 100s 16ms/sample - loss: 0.0261 - categoricalcrossentropy: 0.0261 - categoricalaccuracy: 0.9904 - precision: 0.9910 - recall: 0.9901 - auc: 0.9997 - val_loss: 4.6958 - val_categoricalcrossentropy: 4.6958 - val_categoricalaccuracy: 0.5072 - val_precision: 0.5089 - val_recall: 0.5053 - val_auc: 0.6638\n",
      "Epoch 78/100\n",
      "1312/6355 [=====>........................] - ETA: 1:03 - loss: 0.0713 - categoricalcrossentropy: 0.0713 - categoricalaccuracy: 0.9779 - precision: 0.9809 - recall: 0.9764 - auc: 0.9975\n",
      "Epoch 00078: saving model to Model\\bert_faq.ckpt\n",
      "6355/6355 [==============================] - 108s 17ms/sample - loss: 0.0378 - categoricalcrossentropy: 0.0378 - categoricalaccuracy: 0.9882 - precision: 0.9894 - recall: 0.9868 - auc: 0.9992 - val_loss: 4.7300 - val_categoricalcrossentropy: 4.7300 - val_categoricalaccuracy: 0.5116 - val_precision: 0.5130 - val_recall: 0.5072 - val_auc: 0.6709\n",
      "Epoch 79/100\n",
      "4960/6355 [======================>.......] - ETA: 17s - loss: 0.0207 - categoricalcrossentropy: 0.0207 - categoricalaccuracy: 0.9923 - precision: 0.9929 - recall: 0.9917 - auc: 0.9997\n",
      "Epoch 00079: saving model to Model\\bert_faq.ckpt\n",
      "6355/6355 [==============================] - 107s 17ms/sample - loss: 0.0194 - categoricalcrossentropy: 0.0194 - categoricalaccuracy: 0.9926 - precision: 0.9932 - recall: 0.9921 - auc: 0.9997 - val_loss: 4.7647 - val_categoricalcrossentropy: 4.7647 - val_categoricalaccuracy: 0.5060 - val_precision: 0.5070 - val_recall: 0.5041 - val_auc: 0.6600\n",
      "Epoch 80/100\n",
      "6355/6355 [==============================] - 100s 16ms/sample - loss: 0.0345 - categoricalcrossentropy: 0.0345 - categoricalaccuracy: 0.9906 - precision: 0.9915 - recall: 0.9899 - auc: 0.9994 - val_loss: 4.1842 - val_categoricalcrossentropy: 4.1842 - val_categoricalaccuracy: 0.5053 - val_precision: 0.5057 - val_recall: 0.4997 - val_auc: 0.6641\n",
      "Epoch 81/100\n"
     ]
    },
    {
     "name": "stdout",
     "output_type": "stream",
     "text": [
      "2272/6355 [=========>....................] - ETA: 51s - loss: 0.0530 - categoricalcrossentropy: 0.0530 - categoricalaccuracy: 0.9802 - precision: 0.9819 - recall: 0.9798 - auc: 0.9992\n",
      "Epoch 00081: saving model to Model\\bert_faq.ckpt\n",
      "6355/6355 [==============================] - 107s 17ms/sample - loss: 0.0496 - categoricalcrossentropy: 0.0496 - categoricalaccuracy: 0.9833 - precision: 0.9845 - recall: 0.9825 - auc: 0.9987 - val_loss: 4.5610 - val_categoricalcrossentropy: 4.5610 - val_categoricalaccuracy: 0.5060 - val_precision: 0.5070 - val_recall: 0.5035 - val_auc: 0.6534\n",
      "Epoch 82/100\n",
      "5920/6355 [==========================>...] - ETA: 5s - loss: 0.0539 - categoricalcrossentropy: 0.0539 - categoricalaccuracy: 0.9836 - precision: 0.9844 - recall: 0.9826 - auc: 0.9983\n",
      "Epoch 00082: saving model to Model\\bert_faq.ckpt\n",
      "6355/6355 [==============================] - 107s 17ms/sample - loss: 0.0531 - categoricalcrossentropy: 0.0531 - categoricalaccuracy: 0.9835 - precision: 0.9842 - recall: 0.9825 - auc: 0.9983 - val_loss: 4.7224 - val_categoricalcrossentropy: 4.7224 - val_categoricalaccuracy: 0.4984 - val_precision: 0.4984 - val_recall: 0.4959 - val_auc: 0.6541\n",
      "Epoch 83/100\n",
      "6355/6355 [==============================] - 100s 16ms/sample - loss: 0.0470 - categoricalcrossentropy: 0.0470 - categoricalaccuracy: 0.9846 - precision: 0.9852 - recall: 0.9835 - auc: 0.9990 - val_loss: 4.5652 - val_categoricalcrossentropy: 4.5652 - val_categoricalaccuracy: 0.4953 - val_precision: 0.4952 - val_recall: 0.4902 - val_auc: 0.6617\n",
      "Epoch 84/100\n",
      "3232/6355 [==============>...............] - ETA: 39s - loss: 0.0265 - categoricalcrossentropy: 0.0265 - categoricalaccuracy: 0.9901 - precision: 0.9904 - recall: 0.9895 - auc: 0.9994\n",
      "Epoch 00084: saving model to Model\\bert_faq.ckpt\n",
      "6355/6355 [==============================] - 108s 17ms/sample - loss: 0.0238 - categoricalcrossentropy: 0.0238 - categoricalaccuracy: 0.9913 - precision: 0.9915 - recall: 0.9906 - auc: 0.9997 - val_loss: 4.6850 - val_categoricalcrossentropy: 4.6850 - val_categoricalaccuracy: 0.5009 - val_precision: 0.5006 - val_recall: 0.4978 - val_auc: 0.6592\n",
      "Epoch 85/100\n",
      "6355/6355 [==============================] - 100s 16ms/sample - loss: 0.0227 - categoricalcrossentropy: 0.0227 - categoricalaccuracy: 0.9918 - precision: 0.9923 - recall: 0.9910 - auc: 0.9996 - val_loss: 4.7882 - val_categoricalcrossentropy: 4.7882 - val_categoricalaccuracy: 0.4940 - val_precision: 0.4959 - val_recall: 0.4915 - val_auc: 0.6593\n",
      "Epoch 86/100\n",
      " 544/6355 [=>............................] - ETA: 1:13 - loss: 0.0296 - categoricalcrossentropy: 0.0296 - categoricalaccuracy: 0.9908 - precision: 0.9908 - recall: 0.9871 - auc: 0.9998\n",
      "Epoch 00086: saving model to Model\\bert_faq.ckpt\n",
      "6355/6355 [==============================] - 107s 17ms/sample - loss: 0.0437 - categoricalcrossentropy: 0.0437 - categoricalaccuracy: 0.9857 - precision: 0.9863 - recall: 0.9851 - auc: 0.9990 - val_loss: 4.6059 - val_categoricalcrossentropy: 4.6059 - val_categoricalaccuracy: 0.5009 - val_precision: 0.4997 - val_recall: 0.4947 - val_auc: 0.6634\n",
      "Epoch 87/100\n",
      "4192/6355 [==================>...........] - ETA: 27s - loss: 0.0201 - categoricalcrossentropy: 0.0201 - categoricalaccuracy: 0.9924 - precision: 0.9928 - recall: 0.9914 - auc: 0.9997\n",
      "Epoch 00087: saving model to Model\\bert_faq.ckpt\n",
      "6355/6355 [==============================] - 108s 17ms/sample - loss: 0.0184 - categoricalcrossentropy: 0.0184 - categoricalaccuracy: 0.9926 - precision: 0.9931 - recall: 0.9920 - auc: 0.9998 - val_loss: 5.0801 - val_categoricalcrossentropy: 5.0801 - val_categoricalaccuracy: 0.5060 - val_precision: 0.5073 - val_recall: 0.5047 - val_auc: 0.6622\n",
      "Epoch 88/100\n",
      "6355/6355 [==============================] - 100s 16ms/sample - loss: 0.0164 - categoricalcrossentropy: 0.0164 - categoricalaccuracy: 0.9937 - precision: 0.9940 - recall: 0.9931 - auc: 0.9998 - val_loss: 5.0356 - val_categoricalcrossentropy: 5.0356 - val_categoricalaccuracy: 0.5104 - val_precision: 0.5123 - val_recall: 0.5098 - val_auc: 0.6679\n",
      "Epoch 89/100\n",
      "1504/6355 [======>.......................] - ETA: 1:01 - loss: 0.0079 - categoricalcrossentropy: 0.0079 - categoricalaccuracy: 0.9973 - precision: 0.9973 - recall: 0.9973 - auc: 1.0000\n",
      "Epoch 00089: saving model to Model\\bert_faq.ckpt\n",
      "6355/6355 [==============================] - 107s 17ms/sample - loss: 0.0166 - categoricalcrossentropy: 0.0166 - categoricalaccuracy: 0.9943 - precision: 0.9948 - recall: 0.9935 - auc: 0.9998 - val_loss: 5.1075 - val_categoricalcrossentropy: 5.1075 - val_categoricalaccuracy: 0.4991 - val_precision: 0.5010 - val_recall: 0.4972 - val_auc: 0.6593\n",
      "Epoch 90/100\n",
      "5152/6355 [=======================>......] - ETA: 15s - loss: 0.0164 - categoricalcrossentropy: 0.0164 - categoricalaccuracy: 0.9922 - precision: 0.9924 - recall: 0.9913 - auc: 0.9999\n",
      "Epoch 00090: saving model to Model\\bert_faq.ckpt\n",
      "6355/6355 [==============================] - 108s 17ms/sample - loss: 0.0159 - categoricalcrossentropy: 0.0159 - categoricalaccuracy: 0.9928 - precision: 0.9929 - recall: 0.9920 - auc: 0.9999 - val_loss: 5.4710 - val_categoricalcrossentropy: 5.4710 - val_categoricalaccuracy: 0.5028 - val_precision: 0.5022 - val_recall: 0.5009 - val_auc: 0.6593\n",
      "Epoch 91/100\n",
      "6355/6355 [==============================] - 100s 16ms/sample - loss: 0.0160 - categoricalcrossentropy: 0.0160 - categoricalaccuracy: 0.9934 - precision: 0.9937 - recall: 0.9931 - auc: 0.9999 - val_loss: 5.9108 - val_categoricalcrossentropy: 5.9108 - val_categoricalaccuracy: 0.5060 - val_precision: 0.5063 - val_recall: 0.5035 - val_auc: 0.6537\n",
      "Epoch 92/100\n",
      "2464/6355 [==========>...................] - ETA: 49s - loss: 0.0150 - categoricalcrossentropy: 0.0150 - categoricalaccuracy: 0.9955 - precision: 0.9955 - recall: 0.9947 - auc: 0.9999\n",
      "Epoch 00092: saving model to Model\\bert_faq.ckpt\n",
      "6355/6355 [==============================] - 108s 17ms/sample - loss: 0.0143 - categoricalcrossentropy: 0.0143 - categoricalaccuracy: 0.9940 - precision: 0.9942 - recall: 0.9937 - auc: 0.9999 - val_loss: 5.8864 - val_categoricalcrossentropy: 5.8864 - val_categoricalaccuracy: 0.5104 - val_precision: 0.5117 - val_recall: 0.5091 - val_auc: 0.6585\n",
      "Epoch 93/100\n",
      "6112/6355 [===========================>..] - ETA: 3s - loss: 0.0162 - categoricalcrossentropy: 0.0162 - categoricalaccuracy: 0.9925 - precision: 0.9930 - recall: 0.9920 - auc: 0.9999\n",
      "Epoch 00093: saving model to Model\\bert_faq.ckpt\n",
      "6355/6355 [==============================] - 108s 17ms/sample - loss: 0.0158 - categoricalcrossentropy: 0.0158 - categoricalaccuracy: 0.9928 - precision: 0.9932 - recall: 0.9923 - auc: 0.9999 - val_loss: 5.8587 - val_categoricalcrossentropy: 5.8587 - val_categoricalaccuracy: 0.5003 - val_precision: 0.5009 - val_recall: 0.4991 - val_auc: 0.6591\n",
      "Epoch 94/100\n",
      "6355/6355 [==============================] - 100s 16ms/sample - loss: 0.1135 - categoricalcrossentropy: 0.1135 - categoricalaccuracy: 0.9674 - precision: 0.9704 - recall: 0.9648 - auc: 0.9947 - val_loss: 3.7215 - val_categoricalcrossentropy: 3.7215 - val_categoricalaccuracy: 0.4940 - val_precision: 0.4943 - val_recall: 0.4896 - val_auc: 0.6630\n",
      "Epoch 95/100\n",
      "3424/6355 [===============>..............] - ETA: 36s - loss: 0.0521 - categoricalcrossentropy: 0.0521 - categoricalaccuracy: 0.9801 - precision: 0.9813 - recall: 0.9790 - auc: 0.9991\n",
      "Epoch 00095: saving model to Model\\bert_faq.ckpt\n",
      "6355/6355 [==============================] - 107s 17ms/sample - loss: 0.0512 - categoricalcrossentropy: 0.0512 - categoricalaccuracy: 0.9821 - precision: 0.9831 - recall: 0.9810 - auc: 0.9989 - val_loss: 4.3418 - val_categoricalcrossentropy: 4.3418 - val_categoricalaccuracy: 0.5148 - val_precision: 0.5140 - val_recall: 0.5085 - val_auc: 0.6682\n",
      "Epoch 96/100\n",
      "6355/6355 [==============================] - 100s 16ms/sample - loss: 0.0233 - categoricalcrossentropy: 0.0233 - categoricalaccuracy: 0.9923 - precision: 0.9928 - recall: 0.9912 - auc: 0.9998 - val_loss: 4.8116 - val_categoricalcrossentropy: 4.8116 - val_categoricalaccuracy: 0.5060 - val_precision: 0.5073 - val_recall: 0.5035 - val_auc: 0.6591\n",
      "Epoch 97/100\n"
     ]
    },
    {
     "name": "stdout",
     "output_type": "stream",
     "text": [
      " 736/6355 [==>...........................] - ETA: 1:10 - loss: 0.0170 - categoricalcrossentropy: 0.0170 - categoricalaccuracy: 0.9959 - precision: 0.9959 - recall: 0.9932 - auc: 0.9999\n",
      "Epoch 00097: saving model to Model\\bert_faq.ckpt\n",
      "6355/6355 [==============================] - 108s 17ms/sample - loss: 0.0247 - categoricalcrossentropy: 0.0247 - categoricalaccuracy: 0.9921 - precision: 0.9926 - recall: 0.9915 - auc: 0.9997 - val_loss: 5.2058 - val_categoricalcrossentropy: 5.2058 - val_categoricalaccuracy: 0.4953 - val_precision: 0.4962 - val_recall: 0.4934 - val_auc: 0.6505\n",
      "Epoch 98/100\n",
      "4384/6355 [===================>..........] - ETA: 24s - loss: 0.0174 - categoricalcrossentropy: 0.0174 - categoricalaccuracy: 0.9925 - precision: 0.9929 - recall: 0.9918 - auc: 0.9999\n",
      "Epoch 00098: saving model to Model\\bert_faq.ckpt\n",
      "6355/6355 [==============================] - 107s 17ms/sample - loss: 0.0202 - categoricalcrossentropy: 0.0202 - categoricalaccuracy: 0.9913 - precision: 0.9918 - recall: 0.9906 - auc: 0.9997 - val_loss: 5.4140 - val_categoricalcrossentropy: 5.4140 - val_categoricalaccuracy: 0.4965 - val_precision: 0.4968 - val_recall: 0.4921 - val_auc: 0.6588\n",
      "Epoch 99/100\n",
      "6355/6355 [==============================] - 100s 16ms/sample - loss: 0.0226 - categoricalcrossentropy: 0.0226 - categoricalaccuracy: 0.9915 - precision: 0.9926 - recall: 0.9909 - auc: 0.9997 - val_loss: 5.0661 - val_categoricalcrossentropy: 5.0661 - val_categoricalaccuracy: 0.5135 - val_precision: 0.5136 - val_recall: 0.5104 - val_auc: 0.6599\n",
      "Epoch 100/100\n",
      "1696/6355 [=======>......................] - ETA: 58s - loss: 0.0212 - categoricalcrossentropy: 0.0212 - categoricalaccuracy: 0.9917 - precision: 0.9923 - recall: 0.9917 - auc: 0.9999\n",
      "Epoch 00100: saving model to Model\\bert_faq.ckpt\n",
      "6355/6355 [==============================] - 108s 17ms/sample - loss: 0.0359 - categoricalcrossentropy: 0.0359 - categoricalaccuracy: 0.9863 - precision: 0.9874 - recall: 0.9854 - auc: 0.9993 - val_loss: 4.5629 - val_categoricalcrossentropy: 4.5629 - val_categoricalaccuracy: 0.5022 - val_precision: 0.5048 - val_recall: 0.4997 - val_auc: 0.6595\n"
     ]
    }
   ],
   "source": [
    "def fitModel(Model, training_set, training_label, testing_set, testing_label):\n",
    "    checkpointName = os.path.join('Model', \"bert_faq.ckpt\")\n",
    "\n",
    "    # Create a callback that saves the model's weights\n",
    "    cp_callback = tf.keras.callbacks.ModelCheckpoint(filepath=checkpointName,\n",
    "                                                     save_weights_only=True,\n",
    "                                                     save_freq = 10000,\n",
    "                                                     mode='auto',\n",
    "                                                     verbose=1)\n",
    "    # callback = StopTrainingClassComplete()\n",
    "\n",
    "    history = Model.fit(\n",
    "        training_set,\n",
    "        training_label,\n",
    "        epochs=100,\n",
    "        validation_data=(testing_set, testing_label),\n",
    "        verbose=1,\n",
    "        callbacks=[cp_callback]\n",
    "    )\n",
    "    return history\n",
    "\n",
    "if TRAIN_MODEL:\n",
    "    history = fitModel(model, train_tokens, train_labels, test_tokens, test_labels)\n",
    "else:\n",
    "    print('Model training skipped')"
   ]
  },
  {
   "cell_type": "markdown",
   "metadata": {},
   "source": [
    "<h2>Training and Testing Metrics</h2>"
   ]
  },
  {
   "cell_type": "markdown",
   "metadata": {},
   "source": [
    "<h3>Categorical Crossentropy</h3>\n",
    "<p></p>"
   ]
  },
  {
   "cell_type": "code",
   "execution_count": 72,
   "metadata": {},
   "outputs": [
    {
     "data": {
      "image/png": "[encoded data removed]",
      "text/plain": [
       "<Figure size 432x288 with 1 Axes>"
      ]
     },
     "metadata": {
      "needs_background": "light"
     },
     "output_type": "display_data"
    }
   ],
   "source": [
    "if TRAIN_MODEL:\n",
    "    fig = plt.figure()\n",
    "    ax = plt.subplot(111)\n",
    "    ax.plot(history.history['categoricalcrossentropy'], label = 'training categegorical crossentropy')\n",
    "    ax.plot(history.history['val_categoricalcrossentropy'], label = 'testing categegorical crossentropy')\n",
    "    ax.legend()\n",
    "    plt.show()\n",
    "else:\n",
    "    print('No data: model training skipped')"
   ]
  },
  {
   "cell_type": "markdown",
   "metadata": {},
   "source": [
    "<h3>Categorical Accuracy</h3>\n",
    "<p></p>"
   ]
  },
  {
   "cell_type": "code",
   "execution_count": 73,
   "metadata": {},
   "outputs": [
    {
     "data": {
      "image/png": "[encoded data removed]",
      "text/plain": [
       "<Figure size 432x288 with 1 Axes>"
      ]
     },
     "metadata": {
      "needs_background": "light"
     },
     "output_type": "display_data"
    }
   ],
   "source": [
    "if TRAIN_MODEL:   \n",
    "    fig = plt.figure()\n",
    "    ax = plt.subplot(111)\n",
    "    ax.plot(history.history['categoricalaccuracy'], label = 'training categegorical accuracy')\n",
    "    ax.plot(history.history['val_categoricalaccuracy'], label = 'testing categegorical accuracy')\n",
    "    ax.legend()\n",
    "    plt.show()\n",
    "else:\n",
    "    print('No data: model training skipped')"
   ]
  },
  {
   "cell_type": "markdown",
   "metadata": {},
   "source": [
    "<h3>Precision</h3>\n",
    "<p></p>"
   ]
  },
  {
   "cell_type": "code",
   "execution_count": 74,
   "metadata": {},
   "outputs": [
    {
     "data": {
      "image/png": "[encoded data removed]",
      "text/plain": [
       "<Figure size 432x288 with 1 Axes>"
      ]
     },
     "metadata": {
      "needs_background": "light"
     },
     "output_type": "display_data"
    }
   ],
   "source": [
    "if TRAIN_MODEL:\n",
    "    fig = plt.figure()\n",
    "    ax = plt.subplot(111)\n",
    "    ax.plot(history.history['precision'], label = 'training precision')\n",
    "    ax.plot(history.history['val_precision'], label = 'testing precision')\n",
    "    ax.legend()\n",
    "    plt.show()\n",
    "else:\n",
    "    print('No data: model training skipped')"
   ]
  },
  {
   "cell_type": "markdown",
   "metadata": {},
   "source": [
    "<h3>Recall</h3>\n",
    "<p></p>"
   ]
  },
  {
   "cell_type": "code",
   "execution_count": 75,
   "metadata": {},
   "outputs": [
    {
     "data": {
      "image/png": "[encoded data removed]",
      "text/plain": [
       "<Figure size 432x288 with 1 Axes>"
      ]
     },
     "metadata": {
      "needs_background": "light"
     },
     "output_type": "display_data"
    }
   ],
   "source": [
    "if TRAIN_MODEL:\n",
    "    fig = plt.figure()\n",
    "    ax = plt.subplot(111)\n",
    "    ax.plot(history.history['recall'], label = 'training recall')\n",
    "    ax.plot(history.history['val_recall'], label = 'testing recall')\n",
    "    ax.legend()\n",
    "    plt.show()\n",
    "else:\n",
    "    print('No data: model training skipped')"
   ]
  },
  {
   "cell_type": "markdown",
   "metadata": {},
   "source": [
    "<h2>Running Predictions Using The Saved Model</h2>"
   ]
  },
  {
   "cell_type": "code",
   "execution_count": 72,
   "metadata": {},
   "outputs": [
    {
     "name": "stdout",
     "output_type": "stream",
     "text": [
      "Model build with random weights\n",
      "Weights loaded\n",
      "That is a well reasoned point\n",
      "NAG\n",
      "This is happening in BJP ruled state. Shame on the adminstration\n",
      "OAG\n"
     ]
    }
   ],
   "source": [
    "def Load_Checkpoint(Model):\n",
    "    \n",
    "    latest_checkpoint = tf.train.latest_checkpoint('Model')\n",
    "    #loaded_model = build_model_fullyconnected()\n",
    "    \n",
    "    print('Model build with random weights')\n",
    "    #Model.evaluate(test_tokens, test_labels, verbose=2)\n",
    "       \n",
    "    Model.load_weights(latest_checkpoint)\n",
    "    print('Weights loaded')\n",
    "    #Model.evaluate(test_tokens, test_labels, verbose=2)\n",
    "    \n",
    "    return Model\n",
    "    \n",
    "def Model_Predictions(Model, Text_Array):\n",
    "    inputs = Bertify(Text_Array)\n",
    "    predicted_labels = Model.predict(inputs)\n",
    "    label_indices = np.argmax(predicted_labels, axis=1)\n",
    "    labels = [CLASSES[x] for x in label_indices]\n",
    "    return labels\n",
    "\n",
    "if LOAD_MODEL_AND_PREDICT:\n",
    "    model = Load_Checkpoint(model)\n",
    "    predictions = Model_Predictions(model, TEXT_TO_PREDICT)\n",
    "    for text, prediction in zip(TEXT_TO_PREDICT, predictions):\n",
    "        print(text)\n",
    "        print(prediction)\n"
   ]
  }
 ],
 "metadata": {
  "kernelspec": {
   "display_name": "Python 3",
   "language": "python",
   "name": "python3"
  },
  "language_info": {
   "codemirror_mode": {
    "name": "ipython",
    "version": 3
   },
   "file_extension": ".py",
   "mimetype": "text/x-python",
   "name": "python",
   "nbconvert_exporter": "python",
   "pygments_lexer": "ipython3",
   "version": "3.6.6"
  }
 },
 "nbformat": 4,
 "nbformat_minor": 4
}
